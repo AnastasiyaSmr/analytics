{
 "cells": [
  {
   "cell_type": "markdown",
   "metadata": {},
   "source": [
    "### Задача"
   ]
  },
  {
   "cell_type": "markdown",
   "metadata": {},
   "source": [
    "Есть данные до 2016 года по продажам компьютерных игр. Нужно выявить определяющие успешность игры закономерности. Это позволит сделать ставку на потенциально популярный продукт и спланировать рекламные кампании."
   ]
  },
  {
   "cell_type": "markdown",
   "metadata": {},
   "source": [
    "### Оглавление"
   ]
  },
  {
   "cell_type": "markdown",
   "metadata": {},
   "source": [
    "[1. Открытие и изучение данных](#1.-Открытие-и-изучение-данных)  \n",
    "[2. Подготовка данных](#2.-Подготовка-данных)  \n",
    "&nbsp;&nbsp;&nbsp;&nbsp;[2.1 Замена названий столбцов](#2.1-Замена-названий-cтолбцов)  \n",
    "&nbsp;&nbsp;&nbsp;&nbsp;[2.2 Преобразование данных к нужным типам](#2.2-Преобразование-данных-к-нужным-типам)  \n",
    "&nbsp;&nbsp;&nbsp;&nbsp;[2.3 Обработка пропусков](#2.3-Обработка-пропусков)  \n",
    "&nbsp;&nbsp;&nbsp;&nbsp;[2.4 Расчёты](#2.4-Расчёты)  \n",
    "[3. Исследовательский анализ данных](#3.-Исследовательский-анализ-данных)  \n",
    "[4. Составим портрет пользователя каждого региона](#4.-Составим-портрет-пользователя-каждого-региона)  \n",
    "&nbsp;&nbsp;&nbsp;&nbsp;[4.1 Определение самых популярных платформ](#4.1-Определение-самых-популярных-платформ)  \n",
    "&nbsp;&nbsp;&nbsp;&nbsp;[4.2 Определение самых популярных жанров](#4.2-Определение-самых-популярных-жанров)  \n",
    "&nbsp;&nbsp;&nbsp;&nbsp;[4.3 Определение влияния рейтинга ESRB на продажи](#4.3-Определение-влияния-рейтинга-ESRB-на-продажи)  \n",
    "[5. Проверка гипотез](#5.-Проверка-гипотез)  \n",
    "&nbsp;&nbsp;&nbsp;&nbsp;[5.1 Средние пользовательские рейтинги платформ XOne и PC одинаковые](#5.1-Средние-пользовательские-рейтинги-платформ-XOne-и-PC-одинаковые)  \n",
    "&nbsp;&nbsp;&nbsp;&nbsp;[5.2 Средние пользовательские рейтинги жанров Action и Sports разные](#5.2-Средние-пользовательские-рейтинги-жанров-Action-и-Sports-разные)  \n",
    "[6. Общий вывод](#6.-Общий-вывод)"
   ]
  },
  {
   "cell_type": "markdown",
   "metadata": {},
   "source": [
    "### Импорт библиотек и настройки"
   ]
  },
  {
   "cell_type": "code",
   "execution_count": 1,
   "metadata": {},
   "outputs": [],
   "source": [
    "import pandas as pd\n",
    "import numpy as np\n",
    "from scipy import stats as st\n",
    "import matplotlib.pyplot as plt\n",
    "import seaborn as sns\n",
    "import warnings\n",
    "from matplotlib.colors import ListedColormap\n",
    "\n",
    "warnings.filterwarnings('ignore')\n",
    "sns.set(style='whitegrid')"
   ]
  },
  {
   "cell_type": "markdown",
   "metadata": {},
   "source": [
    "### 1. Открытие и изучение данных"
   ]
  },
  {
   "cell_type": "code",
   "execution_count": 2,
   "metadata": {},
   "outputs": [
    {
     "data": {
      "text/html": [
       "<div>\n",
       "<style scoped>\n",
       "    .dataframe tbody tr th:only-of-type {\n",
       "        vertical-align: middle;\n",
       "    }\n",
       "\n",
       "    .dataframe tbody tr th {\n",
       "        vertical-align: top;\n",
       "    }\n",
       "\n",
       "    .dataframe thead th {\n",
       "        text-align: right;\n",
       "    }\n",
       "</style>\n",
       "<table border=\"1\" class=\"dataframe\">\n",
       "  <thead>\n",
       "    <tr style=\"text-align: right;\">\n",
       "      <th></th>\n",
       "      <th>Name</th>\n",
       "      <th>Platform</th>\n",
       "      <th>Year_of_Release</th>\n",
       "      <th>Genre</th>\n",
       "      <th>NA_sales</th>\n",
       "      <th>EU_sales</th>\n",
       "      <th>JP_sales</th>\n",
       "      <th>Other_sales</th>\n",
       "      <th>Critic_Score</th>\n",
       "      <th>User_Score</th>\n",
       "      <th>Rating</th>\n",
       "    </tr>\n",
       "  </thead>\n",
       "  <tbody>\n",
       "    <tr>\n",
       "      <td>9333</td>\n",
       "      <td>The Guy Game</td>\n",
       "      <td>PS2</td>\n",
       "      <td>2004.0</td>\n",
       "      <td>Misc</td>\n",
       "      <td>0.07</td>\n",
       "      <td>0.05</td>\n",
       "      <td>0.00</td>\n",
       "      <td>0.02</td>\n",
       "      <td>48.0</td>\n",
       "      <td>6.7</td>\n",
       "      <td>M</td>\n",
       "    </tr>\n",
       "    <tr>\n",
       "      <td>1716</td>\n",
       "      <td>One Piece: Pirate Warriors</td>\n",
       "      <td>PS3</td>\n",
       "      <td>2012.0</td>\n",
       "      <td>Action</td>\n",
       "      <td>0.01</td>\n",
       "      <td>0.23</td>\n",
       "      <td>0.86</td>\n",
       "      <td>0.08</td>\n",
       "      <td>64.0</td>\n",
       "      <td>6.5</td>\n",
       "      <td>T</td>\n",
       "    </tr>\n",
       "    <tr>\n",
       "      <td>4920</td>\n",
       "      <td>Star Wars The Clone Wars: Republic Heroes</td>\n",
       "      <td>X360</td>\n",
       "      <td>2009.0</td>\n",
       "      <td>Action</td>\n",
       "      <td>0.18</td>\n",
       "      <td>0.17</td>\n",
       "      <td>0.00</td>\n",
       "      <td>0.04</td>\n",
       "      <td>43.0</td>\n",
       "      <td>6.3</td>\n",
       "      <td>T</td>\n",
       "    </tr>\n",
       "    <tr>\n",
       "      <td>4669</td>\n",
       "      <td>MLB 10: The Show</td>\n",
       "      <td>PS2</td>\n",
       "      <td>2010.0</td>\n",
       "      <td>Sports</td>\n",
       "      <td>0.20</td>\n",
       "      <td>0.16</td>\n",
       "      <td>0.00</td>\n",
       "      <td>0.05</td>\n",
       "      <td>NaN</td>\n",
       "      <td>tbd</td>\n",
       "      <td>E</td>\n",
       "    </tr>\n",
       "    <tr>\n",
       "      <td>9997</td>\n",
       "      <td>Deception IV: Blood Ties</td>\n",
       "      <td>PS3</td>\n",
       "      <td>2014.0</td>\n",
       "      <td>Action</td>\n",
       "      <td>0.03</td>\n",
       "      <td>0.02</td>\n",
       "      <td>0.06</td>\n",
       "      <td>0.01</td>\n",
       "      <td>70.0</td>\n",
       "      <td>8.2</td>\n",
       "      <td>M</td>\n",
       "    </tr>\n",
       "  </tbody>\n",
       "</table>\n",
       "</div>"
      ],
      "text/plain": [
       "                                           Name Platform  Year_of_Release  \\\n",
       "9333                               The Guy Game      PS2           2004.0   \n",
       "1716                 One Piece: Pirate Warriors      PS3           2012.0   \n",
       "4920  Star Wars The Clone Wars: Republic Heroes     X360           2009.0   \n",
       "4669                           MLB 10: The Show      PS2           2010.0   \n",
       "9997                   Deception IV: Blood Ties      PS3           2014.0   \n",
       "\n",
       "       Genre  NA_sales  EU_sales  JP_sales  Other_sales  Critic_Score  \\\n",
       "9333    Misc      0.07      0.05      0.00         0.02          48.0   \n",
       "1716  Action      0.01      0.23      0.86         0.08          64.0   \n",
       "4920  Action      0.18      0.17      0.00         0.04          43.0   \n",
       "4669  Sports      0.20      0.16      0.00         0.05           NaN   \n",
       "9997  Action      0.03      0.02      0.06         0.01          70.0   \n",
       "\n",
       "     User_Score Rating  \n",
       "9333        6.7      M  \n",
       "1716        6.5      T  \n",
       "4920        6.3      T  \n",
       "4669        tbd      E  \n",
       "9997        8.2      M  "
      ]
     },
     "execution_count": 2,
     "metadata": {},
     "output_type": "execute_result"
    }
   ],
   "source": [
    "df = pd.read_csv('/datasets/games.csv')\n",
    "df.sample(5)"
   ]
  },
  {
   "cell_type": "code",
   "execution_count": 3,
   "metadata": {
    "scrolled": false
   },
   "outputs": [
    {
     "name": "stdout",
     "output_type": "stream",
     "text": [
      "<class 'pandas.core.frame.DataFrame'>\n",
      "RangeIndex: 16715 entries, 0 to 16714\n",
      "Data columns (total 11 columns):\n",
      "Name               16713 non-null object\n",
      "Platform           16715 non-null object\n",
      "Year_of_Release    16446 non-null float64\n",
      "Genre              16713 non-null object\n",
      "NA_sales           16715 non-null float64\n",
      "EU_sales           16715 non-null float64\n",
      "JP_sales           16715 non-null float64\n",
      "Other_sales        16715 non-null float64\n",
      "Critic_Score       8137 non-null float64\n",
      "User_Score         10014 non-null object\n",
      "Rating             9949 non-null object\n",
      "dtypes: float64(6), object(5)\n",
      "memory usage: 1.4+ MB\n"
     ]
    }
   ],
   "source": [
    "df.info()"
   ]
  },
  {
   "cell_type": "markdown",
   "metadata": {},
   "source": [
    "### Вывод"
   ]
  },
  {
   "cell_type": "markdown",
   "metadata": {},
   "source": [
    "В датафрейме 11 колонок, пропущенные значения есть в 6 колонках. Названия колонок содержат буквы разного регистра.  \n",
    "Типы данных: `object`, `float64`. `Year_of_Release` и `User_Score` имеют неверный тип данных.  \n",
    "`Critic_Score` и `User_Score` оцениваются по разным шкалам."
   ]
  },
  {
   "cell_type": "markdown",
   "metadata": {},
   "source": [
    "### 2. Подготовка данных"
   ]
  },
  {
   "cell_type": "markdown",
   "metadata": {},
   "source": [
    "#### 2.1 Замена названий столбцов"
   ]
  },
  {
   "cell_type": "code",
   "execution_count": 4,
   "metadata": {
    "scrolled": true
   },
   "outputs": [
    {
     "data": {
      "text/plain": [
       "Index(['name', 'platform', 'year_of_release', 'genre', 'na_sales', 'eu_sales',\n",
       "       'jp_sales', 'other_sales', 'critic_score', 'user_score', 'rating'],\n",
       "      dtype='object')"
      ]
     },
     "execution_count": 4,
     "metadata": {},
     "output_type": "execute_result"
    }
   ],
   "source": [
    "df.columns = df.columns.str.lower()\n",
    "df.columns"
   ]
  },
  {
   "cell_type": "markdown",
   "metadata": {},
   "source": [
    "#### 2.2 Преобразование данных к нужным типам"
   ]
  },
  {
   "cell_type": "markdown",
   "metadata": {},
   "source": [
    "Заменим тип данных колонки `user_score` с `object` на числовой `float64` и приведем оценки критиков и пользователей к единообразию. Для этого умножим 10-бальную шкалу на 10."
   ]
  },
  {
   "cell_type": "code",
   "execution_count": 5,
   "metadata": {},
   "outputs": [
    {
     "data": {
      "text/plain": [
       "2424"
      ]
     },
     "execution_count": 5,
     "metadata": {},
     "output_type": "execute_result"
    }
   ],
   "source": [
    "len(df[df['user_score'] == 'tbd'])"
   ]
  },
  {
   "cell_type": "markdown",
   "metadata": {},
   "source": [
    "Колонка с числами имеет тип `object` так как содержит `tbd`, что значит, что у игры меньше 4 отзывов, поэтому оценка не отображается. Это равнозначно отсутствию данных, поэтому меняем `tbd` на `NaN`"
   ]
  },
  {
   "cell_type": "code",
   "execution_count": 6,
   "metadata": {
    "scrolled": true
   },
   "outputs": [
    {
     "data": {
      "text/plain": [
       "0        80.0\n",
       "1         NaN\n",
       "2        83.0\n",
       "3        80.0\n",
       "4         NaN\n",
       "         ... \n",
       "16710     NaN\n",
       "16711     NaN\n",
       "16712     NaN\n",
       "16713     NaN\n",
       "16714     NaN\n",
       "Name: user_score, Length: 16715, dtype: float64"
      ]
     },
     "execution_count": 6,
     "metadata": {},
     "output_type": "execute_result"
    }
   ],
   "source": [
    "df['user_score'][df['user_score'] == 'tbd'] = np.nan\n",
    "df['user_score'] = df['user_score'].astype(float)\n",
    "df['user_score'] = df['user_score'] * 10\n",
    "df['user_score']"
   ]
  },
  {
   "cell_type": "markdown",
   "metadata": {},
   "source": [
    "#### 2.3 Обработка пропусков"
   ]
  },
  {
   "cell_type": "markdown",
   "metadata": {},
   "source": [
    "Два пропуска в колонке `name` и `genre` заполнить не можем, но и удалять не будем, чтобы использовать другие данные из этих строк. Пропуски могли появиться при выгрузке данных."
   ]
  },
  {
   "cell_type": "code",
   "execution_count": 7,
   "metadata": {
    "scrolled": true
   },
   "outputs": [
    {
     "data": {
      "text/html": [
       "<div>\n",
       "<style scoped>\n",
       "    .dataframe tbody tr th:only-of-type {\n",
       "        vertical-align: middle;\n",
       "    }\n",
       "\n",
       "    .dataframe tbody tr th {\n",
       "        vertical-align: top;\n",
       "    }\n",
       "\n",
       "    .dataframe thead th {\n",
       "        text-align: right;\n",
       "    }\n",
       "</style>\n",
       "<table border=\"1\" class=\"dataframe\">\n",
       "  <thead>\n",
       "    <tr style=\"text-align: right;\">\n",
       "      <th></th>\n",
       "      <th>name</th>\n",
       "      <th>platform</th>\n",
       "      <th>year_of_release</th>\n",
       "      <th>genre</th>\n",
       "      <th>na_sales</th>\n",
       "      <th>eu_sales</th>\n",
       "      <th>jp_sales</th>\n",
       "      <th>other_sales</th>\n",
       "      <th>critic_score</th>\n",
       "      <th>user_score</th>\n",
       "      <th>rating</th>\n",
       "    </tr>\n",
       "  </thead>\n",
       "  <tbody>\n",
       "    <tr>\n",
       "      <td>659</td>\n",
       "      <td>NaN</td>\n",
       "      <td>GEN</td>\n",
       "      <td>1993.0</td>\n",
       "      <td>NaN</td>\n",
       "      <td>1.78</td>\n",
       "      <td>0.53</td>\n",
       "      <td>0.00</td>\n",
       "      <td>0.08</td>\n",
       "      <td>NaN</td>\n",
       "      <td>NaN</td>\n",
       "      <td>NaN</td>\n",
       "    </tr>\n",
       "    <tr>\n",
       "      <td>14244</td>\n",
       "      <td>NaN</td>\n",
       "      <td>GEN</td>\n",
       "      <td>1993.0</td>\n",
       "      <td>NaN</td>\n",
       "      <td>0.00</td>\n",
       "      <td>0.00</td>\n",
       "      <td>0.03</td>\n",
       "      <td>0.00</td>\n",
       "      <td>NaN</td>\n",
       "      <td>NaN</td>\n",
       "      <td>NaN</td>\n",
       "    </tr>\n",
       "  </tbody>\n",
       "</table>\n",
       "</div>"
      ],
      "text/plain": [
       "      name platform  year_of_release genre  na_sales  eu_sales  jp_sales  \\\n",
       "659    NaN      GEN           1993.0   NaN      1.78      0.53      0.00   \n",
       "14244  NaN      GEN           1993.0   NaN      0.00      0.00      0.03   \n",
       "\n",
       "       other_sales  critic_score  user_score rating  \n",
       "659           0.08           NaN         NaN    NaN  \n",
       "14244         0.00           NaN         NaN    NaN  "
      ]
     },
     "execution_count": 7,
     "metadata": {},
     "output_type": "execute_result"
    }
   ],
   "source": [
    "df[df['name'].isna()]"
   ]
  },
  {
   "cell_type": "markdown",
   "metadata": {},
   "source": [
    "Проверим колонку `year_of_release`."
   ]
  },
  {
   "cell_type": "code",
   "execution_count": 8,
   "metadata": {
    "scrolled": false
   },
   "outputs": [
    {
     "data": {
      "text/html": [
       "<div>\n",
       "<style scoped>\n",
       "    .dataframe tbody tr th:only-of-type {\n",
       "        vertical-align: middle;\n",
       "    }\n",
       "\n",
       "    .dataframe tbody tr th {\n",
       "        vertical-align: top;\n",
       "    }\n",
       "\n",
       "    .dataframe thead th {\n",
       "        text-align: right;\n",
       "    }\n",
       "</style>\n",
       "<table border=\"1\" class=\"dataframe\">\n",
       "  <thead>\n",
       "    <tr style=\"text-align: right;\">\n",
       "      <th></th>\n",
       "      <th>name</th>\n",
       "      <th>platform</th>\n",
       "      <th>year_of_release</th>\n",
       "      <th>genre</th>\n",
       "      <th>na_sales</th>\n",
       "      <th>eu_sales</th>\n",
       "      <th>jp_sales</th>\n",
       "      <th>other_sales</th>\n",
       "      <th>critic_score</th>\n",
       "      <th>user_score</th>\n",
       "      <th>rating</th>\n",
       "    </tr>\n",
       "  </thead>\n",
       "  <tbody>\n",
       "    <tr>\n",
       "      <td>183</td>\n",
       "      <td>Madden NFL 2004</td>\n",
       "      <td>PS2</td>\n",
       "      <td>NaN</td>\n",
       "      <td>Sports</td>\n",
       "      <td>4.26</td>\n",
       "      <td>0.26</td>\n",
       "      <td>0.01</td>\n",
       "      <td>0.71</td>\n",
       "      <td>94.0</td>\n",
       "      <td>85.0</td>\n",
       "      <td>E</td>\n",
       "    </tr>\n",
       "    <tr>\n",
       "      <td>377</td>\n",
       "      <td>FIFA Soccer 2004</td>\n",
       "      <td>PS2</td>\n",
       "      <td>NaN</td>\n",
       "      <td>Sports</td>\n",
       "      <td>0.59</td>\n",
       "      <td>2.36</td>\n",
       "      <td>0.04</td>\n",
       "      <td>0.51</td>\n",
       "      <td>84.0</td>\n",
       "      <td>64.0</td>\n",
       "      <td>E</td>\n",
       "    </tr>\n",
       "    <tr>\n",
       "      <td>456</td>\n",
       "      <td>LEGO Batman: The Videogame</td>\n",
       "      <td>Wii</td>\n",
       "      <td>NaN</td>\n",
       "      <td>Action</td>\n",
       "      <td>1.80</td>\n",
       "      <td>0.97</td>\n",
       "      <td>0.00</td>\n",
       "      <td>0.29</td>\n",
       "      <td>74.0</td>\n",
       "      <td>79.0</td>\n",
       "      <td>E10+</td>\n",
       "    </tr>\n",
       "    <tr>\n",
       "      <td>475</td>\n",
       "      <td>wwe Smackdown vs. Raw 2006</td>\n",
       "      <td>PS2</td>\n",
       "      <td>NaN</td>\n",
       "      <td>Fighting</td>\n",
       "      <td>1.57</td>\n",
       "      <td>1.02</td>\n",
       "      <td>0.00</td>\n",
       "      <td>0.41</td>\n",
       "      <td>NaN</td>\n",
       "      <td>NaN</td>\n",
       "      <td>NaN</td>\n",
       "    </tr>\n",
       "    <tr>\n",
       "      <td>609</td>\n",
       "      <td>Space Invaders</td>\n",
       "      <td>2600</td>\n",
       "      <td>NaN</td>\n",
       "      <td>Shooter</td>\n",
       "      <td>2.36</td>\n",
       "      <td>0.14</td>\n",
       "      <td>0.00</td>\n",
       "      <td>0.03</td>\n",
       "      <td>NaN</td>\n",
       "      <td>NaN</td>\n",
       "      <td>NaN</td>\n",
       "    </tr>\n",
       "    <tr>\n",
       "      <td>...</td>\n",
       "      <td>...</td>\n",
       "      <td>...</td>\n",
       "      <td>...</td>\n",
       "      <td>...</td>\n",
       "      <td>...</td>\n",
       "      <td>...</td>\n",
       "      <td>...</td>\n",
       "      <td>...</td>\n",
       "      <td>...</td>\n",
       "      <td>...</td>\n",
       "      <td>...</td>\n",
       "    </tr>\n",
       "    <tr>\n",
       "      <td>16373</td>\n",
       "      <td>PDC World Championship Darts 2008</td>\n",
       "      <td>PSP</td>\n",
       "      <td>NaN</td>\n",
       "      <td>Sports</td>\n",
       "      <td>0.01</td>\n",
       "      <td>0.00</td>\n",
       "      <td>0.00</td>\n",
       "      <td>0.00</td>\n",
       "      <td>43.0</td>\n",
       "      <td>NaN</td>\n",
       "      <td>E10+</td>\n",
       "    </tr>\n",
       "    <tr>\n",
       "      <td>16405</td>\n",
       "      <td>Freaky Flyers</td>\n",
       "      <td>GC</td>\n",
       "      <td>NaN</td>\n",
       "      <td>Racing</td>\n",
       "      <td>0.01</td>\n",
       "      <td>0.00</td>\n",
       "      <td>0.00</td>\n",
       "      <td>0.00</td>\n",
       "      <td>69.0</td>\n",
       "      <td>65.0</td>\n",
       "      <td>T</td>\n",
       "    </tr>\n",
       "    <tr>\n",
       "      <td>16448</td>\n",
       "      <td>Inversion</td>\n",
       "      <td>PC</td>\n",
       "      <td>NaN</td>\n",
       "      <td>Shooter</td>\n",
       "      <td>0.01</td>\n",
       "      <td>0.00</td>\n",
       "      <td>0.00</td>\n",
       "      <td>0.00</td>\n",
       "      <td>59.0</td>\n",
       "      <td>67.0</td>\n",
       "      <td>M</td>\n",
       "    </tr>\n",
       "    <tr>\n",
       "      <td>16458</td>\n",
       "      <td>Hakuouki: Shinsengumi Kitan</td>\n",
       "      <td>PS3</td>\n",
       "      <td>NaN</td>\n",
       "      <td>Adventure</td>\n",
       "      <td>0.01</td>\n",
       "      <td>0.00</td>\n",
       "      <td>0.00</td>\n",
       "      <td>0.00</td>\n",
       "      <td>NaN</td>\n",
       "      <td>NaN</td>\n",
       "      <td>NaN</td>\n",
       "    </tr>\n",
       "    <tr>\n",
       "      <td>16522</td>\n",
       "      <td>Virtua Quest</td>\n",
       "      <td>GC</td>\n",
       "      <td>NaN</td>\n",
       "      <td>Role-Playing</td>\n",
       "      <td>0.01</td>\n",
       "      <td>0.00</td>\n",
       "      <td>0.00</td>\n",
       "      <td>0.00</td>\n",
       "      <td>55.0</td>\n",
       "      <td>55.0</td>\n",
       "      <td>T</td>\n",
       "    </tr>\n",
       "  </tbody>\n",
       "</table>\n",
       "<p>269 rows × 11 columns</p>\n",
       "</div>"
      ],
      "text/plain": [
       "                                    name platform  year_of_release  \\\n",
       "183                      Madden NFL 2004      PS2              NaN   \n",
       "377                     FIFA Soccer 2004      PS2              NaN   \n",
       "456           LEGO Batman: The Videogame      Wii              NaN   \n",
       "475           wwe Smackdown vs. Raw 2006      PS2              NaN   \n",
       "609                       Space Invaders     2600              NaN   \n",
       "...                                  ...      ...              ...   \n",
       "16373  PDC World Championship Darts 2008      PSP              NaN   \n",
       "16405                      Freaky Flyers       GC              NaN   \n",
       "16448                          Inversion       PC              NaN   \n",
       "16458        Hakuouki: Shinsengumi Kitan      PS3              NaN   \n",
       "16522                       Virtua Quest       GC              NaN   \n",
       "\n",
       "              genre  na_sales  eu_sales  jp_sales  other_sales  critic_score  \\\n",
       "183          Sports      4.26      0.26      0.01         0.71          94.0   \n",
       "377          Sports      0.59      2.36      0.04         0.51          84.0   \n",
       "456          Action      1.80      0.97      0.00         0.29          74.0   \n",
       "475        Fighting      1.57      1.02      0.00         0.41           NaN   \n",
       "609         Shooter      2.36      0.14      0.00         0.03           NaN   \n",
       "...             ...       ...       ...       ...          ...           ...   \n",
       "16373        Sports      0.01      0.00      0.00         0.00          43.0   \n",
       "16405        Racing      0.01      0.00      0.00         0.00          69.0   \n",
       "16448       Shooter      0.01      0.00      0.00         0.00          59.0   \n",
       "16458     Adventure      0.01      0.00      0.00         0.00           NaN   \n",
       "16522  Role-Playing      0.01      0.00      0.00         0.00          55.0   \n",
       "\n",
       "       user_score rating  \n",
       "183          85.0      E  \n",
       "377          64.0      E  \n",
       "456          79.0   E10+  \n",
       "475           NaN    NaN  \n",
       "609           NaN    NaN  \n",
       "...           ...    ...  \n",
       "16373         NaN   E10+  \n",
       "16405        65.0      T  \n",
       "16448        67.0      M  \n",
       "16458         NaN    NaN  \n",
       "16522        55.0      T  \n",
       "\n",
       "[269 rows x 11 columns]"
      ]
     },
     "execution_count": 8,
     "metadata": {},
     "output_type": "execute_result"
    }
   ],
   "source": [
    "df[df['year_of_release'].isna()]"
   ]
  },
  {
   "cell_type": "markdown",
   "metadata": {},
   "source": [
    "269 пропусков могли появиться при выгрузке данных.  \n",
    "Если игра выпускалась на нескольких платформах, то как правило, в один год, поэтому можем взять год с этой же игры на другой платформе."
   ]
  },
  {
   "cell_type": "code",
   "execution_count": 9,
   "metadata": {},
   "outputs": [],
   "source": [
    "def change(col):\n",
    "    for el in df[(df[col].isna())]['name']:\n",
    "        df_el = df[df['name'] == el]\n",
    "        has_score = not df[df['name'] == el][col].isna().all()\n",
    "\n",
    "        if len(df_el) > 1 and has_score:\n",
    "            \n",
    "            df[col].update(\n",
    "                df_el[col].fillna(\n",
    "                    round(df_el[~(df_el[col].isna())][col].mean(), 0)\n",
    "                )\n",
    "            )  "
   ]
  },
  {
   "cell_type": "code",
   "execution_count": 10,
   "metadata": {},
   "outputs": [],
   "source": [
    "change('year_of_release') "
   ]
  },
  {
   "cell_type": "code",
   "execution_count": 11,
   "metadata": {},
   "outputs": [
    {
     "name": "stdout",
     "output_type": "stream",
     "text": [
      "Пропусков в year_of_release: 146\n"
     ]
    }
   ],
   "source": [
    "print('Пропусков в year_of_release:', len(df[df['year_of_release'].isna()]))"
   ]
  },
  {
   "cell_type": "markdown",
   "metadata": {},
   "source": [
    "139 пропусков. Оставляем их,чтобы использовать другие данные с этих строк. "
   ]
  },
  {
   "cell_type": "markdown",
   "metadata": {},
   "source": [
    "Проверим колонки `critic_score` и `user_score`.  \n",
    "Пропуски в колонках `critic_score`, `user_score` могут быть, если игра выходила на нескольких платформах, при этом оценку проставили только для одной. Подразумевается, что на других платформах та же оценка, но по факту - пропуски.  "
   ]
  },
  {
   "cell_type": "markdown",
   "metadata": {},
   "source": [
    "Заменим пропуски в колонке `critic_score`. Найдем игры с одинаковыми названиями и рассчитаем среднюю оценку критиков."
   ]
  },
  {
   "cell_type": "code",
   "execution_count": 12,
   "metadata": {},
   "outputs": [
    {
     "name": "stdout",
     "output_type": "stream",
     "text": [
      "8578\n"
     ]
    },
    {
     "data": {
      "text/plain": [
       "7617"
      ]
     },
     "execution_count": 12,
     "metadata": {},
     "output_type": "execute_result"
    }
   ],
   "source": [
    "print(len(df[df['critic_score'].isna()]))\n",
    "change('critic_score')\n",
    "len(df[df['critic_score'].isna()])"
   ]
  },
  {
   "cell_type": "markdown",
   "metadata": {},
   "source": [
    "Заменим пропуски в колонке `user_score`. Найдем игры с одинаковыми названиями и рассчитаем среднюю оценку пользователей."
   ]
  },
  {
   "cell_type": "code",
   "execution_count": 13,
   "metadata": {
    "scrolled": true
   },
   "outputs": [
    {
     "name": "stdout",
     "output_type": "stream",
     "text": [
      "9125\n"
     ]
    },
    {
     "data": {
      "text/plain": [
       "8026"
      ]
     },
     "execution_count": 13,
     "metadata": {},
     "output_type": "execute_result"
    }
   ],
   "source": [
    "print(len(df[df['user_score'].isna()]))\n",
    "change('user_score')\n",
    "len(df[df['user_score'].isna()])"
   ]
  },
  {
   "cell_type": "markdown",
   "metadata": {},
   "source": [
    "Посмотрим, какие зависимости есть у колонки `critic_score` и `user_score`."
   ]
  },
  {
   "cell_type": "code",
   "execution_count": 14,
   "metadata": {},
   "outputs": [
    {
     "data": {
      "text/html": [
       "<style  type=\"text/css\" >\n",
       "    #T_28d7f1bc_ac7c_11ea_b392_02420a393875row0_col0 {\n",
       "            background-color:  #b40426;\n",
       "            color:  #f1f1f1;\n",
       "        }    #T_28d7f1bc_ac7c_11ea_b392_02420a393875row0_col1 {\n",
       "            background-color:  #3b4cc0;\n",
       "            color:  #f1f1f1;\n",
       "        }    #T_28d7f1bc_ac7c_11ea_b392_02420a393875row0_col2 {\n",
       "            background-color:  #3b4cc0;\n",
       "            color:  #f1f1f1;\n",
       "        }    #T_28d7f1bc_ac7c_11ea_b392_02420a393875row0_col3 {\n",
       "            background-color:  #3b4cc0;\n",
       "            color:  #f1f1f1;\n",
       "        }    #T_28d7f1bc_ac7c_11ea_b392_02420a393875row0_col4 {\n",
       "            background-color:  #3b4cc0;\n",
       "            color:  #f1f1f1;\n",
       "        }    #T_28d7f1bc_ac7c_11ea_b392_02420a393875row0_col5 {\n",
       "            background-color:  #3b4cc0;\n",
       "            color:  #f1f1f1;\n",
       "        }    #T_28d7f1bc_ac7c_11ea_b392_02420a393875row0_col6 {\n",
       "            background-color:  #3b4cc0;\n",
       "            color:  #f1f1f1;\n",
       "        }    #T_28d7f1bc_ac7c_11ea_b392_02420a393875row1_col0 {\n",
       "            background-color:  #6282ea;\n",
       "            color:  #000000;\n",
       "        }    #T_28d7f1bc_ac7c_11ea_b392_02420a393875row1_col1 {\n",
       "            background-color:  #b40426;\n",
       "            color:  #f1f1f1;\n",
       "        }    #T_28d7f1bc_ac7c_11ea_b392_02420a393875row1_col2 {\n",
       "            background-color:  #f39475;\n",
       "            color:  #000000;\n",
       "        }    #T_28d7f1bc_ac7c_11ea_b392_02420a393875row1_col3 {\n",
       "            background-color:  #e4d9d2;\n",
       "            color:  #000000;\n",
       "        }    #T_28d7f1bc_ac7c_11ea_b392_02420a393875row1_col4 {\n",
       "            background-color:  #f4c5ad;\n",
       "            color:  #000000;\n",
       "        }    #T_28d7f1bc_ac7c_11ea_b392_02420a393875row1_col5 {\n",
       "            background-color:  #81a4fb;\n",
       "            color:  #000000;\n",
       "        }    #T_28d7f1bc_ac7c_11ea_b392_02420a393875row1_col6 {\n",
       "            background-color:  #94b6ff;\n",
       "            color:  #000000;\n",
       "        }    #T_28d7f1bc_ac7c_11ea_b392_02420a393875row2_col0 {\n",
       "            background-color:  #7b9ff9;\n",
       "            color:  #000000;\n",
       "        }    #T_28d7f1bc_ac7c_11ea_b392_02420a393875row2_col1 {\n",
       "            background-color:  #f08a6c;\n",
       "            color:  #000000;\n",
       "        }    #T_28d7f1bc_ac7c_11ea_b392_02420a393875row2_col2 {\n",
       "            background-color:  #b40426;\n",
       "            color:  #f1f1f1;\n",
       "        }    #T_28d7f1bc_ac7c_11ea_b392_02420a393875row2_col3 {\n",
       "            background-color:  #e1dad6;\n",
       "            color:  #000000;\n",
       "        }    #T_28d7f1bc_ac7c_11ea_b392_02420a393875row2_col4 {\n",
       "            background-color:  #f7a889;\n",
       "            color:  #000000;\n",
       "        }    #T_28d7f1bc_ac7c_11ea_b392_02420a393875row2_col5 {\n",
       "            background-color:  #7b9ff9;\n",
       "            color:  #000000;\n",
       "        }    #T_28d7f1bc_ac7c_11ea_b392_02420a393875row2_col6 {\n",
       "            background-color:  #8caffe;\n",
       "            color:  #000000;\n",
       "        }    #T_28d7f1bc_ac7c_11ea_b392_02420a393875row3_col0 {\n",
       "            background-color:  #4e68d8;\n",
       "            color:  #000000;\n",
       "        }    #T_28d7f1bc_ac7c_11ea_b392_02420a393875row3_col1 {\n",
       "            background-color:  #dcdddd;\n",
       "            color:  #000000;\n",
       "        }    #T_28d7f1bc_ac7c_11ea_b392_02420a393875row3_col2 {\n",
       "            background-color:  #cad8ef;\n",
       "            color:  #000000;\n",
       "        }    #T_28d7f1bc_ac7c_11ea_b392_02420a393875row3_col3 {\n",
       "            background-color:  #b40426;\n",
       "            color:  #f1f1f1;\n",
       "        }    #T_28d7f1bc_ac7c_11ea_b392_02420a393875row3_col4 {\n",
       "            background-color:  #92b4fe;\n",
       "            color:  #000000;\n",
       "        }    #T_28d7f1bc_ac7c_11ea_b392_02420a393875row3_col5 {\n",
       "            background-color:  #6485ec;\n",
       "            color:  #000000;\n",
       "        }    #T_28d7f1bc_ac7c_11ea_b392_02420a393875row3_col6 {\n",
       "            background-color:  #9fbfff;\n",
       "            color:  #000000;\n",
       "        }    #T_28d7f1bc_ac7c_11ea_b392_02420a393875row4_col0 {\n",
       "            background-color:  #85a8fc;\n",
       "            color:  #000000;\n",
       "        }    #T_28d7f1bc_ac7c_11ea_b392_02420a393875row4_col1 {\n",
       "            background-color:  #f7b79b;\n",
       "            color:  #000000;\n",
       "        }    #T_28d7f1bc_ac7c_11ea_b392_02420a393875row4_col2 {\n",
       "            background-color:  #f6a586;\n",
       "            color:  #000000;\n",
       "        }    #T_28d7f1bc_ac7c_11ea_b392_02420a393875row4_col3 {\n",
       "            background-color:  #bed2f6;\n",
       "            color:  #000000;\n",
       "        }    #T_28d7f1bc_ac7c_11ea_b392_02420a393875row4_col4 {\n",
       "            background-color:  #b40426;\n",
       "            color:  #f1f1f1;\n",
       "        }    #T_28d7f1bc_ac7c_11ea_b392_02420a393875row4_col5 {\n",
       "            background-color:  #7396f5;\n",
       "            color:  #000000;\n",
       "        }    #T_28d7f1bc_ac7c_11ea_b392_02420a393875row4_col6 {\n",
       "            background-color:  #8caffe;\n",
       "            color:  #000000;\n",
       "        }    #T_28d7f1bc_ac7c_11ea_b392_02420a393875row5_col0 {\n",
       "            background-color:  #81a4fb;\n",
       "            color:  #000000;\n",
       "        }    #T_28d7f1bc_ac7c_11ea_b392_02420a393875row5_col1 {\n",
       "            background-color:  #9ebeff;\n",
       "            color:  #000000;\n",
       "        }    #T_28d7f1bc_ac7c_11ea_b392_02420a393875row5_col2 {\n",
       "            background-color:  #80a3fa;\n",
       "            color:  #000000;\n",
       "        }    #T_28d7f1bc_ac7c_11ea_b392_02420a393875row5_col3 {\n",
       "            background-color:  #96b7ff;\n",
       "            color:  #000000;\n",
       "        }    #T_28d7f1bc_ac7c_11ea_b392_02420a393875row5_col4 {\n",
       "            background-color:  #6e90f2;\n",
       "            color:  #000000;\n",
       "        }    #T_28d7f1bc_ac7c_11ea_b392_02420a393875row5_col5 {\n",
       "            background-color:  #b40426;\n",
       "            color:  #f1f1f1;\n",
       "        }    #T_28d7f1bc_ac7c_11ea_b392_02420a393875row5_col6 {\n",
       "            background-color:  #f5c0a7;\n",
       "            color:  #000000;\n",
       "        }    #T_28d7f1bc_ac7c_11ea_b392_02420a393875row6_col0 {\n",
       "            background-color:  #3b4cc0;\n",
       "            color:  #f1f1f1;\n",
       "        }    #T_28d7f1bc_ac7c_11ea_b392_02420a393875row6_col1 {\n",
       "            background-color:  #6f92f3;\n",
       "            color:  #000000;\n",
       "        }    #T_28d7f1bc_ac7c_11ea_b392_02420a393875row6_col2 {\n",
       "            background-color:  #4b64d5;\n",
       "            color:  #f1f1f1;\n",
       "        }    #T_28d7f1bc_ac7c_11ea_b392_02420a393875row6_col3 {\n",
       "            background-color:  #8fb1fe;\n",
       "            color:  #000000;\n",
       "        }    #T_28d7f1bc_ac7c_11ea_b392_02420a393875row6_col4 {\n",
       "            background-color:  #4055c8;\n",
       "            color:  #f1f1f1;\n",
       "        }    #T_28d7f1bc_ac7c_11ea_b392_02420a393875row6_col5 {\n",
       "            background-color:  #e7d7ce;\n",
       "            color:  #000000;\n",
       "        }    #T_28d7f1bc_ac7c_11ea_b392_02420a393875row6_col6 {\n",
       "            background-color:  #b40426;\n",
       "            color:  #f1f1f1;\n",
       "        }</style><table id=\"T_28d7f1bc_ac7c_11ea_b392_02420a393875\" ><thead>    <tr>        <th class=\"blank level0\" ></th>        <th class=\"col_heading level0 col0\" >year_of_release</th>        <th class=\"col_heading level0 col1\" >na_sales</th>        <th class=\"col_heading level0 col2\" >eu_sales</th>        <th class=\"col_heading level0 col3\" >jp_sales</th>        <th class=\"col_heading level0 col4\" >other_sales</th>        <th class=\"col_heading level0 col5\" >critic_score</th>        <th class=\"col_heading level0 col6\" >user_score</th>    </tr></thead><tbody>\n",
       "                <tr>\n",
       "                        <th id=\"T_28d7f1bc_ac7c_11ea_b392_02420a393875level0_row0\" class=\"row_heading level0 row0\" >year_of_release</th>\n",
       "                        <td id=\"T_28d7f1bc_ac7c_11ea_b392_02420a393875row0_col0\" class=\"data row0 col0\" >1</td>\n",
       "                        <td id=\"T_28d7f1bc_ac7c_11ea_b392_02420a393875row0_col1\" class=\"data row0 col1\" >-0.0928696</td>\n",
       "                        <td id=\"T_28d7f1bc_ac7c_11ea_b392_02420a393875row0_col2\" class=\"data row0 col2\" >0.00380321</td>\n",
       "                        <td id=\"T_28d7f1bc_ac7c_11ea_b392_02420a393875row0_col3\" class=\"data row0 col3\" >-0.168126</td>\n",
       "                        <td id=\"T_28d7f1bc_ac7c_11ea_b392_02420a393875row0_col4\" class=\"data row0 col4\" >0.0375891</td>\n",
       "                        <td id=\"T_28d7f1bc_ac7c_11ea_b392_02420a393875row0_col5\" class=\"data row0 col5\" >0.0195431</td>\n",
       "                        <td id=\"T_28d7f1bc_ac7c_11ea_b392_02420a393875row0_col6\" class=\"data row0 col6\" >-0.249092</td>\n",
       "            </tr>\n",
       "            <tr>\n",
       "                        <th id=\"T_28d7f1bc_ac7c_11ea_b392_02420a393875level0_row1\" class=\"row_heading level0 row1\" >na_sales</th>\n",
       "                        <td id=\"T_28d7f1bc_ac7c_11ea_b392_02420a393875row1_col0\" class=\"data row1 col0\" >-0.0928696</td>\n",
       "                        <td id=\"T_28d7f1bc_ac7c_11ea_b392_02420a393875row1_col1\" class=\"data row1 col1\" >1</td>\n",
       "                        <td id=\"T_28d7f1bc_ac7c_11ea_b392_02420a393875row1_col2\" class=\"data row1 col2\" >0.765335</td>\n",
       "                        <td id=\"T_28d7f1bc_ac7c_11ea_b392_02420a393875row1_col3\" class=\"data row1 col3\" >0.449594</td>\n",
       "                        <td id=\"T_28d7f1bc_ac7c_11ea_b392_02420a393875row1_col4\" class=\"data row1 col4\" >0.638649</td>\n",
       "                        <td id=\"T_28d7f1bc_ac7c_11ea_b392_02420a393875row1_col5\" class=\"data row1 col5\" >0.231864</td>\n",
       "                        <td id=\"T_28d7f1bc_ac7c_11ea_b392_02420a393875row1_col6\" class=\"data row1 col6\" >0.089688</td>\n",
       "            </tr>\n",
       "            <tr>\n",
       "                        <th id=\"T_28d7f1bc_ac7c_11ea_b392_02420a393875level0_row2\" class=\"row_heading level0 row2\" >eu_sales</th>\n",
       "                        <td id=\"T_28d7f1bc_ac7c_11ea_b392_02420a393875row2_col0\" class=\"data row2 col0\" >0.00380321</td>\n",
       "                        <td id=\"T_28d7f1bc_ac7c_11ea_b392_02420a393875row2_col1\" class=\"data row2 col1\" >0.765335</td>\n",
       "                        <td id=\"T_28d7f1bc_ac7c_11ea_b392_02420a393875row2_col2\" class=\"data row2 col2\" >1</td>\n",
       "                        <td id=\"T_28d7f1bc_ac7c_11ea_b392_02420a393875row2_col3\" class=\"data row2 col3\" >0.435061</td>\n",
       "                        <td id=\"T_28d7f1bc_ac7c_11ea_b392_02420a393875row2_col4\" class=\"data row2 col4\" >0.722792</td>\n",
       "                        <td id=\"T_28d7f1bc_ac7c_11ea_b392_02420a393875row2_col5\" class=\"data row2 col5\" >0.215129</td>\n",
       "                        <td id=\"T_28d7f1bc_ac7c_11ea_b392_02420a393875row2_col6\" class=\"data row2 col6\" >0.0596219</td>\n",
       "            </tr>\n",
       "            <tr>\n",
       "                        <th id=\"T_28d7f1bc_ac7c_11ea_b392_02420a393875level0_row3\" class=\"row_heading level0 row3\" >jp_sales</th>\n",
       "                        <td id=\"T_28d7f1bc_ac7c_11ea_b392_02420a393875row3_col0\" class=\"data row3 col0\" >-0.168126</td>\n",
       "                        <td id=\"T_28d7f1bc_ac7c_11ea_b392_02420a393875row3_col1\" class=\"data row3 col1\" >0.449594</td>\n",
       "                        <td id=\"T_28d7f1bc_ac7c_11ea_b392_02420a393875row3_col2\" class=\"data row3 col2\" >0.435061</td>\n",
       "                        <td id=\"T_28d7f1bc_ac7c_11ea_b392_02420a393875row3_col3\" class=\"data row3 col3\" >1</td>\n",
       "                        <td id=\"T_28d7f1bc_ac7c_11ea_b392_02420a393875row3_col4\" class=\"data row3 col4\" >0.291089</td>\n",
       "                        <td id=\"T_28d7f1bc_ac7c_11ea_b392_02420a393875row3_col5\" class=\"data row3 col5\" >0.151288</td>\n",
       "                        <td id=\"T_28d7f1bc_ac7c_11ea_b392_02420a393875row3_col6\" class=\"data row3 col6\" >0.129179</td>\n",
       "            </tr>\n",
       "            <tr>\n",
       "                        <th id=\"T_28d7f1bc_ac7c_11ea_b392_02420a393875level0_row4\" class=\"row_heading level0 row4\" >other_sales</th>\n",
       "                        <td id=\"T_28d7f1bc_ac7c_11ea_b392_02420a393875row4_col0\" class=\"data row4 col0\" >0.0375891</td>\n",
       "                        <td id=\"T_28d7f1bc_ac7c_11ea_b392_02420a393875row4_col1\" class=\"data row4 col1\" >0.638649</td>\n",
       "                        <td id=\"T_28d7f1bc_ac7c_11ea_b392_02420a393875row4_col2\" class=\"data row4 col2\" >0.722792</td>\n",
       "                        <td id=\"T_28d7f1bc_ac7c_11ea_b392_02420a393875row4_col3\" class=\"data row4 col3\" >0.291089</td>\n",
       "                        <td id=\"T_28d7f1bc_ac7c_11ea_b392_02420a393875row4_col4\" class=\"data row4 col4\" >1</td>\n",
       "                        <td id=\"T_28d7f1bc_ac7c_11ea_b392_02420a393875row4_col5\" class=\"data row4 col5\" >0.193473</td>\n",
       "                        <td id=\"T_28d7f1bc_ac7c_11ea_b392_02420a393875row4_col6\" class=\"data row4 col6\" >0.0595961</td>\n",
       "            </tr>\n",
       "            <tr>\n",
       "                        <th id=\"T_28d7f1bc_ac7c_11ea_b392_02420a393875level0_row5\" class=\"row_heading level0 row5\" >critic_score</th>\n",
       "                        <td id=\"T_28d7f1bc_ac7c_11ea_b392_02420a393875row5_col0\" class=\"data row5 col0\" >0.0195431</td>\n",
       "                        <td id=\"T_28d7f1bc_ac7c_11ea_b392_02420a393875row5_col1\" class=\"data row5 col1\" >0.231864</td>\n",
       "                        <td id=\"T_28d7f1bc_ac7c_11ea_b392_02420a393875row5_col2\" class=\"data row5 col2\" >0.215129</td>\n",
       "                        <td id=\"T_28d7f1bc_ac7c_11ea_b392_02420a393875row5_col3\" class=\"data row5 col3\" >0.151288</td>\n",
       "                        <td id=\"T_28d7f1bc_ac7c_11ea_b392_02420a393875row5_col4\" class=\"data row5 col4\" >0.193473</td>\n",
       "                        <td id=\"T_28d7f1bc_ac7c_11ea_b392_02420a393875row5_col5\" class=\"data row5 col5\" >1</td>\n",
       "                        <td id=\"T_28d7f1bc_ac7c_11ea_b392_02420a393875row5_col6\" class=\"data row5 col6\" >0.548687</td>\n",
       "            </tr>\n",
       "            <tr>\n",
       "                        <th id=\"T_28d7f1bc_ac7c_11ea_b392_02420a393875level0_row6\" class=\"row_heading level0 row6\" >user_score</th>\n",
       "                        <td id=\"T_28d7f1bc_ac7c_11ea_b392_02420a393875row6_col0\" class=\"data row6 col0\" >-0.249092</td>\n",
       "                        <td id=\"T_28d7f1bc_ac7c_11ea_b392_02420a393875row6_col1\" class=\"data row6 col1\" >0.089688</td>\n",
       "                        <td id=\"T_28d7f1bc_ac7c_11ea_b392_02420a393875row6_col2\" class=\"data row6 col2\" >0.0596219</td>\n",
       "                        <td id=\"T_28d7f1bc_ac7c_11ea_b392_02420a393875row6_col3\" class=\"data row6 col3\" >0.129179</td>\n",
       "                        <td id=\"T_28d7f1bc_ac7c_11ea_b392_02420a393875row6_col4\" class=\"data row6 col4\" >0.0595961</td>\n",
       "                        <td id=\"T_28d7f1bc_ac7c_11ea_b392_02420a393875row6_col5\" class=\"data row6 col5\" >0.548687</td>\n",
       "                        <td id=\"T_28d7f1bc_ac7c_11ea_b392_02420a393875row6_col6\" class=\"data row6 col6\" >1</td>\n",
       "            </tr>\n",
       "    </tbody></table>"
      ],
      "text/plain": [
       "<pandas.io.formats.style.Styler at 0x7f35a76e3f90>"
      ]
     },
     "execution_count": 14,
     "metadata": {},
     "output_type": "execute_result"
    }
   ],
   "source": [
    "df.corr().style.background_gradient(cmap = 'coolwarm')"
   ]
  },
  {
   "cell_type": "markdown",
   "metadata": {},
   "source": [
    "Наблюдается средняя корреляция только между `critic_score` и `user_score`. Для сохранения различий между данными не будем использовать эту закономерность. Больше существенных корреляций не наблюдается."
   ]
  },
  {
   "cell_type": "markdown",
   "metadata": {},
   "source": [
    "Проверим колонку `rating`."
   ]
  },
  {
   "cell_type": "code",
   "execution_count": 15,
   "metadata": {
    "scrolled": true
   },
   "outputs": [
    {
     "data": {
      "text/plain": [
       "6766"
      ]
     },
     "execution_count": 15,
     "metadata": {},
     "output_type": "execute_result"
    }
   ],
   "source": [
    "len(df[df['rating'].isna()])"
   ]
  },
  {
   "cell_type": "markdown",
   "metadata": {},
   "source": [
    "Если данные подгружались из нескольких источников, то из-за несовпадения имени, часть может отсутствовать. Восстановить не можем. "
   ]
  },
  {
   "cell_type": "code",
   "execution_count": 16,
   "metadata": {
    "scrolled": false
   },
   "outputs": [
    {
     "data": {
      "text/plain": [
       "E       3990\n",
       "T       2961\n",
       "M       1563\n",
       "E10+    1420\n",
       "EC         8\n",
       "K-A        3\n",
       "RP         3\n",
       "AO         1\n",
       "Name: rating, dtype: int64"
      ]
     },
     "execution_count": 16,
     "metadata": {},
     "output_type": "execute_result"
    }
   ],
   "source": [
    "df['rating'].value_counts()"
   ]
  },
  {
   "cell_type": "markdown",
   "metadata": {},
   "source": [
    "`K-A` - прошлая версия `E`. Заменим для едиообразия."
   ]
  },
  {
   "cell_type": "code",
   "execution_count": 17,
   "metadata": {},
   "outputs": [],
   "source": [
    "df['rating'].update(df[df['rating'] == 'K-A']['rating'].replace('K-A', 'E'))"
   ]
  },
  {
   "cell_type": "code",
   "execution_count": 18,
   "metadata": {
    "scrolled": true
   },
   "outputs": [
    {
     "data": {
      "text/plain": [
       "E       3993\n",
       "T       2961\n",
       "M       1563\n",
       "E10+    1420\n",
       "EC         8\n",
       "RP         3\n",
       "AO         1\n",
       "Name: rating, dtype: int64"
      ]
     },
     "execution_count": 18,
     "metadata": {},
     "output_type": "execute_result"
    }
   ],
   "source": [
    "df['rating'].value_counts()"
   ]
  },
  {
   "cell_type": "markdown",
   "metadata": {},
   "source": [
    "#### 2.4 Расчёты"
   ]
  },
  {
   "cell_type": "markdown",
   "metadata": {},
   "source": [
    "Посчитаем суммарные продажи во всех регионах."
   ]
  },
  {
   "cell_type": "code",
   "execution_count": 19,
   "metadata": {
    "scrolled": true
   },
   "outputs": [
    {
     "data": {
      "text/html": [
       "<div>\n",
       "<style scoped>\n",
       "    .dataframe tbody tr th:only-of-type {\n",
       "        vertical-align: middle;\n",
       "    }\n",
       "\n",
       "    .dataframe tbody tr th {\n",
       "        vertical-align: top;\n",
       "    }\n",
       "\n",
       "    .dataframe thead th {\n",
       "        text-align: right;\n",
       "    }\n",
       "</style>\n",
       "<table border=\"1\" class=\"dataframe\">\n",
       "  <thead>\n",
       "    <tr style=\"text-align: right;\">\n",
       "      <th></th>\n",
       "      <th>name</th>\n",
       "      <th>platform</th>\n",
       "      <th>year_of_release</th>\n",
       "      <th>genre</th>\n",
       "      <th>na_sales</th>\n",
       "      <th>eu_sales</th>\n",
       "      <th>jp_sales</th>\n",
       "      <th>other_sales</th>\n",
       "      <th>critic_score</th>\n",
       "      <th>user_score</th>\n",
       "      <th>rating</th>\n",
       "      <th>sales</th>\n",
       "    </tr>\n",
       "  </thead>\n",
       "  <tbody>\n",
       "    <tr>\n",
       "      <td>0</td>\n",
       "      <td>Wii Sports</td>\n",
       "      <td>Wii</td>\n",
       "      <td>2006.0</td>\n",
       "      <td>Sports</td>\n",
       "      <td>41.36</td>\n",
       "      <td>28.96</td>\n",
       "      <td>3.77</td>\n",
       "      <td>8.45</td>\n",
       "      <td>76.0</td>\n",
       "      <td>80.0</td>\n",
       "      <td>E</td>\n",
       "      <td>82.54</td>\n",
       "    </tr>\n",
       "    <tr>\n",
       "      <td>1</td>\n",
       "      <td>Super Mario Bros.</td>\n",
       "      <td>NES</td>\n",
       "      <td>1985.0</td>\n",
       "      <td>Platform</td>\n",
       "      <td>29.08</td>\n",
       "      <td>3.58</td>\n",
       "      <td>6.81</td>\n",
       "      <td>0.77</td>\n",
       "      <td>NaN</td>\n",
       "      <td>NaN</td>\n",
       "      <td>NaN</td>\n",
       "      <td>40.24</td>\n",
       "    </tr>\n",
       "    <tr>\n",
       "      <td>2</td>\n",
       "      <td>Mario Kart Wii</td>\n",
       "      <td>Wii</td>\n",
       "      <td>2008.0</td>\n",
       "      <td>Racing</td>\n",
       "      <td>15.68</td>\n",
       "      <td>12.76</td>\n",
       "      <td>3.79</td>\n",
       "      <td>3.29</td>\n",
       "      <td>82.0</td>\n",
       "      <td>83.0</td>\n",
       "      <td>E</td>\n",
       "      <td>35.52</td>\n",
       "    </tr>\n",
       "    <tr>\n",
       "      <td>3</td>\n",
       "      <td>Wii Sports Resort</td>\n",
       "      <td>Wii</td>\n",
       "      <td>2009.0</td>\n",
       "      <td>Sports</td>\n",
       "      <td>15.61</td>\n",
       "      <td>10.93</td>\n",
       "      <td>3.28</td>\n",
       "      <td>2.95</td>\n",
       "      <td>80.0</td>\n",
       "      <td>80.0</td>\n",
       "      <td>E</td>\n",
       "      <td>32.77</td>\n",
       "    </tr>\n",
       "    <tr>\n",
       "      <td>4</td>\n",
       "      <td>Pokemon Red/Pokemon Blue</td>\n",
       "      <td>GB</td>\n",
       "      <td>1996.0</td>\n",
       "      <td>Role-Playing</td>\n",
       "      <td>11.27</td>\n",
       "      <td>8.89</td>\n",
       "      <td>10.22</td>\n",
       "      <td>1.00</td>\n",
       "      <td>NaN</td>\n",
       "      <td>NaN</td>\n",
       "      <td>NaN</td>\n",
       "      <td>31.38</td>\n",
       "    </tr>\n",
       "  </tbody>\n",
       "</table>\n",
       "</div>"
      ],
      "text/plain": [
       "                       name platform  year_of_release         genre  na_sales  \\\n",
       "0                Wii Sports      Wii           2006.0        Sports     41.36   \n",
       "1         Super Mario Bros.      NES           1985.0      Platform     29.08   \n",
       "2            Mario Kart Wii      Wii           2008.0        Racing     15.68   \n",
       "3         Wii Sports Resort      Wii           2009.0        Sports     15.61   \n",
       "4  Pokemon Red/Pokemon Blue       GB           1996.0  Role-Playing     11.27   \n",
       "\n",
       "   eu_sales  jp_sales  other_sales  critic_score  user_score rating  sales  \n",
       "0     28.96      3.77         8.45          76.0        80.0      E  82.54  \n",
       "1      3.58      6.81         0.77           NaN         NaN    NaN  40.24  \n",
       "2     12.76      3.79         3.29          82.0        83.0      E  35.52  \n",
       "3     10.93      3.28         2.95          80.0        80.0      E  32.77  \n",
       "4      8.89     10.22         1.00           NaN         NaN    NaN  31.38  "
      ]
     },
     "execution_count": 19,
     "metadata": {},
     "output_type": "execute_result"
    }
   ],
   "source": [
    "df['sales'] = df['na_sales'] + df['eu_sales'] + df['jp_sales'] + df['other_sales']\n",
    "df.head(5)"
   ]
  },
  {
   "cell_type": "markdown",
   "metadata": {},
   "source": [
    "### Вывод"
   ]
  },
  {
   "cell_type": "markdown",
   "metadata": {},
   "source": [
    "Названия столбцов скорректированы.  \n",
    "Изменен тип данных колонки `user_score` с `object` на числовой `float64`.  \n",
    "`tbd` заменены на `NaN` (равнозначны).  \n",
    "Заполнены 130 пропусков в колонке `year_of_release`.  \n",
    "Заполнены 961 пропусков в колонке  `critic_score`.  \n",
    "Заполнены 1099 пропуска в колонке  `user_score`.  \n",
    "Посчитаны суммарные продажи."
   ]
  },
  {
   "cell_type": "markdown",
   "metadata": {},
   "source": [
    "### 3. Исследовательский анализ данных"
   ]
  },
  {
   "cell_type": "markdown",
   "metadata": {},
   "source": [
    "Посмотрим, сколько игр выпускалось в разные годы. "
   ]
  },
  {
   "cell_type": "code",
   "execution_count": 20,
   "metadata": {},
   "outputs": [
    {
     "data": {
      "text/plain": [
       "<matplotlib.axes._subplots.AxesSubplot at 0x7f35a75e8b90>"
      ]
     },
     "execution_count": 20,
     "metadata": {},
     "output_type": "execute_result"
    },
    {
     "data": {
      "image/png": "[encoded data removed]",
      "text/plain": [
       "<Figure size 720x360 with 1 Axes>"
      ]
     },
     "metadata": {},
     "output_type": "display_data"
    }
   ],
   "source": [
    "count_games = df.groupby(['year_of_release'])['platform'].count().reset_index()\n",
    "count_games['year_of_release'] = count_games['year_of_release'].astype(int)\n",
    "\n",
    "\n",
    "plt.subplots(figsize = (10,5))\n",
    "plt.xticks(rotation=90)\n",
    "plt.title('Количество игр по годам')\n",
    "sns.barplot(\n",
    "    data = count_games,\n",
    "    x = 'year_of_release',\n",
    "    y = 'platform',\n",
    "    palette='Blues_d'\n",
    ")"
   ]
  },
  {
   "cell_type": "markdown",
   "metadata": {},
   "source": [
    "На графике - распределение Пуассона. С 2002 года по 2015 количество игр больше, чем за 2016 год. Пик пришелся на 2008-2009. В последние годы идет тренд на снижение. Значит в 2017 году количество может быть либо ниже, либо близко к значению 2016."
   ]
  },
  {
   "cell_type": "markdown",
   "metadata": {},
   "source": [
    "Посмотрим, как менялись продажи по платформам. "
   ]
  },
  {
   "cell_type": "code",
   "execution_count": 21,
   "metadata": {},
   "outputs": [
    {
     "data": {
      "text/html": [
       "<div>\n",
       "<style scoped>\n",
       "    .dataframe tbody tr th:only-of-type {\n",
       "        vertical-align: middle;\n",
       "    }\n",
       "\n",
       "    .dataframe tbody tr th {\n",
       "        vertical-align: top;\n",
       "    }\n",
       "\n",
       "    .dataframe thead th {\n",
       "        text-align: right;\n",
       "    }\n",
       "</style>\n",
       "<table border=\"1\" class=\"dataframe\">\n",
       "  <thead>\n",
       "    <tr style=\"text-align: right;\">\n",
       "      <th></th>\n",
       "      <th>platform</th>\n",
       "      <th>sales</th>\n",
       "    </tr>\n",
       "  </thead>\n",
       "  <tbody>\n",
       "    <tr>\n",
       "      <td>16</td>\n",
       "      <td>PS2</td>\n",
       "      <td>1255.77</td>\n",
       "    </tr>\n",
       "    <tr>\n",
       "      <td>28</td>\n",
       "      <td>X360</td>\n",
       "      <td>971.42</td>\n",
       "    </tr>\n",
       "    <tr>\n",
       "      <td>17</td>\n",
       "      <td>PS3</td>\n",
       "      <td>939.65</td>\n",
       "    </tr>\n",
       "    <tr>\n",
       "      <td>26</td>\n",
       "      <td>Wii</td>\n",
       "      <td>907.51</td>\n",
       "    </tr>\n",
       "  </tbody>\n",
       "</table>\n",
       "</div>"
      ],
      "text/plain": [
       "   platform    sales\n",
       "16      PS2  1255.77\n",
       "28     X360   971.42\n",
       "17      PS3   939.65\n",
       "26      Wii   907.51"
      ]
     },
     "execution_count": 21,
     "metadata": {},
     "output_type": "execute_result"
    }
   ],
   "source": [
    "#найдем 4 платформы с максимальной суммой продаж\n",
    "top_platform = df.groupby(['platform'])['sales'].sum().reset_index().sort_values(by='sales', ascending=False).head(4)\n",
    "top_platform"
   ]
  },
  {
   "cell_type": "code",
   "execution_count": 22,
   "metadata": {
    "scrolled": false
   },
   "outputs": [
    {
     "data": {
      "image/png": "[encoded data removed]",
      "text/plain": [
       "<Figure size 504x432 with 1 Axes>"
      ]
     },
     "metadata": {},
     "output_type": "display_data"
    }
   ],
   "source": [
    "# построим линейный график сумм продаж по этим 4 платформам\n",
    "f = plt.subplots(figsize=(7, 6))\n",
    "for el in top_platform.values:\n",
    "    df_platform = df[df['platform'] == el[0]]\n",
    "    ax = df_platform.groupby(['year_of_release'])['sales'].sum().plot(legend=True)\n",
    "    ax.set_ylabel('sales')\n",
    "    ax.legend(top_platform['platform'].values.tolist()) \n",
    "    plt.title('Сумма продаж по годам')"
   ]
  },
  {
   "cell_type": "code",
   "execution_count": 23,
   "metadata": {},
   "outputs": [
    {
     "data": {
      "image/png": "[encoded data removed]",
      "text/plain": [
       "<Figure size 1080x792 with 4 Axes>"
      ]
     },
     "metadata": {},
     "output_type": "display_data"
    }
   ],
   "source": [
    "# построим столбчатые диаграммы сумм продаж по этим 4 платформам\n",
    "fig = plt.figure(figsize=(15, 11))\n",
    "\n",
    "for n, el in enumerate(top_platform.values):\n",
    "    ax = fig.add_subplot(2,2,n + 1)\n",
    "    \n",
    "    df_platform = df[df['platform'] == el[0]].groupby(['year_of_release'])['sales'].sum().reset_index()\n",
    "    df_platform['year_of_release'] = df_platform['year_of_release'].astype(int)\n",
    "    sns.barplot(\n",
    "        data=df_platform,\n",
    "        x='year_of_release',\n",
    "        y='sales',\n",
    "        palette='Blues_d',\n",
    "        ax=ax\n",
    "    )\n",
    "    plt.title(el[0])"
   ]
  },
  {
   "cell_type": "markdown",
   "metadata": {},
   "source": [
    "На графиках отражены распределения Пуассона. Продажи больше 100 миллионов долларов сохраняются в течение 5-6 лет. На примере `PS` можно увидеть, что спустя 5 лет продажи `PS2` начинают падать, но пока еще приносят больше 100 млн, на 7 год выпускают новую версию - `PS3`. Спустя шесть лет начинают падать продажи `PS3`.  \n",
    "Платформы набирают популярность 4-6 лет, а потом теряют позиции, так как пользователи выбирают новые модели.     "
   ]
  },
  {
   "cell_type": "markdown",
   "metadata": {},
   "source": [
    "Выберем актуальный период, который отражает тенденции 2016 года - именно с 2012 года отсутствуют резкие перепады и видна общая тенденция, поэтому будем анализировать период с 2012 по 2016 год."
   ]
  },
  {
   "cell_type": "code",
   "execution_count": 24,
   "metadata": {},
   "outputs": [],
   "source": [
    "df_last_years = df[df['year_of_release'] >= 2012]"
   ]
  },
  {
   "cell_type": "markdown",
   "metadata": {},
   "source": [
    "Посмотрим, какие платформы принесли больше всего прибыли за этот период."
   ]
  },
  {
   "cell_type": "code",
   "execution_count": 25,
   "metadata": {
    "scrolled": true
   },
   "outputs": [
    {
     "data": {
      "text/plain": [
       "<matplotlib.axes._subplots.AxesSubplot at 0x7f35d129f310>"
      ]
     },
     "execution_count": 25,
     "metadata": {},
     "output_type": "execute_result"
    },
    {
     "data": {
      "image/png": "[encoded data removed]",
      "text/plain": [
       "<Figure size 576x360 with 1 Axes>"
      ]
     },
     "metadata": {},
     "output_type": "display_data"
    }
   ],
   "source": [
    "platform_sales = df_last_years.groupby(['platform'])['sales'].sum().reset_index()\n",
    "\n",
    "plt.subplots(figsize = (8,5))\n",
    "plt.xticks(rotation=90)\n",
    "plt.title('Продажи за 2016 год')\n",
    "sns.barplot(\n",
    "    data = platform_sales,\n",
    "    x = 'platform',\n",
    "    y = 'sales',\n",
    "    palette='Blues_d'\n",
    ")"
   ]
  },
  {
   "cell_type": "code",
   "execution_count": 26,
   "metadata": {},
   "outputs": [],
   "source": [
    "top_pl_period = platform_sales.sort_values(by='sales', ascending=False)['platform'].head(5).unique().tolist()"
   ]
  },
  {
   "cell_type": "code",
   "execution_count": 27,
   "metadata": {
    "scrolled": false
   },
   "outputs": [
    {
     "name": "stdout",
     "output_type": "stream",
     "text": [
      "Топ 5 по прибыли: ['PS4', 'PS3', 'X360', '3DS', 'XOne']\n"
     ]
    }
   ],
   "source": [
    "print('Топ 5 по прибыли:', top_pl_period)"
   ]
  },
  {
   "cell_type": "markdown",
   "metadata": {},
   "source": [
    "Проверим, на каком этапе находится каждая платформа. Для этого построим диаграммы сумм продаж по платформам."
   ]
  },
  {
   "cell_type": "code",
   "execution_count": 28,
   "metadata": {
    "scrolled": false
   },
   "outputs": [
    {
     "data": {
      "image/png": "[encoded data removed]",
      "text/plain": [
       "<Figure size 1368x1008 with 5 Axes>"
      ]
     },
     "metadata": {},
     "output_type": "display_data"
    }
   ],
   "source": [
    "fig = plt.figure(figsize=(19, 14))\n",
    "\n",
    "for n, el in enumerate(top_pl_period):\n",
    "    ax = fig.add_subplot(2,3,n + 1)\n",
    "    \n",
    "    df_platform = df[df['platform'] == el].groupby(['year_of_release'])['sales'].sum().reset_index()\n",
    "    df_platform['year_of_release'] = df_platform['year_of_release'].astype(int)\n",
    "    sns.barplot(\n",
    "        data=df_platform,\n",
    "        x='year_of_release',\n",
    "        y='sales',\n",
    "        palette='Blues_d',\n",
    "        ax=ax\n",
    "    )\n",
    "    plt.xticks(rotation=90)\n",
    "    plt.title(el)"
   ]
  },
  {
   "cell_type": "markdown",
   "metadata": {},
   "source": [
    "На графиках - распределение Пуассона. Все платформы перешли на падение.  \n",
    "`PS3` и `X360` в последний год принесли уже меньше 10 млн.  \n",
    "Только `PS4`, `XOne` и `3DS` принесли больше. У `PS4` и `XOne` 2016 год - первый год падения, а у `3DS` - четвертый."
   ]
  },
  {
   "cell_type": "markdown",
   "metadata": {},
   "source": [
    "Посмотрим информацию по глобальным продажам каждой игры и разбивкой по платформам."
   ]
  },
  {
   "cell_type": "code",
   "execution_count": 29,
   "metadata": {
    "scrolled": false
   },
   "outputs": [
    {
     "data": {
      "image/png": "[encoded data removed]",
      "text/plain": [
       "<Figure size 1296x576 with 1 Axes>"
      ]
     },
     "metadata": {},
     "output_type": "display_data"
    }
   ],
   "source": [
    "fig = plt.figure(figsize=(18, 8))\n",
    "plt.title('Продажи за каждую игру по платформам', fontsize=16)\n",
    "\n",
    "box = sns.boxplot(y='sales', x='platform', data=df_last_years, palette='Paired', showfliers = False)"
   ]
  },
  {
   "cell_type": "markdown",
   "metadata": {},
   "source": [
    "По всем платформам датасет смещен вверх, медианное значение находится ближе к 1 квартилю.   \n",
    "Диапазон прибыли больше всего у платформ: `X360`, `PS4` и `xOne`. Медианное значение - около 0,2 млн. На таких платформах можно получить больше прибыли, так как пользователи платят ощутимо больше медианных значений.  \n",
    "Остальные платформы из топ 5 - `3DS` и `PS3` уступают по диапазону прибыли и максимальным значениям, при этом у `PS3`  показатели ближе к лидерам, а `3DS` отстает больше в том числе и по медианному значению, которое стремится к 0,1 млн.  "
   ]
  },
  {
   "cell_type": "markdown",
   "metadata": {},
   "source": [
    "Посмотрим, как на продажи влияют отзывы пользователей и критиков. "
   ]
  },
  {
   "cell_type": "markdown",
   "metadata": {},
   "source": [
    "Оценим предполагаемые выгодные платформы: `PS4` и `XOne`.  \n",
    "Построим диаграмму рассеяния и посчитаем корреляцию между отзывами и продажами. "
   ]
  },
  {
   "cell_type": "code",
   "execution_count": 30,
   "metadata": {
    "scrolled": false
   },
   "outputs": [
    {
     "data": {
      "text/html": [
       "<div>\n",
       "<style scoped>\n",
       "    .dataframe tbody tr th:only-of-type {\n",
       "        vertical-align: middle;\n",
       "    }\n",
       "\n",
       "    .dataframe tbody tr th {\n",
       "        vertical-align: top;\n",
       "    }\n",
       "\n",
       "    .dataframe thead th {\n",
       "        text-align: right;\n",
       "    }\n",
       "</style>\n",
       "<table border=\"1\" class=\"dataframe\">\n",
       "  <thead>\n",
       "    <tr style=\"text-align: right;\">\n",
       "      <th></th>\n",
       "      <th>sales</th>\n",
       "      <th>critic_score</th>\n",
       "      <th>user_score</th>\n",
       "    </tr>\n",
       "  </thead>\n",
       "  <tbody>\n",
       "    <tr>\n",
       "      <td>42</td>\n",
       "      <td>12.62</td>\n",
       "      <td>97.0</td>\n",
       "      <td>83.0</td>\n",
       "    </tr>\n",
       "    <tr>\n",
       "      <td>77</td>\n",
       "      <td>8.58</td>\n",
       "      <td>82.0</td>\n",
       "      <td>43.0</td>\n",
       "    </tr>\n",
       "    <tr>\n",
       "      <td>92</td>\n",
       "      <td>7.66</td>\n",
       "      <td>83.0</td>\n",
       "      <td>57.0</td>\n",
       "    </tr>\n",
       "    <tr>\n",
       "      <td>94</td>\n",
       "      <td>7.60</td>\n",
       "      <td>85.0</td>\n",
       "      <td>50.0</td>\n",
       "    </tr>\n",
       "    <tr>\n",
       "      <td>105</td>\n",
       "      <td>7.17</td>\n",
       "      <td>87.0</td>\n",
       "      <td>65.0</td>\n",
       "    </tr>\n",
       "    <tr>\n",
       "      <td>...</td>\n",
       "      <td>...</td>\n",
       "      <td>...</td>\n",
       "      <td>...</td>\n",
       "    </tr>\n",
       "    <tr>\n",
       "      <td>16486</td>\n",
       "      <td>0.01</td>\n",
       "      <td>42.0</td>\n",
       "      <td>23.0</td>\n",
       "    </tr>\n",
       "    <tr>\n",
       "      <td>16499</td>\n",
       "      <td>0.01</td>\n",
       "      <td>70.0</td>\n",
       "      <td>68.0</td>\n",
       "    </tr>\n",
       "    <tr>\n",
       "      <td>16500</td>\n",
       "      <td>0.01</td>\n",
       "      <td>69.0</td>\n",
       "      <td>75.0</td>\n",
       "    </tr>\n",
       "    <tr>\n",
       "      <td>16526</td>\n",
       "      <td>0.01</td>\n",
       "      <td>61.0</td>\n",
       "      <td>79.0</td>\n",
       "    </tr>\n",
       "    <tr>\n",
       "      <td>16530</td>\n",
       "      <td>0.01</td>\n",
       "      <td>51.0</td>\n",
       "      <td>55.0</td>\n",
       "    </tr>\n",
       "  </tbody>\n",
       "</table>\n",
       "<p>283 rows × 3 columns</p>\n",
       "</div>"
      ],
      "text/plain": [
       "       sales  critic_score  user_score\n",
       "42     12.62          97.0        83.0\n",
       "77      8.58          82.0        43.0\n",
       "92      7.66          83.0        57.0\n",
       "94      7.60          85.0        50.0\n",
       "105     7.17          87.0        65.0\n",
       "...      ...           ...         ...\n",
       "16486   0.01          42.0        23.0\n",
       "16499   0.01          70.0        68.0\n",
       "16500   0.01          69.0        75.0\n",
       "16526   0.01          61.0        79.0\n",
       "16530   0.01          51.0        55.0\n",
       "\n",
       "[283 rows x 3 columns]"
      ]
     },
     "execution_count": 30,
     "metadata": {},
     "output_type": "execute_result"
    }
   ],
   "source": [
    "# данные по PS4\n",
    "ps_df = df_last_years[df_last_years['platform'] == 'PS4'][['sales','critic_score','user_score']]\n",
    "ps_df = ps_df.dropna()\n",
    "ps_df"
   ]
  },
  {
   "cell_type": "markdown",
   "metadata": {},
   "source": [
    "Корреляция по данным `PS4`."
   ]
  },
  {
   "cell_type": "code",
   "execution_count": 31,
   "metadata": {},
   "outputs": [
    {
     "data": {
      "text/html": [
       "<div>\n",
       "<style scoped>\n",
       "    .dataframe tbody tr th:only-of-type {\n",
       "        vertical-align: middle;\n",
       "    }\n",
       "\n",
       "    .dataframe tbody tr th {\n",
       "        vertical-align: top;\n",
       "    }\n",
       "\n",
       "    .dataframe thead th {\n",
       "        text-align: right;\n",
       "    }\n",
       "</style>\n",
       "<table border=\"1\" class=\"dataframe\">\n",
       "  <thead>\n",
       "    <tr style=\"text-align: right;\">\n",
       "      <th></th>\n",
       "      <th>sales</th>\n",
       "      <th>critic_score</th>\n",
       "      <th>user_score</th>\n",
       "    </tr>\n",
       "  </thead>\n",
       "  <tbody>\n",
       "    <tr>\n",
       "      <td>sales</td>\n",
       "      <td>1.000000</td>\n",
       "      <td>0.390521</td>\n",
       "      <td>-0.026261</td>\n",
       "    </tr>\n",
       "    <tr>\n",
       "      <td>critic_score</td>\n",
       "      <td>0.390521</td>\n",
       "      <td>1.000000</td>\n",
       "      <td>0.562445</td>\n",
       "    </tr>\n",
       "    <tr>\n",
       "      <td>user_score</td>\n",
       "      <td>-0.026261</td>\n",
       "      <td>0.562445</td>\n",
       "      <td>1.000000</td>\n",
       "    </tr>\n",
       "  </tbody>\n",
       "</table>\n",
       "</div>"
      ],
      "text/plain": [
       "                 sales  critic_score  user_score\n",
       "sales         1.000000      0.390521   -0.026261\n",
       "critic_score  0.390521      1.000000    0.562445\n",
       "user_score   -0.026261      0.562445    1.000000"
      ]
     },
     "execution_count": 31,
     "metadata": {},
     "output_type": "execute_result"
    }
   ],
   "source": [
    "ps_df.corr()"
   ]
  },
  {
   "cell_type": "markdown",
   "metadata": {},
   "source": [
    "Наблюдается слабая корреляция между продажами и оценками критиков. Линейной зависимости между продажами и оценками пользователей нет."
   ]
  },
  {
   "cell_type": "code",
   "execution_count": 32,
   "metadata": {
    "scrolled": false
   },
   "outputs": [
    {
     "data": {
      "text/plain": [
       "<matplotlib.axes._subplots.AxesSubplot at 0x7f35d07e7e10>"
      ]
     },
     "execution_count": 32,
     "metadata": {},
     "output_type": "execute_result"
    },
    {
     "data": {
      "image/png": "[encoded data removed]",
      "text/plain": [
       "<Figure size 720x360 with 2 Axes>"
      ]
     },
     "metadata": {},
     "output_type": "display_data"
    }
   ],
   "source": [
    "fig = plt.figure(figsize=(10,5))\n",
    "fig.suptitle('PS4', fontsize=16)\n",
    "\n",
    "ax1 = fig.add_subplot(1,2,1)\n",
    "plt.title('Зависимость продаж от оценок критиков')\n",
    "sns.scatterplot(data=ps_df, x='critic_score', y='sales', ax=ax1)\n",
    "\n",
    "ax2 = fig.add_subplot(1,2,2)\n",
    "plt.title('Зависимость продаж от оценок пользователей')\n",
    "sns.scatterplot(data=ps_df, x='user_score', y='sales', ax=ax2)"
   ]
  },
  {
   "cell_type": "markdown",
   "metadata": {},
   "source": [
    "На первом графике видно, что высоких продаж не было при низких оценках критиков. В среднем, рост продаж заметен от оценки 60. При этом у игр с оценкой критиков от 50 основные значения по продажам до 2 млн. Выше этого значения находится малая часть точек. Но если критики оценивали игру на более 95 баллов, то во всех случаях прибыль была уже выше 1 млн.  \n",
    "\n",
    "На втором графике с пользовательской оценкой от 35 видны отдельные высокие значения прибыли. Основная масса точек также находится в районе оценки пользователей от 50 и низкой прибыли. При оценках от 90 прибыль составляет около 2 млн и выше."
   ]
  },
  {
   "cell_type": "code",
   "execution_count": 33,
   "metadata": {
    "scrolled": false
   },
   "outputs": [
    {
     "data": {
      "text/html": [
       "<div>\n",
       "<style scoped>\n",
       "    .dataframe tbody tr th:only-of-type {\n",
       "        vertical-align: middle;\n",
       "    }\n",
       "\n",
       "    .dataframe tbody tr th {\n",
       "        vertical-align: top;\n",
       "    }\n",
       "\n",
       "    .dataframe thead th {\n",
       "        text-align: right;\n",
       "    }\n",
       "</style>\n",
       "<table border=\"1\" class=\"dataframe\">\n",
       "  <thead>\n",
       "    <tr style=\"text-align: right;\">\n",
       "      <th></th>\n",
       "      <th>sales</th>\n",
       "      <th>critic_score</th>\n",
       "      <th>user_score</th>\n",
       "    </tr>\n",
       "  </thead>\n",
       "  <tbody>\n",
       "    <tr>\n",
       "      <td>165</td>\n",
       "      <td>5.47</td>\n",
       "      <td>97.0</td>\n",
       "      <td>79.0</td>\n",
       "    </tr>\n",
       "    <tr>\n",
       "      <td>179</td>\n",
       "      <td>5.26</td>\n",
       "      <td>81.0</td>\n",
       "      <td>54.0</td>\n",
       "    </tr>\n",
       "    <tr>\n",
       "      <td>242</td>\n",
       "      <td>4.49</td>\n",
       "      <td>84.0</td>\n",
       "      <td>64.0</td>\n",
       "    </tr>\n",
       "    <tr>\n",
       "      <td>270</td>\n",
       "      <td>4.22</td>\n",
       "      <td>88.0</td>\n",
       "      <td>62.0</td>\n",
       "    </tr>\n",
       "    <tr>\n",
       "      <td>373</td>\n",
       "      <td>3.50</td>\n",
       "      <td>72.0</td>\n",
       "      <td>41.0</td>\n",
       "    </tr>\n",
       "    <tr>\n",
       "      <td>...</td>\n",
       "      <td>...</td>\n",
       "      <td>...</td>\n",
       "      <td>...</td>\n",
       "    </tr>\n",
       "    <tr>\n",
       "      <td>16597</td>\n",
       "      <td>0.01</td>\n",
       "      <td>65.0</td>\n",
       "      <td>60.0</td>\n",
       "    </tr>\n",
       "    <tr>\n",
       "      <td>16630</td>\n",
       "      <td>0.01</td>\n",
       "      <td>63.0</td>\n",
       "      <td>82.0</td>\n",
       "    </tr>\n",
       "    <tr>\n",
       "      <td>16643</td>\n",
       "      <td>0.01</td>\n",
       "      <td>64.0</td>\n",
       "      <td>66.0</td>\n",
       "    </tr>\n",
       "    <tr>\n",
       "      <td>16645</td>\n",
       "      <td>0.01</td>\n",
       "      <td>77.0</td>\n",
       "      <td>77.0</td>\n",
       "    </tr>\n",
       "    <tr>\n",
       "      <td>16660</td>\n",
       "      <td>0.01</td>\n",
       "      <td>74.0</td>\n",
       "      <td>67.0</td>\n",
       "    </tr>\n",
       "  </tbody>\n",
       "</table>\n",
       "<p>201 rows × 3 columns</p>\n",
       "</div>"
      ],
      "text/plain": [
       "       sales  critic_score  user_score\n",
       "165     5.47          97.0        79.0\n",
       "179     5.26          81.0        54.0\n",
       "242     4.49          84.0        64.0\n",
       "270     4.22          88.0        62.0\n",
       "373     3.50          72.0        41.0\n",
       "...      ...           ...         ...\n",
       "16597   0.01          65.0        60.0\n",
       "16630   0.01          63.0        82.0\n",
       "16643   0.01          64.0        66.0\n",
       "16645   0.01          77.0        77.0\n",
       "16660   0.01          74.0        67.0\n",
       "\n",
       "[201 rows x 3 columns]"
      ]
     },
     "execution_count": 33,
     "metadata": {},
     "output_type": "execute_result"
    }
   ],
   "source": [
    "# данные по XOne\n",
    "xone_df = df_last_years[df_last_years['platform'] == 'XOne'][['sales','critic_score','user_score']]\n",
    "xone_df = xone_df.dropna()\n",
    "xone_df"
   ]
  },
  {
   "cell_type": "markdown",
   "metadata": {},
   "source": [
    "Корреляция по данным `XOne`."
   ]
  },
  {
   "cell_type": "code",
   "execution_count": 34,
   "metadata": {},
   "outputs": [
    {
     "data": {
      "text/html": [
       "<div>\n",
       "<style scoped>\n",
       "    .dataframe tbody tr th:only-of-type {\n",
       "        vertical-align: middle;\n",
       "    }\n",
       "\n",
       "    .dataframe tbody tr th {\n",
       "        vertical-align: top;\n",
       "    }\n",
       "\n",
       "    .dataframe thead th {\n",
       "        text-align: right;\n",
       "    }\n",
       "</style>\n",
       "<table border=\"1\" class=\"dataframe\">\n",
       "  <thead>\n",
       "    <tr style=\"text-align: right;\">\n",
       "      <th></th>\n",
       "      <th>sales</th>\n",
       "      <th>critic_score</th>\n",
       "      <th>user_score</th>\n",
       "    </tr>\n",
       "  </thead>\n",
       "  <tbody>\n",
       "    <tr>\n",
       "      <td>sales</td>\n",
       "      <td>1.000000</td>\n",
       "      <td>0.372722</td>\n",
       "      <td>-0.091211</td>\n",
       "    </tr>\n",
       "    <tr>\n",
       "      <td>critic_score</td>\n",
       "      <td>0.372722</td>\n",
       "      <td>1.000000</td>\n",
       "      <td>0.470180</td>\n",
       "    </tr>\n",
       "    <tr>\n",
       "      <td>user_score</td>\n",
       "      <td>-0.091211</td>\n",
       "      <td>0.470180</td>\n",
       "      <td>1.000000</td>\n",
       "    </tr>\n",
       "  </tbody>\n",
       "</table>\n",
       "</div>"
      ],
      "text/plain": [
       "                 sales  critic_score  user_score\n",
       "sales         1.000000      0.372722   -0.091211\n",
       "critic_score  0.372722      1.000000    0.470180\n",
       "user_score   -0.091211      0.470180    1.000000"
      ]
     },
     "execution_count": 34,
     "metadata": {},
     "output_type": "execute_result"
    }
   ],
   "source": [
    "xone_df.corr()"
   ]
  },
  {
   "cell_type": "markdown",
   "metadata": {},
   "source": [
    "Наблюдается слабая корреляция между продажами и оценками критиков. Линейной зависимости между продажами и оценками пользователей нет."
   ]
  },
  {
   "cell_type": "code",
   "execution_count": 35,
   "metadata": {
    "scrolled": false
   },
   "outputs": [
    {
     "data": {
      "text/plain": [
       "<matplotlib.axes._subplots.AxesSubplot at 0x7f35a3bc3d90>"
      ]
     },
     "execution_count": 35,
     "metadata": {},
     "output_type": "execute_result"
    },
    {
     "data": {
      "image/png": "[encoded data removed]",
      "text/plain": [
       "<Figure size 720x360 with 2 Axes>"
      ]
     },
     "metadata": {},
     "output_type": "display_data"
    }
   ],
   "source": [
    "fig = plt.figure(figsize=(10,5))\n",
    "fig.suptitle('XOne', fontsize=16)\n",
    "\n",
    "ax1 = fig.add_subplot(1,2,1)\n",
    "plt.title('Зависимость продаж от оценок критиков')\n",
    "sns.scatterplot(data=xone_df, x='critic_score', y='sales', ax=ax1)\n",
    "\n",
    "ax2 = fig.add_subplot(1,2,2)\n",
    "plt.title('Зависимость продаж от оценок пользователей')\n",
    "sns.scatterplot(data=xone_df, x='user_score', y='sales', ax=ax2)"
   ]
  },
  {
   "cell_type": "markdown",
   "metadata": {},
   "source": [
    "На первом графике от оценки 50 начинается рост прибыли. Есть уникальные значения с высокими оценками и высокой прибылью. Основная часть точек имеет оценку от 50 и прибыль до 1 млн.  \n",
    "На втором графике уникальные значения с высокой прибылью встречаются с оценкой от 30. Основная часть также имеет оценку от 50 и прибыль до 1 млн.   "
   ]
  },
  {
   "cell_type": "markdown",
   "metadata": {},
   "source": [
    "Посчитаем корреляцию по всем данным."
   ]
  },
  {
   "cell_type": "code",
   "execution_count": 36,
   "metadata": {},
   "outputs": [
    {
     "data": {
      "text/html": [
       "<div>\n",
       "<style scoped>\n",
       "    .dataframe tbody tr th:only-of-type {\n",
       "        vertical-align: middle;\n",
       "    }\n",
       "\n",
       "    .dataframe tbody tr th {\n",
       "        vertical-align: top;\n",
       "    }\n",
       "\n",
       "    .dataframe thead th {\n",
       "        text-align: right;\n",
       "    }\n",
       "</style>\n",
       "<table border=\"1\" class=\"dataframe\">\n",
       "  <thead>\n",
       "    <tr style=\"text-align: right;\">\n",
       "      <th></th>\n",
       "      <th>sales</th>\n",
       "      <th>critic_score</th>\n",
       "      <th>user_score</th>\n",
       "    </tr>\n",
       "  </thead>\n",
       "  <tbody>\n",
       "    <tr>\n",
       "      <td>sales</td>\n",
       "      <td>1.000000</td>\n",
       "      <td>0.291722</td>\n",
       "      <td>0.013394</td>\n",
       "    </tr>\n",
       "    <tr>\n",
       "      <td>critic_score</td>\n",
       "      <td>0.291722</td>\n",
       "      <td>1.000000</td>\n",
       "      <td>0.457161</td>\n",
       "    </tr>\n",
       "    <tr>\n",
       "      <td>user_score</td>\n",
       "      <td>0.013394</td>\n",
       "      <td>0.457161</td>\n",
       "      <td>1.000000</td>\n",
       "    </tr>\n",
       "  </tbody>\n",
       "</table>\n",
       "</div>"
      ],
      "text/plain": [
       "                 sales  critic_score  user_score\n",
       "sales         1.000000      0.291722    0.013394\n",
       "critic_score  0.291722      1.000000    0.457161\n",
       "user_score    0.013394      0.457161    1.000000"
      ]
     },
     "execution_count": 36,
     "metadata": {},
     "output_type": "execute_result"
    }
   ],
   "source": [
    "df_last_years[['sales','critic_score','user_score']].corr()"
   ]
  },
  {
   "cell_type": "markdown",
   "metadata": {},
   "source": [
    "В целом, графики по 2 платформам отражают одну картину, что согласуется с посчитанной корреляцией:  \n",
    "зависимость продаж от оценок критиков линейная, слабая - точки углом занимают правую нижнюю часть графика;  \n",
    "зависимость продаж от оценок пользователей отсутствует - точки занимают график неупорядоченно. "
   ]
  },
  {
   "cell_type": "markdown",
   "metadata": {},
   "source": [
    "Проанализируем продажи игр по жанрам. "
   ]
  },
  {
   "cell_type": "code",
   "execution_count": 37,
   "metadata": {
    "scrolled": false
   },
   "outputs": [
    {
     "data": {
      "text/plain": [
       "genre\n",
       "Action          446.41\n",
       "Shooter         304.75\n",
       "Role-Playing    192.80\n",
       "Sports          181.07\n",
       "Misc             85.28\n",
       "Platform         61.00\n",
       "Racing           53.50\n",
       "Fighting         44.49\n",
       "Simulation       35.12\n",
       "Adventure        29.43\n",
       "Strategy         13.34\n",
       "Puzzle            4.89\n",
       "Name: sales, dtype: float64"
      ]
     },
     "execution_count": 37,
     "metadata": {},
     "output_type": "execute_result"
    }
   ],
   "source": [
    "df_last_years.groupby('genre')['sales'].sum().sort_values(ascending=False)"
   ]
  },
  {
   "cell_type": "code",
   "execution_count": 38,
   "metadata": {},
   "outputs": [
    {
     "data": {
      "text/plain": [
       "<matplotlib.legend.Legend at 0x7f35a3b681d0>"
      ]
     },
     "execution_count": 38,
     "metadata": {},
     "output_type": "execute_result"
    },
    {
     "data": {
      "image/png": "[encoded data removed]",
      "text/plain": [
       "<Figure size 720x432 with 1 Axes>"
      ]
     },
     "metadata": {},
     "output_type": "display_data"
    }
   ],
   "source": [
    "actual_bar = df_last_years.pivot_table(index=['year_of_release'], columns='genre', values='sales', aggfunc='sum')\n",
    "actual_bar.index = actual_bar.index.astype(int)\n",
    "\n",
    "actual_bar.plot(kind='bar', stacked=True, colormap=ListedColormap(sns.color_palette('Paired', 12)), figsize=(10, 6))\n",
    "plt.title('Продажи по годам')\n",
    "plt.legend(loc='best', bbox_to_anchor=(1.28, 1))"
   ]
  },
  {
   "cell_type": "markdown",
   "metadata": {},
   "source": [
    "`Action` является одним из самых выгодных жанров и приносит прибыли больше, чем остальные. Одним из основных конкурентов этому жанру был `Shooter`. В последний год он стал самым прибыльным жанром.  Выделяются также `Sports`и `Role-Playing`: они тоже приносят весомую прибыль.  \n",
    "По датасету это самые прибыльные жанры. В последний год они сильно потеряли прибыль, но сумма все еще больше, чем у остальных."
   ]
  },
  {
   "cell_type": "markdown",
   "metadata": {},
   "source": [
    "### Вывод"
   ]
  },
  {
   "cell_type": "markdown",
   "metadata": {},
   "source": [
    "С 2008 года идет тренд на снижение по количеству и сумме покупок.  \n",
    "\n",
    "Платформы набирают популярность 4-6 лет, а потом теряют позиции, так как пользователи выбирают новые модели.  \n",
    "Топ 5 по прибыли: `PS4`, `PS3`, `X360`, `3DS`, `XOne`.\n",
    "Диапазон прибыли и медианное значение больше всего у платформ: `X360`, `PS4` и `xOne`. `3DS`, `PS3` отстают по показателям.  \n",
    "Из топ 5 выделяются `PS4`, `XOne` и `3DS`, так как они принесли больше 10 млн за последний год. У всех платформ тренд на снижение суммы покупок: у `PS4` и `XOne` 2016 год - первый год падения, а у `3DS` - четвертый. \n",
    "\n",
    "Самые прибыльные жанры - `Action`, `Shooter`, `Role-Playing` и `Sports`.  \n",
    "\n",
    "Зависимость продаж от оценок критиков линейная, слабая, а зависимость продаж от оценок пользователей отсутствует. "
   ]
  },
  {
   "cell_type": "markdown",
   "metadata": {},
   "source": [
    "### 4. Составим портрет пользователя каждого региона"
   ]
  },
  {
   "cell_type": "markdown",
   "metadata": {},
   "source": [
    "#### 4.1 Определение самых популярных платформ"
   ]
  },
  {
   "cell_type": "code",
   "execution_count": 39,
   "metadata": {},
   "outputs": [],
   "source": [
    "# создадим функцию по созданию таблицы с самыми популярными платформами по данным за актуальный период 2012-2016 гг.\n",
    "def table_sales(col_region, col_group):\n",
    "    return (df_last_years.groupby(col_group)[col_region]\n",
    "                .sum()\n",
    "                .reset_index()\n",
    "                .sort_values(by=col_region, ascending=False)\n",
    "                .head(5))    "
   ]
  },
  {
   "cell_type": "markdown",
   "metadata": {},
   "source": [
    "Создадим таблицы для пользователя каждого региона."
   ]
  },
  {
   "cell_type": "code",
   "execution_count": 40,
   "metadata": {},
   "outputs": [
    {
     "data": {
      "text/html": [
       "<div>\n",
       "<style scoped>\n",
       "    .dataframe tbody tr th:only-of-type {\n",
       "        vertical-align: middle;\n",
       "    }\n",
       "\n",
       "    .dataframe tbody tr th {\n",
       "        vertical-align: top;\n",
       "    }\n",
       "\n",
       "    .dataframe thead th {\n",
       "        text-align: right;\n",
       "    }\n",
       "</style>\n",
       "<table border=\"1\" class=\"dataframe\">\n",
       "  <thead>\n",
       "    <tr style=\"text-align: right;\">\n",
       "      <th></th>\n",
       "      <th>platform</th>\n",
       "      <th>na_sales</th>\n",
       "    </tr>\n",
       "  </thead>\n",
       "  <tbody>\n",
       "    <tr>\n",
       "      <td>9</td>\n",
       "      <td>X360</td>\n",
       "      <td>140.57</td>\n",
       "    </tr>\n",
       "    <tr>\n",
       "      <td>4</td>\n",
       "      <td>PS4</td>\n",
       "      <td>108.74</td>\n",
       "    </tr>\n",
       "    <tr>\n",
       "      <td>3</td>\n",
       "      <td>PS3</td>\n",
       "      <td>103.74</td>\n",
       "    </tr>\n",
       "    <tr>\n",
       "      <td>10</td>\n",
       "      <td>XOne</td>\n",
       "      <td>93.12</td>\n",
       "    </tr>\n",
       "    <tr>\n",
       "      <td>0</td>\n",
       "      <td>3DS</td>\n",
       "      <td>55.49</td>\n",
       "    </tr>\n",
       "  </tbody>\n",
       "</table>\n",
       "</div>"
      ],
      "text/plain": [
       "   platform  na_sales\n",
       "9      X360    140.57\n",
       "4       PS4    108.74\n",
       "3       PS3    103.74\n",
       "10     XOne     93.12\n",
       "0       3DS     55.49"
      ]
     },
     "execution_count": 40,
     "metadata": {},
     "output_type": "execute_result"
    }
   ],
   "source": [
    "na_top_platform = table_sales('na_sales', 'platform')\n",
    "na_top_platform"
   ]
  },
  {
   "cell_type": "code",
   "execution_count": 41,
   "metadata": {},
   "outputs": [
    {
     "data": {
      "text/html": [
       "<div>\n",
       "<style scoped>\n",
       "    .dataframe tbody tr th:only-of-type {\n",
       "        vertical-align: middle;\n",
       "    }\n",
       "\n",
       "    .dataframe tbody tr th {\n",
       "        vertical-align: top;\n",
       "    }\n",
       "\n",
       "    .dataframe thead th {\n",
       "        text-align: right;\n",
       "    }\n",
       "</style>\n",
       "<table border=\"1\" class=\"dataframe\">\n",
       "  <thead>\n",
       "    <tr style=\"text-align: right;\">\n",
       "      <th></th>\n",
       "      <th>platform</th>\n",
       "      <th>eu_sales</th>\n",
       "    </tr>\n",
       "  </thead>\n",
       "  <tbody>\n",
       "    <tr>\n",
       "      <td>4</td>\n",
       "      <td>PS4</td>\n",
       "      <td>141.09</td>\n",
       "    </tr>\n",
       "    <tr>\n",
       "      <td>3</td>\n",
       "      <td>PS3</td>\n",
       "      <td>107.27</td>\n",
       "    </tr>\n",
       "    <tr>\n",
       "      <td>9</td>\n",
       "      <td>X360</td>\n",
       "      <td>74.89</td>\n",
       "    </tr>\n",
       "    <tr>\n",
       "      <td>10</td>\n",
       "      <td>XOne</td>\n",
       "      <td>51.59</td>\n",
       "    </tr>\n",
       "    <tr>\n",
       "      <td>0</td>\n",
       "      <td>3DS</td>\n",
       "      <td>42.83</td>\n",
       "    </tr>\n",
       "  </tbody>\n",
       "</table>\n",
       "</div>"
      ],
      "text/plain": [
       "   platform  eu_sales\n",
       "4       PS4    141.09\n",
       "3       PS3    107.27\n",
       "9      X360     74.89\n",
       "10     XOne     51.59\n",
       "0       3DS     42.83"
      ]
     },
     "execution_count": 41,
     "metadata": {},
     "output_type": "execute_result"
    }
   ],
   "source": [
    "eu_top_platform = table_sales('eu_sales', 'platform')\n",
    "eu_top_platform"
   ]
  },
  {
   "cell_type": "code",
   "execution_count": 42,
   "metadata": {
    "scrolled": false
   },
   "outputs": [
    {
     "data": {
      "text/html": [
       "<div>\n",
       "<style scoped>\n",
       "    .dataframe tbody tr th:only-of-type {\n",
       "        vertical-align: middle;\n",
       "    }\n",
       "\n",
       "    .dataframe tbody tr th {\n",
       "        vertical-align: top;\n",
       "    }\n",
       "\n",
       "    .dataframe thead th {\n",
       "        text-align: right;\n",
       "    }\n",
       "</style>\n",
       "<table border=\"1\" class=\"dataframe\">\n",
       "  <thead>\n",
       "    <tr style=\"text-align: right;\">\n",
       "      <th></th>\n",
       "      <th>platform</th>\n",
       "      <th>jp_sales</th>\n",
       "    </tr>\n",
       "  </thead>\n",
       "  <tbody>\n",
       "    <tr>\n",
       "      <td>0</td>\n",
       "      <td>3DS</td>\n",
       "      <td>87.79</td>\n",
       "    </tr>\n",
       "    <tr>\n",
       "      <td>3</td>\n",
       "      <td>PS3</td>\n",
       "      <td>35.29</td>\n",
       "    </tr>\n",
       "    <tr>\n",
       "      <td>6</td>\n",
       "      <td>PSV</td>\n",
       "      <td>21.04</td>\n",
       "    </tr>\n",
       "    <tr>\n",
       "      <td>4</td>\n",
       "      <td>PS4</td>\n",
       "      <td>15.96</td>\n",
       "    </tr>\n",
       "    <tr>\n",
       "      <td>8</td>\n",
       "      <td>WiiU</td>\n",
       "      <td>13.01</td>\n",
       "    </tr>\n",
       "  </tbody>\n",
       "</table>\n",
       "</div>"
      ],
      "text/plain": [
       "  platform  jp_sales\n",
       "0      3DS     87.79\n",
       "3      PS3     35.29\n",
       "6      PSV     21.04\n",
       "4      PS4     15.96\n",
       "8     WiiU     13.01"
      ]
     },
     "execution_count": 42,
     "metadata": {},
     "output_type": "execute_result"
    }
   ],
   "source": [
    "jp_top_platform = table_sales('jp_sales', 'platform')\n",
    "jp_top_platform"
   ]
  },
  {
   "cell_type": "markdown",
   "metadata": {},
   "source": [
    "Построим круговые диаграммы. "
   ]
  },
  {
   "cell_type": "code",
   "execution_count": 43,
   "metadata": {},
   "outputs": [],
   "source": [
    "def create_pies(list_table, col):\n",
    "    fig = plt.figure(figsize=(15, 5))\n",
    "    \n",
    "    legends = df_last_years[col].unique().tolist()\n",
    "    palette = sns.color_palette('Paired', len(legends))\n",
    "    colors = {i:j for i, j in zip(legends, palette)}\n",
    "    handles = {}\n",
    "\n",
    "    for n, el in enumerate(list_table):\n",
    "        ax = fig.add_subplot(1,3,n + 1)\n",
    "        \n",
    "        el.plot(\n",
    "            kind='pie', \n",
    "            autopct='%1.2f%%', \n",
    "            labels=el[col], \n",
    "            y=el.columns[1], \n",
    "            ax=ax, \n",
    "            colors=[colors[i] for i in el[col].values],\n",
    "            legend=False\n",
    "        )\n",
    "        \n",
    "        ax.set_title(el.columns[1], fontsize=16)\n",
    "        ax.set_ylabel('')\n",
    "        \n",
    "        ax_handles, ax_labels = ax.get_legend_handles_labels()\n",
    "        for handle, label in zip(ax_handles, ax_labels):\n",
    "            handles[label] = handle\n",
    "    \n",
    "    fig.legend(handles.values(), handles.keys(), ncol=len(handles.keys()), loc='lower center')"
   ]
  },
  {
   "cell_type": "code",
   "execution_count": 44,
   "metadata": {},
   "outputs": [],
   "source": [
    "list_table = [na_top_platform, eu_top_platform, jp_top_platform]"
   ]
  },
  {
   "cell_type": "code",
   "execution_count": 45,
   "metadata": {
    "scrolled": false
   },
   "outputs": [
    {
     "data": {
      "image/png": "[encoded data removed]",
      "text/plain": [
       "<Figure size 1080x360 with 3 Axes>"
      ]
     },
     "metadata": {},
     "output_type": "display_data"
    }
   ],
   "source": [
    "create_pies(list_table, 'platform')"
   ]
  },
  {
   "cell_type": "markdown",
   "metadata": {},
   "source": [
    "Топ 5 в 2016 году совпадает в регионах __NA__ и __EU__, отличаясь в позициях платформ. Все три выделенные в 3 пункте платформы  популярны. `PS4` приносит 22% и 34%, а `XOne` - 19% и 12%. `3DS` приносит около 10%. Общая доля выделенных платформ в этих регионах - больше 50%.\n",
    "\n",
    "В регионе __JP__ несколько иная картина: в топ 5 попали только 3 платформы, выгодные в __NA__ и __EU__, поэтому отличаются не только позиции, но и платформы. Здесь иной рынок, где 50% прибыли приносит платформа `3DS`, `PS4` приносит почти 10% прибыли. `XOne` здесь не пользуется популярностью."
   ]
  },
  {
   "cell_type": "markdown",
   "metadata": {},
   "source": [
    "#### 4.2 Определение самых популярных жанров"
   ]
  },
  {
   "cell_type": "markdown",
   "metadata": {},
   "source": [
    "Создадим таблицы для пользователя каждого региона."
   ]
  },
  {
   "cell_type": "code",
   "execution_count": 46,
   "metadata": {},
   "outputs": [
    {
     "data": {
      "text/html": [
       "<div>\n",
       "<style scoped>\n",
       "    .dataframe tbody tr th:only-of-type {\n",
       "        vertical-align: middle;\n",
       "    }\n",
       "\n",
       "    .dataframe tbody tr th {\n",
       "        vertical-align: top;\n",
       "    }\n",
       "\n",
       "    .dataframe thead th {\n",
       "        text-align: right;\n",
       "    }\n",
       "</style>\n",
       "<table border=\"1\" class=\"dataframe\">\n",
       "  <thead>\n",
       "    <tr style=\"text-align: right;\">\n",
       "      <th></th>\n",
       "      <th>genre</th>\n",
       "      <th>na_sales</th>\n",
       "    </tr>\n",
       "  </thead>\n",
       "  <tbody>\n",
       "    <tr>\n",
       "      <td>0</td>\n",
       "      <td>Action</td>\n",
       "      <td>180.15</td>\n",
       "    </tr>\n",
       "    <tr>\n",
       "      <td>8</td>\n",
       "      <td>Shooter</td>\n",
       "      <td>144.79</td>\n",
       "    </tr>\n",
       "    <tr>\n",
       "      <td>10</td>\n",
       "      <td>Sports</td>\n",
       "      <td>81.53</td>\n",
       "    </tr>\n",
       "    <tr>\n",
       "      <td>7</td>\n",
       "      <td>Role-Playing</td>\n",
       "      <td>64.00</td>\n",
       "    </tr>\n",
       "    <tr>\n",
       "      <td>3</td>\n",
       "      <td>Misc</td>\n",
       "      <td>38.19</td>\n",
       "    </tr>\n",
       "  </tbody>\n",
       "</table>\n",
       "</div>"
      ],
      "text/plain": [
       "           genre  na_sales\n",
       "0         Action    180.15\n",
       "8        Shooter    144.79\n",
       "10        Sports     81.53\n",
       "7   Role-Playing     64.00\n",
       "3           Misc     38.19"
      ]
     },
     "execution_count": 46,
     "metadata": {},
     "output_type": "execute_result"
    }
   ],
   "source": [
    "na_top_genre = table_sales('na_sales', 'genre')\n",
    "na_top_genre"
   ]
  },
  {
   "cell_type": "code",
   "execution_count": 47,
   "metadata": {},
   "outputs": [
    {
     "data": {
      "text/html": [
       "<div>\n",
       "<style scoped>\n",
       "    .dataframe tbody tr th:only-of-type {\n",
       "        vertical-align: middle;\n",
       "    }\n",
       "\n",
       "    .dataframe tbody tr th {\n",
       "        vertical-align: top;\n",
       "    }\n",
       "\n",
       "    .dataframe thead th {\n",
       "        text-align: right;\n",
       "    }\n",
       "</style>\n",
       "<table border=\"1\" class=\"dataframe\">\n",
       "  <thead>\n",
       "    <tr style=\"text-align: right;\">\n",
       "      <th></th>\n",
       "      <th>genre</th>\n",
       "      <th>eu_sales</th>\n",
       "    </tr>\n",
       "  </thead>\n",
       "  <tbody>\n",
       "    <tr>\n",
       "      <td>0</td>\n",
       "      <td>Action</td>\n",
       "      <td>161.70</td>\n",
       "    </tr>\n",
       "    <tr>\n",
       "      <td>8</td>\n",
       "      <td>Shooter</td>\n",
       "      <td>113.47</td>\n",
       "    </tr>\n",
       "    <tr>\n",
       "      <td>10</td>\n",
       "      <td>Sports</td>\n",
       "      <td>69.09</td>\n",
       "    </tr>\n",
       "    <tr>\n",
       "      <td>7</td>\n",
       "      <td>Role-Playing</td>\n",
       "      <td>48.53</td>\n",
       "    </tr>\n",
       "    <tr>\n",
       "      <td>6</td>\n",
       "      <td>Racing</td>\n",
       "      <td>27.29</td>\n",
       "    </tr>\n",
       "  </tbody>\n",
       "</table>\n",
       "</div>"
      ],
      "text/plain": [
       "           genre  eu_sales\n",
       "0         Action    161.70\n",
       "8        Shooter    113.47\n",
       "10        Sports     69.09\n",
       "7   Role-Playing     48.53\n",
       "6         Racing     27.29"
      ]
     },
     "execution_count": 47,
     "metadata": {},
     "output_type": "execute_result"
    }
   ],
   "source": [
    "eu_top_genre = table_sales('eu_sales', 'genre')\n",
    "eu_top_genre"
   ]
  },
  {
   "cell_type": "code",
   "execution_count": 48,
   "metadata": {
    "scrolled": true
   },
   "outputs": [
    {
     "data": {
      "text/html": [
       "<div>\n",
       "<style scoped>\n",
       "    .dataframe tbody tr th:only-of-type {\n",
       "        vertical-align: middle;\n",
       "    }\n",
       "\n",
       "    .dataframe tbody tr th {\n",
       "        vertical-align: top;\n",
       "    }\n",
       "\n",
       "    .dataframe thead th {\n",
       "        text-align: right;\n",
       "    }\n",
       "</style>\n",
       "<table border=\"1\" class=\"dataframe\">\n",
       "  <thead>\n",
       "    <tr style=\"text-align: right;\">\n",
       "      <th></th>\n",
       "      <th>genre</th>\n",
       "      <th>jp_sales</th>\n",
       "    </tr>\n",
       "  </thead>\n",
       "  <tbody>\n",
       "    <tr>\n",
       "      <td>7</td>\n",
       "      <td>Role-Playing</td>\n",
       "      <td>65.44</td>\n",
       "    </tr>\n",
       "    <tr>\n",
       "      <td>0</td>\n",
       "      <td>Action</td>\n",
       "      <td>52.80</td>\n",
       "    </tr>\n",
       "    <tr>\n",
       "      <td>3</td>\n",
       "      <td>Misc</td>\n",
       "      <td>13.10</td>\n",
       "    </tr>\n",
       "    <tr>\n",
       "      <td>9</td>\n",
       "      <td>Simulation</td>\n",
       "      <td>10.41</td>\n",
       "    </tr>\n",
       "    <tr>\n",
       "      <td>2</td>\n",
       "      <td>Fighting</td>\n",
       "      <td>9.44</td>\n",
       "    </tr>\n",
       "  </tbody>\n",
       "</table>\n",
       "</div>"
      ],
      "text/plain": [
       "          genre  jp_sales\n",
       "7  Role-Playing     65.44\n",
       "0        Action     52.80\n",
       "3          Misc     13.10\n",
       "9    Simulation     10.41\n",
       "2      Fighting      9.44"
      ]
     },
     "execution_count": 48,
     "metadata": {},
     "output_type": "execute_result"
    }
   ],
   "source": [
    "jp_top_genre = table_sales('jp_sales', 'genre')\n",
    "jp_top_genre"
   ]
  },
  {
   "cell_type": "markdown",
   "metadata": {},
   "source": [
    "Построим круговые диаграммы. "
   ]
  },
  {
   "cell_type": "code",
   "execution_count": 49,
   "metadata": {},
   "outputs": [],
   "source": [
    "list_table_genre = [na_top_genre, eu_top_genre, jp_top_genre]"
   ]
  },
  {
   "cell_type": "code",
   "execution_count": 50,
   "metadata": {
    "scrolled": false
   },
   "outputs": [
    {
     "data": {
      "image/png": "[encoded data removed]",
      "text/plain": [
       "<Figure size 1080x360 with 3 Axes>"
      ]
     },
     "metadata": {},
     "output_type": "display_data"
    }
   ],
   "source": [
    "create_pies(list_table_genre, 'genre')"
   ]
  },
  {
   "cell_type": "markdown",
   "metadata": {},
   "source": [
    "Ранее выделенные топовые жанры находятся на первых позициях в __NA__ и __EU__ с разницей в процентах. Общий лидер - `Action` (больше 35%). Только на последнем месте находятся разные платформы.  \n",
    "В __JP__ вкусы другие. Лидер - `Role-Playing` (43%), далее `Action` (35%), остальная тройка приносит по 6-8%. `Sports` и `Shooter` не популярны."
   ]
  },
  {
   "cell_type": "markdown",
   "metadata": {},
   "source": [
    "#### 4.3 Определение влияния рейтинга `ESRB` на продажи"
   ]
  },
  {
   "cell_type": "markdown",
   "metadata": {},
   "source": [
    "Создадим таблицы для пользователя каждого региона.\n"
   ]
  },
  {
   "cell_type": "code",
   "execution_count": 51,
   "metadata": {},
   "outputs": [
    {
     "data": {
      "text/html": [
       "<div>\n",
       "<style scoped>\n",
       "    .dataframe tbody tr th:only-of-type {\n",
       "        vertical-align: middle;\n",
       "    }\n",
       "\n",
       "    .dataframe tbody tr th {\n",
       "        vertical-align: top;\n",
       "    }\n",
       "\n",
       "    .dataframe thead th {\n",
       "        text-align: right;\n",
       "    }\n",
       "</style>\n",
       "<table border=\"1\" class=\"dataframe\">\n",
       "  <thead>\n",
       "    <tr style=\"text-align: right;\">\n",
       "      <th></th>\n",
       "      <th>rating</th>\n",
       "      <th>na_sales</th>\n",
       "    </tr>\n",
       "  </thead>\n",
       "  <tbody>\n",
       "    <tr>\n",
       "      <td>2</td>\n",
       "      <td>M</td>\n",
       "      <td>231.67</td>\n",
       "    </tr>\n",
       "    <tr>\n",
       "      <td>0</td>\n",
       "      <td>E</td>\n",
       "      <td>114.37</td>\n",
       "    </tr>\n",
       "    <tr>\n",
       "      <td>1</td>\n",
       "      <td>E10+</td>\n",
       "      <td>77.93</td>\n",
       "    </tr>\n",
       "    <tr>\n",
       "      <td>3</td>\n",
       "      <td>T</td>\n",
       "      <td>66.02</td>\n",
       "    </tr>\n",
       "  </tbody>\n",
       "</table>\n",
       "</div>"
      ],
      "text/plain": [
       "  rating  na_sales\n",
       "2      M    231.67\n",
       "0      E    114.37\n",
       "1   E10+     77.93\n",
       "3      T     66.02"
      ]
     },
     "execution_count": 51,
     "metadata": {},
     "output_type": "execute_result"
    }
   ],
   "source": [
    "na_top_rating = table_sales('na_sales', 'rating')\n",
    "na_top_rating"
   ]
  },
  {
   "cell_type": "code",
   "execution_count": 52,
   "metadata": {},
   "outputs": [
    {
     "data": {
      "text/html": [
       "<div>\n",
       "<style scoped>\n",
       "    .dataframe tbody tr th:only-of-type {\n",
       "        vertical-align: middle;\n",
       "    }\n",
       "\n",
       "    .dataframe tbody tr th {\n",
       "        vertical-align: top;\n",
       "    }\n",
       "\n",
       "    .dataframe thead th {\n",
       "        text-align: right;\n",
       "    }\n",
       "</style>\n",
       "<table border=\"1\" class=\"dataframe\">\n",
       "  <thead>\n",
       "    <tr style=\"text-align: right;\">\n",
       "      <th></th>\n",
       "      <th>rating</th>\n",
       "      <th>eu_sales</th>\n",
       "    </tr>\n",
       "  </thead>\n",
       "  <tbody>\n",
       "    <tr>\n",
       "      <td>2</td>\n",
       "      <td>M</td>\n",
       "      <td>194.44</td>\n",
       "    </tr>\n",
       "    <tr>\n",
       "      <td>0</td>\n",
       "      <td>E</td>\n",
       "      <td>113.03</td>\n",
       "    </tr>\n",
       "    <tr>\n",
       "      <td>1</td>\n",
       "      <td>E10+</td>\n",
       "      <td>57.25</td>\n",
       "    </tr>\n",
       "    <tr>\n",
       "      <td>3</td>\n",
       "      <td>T</td>\n",
       "      <td>52.96</td>\n",
       "    </tr>\n",
       "  </tbody>\n",
       "</table>\n",
       "</div>"
      ],
      "text/plain": [
       "  rating  eu_sales\n",
       "2      M    194.44\n",
       "0      E    113.03\n",
       "1   E10+     57.25\n",
       "3      T     52.96"
      ]
     },
     "execution_count": 52,
     "metadata": {},
     "output_type": "execute_result"
    }
   ],
   "source": [
    "eu_top_rating = table_sales('eu_sales', 'rating')\n",
    "eu_top_rating"
   ]
  },
  {
   "cell_type": "code",
   "execution_count": 53,
   "metadata": {},
   "outputs": [
    {
     "data": {
      "text/html": [
       "<div>\n",
       "<style scoped>\n",
       "    .dataframe tbody tr th:only-of-type {\n",
       "        vertical-align: middle;\n",
       "    }\n",
       "\n",
       "    .dataframe tbody tr th {\n",
       "        vertical-align: top;\n",
       "    }\n",
       "\n",
       "    .dataframe thead th {\n",
       "        text-align: right;\n",
       "    }\n",
       "</style>\n",
       "<table border=\"1\" class=\"dataframe\">\n",
       "  <thead>\n",
       "    <tr style=\"text-align: right;\">\n",
       "      <th></th>\n",
       "      <th>rating</th>\n",
       "      <th>jp_sales</th>\n",
       "    </tr>\n",
       "  </thead>\n",
       "  <tbody>\n",
       "    <tr>\n",
       "      <td>0</td>\n",
       "      <td>E</td>\n",
       "      <td>28.33</td>\n",
       "    </tr>\n",
       "    <tr>\n",
       "      <td>3</td>\n",
       "      <td>T</td>\n",
       "      <td>26.02</td>\n",
       "    </tr>\n",
       "    <tr>\n",
       "      <td>2</td>\n",
       "      <td>M</td>\n",
       "      <td>21.20</td>\n",
       "    </tr>\n",
       "    <tr>\n",
       "      <td>1</td>\n",
       "      <td>E10+</td>\n",
       "      <td>8.19</td>\n",
       "    </tr>\n",
       "  </tbody>\n",
       "</table>\n",
       "</div>"
      ],
      "text/plain": [
       "  rating  jp_sales\n",
       "0      E     28.33\n",
       "3      T     26.02\n",
       "2      M     21.20\n",
       "1   E10+      8.19"
      ]
     },
     "execution_count": 53,
     "metadata": {},
     "output_type": "execute_result"
    }
   ],
   "source": [
    "jp_top_rating = table_sales('jp_sales', 'rating')\n",
    "jp_top_rating"
   ]
  },
  {
   "cell_type": "markdown",
   "metadata": {},
   "source": [
    "Построим круговые диаграммы. "
   ]
  },
  {
   "cell_type": "code",
   "execution_count": 54,
   "metadata": {},
   "outputs": [],
   "source": [
    "list_table_rating = [na_top_rating, eu_top_rating, jp_top_rating]"
   ]
  },
  {
   "cell_type": "code",
   "execution_count": 55,
   "metadata": {},
   "outputs": [
    {
     "data": {
      "image/png": "[encoded data removed]",
      "text/plain": [
       "<Figure size 1080x360 with 3 Axes>"
      ]
     },
     "metadata": {},
     "output_type": "display_data"
    }
   ],
   "source": [
    "create_pies(list_table_rating, 'rating')"
   ]
  },
  {
   "cell_type": "markdown",
   "metadata": {},
   "source": [
    "В __NA__ и __EU__  топ включает в себя одинаковые рейтинги, где самые выгодные игры для взрослых (`M`). На последнем месте - игры с рейтингом `T`.  \n",
    "В __JP__ на первом месте - `E` (6+) c 34%. Далее непопуляный в других регионах рейтинг `T` (31%). И только на третьем месте рейтинг `M` с 25%."
   ]
  },
  {
   "cell_type": "markdown",
   "metadata": {},
   "source": [
    "### Вывод"
   ]
  },
  {
   "cell_type": "markdown",
   "metadata": {},
   "source": [
    "В регионах __NA__ и __EU__ похожие результаты. В __JP__ рынок отличается.  \n",
    "В регионах __NA__ и __EU__ больше 50% продаж приносят `PS4` и `XOne`, __JP__ - `3DS`.  \n",
    "В регионах __NA__ и __EU__ около 80% продаж приносят `Shooter`, `Sports` и `Action`. В __JP__ около 80% приносят `Action` и `Role-Playing`.  \n",
    "В регионах __NA__ и __EU__ около 70% продаж приносят игры с рейтингом `M` и `E`. В __JP__ 65% приходятся на рейтинг `E` и `T`."
   ]
  },
  {
   "cell_type": "markdown",
   "metadata": {},
   "source": [
    "### 5. Проверка гипотез"
   ]
  },
  {
   "cell_type": "markdown",
   "metadata": {},
   "source": [
    "#### 5.1 Средние пользовательские рейтинги платформ `XOne` и `PC` одинаковые"
   ]
  },
  {
   "cell_type": "markdown",
   "metadata": {},
   "source": [
    "Посмотрим на описание выборок `XOne` и `PC`."
   ]
  },
  {
   "cell_type": "code",
   "execution_count": 56,
   "metadata": {},
   "outputs": [
    {
     "data": {
      "text/plain": [
       "count    206.000000\n",
       "mean      66.043689\n",
       "std       13.781679\n",
       "min       16.000000\n",
       "25%       58.000000\n",
       "50%       68.000000\n",
       "75%       77.000000\n",
       "max       92.000000\n",
       "Name: user_score, dtype: float64"
      ]
     },
     "execution_count": 56,
     "metadata": {},
     "output_type": "execute_result"
    }
   ],
   "source": [
    "df_last_years[df_last_years['platform'] == 'XOne']['user_score'].describe()"
   ]
  },
  {
   "cell_type": "code",
   "execution_count": 57,
   "metadata": {
    "scrolled": true
   },
   "outputs": [
    {
     "data": {
      "text/plain": [
       "count    215.000000\n",
       "mean      64.483721\n",
       "std       16.654501\n",
       "min       14.000000\n",
       "25%       55.000000\n",
       "50%       68.000000\n",
       "75%       77.000000\n",
       "max       93.000000\n",
       "Name: user_score, dtype: float64"
      ]
     },
     "execution_count": 57,
     "metadata": {},
     "output_type": "execute_result"
    }
   ],
   "source": [
    "df_last_years[df_last_years['platform'] == 'PC']['user_score'].describe()"
   ]
  },
  {
   "cell_type": "markdown",
   "metadata": {},
   "source": [
    "В обоих случаях среднее значение ниже медианы, значит на него влияют самые низкие оценки. Разница в пределах 5 баллов. Среднее `XOne` - 66 баллов, среднее `PC` - 70 баллов. Проверим значима ли разница в 4 балла. Для проверки будем использовать гипотезу о равенстве средних. "
   ]
  },
  {
   "cell_type": "markdown",
   "metadata": {},
   "source": [
    "Нулевая гипотеза - средние пользовательские рейтинги платформ `XOne` и `PC` одинаковые.  \n",
    "Альтернативная гипотеза - средние пользовательские рейтинги платформ `XOne` и `PC` различны.  \n",
    "Уровень значимости выберем 1% - ошибка возможна в 1 из 100 случаев."
   ]
  },
  {
   "cell_type": "code",
   "execution_count": 58,
   "metadata": {},
   "outputs": [
    {
     "name": "stdout",
     "output_type": "stream",
     "text": [
      "p-значение:  0.29678747792068083\n",
      "Не можем отвергнуть нулевую гипотезу\n"
     ]
    }
   ],
   "source": [
    "alpha = 0.01\n",
    "xone_user_score = df_last_years[df_last_years['platform'] == 'XOne']['user_score'].dropna().values \n",
    "pc_user_score = df_last_years[df_last_years['platform'] == 'PC']['user_score'].dropna().values\n",
    " \n",
    "results = st.ttest_ind(xone_user_score, pc_user_score) \n",
    " \n",
    "print('p-значение: ', results.pvalue) \n",
    "if results.pvalue < alpha:\n",
    "    print('Отвергаем нулевую гипотезу')\n",
    "else:\n",
    "    print('Не можем отвергнуть нулевую гипотезу')"
   ]
  },
  {
   "cell_type": "markdown",
   "metadata": {},
   "source": [
    "Вероятность показывает, что такое или большее отличие можно получить случайно. В данном случае p-значение выше порогового значения.\n",
    "Гипотезу о равенстве средних отвергнуть не можем. Статистически значимых различий не найдено."
   ]
  },
  {
   "cell_type": "markdown",
   "metadata": {},
   "source": [
    "#### 5.2 Средние пользовательские рейтинги жанров `Action` и `Sports` разные"
   ]
  },
  {
   "cell_type": "markdown",
   "metadata": {},
   "source": [
    "Посмотрим на описание выборок по жанрам `Action` и `Sports`."
   ]
  },
  {
   "cell_type": "code",
   "execution_count": 59,
   "metadata": {},
   "outputs": [
    {
     "data": {
      "text/plain": [
       "count    610.000000\n",
       "mean      68.622951\n",
       "std       13.739380\n",
       "min       16.000000\n",
       "25%       62.250000\n",
       "50%       72.000000\n",
       "75%       78.000000\n",
       "max       91.000000\n",
       "Name: user_score, dtype: float64"
      ]
     },
     "execution_count": 59,
     "metadata": {},
     "output_type": "execute_result"
    }
   ],
   "source": [
    "df_last_years[df_last_years['genre'] == 'Action']['user_score'].describe()"
   ]
  },
  {
   "cell_type": "code",
   "execution_count": 60,
   "metadata": {},
   "outputs": [
    {
     "data": {
      "text/plain": [
       "count    221.000000\n",
       "mean      54.162896\n",
       "std       16.945117\n",
       "min        2.000000\n",
       "25%       43.000000\n",
       "50%       57.000000\n",
       "75%       67.000000\n",
       "max       88.000000\n",
       "Name: user_score, dtype: float64"
      ]
     },
     "execution_count": 60,
     "metadata": {},
     "output_type": "execute_result"
    }
   ],
   "source": [
    "df_last_years[df_last_years['genre'] == 'Sports']['user_score'].describe()"
   ]
  },
  {
   "cell_type": "markdown",
   "metadata": {},
   "source": [
    "Медиана выше среднего, на среднее влияют минимальные значения. Среднее `Action` - 68.6, среднее `Sports` - 54.2. Проверим значима ли разница в 14.4 балла. Для проверки будем использовать гипотезу о равенстве средних. "
   ]
  },
  {
   "cell_type": "markdown",
   "metadata": {},
   "source": [
    "Нулевая гипотеза - средние пользовательские рейтинги жанров `Action` и `Sports` одинаковые.  \n",
    "Альтернативная гипотеза - средние пользовательские рейтинги жанров `Action` и `Sports` различны.  \n",
    "Уровень значимости выберем 1% - ошибка возможна в 1 из 100 случаев."
   ]
  },
  {
   "cell_type": "code",
   "execution_count": 61,
   "metadata": {},
   "outputs": [
    {
     "name": "stdout",
     "output_type": "stream",
     "text": [
      "p-значение:  2.8810949983489825e-33\n",
      "Отвергаем нулевую гипотезу\n"
     ]
    }
   ],
   "source": [
    "alpha = 0.01\n",
    "action_user_score = df_last_years[df_last_years['genre'] == 'Action']['user_score'].dropna().values \n",
    "sports_user_score = df_last_years[df_last_years['genre'] == 'Sports']['user_score'].dropna().values\n",
    " \n",
    "results = st.ttest_ind(action_user_score, sports_user_score) \n",
    " \n",
    "print('p-значение: ', results.pvalue) \n",
    "if results.pvalue < alpha:\n",
    "    print('Отвергаем нулевую гипотезу')\n",
    "else:\n",
    "    print('Не можем отвергнуть нулевую гипотезу')"
   ]
  },
  {
   "cell_type": "markdown",
   "metadata": {},
   "source": [
    "В этом случае p-значение существенно ниже порогового значения. Гипотезу о равенстве средних отвергаем. Средние пользовательские рейтинги жанров `Action` и `Sports` различны."
   ]
  },
  {
   "cell_type": "markdown",
   "metadata": {},
   "source": [
    "### 6. Общий вывод"
   ]
  },
  {
   "cell_type": "markdown",
   "metadata": {},
   "source": [
    "С 2008 года идет тренд на снижение по количеству и сумме покупок.  \n",
    "\n",
    "Платформы набирают популярность 4-6 лет, а потом теряют позиции, так как пользователи выбирают новые модели.  \n",
    "Топ 5 по прибыли за 2012-2016 гг.: `PS4`, `PS3`, `X360`, `3DS`, `XOne`. Из них выделяются `PS4`, `XOne` и `3DS`, так как они принесли больше 10 млн за последний год. У всех платформ тренд на снижение суммы покупок: у `PS4` и `XOne` 2016 год - первый год падения, а у `3DS` - четвертый.  \n",
    "\n",
    "В регионах __NA__ и __EU__ больше 50% продаж приносят `PS4` и `XOne`, в __JP__ - `3DS`.  \n",
    "\n",
    "Самые прибыльные жанры за 2012-2016 гг.: `Action`, `Shooter`, `Role-Playing` и `Sports`. За последний год максимальную прибыль принес `Shooter`.\n",
    "\n",
    "В регионах __NA__ и __EU__ около 80% продаж приносят `Action`,`Shooter` и `Sports`. В __JP__ около 80% приносят `Action` и `Role-Playing`.\n",
    "\n",
    "В регионах __NA__ и __EU__ около 70% продаж приносят игры с рейтингом `M` и `E`. В __JP__ 65% приходятся на рейтинг `E` и `T`.\n",
    "\n",
    "Зависимость продаж от оценок критиков линейная, слабая, а зависимость продаж от оценок пользователей отсутствует.  \n",
    "\n",
    "Средние пользовательские рейтинги жанров `Action` и `Sports` различны. Статистически значимых различий между средними пользовательскими рейтингами платформ `XOne` и `PC` не найдено.\n"
   ]
  }
 ],
 "metadata": {
  "kernelspec": {
   "display_name": "Python 3",
   "language": "python",
   "name": "python3"
  },
  "language_info": {
   "codemirror_mode": {
    "name": "ipython",
    "version": 3
   },
   "file_extension": ".py",
   "mimetype": "text/x-python",
   "name": "python",
   "nbconvert_exporter": "python",
   "pygments_lexer": "ipython3",
   "version": "3.7.6"
  }
 },
 "nbformat": 4,
 "nbformat_minor": 2
}
