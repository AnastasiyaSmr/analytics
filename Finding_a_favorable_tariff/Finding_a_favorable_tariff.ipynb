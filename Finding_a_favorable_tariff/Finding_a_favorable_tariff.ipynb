{
 "cells": [
  {
   "cell_type": "markdown",
   "metadata": {},
   "source": [
    "### Задача"
   ]
  },
  {
   "cell_type": "markdown",
   "metadata": {},
   "source": [
    "Клиентам предлагают два тарифных плана: «Смарт» и «Ультра». Для коррекции рекламного бюджета нужно узнать, какой тариф приносит больше денег.  \n",
    "Есть небольшая выборка клиентов - данные 500 пользователей: кто они, откуда, каким тарифом пользуются, сколько звонков и сообщений каждый отправил за 2018 год. Нужно проанализировать поведение клиентов и сделать вывод — какой тариф лучше."
   ]
  },
  {
   "cell_type": "markdown",
   "metadata": {},
   "source": [
    "### Оглавление"
   ]
  },
  {
   "cell_type": "markdown",
   "metadata": {},
   "source": [
    "[1. Открытие и изучение данных](#1.-Открытие-и-изучение-данных)  \n",
    "[2. Подготовка данных](#2.-Подготовка-данных)  \n",
    "&nbsp;&nbsp;&nbsp;&nbsp;[2.1 Поиск ошибок](#2.1-Поиск-ошибок)  \n",
    "&nbsp;&nbsp;&nbsp;&nbsp;[2.2 Изменение типов данных](#2.2-Изменение-типов-данных)  \n",
    "&nbsp;&nbsp;&nbsp;&nbsp;[2.3 Проверка наличия дубликатов](#2.3-Проверка-наличия-дубликатов)  \n",
    "&nbsp;&nbsp;&nbsp;&nbsp;[2.4 Расчёты](#2.4-Расчёты)  \n",
    "[3. Анализ данных](#3.-Анализ-данных)  \n",
    "[4. Проверка гипотез](#4.-Проверка-гипотез)  \n",
    "&nbsp;&nbsp;&nbsp;&nbsp;[4.1 Cредняя выручка пользователей тарифов smart и ultra различается](#4.1-Cредняя-выручка-пользователей-тарифов-smart-и-ultra-различается)  \n",
    "&nbsp;&nbsp;&nbsp;&nbsp;[4.2 Средняя выручка пользователей из Москвы отличается от выручки пользователей из других регионов](#4.2-Средняя-выручка-пользователей-из-Москвы-отличается-от-выручки-пользователей-из-других-регионов)  \n",
    "[5. Общий вывод](#5.-Общий-вывод)"
   ]
  },
  {
   "cell_type": "markdown",
   "metadata": {},
   "source": [
    "### Импорт библиотек"
   ]
  },
  {
   "cell_type": "code",
   "execution_count": 1,
   "metadata": {},
   "outputs": [],
   "source": [
    "import pandas as pd\n",
    "import numpy as np\n",
    "from math import factorial\n",
    "from scipy import stats as st\n",
    "import matplotlib.pyplot as plt\n",
    "import seaborn as sns"
   ]
  },
  {
   "cell_type": "markdown",
   "metadata": {},
   "source": [
    "### 1. Открытие и изучение данных "
   ]
  },
  {
   "cell_type": "code",
   "execution_count": 2,
   "metadata": {},
   "outputs": [
    {
     "name": "stdout",
     "output_type": "stream",
     "text": [
      "<class 'pandas.core.frame.DataFrame'>\n",
      "RangeIndex: 202607 entries, 0 to 202606\n",
      "Data columns (total 4 columns):\n",
      "id           202607 non-null object\n",
      "call_date    202607 non-null object\n",
      "duration     202607 non-null float64\n",
      "user_id      202607 non-null int64\n",
      "dtypes: float64(1), int64(1), object(2)\n",
      "memory usage: 6.2+ MB\n"
     ]
    }
   ],
   "source": [
    "df_calls = pd.read_csv('/datasets/calls.csv')\n",
    "df_calls.info()"
   ]
  },
  {
   "cell_type": "code",
   "execution_count": 3,
   "metadata": {},
   "outputs": [
    {
     "name": "stdout",
     "output_type": "stream",
     "text": [
      "<class 'pandas.core.frame.DataFrame'>\n",
      "RangeIndex: 149396 entries, 0 to 149395\n",
      "Data columns (total 5 columns):\n",
      "Unnamed: 0      149396 non-null int64\n",
      "id              149396 non-null object\n",
      "mb_used         149396 non-null float64\n",
      "session_date    149396 non-null object\n",
      "user_id         149396 non-null int64\n",
      "dtypes: float64(1), int64(2), object(2)\n",
      "memory usage: 5.7+ MB\n"
     ]
    }
   ],
   "source": [
    "df_internet = pd.read_csv('/datasets/internet.csv')\n",
    "df_internet.info()"
   ]
  },
  {
   "cell_type": "code",
   "execution_count": 4,
   "metadata": {},
   "outputs": [
    {
     "name": "stdout",
     "output_type": "stream",
     "text": [
      "<class 'pandas.core.frame.DataFrame'>\n",
      "RangeIndex: 123036 entries, 0 to 123035\n",
      "Data columns (total 3 columns):\n",
      "id              123036 non-null object\n",
      "message_date    123036 non-null object\n",
      "user_id         123036 non-null int64\n",
      "dtypes: int64(1), object(2)\n",
      "memory usage: 2.8+ MB\n"
     ]
    }
   ],
   "source": [
    "df_messages = pd.read_csv('/datasets/messages.csv')\n",
    "df_messages.info()"
   ]
  },
  {
   "cell_type": "code",
   "execution_count": 5,
   "metadata": {},
   "outputs": [
    {
     "data": {
      "text/html": [
       "<div>\n",
       "<style scoped>\n",
       "    .dataframe tbody tr th:only-of-type {\n",
       "        vertical-align: middle;\n",
       "    }\n",
       "\n",
       "    .dataframe tbody tr th {\n",
       "        vertical-align: top;\n",
       "    }\n",
       "\n",
       "    .dataframe thead th {\n",
       "        text-align: right;\n",
       "    }\n",
       "</style>\n",
       "<table border=\"1\" class=\"dataframe\">\n",
       "  <thead>\n",
       "    <tr style=\"text-align: right;\">\n",
       "      <th></th>\n",
       "      <th>messages_included</th>\n",
       "      <th>mb_per_month_included</th>\n",
       "      <th>minutes_included</th>\n",
       "      <th>rub_monthly_fee</th>\n",
       "      <th>rub_per_gb</th>\n",
       "      <th>rub_per_message</th>\n",
       "      <th>rub_per_minute</th>\n",
       "      <th>tariff_name</th>\n",
       "    </tr>\n",
       "  </thead>\n",
       "  <tbody>\n",
       "    <tr>\n",
       "      <td>0</td>\n",
       "      <td>50</td>\n",
       "      <td>15360</td>\n",
       "      <td>500</td>\n",
       "      <td>550</td>\n",
       "      <td>200</td>\n",
       "      <td>3</td>\n",
       "      <td>3</td>\n",
       "      <td>smart</td>\n",
       "    </tr>\n",
       "    <tr>\n",
       "      <td>1</td>\n",
       "      <td>1000</td>\n",
       "      <td>30720</td>\n",
       "      <td>3000</td>\n",
       "      <td>1950</td>\n",
       "      <td>150</td>\n",
       "      <td>1</td>\n",
       "      <td>1</td>\n",
       "      <td>ultra</td>\n",
       "    </tr>\n",
       "  </tbody>\n",
       "</table>\n",
       "</div>"
      ],
      "text/plain": [
       "   messages_included  mb_per_month_included  minutes_included  \\\n",
       "0                 50                  15360               500   \n",
       "1               1000                  30720              3000   \n",
       "\n",
       "   rub_monthly_fee  rub_per_gb  rub_per_message  rub_per_minute tariff_name  \n",
       "0              550         200                3               3       smart  \n",
       "1             1950         150                1               1       ultra  "
      ]
     },
     "execution_count": 5,
     "metadata": {},
     "output_type": "execute_result"
    }
   ],
   "source": [
    "df_tariffs = pd.read_csv('/datasets/tariffs.csv')\n",
    "df_tariffs"
   ]
  },
  {
   "cell_type": "code",
   "execution_count": 6,
   "metadata": {
    "scrolled": true
   },
   "outputs": [
    {
     "name": "stdout",
     "output_type": "stream",
     "text": [
      "<class 'pandas.core.frame.DataFrame'>\n",
      "RangeIndex: 500 entries, 0 to 499\n",
      "Data columns (total 8 columns):\n",
      "user_id       500 non-null int64\n",
      "age           500 non-null int64\n",
      "churn_date    38 non-null object\n",
      "city          500 non-null object\n",
      "first_name    500 non-null object\n",
      "last_name     500 non-null object\n",
      "reg_date      500 non-null object\n",
      "tariff        500 non-null object\n",
      "dtypes: int64(2), object(6)\n",
      "memory usage: 31.4+ KB\n"
     ]
    }
   ],
   "source": [
    "df_users = pd.read_csv('/datasets/users.csv')\n",
    "df_users.info()"
   ]
  },
  {
   "cell_type": "markdown",
   "metadata": {},
   "source": [
    "### Вывод"
   ]
  },
  {
   "cell_type": "markdown",
   "metadata": {},
   "source": [
    "Есть 5 таблиц. 3 связаны с таблицей `df_users` через `user_id`. И 1 с общей информацией про тарифы, связанная с `df_users` через `tariff_name`.  \n",
    "Пропущенные значения есть только в колонке `churn_date` таблицы `df_users`.  \n",
    "Колонки с датами имеют тип `object`.  \n",
    "Колонка `duration` таблицы `df_calls` и колонка `mb_used` таблицы `df_internet` имеют тип `float64`.  \n",
    "В таблице `df_internet` есть колонка без названия `Unnamed: 0`. "
   ]
  },
  {
   "cell_type": "markdown",
   "metadata": {},
   "source": [
    "### 2. Подготовка данных"
   ]
  },
  {
   "cell_type": "markdown",
   "metadata": {},
   "source": [
    "#### 2.1 Поиск ошибок "
   ]
  },
  {
   "cell_type": "code",
   "execution_count": 7,
   "metadata": {
    "scrolled": true
   },
   "outputs": [
    {
     "data": {
      "text/html": [
       "<div>\n",
       "<style scoped>\n",
       "    .dataframe tbody tr th:only-of-type {\n",
       "        vertical-align: middle;\n",
       "    }\n",
       "\n",
       "    .dataframe tbody tr th {\n",
       "        vertical-align: top;\n",
       "    }\n",
       "\n",
       "    .dataframe thead th {\n",
       "        text-align: right;\n",
       "    }\n",
       "</style>\n",
       "<table border=\"1\" class=\"dataframe\">\n",
       "  <thead>\n",
       "    <tr style=\"text-align: right;\">\n",
       "      <th></th>\n",
       "      <th>Unnamed: 0</th>\n",
       "      <th>id</th>\n",
       "      <th>mb_used</th>\n",
       "      <th>session_date</th>\n",
       "      <th>user_id</th>\n",
       "    </tr>\n",
       "  </thead>\n",
       "  <tbody>\n",
       "    <tr>\n",
       "      <td>86461</td>\n",
       "      <td>86461</td>\n",
       "      <td>1292_577</td>\n",
       "      <td>269.98</td>\n",
       "      <td>2018-08-09</td>\n",
       "      <td>1292</td>\n",
       "    </tr>\n",
       "    <tr>\n",
       "      <td>94123</td>\n",
       "      <td>94123</td>\n",
       "      <td>1318_137</td>\n",
       "      <td>460.90</td>\n",
       "      <td>2018-11-11</td>\n",
       "      <td>1318</td>\n",
       "    </tr>\n",
       "    <tr>\n",
       "      <td>110893</td>\n",
       "      <td>110893</td>\n",
       "      <td>1376_153</td>\n",
       "      <td>394.53</td>\n",
       "      <td>2018-08-18</td>\n",
       "      <td>1376</td>\n",
       "    </tr>\n",
       "    <tr>\n",
       "      <td>132634</td>\n",
       "      <td>132634</td>\n",
       "      <td>1441_22</td>\n",
       "      <td>683.22</td>\n",
       "      <td>2018-11-17</td>\n",
       "      <td>1441</td>\n",
       "    </tr>\n",
       "    <tr>\n",
       "      <td>128177</td>\n",
       "      <td>128177</td>\n",
       "      <td>1429_335</td>\n",
       "      <td>0.00</td>\n",
       "      <td>2018-10-03</td>\n",
       "      <td>1429</td>\n",
       "    </tr>\n",
       "    <tr>\n",
       "      <td>44540</td>\n",
       "      <td>44540</td>\n",
       "      <td>1154_98</td>\n",
       "      <td>784.72</td>\n",
       "      <td>2018-07-11</td>\n",
       "      <td>1154</td>\n",
       "    </tr>\n",
       "    <tr>\n",
       "      <td>144909</td>\n",
       "      <td>144909</td>\n",
       "      <td>1483_288</td>\n",
       "      <td>1130.30</td>\n",
       "      <td>2018-04-13</td>\n",
       "      <td>1483</td>\n",
       "    </tr>\n",
       "    <tr>\n",
       "      <td>51999</td>\n",
       "      <td>51999</td>\n",
       "      <td>1176_154</td>\n",
       "      <td>722.12</td>\n",
       "      <td>2018-05-10</td>\n",
       "      <td>1176</td>\n",
       "    </tr>\n",
       "    <tr>\n",
       "      <td>140394</td>\n",
       "      <td>140394</td>\n",
       "      <td>1472_68</td>\n",
       "      <td>594.73</td>\n",
       "      <td>2018-05-03</td>\n",
       "      <td>1472</td>\n",
       "    </tr>\n",
       "    <tr>\n",
       "      <td>111502</td>\n",
       "      <td>111502</td>\n",
       "      <td>1378_295</td>\n",
       "      <td>569.90</td>\n",
       "      <td>2018-10-10</td>\n",
       "      <td>1378</td>\n",
       "    </tr>\n",
       "  </tbody>\n",
       "</table>\n",
       "</div>"
      ],
      "text/plain": [
       "        Unnamed: 0        id  mb_used session_date  user_id\n",
       "86461        86461  1292_577   269.98   2018-08-09     1292\n",
       "94123        94123  1318_137   460.90   2018-11-11     1318\n",
       "110893      110893  1376_153   394.53   2018-08-18     1376\n",
       "132634      132634   1441_22   683.22   2018-11-17     1441\n",
       "128177      128177  1429_335     0.00   2018-10-03     1429\n",
       "44540        44540   1154_98   784.72   2018-07-11     1154\n",
       "144909      144909  1483_288  1130.30   2018-04-13     1483\n",
       "51999        51999  1176_154   722.12   2018-05-10     1176\n",
       "140394      140394   1472_68   594.73   2018-05-03     1472\n",
       "111502      111502  1378_295   569.90   2018-10-10     1378"
      ]
     },
     "execution_count": 7,
     "metadata": {},
     "output_type": "execute_result"
    }
   ],
   "source": [
    "df_internet.sample(10)"
   ]
  },
  {
   "cell_type": "markdown",
   "metadata": {},
   "source": [
    "Колонка `Unnamed: 0` дублирует индексы, две одинаковые колонки не нужны, удаляем."
   ]
  },
  {
   "cell_type": "code",
   "execution_count": 8,
   "metadata": {
    "scrolled": true
   },
   "outputs": [
    {
     "data": {
      "text/plain": [
       "Index(['id', 'mb_used', 'session_date', 'user_id'], dtype='object')"
      ]
     },
     "execution_count": 8,
     "metadata": {},
     "output_type": "execute_result"
    }
   ],
   "source": [
    "df_internet.drop('Unnamed: 0', axis=1, inplace=True)\n",
    "df_internet.columns"
   ]
  },
  {
   "cell_type": "markdown",
   "metadata": {},
   "source": [
    "Проверим минимальные и максимальные значения в колонках с количественными переменными."
   ]
  },
  {
   "cell_type": "code",
   "execution_count": 9,
   "metadata": {},
   "outputs": [],
   "source": [
    "def col_inf(data): \n",
    "    for el in data.select_dtypes(['int64', 'float64']).columns:\n",
    "        print(el, data[el].min(), data[el].max(), sep='\\n')"
   ]
  },
  {
   "cell_type": "code",
   "execution_count": 10,
   "metadata": {},
   "outputs": [
    {
     "name": "stdout",
     "output_type": "stream",
     "text": [
      "user_id\n",
      "1000\n",
      "1499\n",
      "age\n",
      "18\n",
      "75\n"
     ]
    }
   ],
   "source": [
    "col_inf(df_users)"
   ]
  },
  {
   "cell_type": "code",
   "execution_count": 11,
   "metadata": {},
   "outputs": [
    {
     "name": "stdout",
     "output_type": "stream",
     "text": [
      "duration\n",
      "0.0\n",
      "38.0\n",
      "user_id\n",
      "1000\n",
      "1499\n"
     ]
    }
   ],
   "source": [
    "col_inf(df_calls)"
   ]
  },
  {
   "cell_type": "code",
   "execution_count": 12,
   "metadata": {},
   "outputs": [
    {
     "name": "stdout",
     "output_type": "stream",
     "text": [
      "mb_used\n",
      "0.0\n",
      "1724.83\n",
      "user_id\n",
      "1000\n",
      "1499\n"
     ]
    }
   ],
   "source": [
    "col_inf(df_internet)"
   ]
  },
  {
   "cell_type": "code",
   "execution_count": 13,
   "metadata": {
    "scrolled": true
   },
   "outputs": [
    {
     "name": "stdout",
     "output_type": "stream",
     "text": [
      "user_id\n",
      "1000\n",
      "1499\n"
     ]
    }
   ],
   "source": [
    "col_inf(df_messages)"
   ]
  },
  {
   "cell_type": "markdown",
   "metadata": {},
   "source": [
    "Диапазон `user_id` совпадает.  \n",
    "Возраст, длительность звонков и объем интернет-трафика корректны.  \n",
    "В колонках `mb_used` и `duration` есть значения 0. Найдем их количество."
   ]
  },
  {
   "cell_type": "code",
   "execution_count": 14,
   "metadata": {
    "scrolled": true
   },
   "outputs": [
    {
     "data": {
      "text/html": [
       "<div>\n",
       "<style scoped>\n",
       "    .dataframe tbody tr th:only-of-type {\n",
       "        vertical-align: middle;\n",
       "    }\n",
       "\n",
       "    .dataframe tbody tr th {\n",
       "        vertical-align: top;\n",
       "    }\n",
       "\n",
       "    .dataframe thead th {\n",
       "        text-align: right;\n",
       "    }\n",
       "</style>\n",
       "<table border=\"1\" class=\"dataframe\">\n",
       "  <thead>\n",
       "    <tr style=\"text-align: right;\">\n",
       "      <th></th>\n",
       "      <th>total</th>\n",
       "      <th>null_values</th>\n",
       "      <th>percent_of_null_values</th>\n",
       "    </tr>\n",
       "  </thead>\n",
       "  <tbody>\n",
       "    <tr>\n",
       "      <td>calls</td>\n",
       "      <td>202607</td>\n",
       "      <td>39613</td>\n",
       "      <td>19.55%</td>\n",
       "    </tr>\n",
       "    <tr>\n",
       "      <td>internet</td>\n",
       "      <td>149396</td>\n",
       "      <td>19598</td>\n",
       "      <td>13.12%</td>\n",
       "    </tr>\n",
       "  </tbody>\n",
       "</table>\n",
       "</div>"
      ],
      "text/plain": [
       "           total  null_values percent_of_null_values\n",
       "calls     202607        39613                 19.55%\n",
       "internet  149396        19598                 13.12%"
      ]
     },
     "execution_count": 14,
     "metadata": {},
     "output_type": "execute_result"
    }
   ],
   "source": [
    "null_values = pd.DataFrame({\n",
    "    'total':[len(df_calls),len(df_internet)], \n",
    "    'null_values':[len(df_calls.query('duration == 0')), len(df_internet.query('mb_used == 0'))]\n",
    "}, index=['calls','internet'])\n",
    "null_values['percent_of_null_values'] = null_values['null_values'] / null_values['total']\n",
    "null_values['percent_of_null_values'] = null_values['percent_of_null_values'].mul(100).round(2).astype(str).add('%')\n",
    "null_values"
   ]
  },
  {
   "cell_type": "markdown",
   "metadata": {},
   "source": [
    "Согласно постановлению Правительства РФ от 09.12.2014 N 1342 (ред. от 27.05.2019) \"О порядке оказания услуг телефонной связи\" (вместе с \"Правилами оказания услуг телефонной связи\")  \n",
    "\"Продолжительность телефонного соединения, используемая для определения размера платы за соединение, отсчитывается с 1-й секунды после ответа вызываемого оборудования до момента отбоя вызывающего или вызываемого оборудования или оборудования, заменяющего пользователя в его отсутствие. Телефонное соединение продолжительностью менее 3 секунд не учитывается в объеме оказанных услуг телефонной связи.\"  \n",
    "Поэтому учитывать нулевые значения мы не можем.  \n",
    "В задании сказано, что с 1 секунды засчитывается целая минута. Будем считать, что условие такое в силу того, что проект учебный. "
   ]
  },
  {
   "cell_type": "markdown",
   "metadata": {},
   "source": [
    "#### 2.2 Изменение типов данных"
   ]
  },
  {
   "cell_type": "markdown",
   "metadata": {},
   "source": [
    "Округлим значения и изменим тип данных с типа `float64` на `int64` в колонке `duration` таблицы `df_calls` и в колонке `mb_used` таблицы `df_internet`. Если длительность разговора составила, например, 1,01 мин, то засчитывается 2 мин, округляем до большего."
   ]
  },
  {
   "cell_type": "code",
   "execution_count": 15,
   "metadata": {},
   "outputs": [
    {
     "name": "stdout",
     "output_type": "stream",
     "text": [
      "0     0.00\n",
      "1     0.00\n",
      "2     2.85\n",
      "3    13.80\n",
      "4     5.18\n",
      "Name: duration, dtype: float64\n"
     ]
    },
    {
     "data": {
      "text/plain": [
       "0     0\n",
       "1     0\n",
       "2     3\n",
       "3    14\n",
       "4     6\n",
       "Name: duration, dtype: int64"
      ]
     },
     "execution_count": 15,
     "metadata": {},
     "output_type": "execute_result"
    }
   ],
   "source": [
    "print(df_calls['duration'].head(5))\n",
    "df_calls['duration'] = df_calls['duration'].apply(np.ceil).astype(int)\n",
    "df_calls['duration'].head(5)"
   ]
  },
  {
   "cell_type": "code",
   "execution_count": 16,
   "metadata": {
    "scrolled": true
   },
   "outputs": [
    {
     "name": "stdout",
     "output_type": "stream",
     "text": [
      "0     112.95\n",
      "1    1052.81\n",
      "2    1197.26\n",
      "3     550.27\n",
      "4     302.56\n",
      "Name: mb_used, dtype: float64\n"
     ]
    },
    {
     "data": {
      "text/plain": [
       "0     113\n",
       "1    1053\n",
       "2    1198\n",
       "3     551\n",
       "4     303\n",
       "Name: mb_used, dtype: int64"
      ]
     },
     "execution_count": 16,
     "metadata": {},
     "output_type": "execute_result"
    }
   ],
   "source": [
    "print(df_internet['mb_used'].head(5))\n",
    "df_internet['mb_used'] = df_internet['mb_used'].apply(np.ceil).astype(int)\n",
    "df_internet['mb_used'].head(5)"
   ]
  },
  {
   "cell_type": "markdown",
   "metadata": {},
   "source": [
    "Все даты приведем к формату `datetime64`"
   ]
  },
  {
   "cell_type": "code",
   "execution_count": 17,
   "metadata": {},
   "outputs": [],
   "source": [
    "def to_date(data, col):\n",
    "    data[col] = pd.to_datetime(data[col])\n",
    "    print(data[col].dtype)"
   ]
  },
  {
   "cell_type": "code",
   "execution_count": 18,
   "metadata": {},
   "outputs": [
    {
     "name": "stdout",
     "output_type": "stream",
     "text": [
      "datetime64[ns]\n",
      "datetime64[ns]\n",
      "datetime64[ns]\n",
      "datetime64[ns]\n",
      "datetime64[ns]\n"
     ]
    }
   ],
   "source": [
    "to_date(df_calls, 'call_date')\n",
    "to_date(df_internet, 'session_date')\n",
    "to_date(df_messages, 'message_date')\n",
    "to_date(df_users, 'reg_date')\n",
    "to_date(df_users, 'churn_date')"
   ]
  },
  {
   "cell_type": "markdown",
   "metadata": {},
   "source": [
    "#### 2.3 Проверка наличия дубликатов"
   ]
  },
  {
   "cell_type": "code",
   "execution_count": 19,
   "metadata": {
    "scrolled": true
   },
   "outputs": [
    {
     "data": {
      "text/plain": [
       "0"
      ]
     },
     "execution_count": 19,
     "metadata": {},
     "output_type": "execute_result"
    }
   ],
   "source": [
    "df_users.duplicated().sum()"
   ]
  },
  {
   "cell_type": "markdown",
   "metadata": {},
   "source": [
    "#### 2.4 Расчёты"
   ]
  },
  {
   "cell_type": "markdown",
   "metadata": {},
   "source": [
    "Посчитаем количество сделанных звонков и израсходованных минут разговора по месяцам."
   ]
  },
  {
   "cell_type": "code",
   "execution_count": 20,
   "metadata": {
    "scrolled": true
   },
   "outputs": [
    {
     "data": {
      "text/html": [
       "<div>\n",
       "<style scoped>\n",
       "    .dataframe tbody tr th:only-of-type {\n",
       "        vertical-align: middle;\n",
       "    }\n",
       "\n",
       "    .dataframe tbody tr th {\n",
       "        vertical-align: top;\n",
       "    }\n",
       "\n",
       "    .dataframe thead th {\n",
       "        text-align: right;\n",
       "    }\n",
       "</style>\n",
       "<table border=\"1\" class=\"dataframe\">\n",
       "  <thead>\n",
       "    <tr style=\"text-align: right;\">\n",
       "      <th></th>\n",
       "      <th>user_id</th>\n",
       "      <th>age</th>\n",
       "      <th>churn_date</th>\n",
       "      <th>city</th>\n",
       "      <th>first_name</th>\n",
       "      <th>last_name</th>\n",
       "      <th>reg_date</th>\n",
       "      <th>tariff</th>\n",
       "      <th>id</th>\n",
       "      <th>call_date</th>\n",
       "      <th>duration</th>\n",
       "      <th>month</th>\n",
       "    </tr>\n",
       "  </thead>\n",
       "  <tbody>\n",
       "    <tr>\n",
       "      <td>0</td>\n",
       "      <td>1000</td>\n",
       "      <td>52</td>\n",
       "      <td>NaT</td>\n",
       "      <td>Краснодар</td>\n",
       "      <td>Рафаил</td>\n",
       "      <td>Верещагин</td>\n",
       "      <td>2018-05-25</td>\n",
       "      <td>ultra</td>\n",
       "      <td>1000_0</td>\n",
       "      <td>2018-07-25</td>\n",
       "      <td>0.0</td>\n",
       "      <td>7.0</td>\n",
       "    </tr>\n",
       "    <tr>\n",
       "      <td>1</td>\n",
       "      <td>1000</td>\n",
       "      <td>52</td>\n",
       "      <td>NaT</td>\n",
       "      <td>Краснодар</td>\n",
       "      <td>Рафаил</td>\n",
       "      <td>Верещагин</td>\n",
       "      <td>2018-05-25</td>\n",
       "      <td>ultra</td>\n",
       "      <td>1000_1</td>\n",
       "      <td>2018-08-17</td>\n",
       "      <td>0.0</td>\n",
       "      <td>8.0</td>\n",
       "    </tr>\n",
       "    <tr>\n",
       "      <td>2</td>\n",
       "      <td>1000</td>\n",
       "      <td>52</td>\n",
       "      <td>NaT</td>\n",
       "      <td>Краснодар</td>\n",
       "      <td>Рафаил</td>\n",
       "      <td>Верещагин</td>\n",
       "      <td>2018-05-25</td>\n",
       "      <td>ultra</td>\n",
       "      <td>1000_2</td>\n",
       "      <td>2018-06-11</td>\n",
       "      <td>3.0</td>\n",
       "      <td>6.0</td>\n",
       "    </tr>\n",
       "    <tr>\n",
       "      <td>3</td>\n",
       "      <td>1000</td>\n",
       "      <td>52</td>\n",
       "      <td>NaT</td>\n",
       "      <td>Краснодар</td>\n",
       "      <td>Рафаил</td>\n",
       "      <td>Верещагин</td>\n",
       "      <td>2018-05-25</td>\n",
       "      <td>ultra</td>\n",
       "      <td>1000_3</td>\n",
       "      <td>2018-09-21</td>\n",
       "      <td>14.0</td>\n",
       "      <td>9.0</td>\n",
       "    </tr>\n",
       "    <tr>\n",
       "      <td>4</td>\n",
       "      <td>1000</td>\n",
       "      <td>52</td>\n",
       "      <td>NaT</td>\n",
       "      <td>Краснодар</td>\n",
       "      <td>Рафаил</td>\n",
       "      <td>Верещагин</td>\n",
       "      <td>2018-05-25</td>\n",
       "      <td>ultra</td>\n",
       "      <td>1000_4</td>\n",
       "      <td>2018-12-15</td>\n",
       "      <td>6.0</td>\n",
       "      <td>12.0</td>\n",
       "    </tr>\n",
       "  </tbody>\n",
       "</table>\n",
       "</div>"
      ],
      "text/plain": [
       "   user_id  age churn_date       city first_name  last_name   reg_date tariff  \\\n",
       "0     1000   52        NaT  Краснодар     Рафаил  Верещагин 2018-05-25  ultra   \n",
       "1     1000   52        NaT  Краснодар     Рафаил  Верещагин 2018-05-25  ultra   \n",
       "2     1000   52        NaT  Краснодар     Рафаил  Верещагин 2018-05-25  ultra   \n",
       "3     1000   52        NaT  Краснодар     Рафаил  Верещагин 2018-05-25  ultra   \n",
       "4     1000   52        NaT  Краснодар     Рафаил  Верещагин 2018-05-25  ultra   \n",
       "\n",
       "       id  call_date  duration  month  \n",
       "0  1000_0 2018-07-25       0.0    7.0  \n",
       "1  1000_1 2018-08-17       0.0    8.0  \n",
       "2  1000_2 2018-06-11       3.0    6.0  \n",
       "3  1000_3 2018-09-21      14.0    9.0  \n",
       "4  1000_4 2018-12-15       6.0   12.0  "
      ]
     },
     "execution_count": 20,
     "metadata": {},
     "output_type": "execute_result"
    }
   ],
   "source": [
    "#создаем таблицу с данными о пользователях и их звонках\n",
    "df_calls['month'] = df_calls['call_date'].dt.month\n",
    "users_calls = df_users.merge(df_calls, on='user_id', how='left') \n",
    "users_calls.head(5)"
   ]
  },
  {
   "cell_type": "code",
   "execution_count": 21,
   "metadata": {
    "scrolled": true
   },
   "outputs": [
    {
     "data": {
      "text/html": [
       "<div>\n",
       "<style scoped>\n",
       "    .dataframe tbody tr th:only-of-type {\n",
       "        vertical-align: middle;\n",
       "    }\n",
       "\n",
       "    .dataframe tbody tr th {\n",
       "        vertical-align: top;\n",
       "    }\n",
       "\n",
       "    .dataframe thead th {\n",
       "        text-align: right;\n",
       "    }\n",
       "</style>\n",
       "<table border=\"1\" class=\"dataframe\">\n",
       "  <thead>\n",
       "    <tr style=\"text-align: right;\">\n",
       "      <th></th>\n",
       "      <th>user_id</th>\n",
       "      <th>age</th>\n",
       "      <th>churn_date</th>\n",
       "      <th>city</th>\n",
       "      <th>first_name</th>\n",
       "      <th>last_name</th>\n",
       "      <th>reg_date</th>\n",
       "      <th>tariff</th>\n",
       "      <th>id</th>\n",
       "      <th>call_date</th>\n",
       "      <th>duration</th>\n",
       "      <th>month</th>\n",
       "    </tr>\n",
       "  </thead>\n",
       "  <tbody>\n",
       "    <tr>\n",
       "      <td>36344</td>\n",
       "      <td>1091</td>\n",
       "      <td>36</td>\n",
       "      <td>NaT</td>\n",
       "      <td>Набережные Челны</td>\n",
       "      <td>Вера</td>\n",
       "      <td>Суслова</td>\n",
       "      <td>2018-05-08</td>\n",
       "      <td>ultra</td>\n",
       "      <td>NaN</td>\n",
       "      <td>NaT</td>\n",
       "      <td>NaN</td>\n",
       "      <td>NaN</td>\n",
       "    </tr>\n",
       "    <tr>\n",
       "      <td>42758</td>\n",
       "      <td>1106</td>\n",
       "      <td>67</td>\n",
       "      <td>NaT</td>\n",
       "      <td>Калуга</td>\n",
       "      <td>Исаак</td>\n",
       "      <td>Костин</td>\n",
       "      <td>2018-04-26</td>\n",
       "      <td>ultra</td>\n",
       "      <td>NaN</td>\n",
       "      <td>NaT</td>\n",
       "      <td>NaN</td>\n",
       "      <td>NaN</td>\n",
       "    </tr>\n",
       "    <tr>\n",
       "      <td>51654</td>\n",
       "      <td>1128</td>\n",
       "      <td>51</td>\n",
       "      <td>2018-12-23</td>\n",
       "      <td>Волжский</td>\n",
       "      <td>Ксения</td>\n",
       "      <td>Агаева</td>\n",
       "      <td>2018-12-15</td>\n",
       "      <td>ultra</td>\n",
       "      <td>NaN</td>\n",
       "      <td>NaT</td>\n",
       "      <td>NaN</td>\n",
       "      <td>NaN</td>\n",
       "    </tr>\n",
       "    <tr>\n",
       "      <td>92592</td>\n",
       "      <td>1231</td>\n",
       "      <td>63</td>\n",
       "      <td>NaT</td>\n",
       "      <td>Чебоксары</td>\n",
       "      <td>Касьян</td>\n",
       "      <td>Авдюков</td>\n",
       "      <td>2018-05-23</td>\n",
       "      <td>ultra</td>\n",
       "      <td>NaN</td>\n",
       "      <td>NaT</td>\n",
       "      <td>NaN</td>\n",
       "      <td>NaN</td>\n",
       "    </tr>\n",
       "    <tr>\n",
       "      <td>127924</td>\n",
       "      <td>1328</td>\n",
       "      <td>44</td>\n",
       "      <td>NaT</td>\n",
       "      <td>Мурманск</td>\n",
       "      <td>Рауль</td>\n",
       "      <td>Аркадьев</td>\n",
       "      <td>2018-10-16</td>\n",
       "      <td>ultra</td>\n",
       "      <td>NaN</td>\n",
       "      <td>NaT</td>\n",
       "      <td>NaN</td>\n",
       "      <td>NaN</td>\n",
       "    </tr>\n",
       "    <tr>\n",
       "      <td>145827</td>\n",
       "      <td>1371</td>\n",
       "      <td>50</td>\n",
       "      <td>2018-12-30</td>\n",
       "      <td>Омск</td>\n",
       "      <td>Ириней</td>\n",
       "      <td>Трофимов</td>\n",
       "      <td>2018-12-25</td>\n",
       "      <td>smart</td>\n",
       "      <td>NaN</td>\n",
       "      <td>NaT</td>\n",
       "      <td>NaN</td>\n",
       "      <td>NaN</td>\n",
       "    </tr>\n",
       "    <tr>\n",
       "      <td>193093</td>\n",
       "      <td>1473</td>\n",
       "      <td>18</td>\n",
       "      <td>NaT</td>\n",
       "      <td>Красноярск</td>\n",
       "      <td>Николай</td>\n",
       "      <td>Лебедев</td>\n",
       "      <td>2018-08-05</td>\n",
       "      <td>ultra</td>\n",
       "      <td>NaN</td>\n",
       "      <td>NaT</td>\n",
       "      <td>NaN</td>\n",
       "      <td>NaN</td>\n",
       "    </tr>\n",
       "    <tr>\n",
       "      <td>198661</td>\n",
       "      <td>1489</td>\n",
       "      <td>35</td>\n",
       "      <td>NaT</td>\n",
       "      <td>Санкт-Петербург</td>\n",
       "      <td>Павел</td>\n",
       "      <td>Гончаров</td>\n",
       "      <td>2018-08-15</td>\n",
       "      <td>smart</td>\n",
       "      <td>NaN</td>\n",
       "      <td>NaT</td>\n",
       "      <td>NaN</td>\n",
       "      <td>NaN</td>\n",
       "    </tr>\n",
       "  </tbody>\n",
       "</table>\n",
       "</div>"
      ],
      "text/plain": [
       "        user_id  age churn_date              city first_name last_name  \\\n",
       "36344      1091   36        NaT  Набережные Челны       Вера   Суслова   \n",
       "42758      1106   67        NaT            Калуга      Исаак    Костин   \n",
       "51654      1128   51 2018-12-23          Волжский     Ксения    Агаева   \n",
       "92592      1231   63        NaT         Чебоксары     Касьян   Авдюков   \n",
       "127924     1328   44        NaT          Мурманск      Рауль  Аркадьев   \n",
       "145827     1371   50 2018-12-30              Омск     Ириней  Трофимов   \n",
       "193093     1473   18        NaT        Красноярск    Николай   Лебедев   \n",
       "198661     1489   35        NaT   Санкт-Петербург      Павел  Гончаров   \n",
       "\n",
       "         reg_date tariff   id call_date  duration  month  \n",
       "36344  2018-05-08  ultra  NaN       NaT       NaN    NaN  \n",
       "42758  2018-04-26  ultra  NaN       NaT       NaN    NaN  \n",
       "51654  2018-12-15  ultra  NaN       NaT       NaN    NaN  \n",
       "92592  2018-05-23  ultra  NaN       NaT       NaN    NaN  \n",
       "127924 2018-10-16  ultra  NaN       NaT       NaN    NaN  \n",
       "145827 2018-12-25  smart  NaN       NaT       NaN    NaN  \n",
       "193093 2018-08-05  ultra  NaN       NaT       NaN    NaN  \n",
       "198661 2018-08-15  smart  NaN       NaT       NaN    NaN  "
      ]
     },
     "execution_count": 21,
     "metadata": {},
     "output_type": "execute_result"
    }
   ],
   "source": [
    "users_calls[users_calls['duration'].isna()]"
   ]
  },
  {
   "cell_type": "markdown",
   "metadata": {},
   "source": [
    "8 человек оформили тариф, но звонков не совершали.  \n",
    "6 из них скорее всего пользовались другими услугами.  \n",
    "А 2 через неделю отключили тариф, их считать не будем.  \n",
    "В итоговой таблице будем ориентироваться на 498 пользователей (без 145827 и 51654)."
   ]
  },
  {
   "cell_type": "markdown",
   "metadata": {},
   "source": [
    "Создаем сводную таблицу с количеством сделанных звонков и потраченных минут."
   ]
  },
  {
   "cell_type": "code",
   "execution_count": 22,
   "metadata": {},
   "outputs": [],
   "source": [
    "def total_pivot_table(data, col, val, func):\n",
    "    pt = data.pivot_table(\n",
    "        index=[data[col], 'user_id', 'tariff', 'city'], \n",
    "        values= val,\n",
    "        aggfunc= func\n",
    "    ).reset_index()\n",
    "    return pt"
   ]
  },
  {
   "cell_type": "code",
   "execution_count": 23,
   "metadata": {},
   "outputs": [
    {
     "data": {
      "text/html": [
       "<div>\n",
       "<style scoped>\n",
       "    .dataframe tbody tr th:only-of-type {\n",
       "        vertical-align: middle;\n",
       "    }\n",
       "\n",
       "    .dataframe tbody tr th {\n",
       "        vertical-align: top;\n",
       "    }\n",
       "\n",
       "    .dataframe thead th {\n",
       "        text-align: right;\n",
       "    }\n",
       "</style>\n",
       "<table border=\"1\" class=\"dataframe\">\n",
       "  <thead>\n",
       "    <tr style=\"text-align: right;\">\n",
       "      <th></th>\n",
       "      <th>month</th>\n",
       "      <th>user_id</th>\n",
       "      <th>tariff</th>\n",
       "      <th>city</th>\n",
       "      <th>count_calls</th>\n",
       "      <th>sum_minutes</th>\n",
       "    </tr>\n",
       "  </thead>\n",
       "  <tbody>\n",
       "    <tr>\n",
       "      <td>0</td>\n",
       "      <td>1.0</td>\n",
       "      <td>1005</td>\n",
       "      <td>smart</td>\n",
       "      <td>Набережные Челны</td>\n",
       "      <td>15</td>\n",
       "      <td>95.0</td>\n",
       "    </tr>\n",
       "    <tr>\n",
       "      <td>1</td>\n",
       "      <td>1.0</td>\n",
       "      <td>1032</td>\n",
       "      <td>smart</td>\n",
       "      <td>Ульяновск</td>\n",
       "      <td>61</td>\n",
       "      <td>380.0</td>\n",
       "    </tr>\n",
       "    <tr>\n",
       "      <td>2</td>\n",
       "      <td>1.0</td>\n",
       "      <td>1045</td>\n",
       "      <td>smart</td>\n",
       "      <td>Улан-Удэ</td>\n",
       "      <td>1</td>\n",
       "      <td>9.0</td>\n",
       "    </tr>\n",
       "    <tr>\n",
       "      <td>3</td>\n",
       "      <td>1.0</td>\n",
       "      <td>1055</td>\n",
       "      <td>smart</td>\n",
       "      <td>Казань</td>\n",
       "      <td>64</td>\n",
       "      <td>551.0</td>\n",
       "    </tr>\n",
       "    <tr>\n",
       "      <td>4</td>\n",
       "      <td>1.0</td>\n",
       "      <td>1071</td>\n",
       "      <td>smart</td>\n",
       "      <td>Омск</td>\n",
       "      <td>24</td>\n",
       "      <td>194.0</td>\n",
       "    </tr>\n",
       "    <tr>\n",
       "      <td>...</td>\n",
       "      <td>...</td>\n",
       "      <td>...</td>\n",
       "      <td>...</td>\n",
       "      <td>...</td>\n",
       "      <td>...</td>\n",
       "      <td>...</td>\n",
       "    </tr>\n",
       "    <tr>\n",
       "      <td>3169</td>\n",
       "      <td>12.0</td>\n",
       "      <td>1494</td>\n",
       "      <td>smart</td>\n",
       "      <td>Омск</td>\n",
       "      <td>62</td>\n",
       "      <td>418.0</td>\n",
       "    </tr>\n",
       "    <tr>\n",
       "      <td>3170</td>\n",
       "      <td>12.0</td>\n",
       "      <td>1495</td>\n",
       "      <td>ultra</td>\n",
       "      <td>Иркутск</td>\n",
       "      <td>155</td>\n",
       "      <td>1031.0</td>\n",
       "    </tr>\n",
       "    <tr>\n",
       "      <td>3171</td>\n",
       "      <td>12.0</td>\n",
       "      <td>1496</td>\n",
       "      <td>smart</td>\n",
       "      <td>Вологда</td>\n",
       "      <td>80</td>\n",
       "      <td>518.0</td>\n",
       "    </tr>\n",
       "    <tr>\n",
       "      <td>3172</td>\n",
       "      <td>12.0</td>\n",
       "      <td>1497</td>\n",
       "      <td>smart</td>\n",
       "      <td>Челябинск</td>\n",
       "      <td>71</td>\n",
       "      <td>545.0</td>\n",
       "    </tr>\n",
       "    <tr>\n",
       "      <td>3173</td>\n",
       "      <td>12.0</td>\n",
       "      <td>1499</td>\n",
       "      <td>smart</td>\n",
       "      <td>Пермь</td>\n",
       "      <td>69</td>\n",
       "      <td>492.0</td>\n",
       "    </tr>\n",
       "  </tbody>\n",
       "</table>\n",
       "<p>3174 rows × 6 columns</p>\n",
       "</div>"
      ],
      "text/plain": [
       "      month  user_id tariff              city  count_calls  sum_minutes\n",
       "0       1.0     1005  smart  Набережные Челны           15         95.0\n",
       "1       1.0     1032  smart         Ульяновск           61        380.0\n",
       "2       1.0     1045  smart          Улан-Удэ            1          9.0\n",
       "3       1.0     1055  smart            Казань           64        551.0\n",
       "4       1.0     1071  smart              Омск           24        194.0\n",
       "...     ...      ...    ...               ...          ...          ...\n",
       "3169   12.0     1494  smart              Омск           62        418.0\n",
       "3170   12.0     1495  ultra           Иркутск          155       1031.0\n",
       "3171   12.0     1496  smart           Вологда           80        518.0\n",
       "3172   12.0     1497  smart         Челябинск           71        545.0\n",
       "3173   12.0     1499  smart             Пермь           69        492.0\n",
       "\n",
       "[3174 rows x 6 columns]"
      ]
     },
     "execution_count": 23,
     "metadata": {},
     "output_type": "execute_result"
    }
   ],
   "source": [
    "users_calls_report = total_pivot_table(users_calls, 'month', 'duration', ['count', 'sum'])\n",
    "users_calls_report.columns = ['month', 'user_id', 'tariff', 'city', 'count_calls', 'sum_minutes']\n",
    "users_calls_report"
   ]
  },
  {
   "cell_type": "markdown",
   "metadata": {},
   "source": [
    "Посчитаем количество отправленных сообщений по месяцам."
   ]
  },
  {
   "cell_type": "code",
   "execution_count": 24,
   "metadata": {
    "scrolled": true
   },
   "outputs": [
    {
     "data": {
      "text/html": [
       "<div>\n",
       "<style scoped>\n",
       "    .dataframe tbody tr th:only-of-type {\n",
       "        vertical-align: middle;\n",
       "    }\n",
       "\n",
       "    .dataframe tbody tr th {\n",
       "        vertical-align: top;\n",
       "    }\n",
       "\n",
       "    .dataframe thead th {\n",
       "        text-align: right;\n",
       "    }\n",
       "</style>\n",
       "<table border=\"1\" class=\"dataframe\">\n",
       "  <thead>\n",
       "    <tr style=\"text-align: right;\">\n",
       "      <th></th>\n",
       "      <th>user_id</th>\n",
       "      <th>age</th>\n",
       "      <th>churn_date</th>\n",
       "      <th>city</th>\n",
       "      <th>first_name</th>\n",
       "      <th>last_name</th>\n",
       "      <th>reg_date</th>\n",
       "      <th>tariff</th>\n",
       "      <th>id</th>\n",
       "      <th>message_date</th>\n",
       "      <th>month</th>\n",
       "    </tr>\n",
       "  </thead>\n",
       "  <tbody>\n",
       "    <tr>\n",
       "      <td>0</td>\n",
       "      <td>1000</td>\n",
       "      <td>52</td>\n",
       "      <td>NaT</td>\n",
       "      <td>Краснодар</td>\n",
       "      <td>Рафаил</td>\n",
       "      <td>Верещагин</td>\n",
       "      <td>2018-05-25</td>\n",
       "      <td>ultra</td>\n",
       "      <td>1000_0</td>\n",
       "      <td>2018-06-27</td>\n",
       "      <td>6.0</td>\n",
       "    </tr>\n",
       "    <tr>\n",
       "      <td>1</td>\n",
       "      <td>1000</td>\n",
       "      <td>52</td>\n",
       "      <td>NaT</td>\n",
       "      <td>Краснодар</td>\n",
       "      <td>Рафаил</td>\n",
       "      <td>Верещагин</td>\n",
       "      <td>2018-05-25</td>\n",
       "      <td>ultra</td>\n",
       "      <td>1000_1</td>\n",
       "      <td>2018-10-08</td>\n",
       "      <td>10.0</td>\n",
       "    </tr>\n",
       "    <tr>\n",
       "      <td>2</td>\n",
       "      <td>1000</td>\n",
       "      <td>52</td>\n",
       "      <td>NaT</td>\n",
       "      <td>Краснодар</td>\n",
       "      <td>Рафаил</td>\n",
       "      <td>Верещагин</td>\n",
       "      <td>2018-05-25</td>\n",
       "      <td>ultra</td>\n",
       "      <td>1000_2</td>\n",
       "      <td>2018-08-04</td>\n",
       "      <td>8.0</td>\n",
       "    </tr>\n",
       "    <tr>\n",
       "      <td>3</td>\n",
       "      <td>1000</td>\n",
       "      <td>52</td>\n",
       "      <td>NaT</td>\n",
       "      <td>Краснодар</td>\n",
       "      <td>Рафаил</td>\n",
       "      <td>Верещагин</td>\n",
       "      <td>2018-05-25</td>\n",
       "      <td>ultra</td>\n",
       "      <td>1000_3</td>\n",
       "      <td>2018-06-16</td>\n",
       "      <td>6.0</td>\n",
       "    </tr>\n",
       "    <tr>\n",
       "      <td>4</td>\n",
       "      <td>1000</td>\n",
       "      <td>52</td>\n",
       "      <td>NaT</td>\n",
       "      <td>Краснодар</td>\n",
       "      <td>Рафаил</td>\n",
       "      <td>Верещагин</td>\n",
       "      <td>2018-05-25</td>\n",
       "      <td>ultra</td>\n",
       "      <td>1000_4</td>\n",
       "      <td>2018-12-05</td>\n",
       "      <td>12.0</td>\n",
       "    </tr>\n",
       "  </tbody>\n",
       "</table>\n",
       "</div>"
      ],
      "text/plain": [
       "   user_id  age churn_date       city first_name  last_name   reg_date tariff  \\\n",
       "0     1000   52        NaT  Краснодар     Рафаил  Верещагин 2018-05-25  ultra   \n",
       "1     1000   52        NaT  Краснодар     Рафаил  Верещагин 2018-05-25  ultra   \n",
       "2     1000   52        NaT  Краснодар     Рафаил  Верещагин 2018-05-25  ultra   \n",
       "3     1000   52        NaT  Краснодар     Рафаил  Верещагин 2018-05-25  ultra   \n",
       "4     1000   52        NaT  Краснодар     Рафаил  Верещагин 2018-05-25  ultra   \n",
       "\n",
       "       id message_date  month  \n",
       "0  1000_0   2018-06-27    6.0  \n",
       "1  1000_1   2018-10-08   10.0  \n",
       "2  1000_2   2018-08-04    8.0  \n",
       "3  1000_3   2018-06-16    6.0  \n",
       "4  1000_4   2018-12-05   12.0  "
      ]
     },
     "execution_count": 24,
     "metadata": {},
     "output_type": "execute_result"
    }
   ],
   "source": [
    "#создаем таблицу с данными о пользователях и их сообщениях\n",
    "df_messages['month'] = df_messages['message_date'].dt.month\n",
    "users_messages = df_users.merge(df_messages, on='user_id', how='left')\n",
    "users_messages.head(5)"
   ]
  },
  {
   "cell_type": "markdown",
   "metadata": {},
   "source": [
    "Создаем сводную таблицу с количеством отправленных сообщений по месяцам."
   ]
  },
  {
   "cell_type": "code",
   "execution_count": 25,
   "metadata": {
    "scrolled": true
   },
   "outputs": [
    {
     "data": {
      "text/html": [
       "<div>\n",
       "<style scoped>\n",
       "    .dataframe tbody tr th:only-of-type {\n",
       "        vertical-align: middle;\n",
       "    }\n",
       "\n",
       "    .dataframe tbody tr th {\n",
       "        vertical-align: top;\n",
       "    }\n",
       "\n",
       "    .dataframe thead th {\n",
       "        text-align: right;\n",
       "    }\n",
       "</style>\n",
       "<table border=\"1\" class=\"dataframe\">\n",
       "  <thead>\n",
       "    <tr style=\"text-align: right;\">\n",
       "      <th></th>\n",
       "      <th>month</th>\n",
       "      <th>user_id</th>\n",
       "      <th>tariff</th>\n",
       "      <th>city</th>\n",
       "      <th>count_messages</th>\n",
       "    </tr>\n",
       "  </thead>\n",
       "  <tbody>\n",
       "    <tr>\n",
       "      <td>0</td>\n",
       "      <td>1.0</td>\n",
       "      <td>1005</td>\n",
       "      <td>smart</td>\n",
       "      <td>Набережные Челны</td>\n",
       "      <td>7</td>\n",
       "    </tr>\n",
       "    <tr>\n",
       "      <td>1</td>\n",
       "      <td>1.0</td>\n",
       "      <td>1032</td>\n",
       "      <td>smart</td>\n",
       "      <td>Ульяновск</td>\n",
       "      <td>38</td>\n",
       "    </tr>\n",
       "    <tr>\n",
       "      <td>2</td>\n",
       "      <td>1.0</td>\n",
       "      <td>1045</td>\n",
       "      <td>smart</td>\n",
       "      <td>Улан-Удэ</td>\n",
       "      <td>5</td>\n",
       "    </tr>\n",
       "    <tr>\n",
       "      <td>3</td>\n",
       "      <td>1.0</td>\n",
       "      <td>1055</td>\n",
       "      <td>smart</td>\n",
       "      <td>Казань</td>\n",
       "      <td>30</td>\n",
       "    </tr>\n",
       "    <tr>\n",
       "      <td>4</td>\n",
       "      <td>1.0</td>\n",
       "      <td>1071</td>\n",
       "      <td>smart</td>\n",
       "      <td>Омск</td>\n",
       "      <td>16</td>\n",
       "    </tr>\n",
       "    <tr>\n",
       "      <td>...</td>\n",
       "      <td>...</td>\n",
       "      <td>...</td>\n",
       "      <td>...</td>\n",
       "      <td>...</td>\n",
       "      <td>...</td>\n",
       "    </tr>\n",
       "    <tr>\n",
       "      <td>2712</td>\n",
       "      <td>12.0</td>\n",
       "      <td>1493</td>\n",
       "      <td>ultra</td>\n",
       "      <td>Красноярск</td>\n",
       "      <td>78</td>\n",
       "    </tr>\n",
       "    <tr>\n",
       "      <td>2713</td>\n",
       "      <td>12.0</td>\n",
       "      <td>1495</td>\n",
       "      <td>ultra</td>\n",
       "      <td>Иркутск</td>\n",
       "      <td>84</td>\n",
       "    </tr>\n",
       "    <tr>\n",
       "      <td>2714</td>\n",
       "      <td>12.0</td>\n",
       "      <td>1496</td>\n",
       "      <td>smart</td>\n",
       "      <td>Вологда</td>\n",
       "      <td>51</td>\n",
       "    </tr>\n",
       "    <tr>\n",
       "      <td>2715</td>\n",
       "      <td>12.0</td>\n",
       "      <td>1497</td>\n",
       "      <td>smart</td>\n",
       "      <td>Челябинск</td>\n",
       "      <td>17</td>\n",
       "    </tr>\n",
       "    <tr>\n",
       "      <td>2716</td>\n",
       "      <td>12.0</td>\n",
       "      <td>1499</td>\n",
       "      <td>smart</td>\n",
       "      <td>Пермь</td>\n",
       "      <td>66</td>\n",
       "    </tr>\n",
       "  </tbody>\n",
       "</table>\n",
       "<p>2717 rows × 5 columns</p>\n",
       "</div>"
      ],
      "text/plain": [
       "      month  user_id tariff              city  count_messages\n",
       "0       1.0     1005  smart  Набережные Челны               7\n",
       "1       1.0     1032  smart         Ульяновск              38\n",
       "2       1.0     1045  smart          Улан-Удэ               5\n",
       "3       1.0     1055  smart            Казань              30\n",
       "4       1.0     1071  smart              Омск              16\n",
       "...     ...      ...    ...               ...             ...\n",
       "2712   12.0     1493  ultra        Красноярск              78\n",
       "2713   12.0     1495  ultra           Иркутск              84\n",
       "2714   12.0     1496  smart           Вологда              51\n",
       "2715   12.0     1497  smart         Челябинск              17\n",
       "2716   12.0     1499  smart             Пермь              66\n",
       "\n",
       "[2717 rows x 5 columns]"
      ]
     },
     "execution_count": 25,
     "metadata": {},
     "output_type": "execute_result"
    }
   ],
   "source": [
    "users_messages_report = total_pivot_table(users_messages, 'month', 'id', 'count')\n",
    "users_messages_report.columns = ['month', 'user_id', 'tariff', 'city', 'count_messages']\n",
    "users_messages_report"
   ]
  },
  {
   "cell_type": "markdown",
   "metadata": {},
   "source": [
    "Посчитаем объем израсходованного интернет-трафика по месяцам."
   ]
  },
  {
   "cell_type": "code",
   "execution_count": 26,
   "metadata": {
    "scrolled": true
   },
   "outputs": [
    {
     "data": {
      "text/html": [
       "<div>\n",
       "<style scoped>\n",
       "    .dataframe tbody tr th:only-of-type {\n",
       "        vertical-align: middle;\n",
       "    }\n",
       "\n",
       "    .dataframe tbody tr th {\n",
       "        vertical-align: top;\n",
       "    }\n",
       "\n",
       "    .dataframe thead th {\n",
       "        text-align: right;\n",
       "    }\n",
       "</style>\n",
       "<table border=\"1\" class=\"dataframe\">\n",
       "  <thead>\n",
       "    <tr style=\"text-align: right;\">\n",
       "      <th></th>\n",
       "      <th>user_id</th>\n",
       "      <th>age</th>\n",
       "      <th>churn_date</th>\n",
       "      <th>city</th>\n",
       "      <th>first_name</th>\n",
       "      <th>last_name</th>\n",
       "      <th>reg_date</th>\n",
       "      <th>tariff</th>\n",
       "      <th>id</th>\n",
       "      <th>mb_used</th>\n",
       "      <th>session_date</th>\n",
       "      <th>month</th>\n",
       "    </tr>\n",
       "  </thead>\n",
       "  <tbody>\n",
       "    <tr>\n",
       "      <td>0</td>\n",
       "      <td>1000</td>\n",
       "      <td>52</td>\n",
       "      <td>NaT</td>\n",
       "      <td>Краснодар</td>\n",
       "      <td>Рафаил</td>\n",
       "      <td>Верещагин</td>\n",
       "      <td>2018-05-25</td>\n",
       "      <td>ultra</td>\n",
       "      <td>1000_0</td>\n",
       "      <td>113.0</td>\n",
       "      <td>2018-11-25</td>\n",
       "      <td>11.0</td>\n",
       "    </tr>\n",
       "    <tr>\n",
       "      <td>1</td>\n",
       "      <td>1000</td>\n",
       "      <td>52</td>\n",
       "      <td>NaT</td>\n",
       "      <td>Краснодар</td>\n",
       "      <td>Рафаил</td>\n",
       "      <td>Верещагин</td>\n",
       "      <td>2018-05-25</td>\n",
       "      <td>ultra</td>\n",
       "      <td>1000_1</td>\n",
       "      <td>1053.0</td>\n",
       "      <td>2018-09-07</td>\n",
       "      <td>9.0</td>\n",
       "    </tr>\n",
       "    <tr>\n",
       "      <td>2</td>\n",
       "      <td>1000</td>\n",
       "      <td>52</td>\n",
       "      <td>NaT</td>\n",
       "      <td>Краснодар</td>\n",
       "      <td>Рафаил</td>\n",
       "      <td>Верещагин</td>\n",
       "      <td>2018-05-25</td>\n",
       "      <td>ultra</td>\n",
       "      <td>1000_2</td>\n",
       "      <td>1198.0</td>\n",
       "      <td>2018-06-25</td>\n",
       "      <td>6.0</td>\n",
       "    </tr>\n",
       "    <tr>\n",
       "      <td>3</td>\n",
       "      <td>1000</td>\n",
       "      <td>52</td>\n",
       "      <td>NaT</td>\n",
       "      <td>Краснодар</td>\n",
       "      <td>Рафаил</td>\n",
       "      <td>Верещагин</td>\n",
       "      <td>2018-05-25</td>\n",
       "      <td>ultra</td>\n",
       "      <td>1000_3</td>\n",
       "      <td>551.0</td>\n",
       "      <td>2018-08-22</td>\n",
       "      <td>8.0</td>\n",
       "    </tr>\n",
       "    <tr>\n",
       "      <td>4</td>\n",
       "      <td>1000</td>\n",
       "      <td>52</td>\n",
       "      <td>NaT</td>\n",
       "      <td>Краснодар</td>\n",
       "      <td>Рафаил</td>\n",
       "      <td>Верещагин</td>\n",
       "      <td>2018-05-25</td>\n",
       "      <td>ultra</td>\n",
       "      <td>1000_4</td>\n",
       "      <td>303.0</td>\n",
       "      <td>2018-09-24</td>\n",
       "      <td>9.0</td>\n",
       "    </tr>\n",
       "  </tbody>\n",
       "</table>\n",
       "</div>"
      ],
      "text/plain": [
       "   user_id  age churn_date       city first_name  last_name   reg_date tariff  \\\n",
       "0     1000   52        NaT  Краснодар     Рафаил  Верещагин 2018-05-25  ultra   \n",
       "1     1000   52        NaT  Краснодар     Рафаил  Верещагин 2018-05-25  ultra   \n",
       "2     1000   52        NaT  Краснодар     Рафаил  Верещагин 2018-05-25  ultra   \n",
       "3     1000   52        NaT  Краснодар     Рафаил  Верещагин 2018-05-25  ultra   \n",
       "4     1000   52        NaT  Краснодар     Рафаил  Верещагин 2018-05-25  ultra   \n",
       "\n",
       "       id  mb_used session_date  month  \n",
       "0  1000_0    113.0   2018-11-25   11.0  \n",
       "1  1000_1   1053.0   2018-09-07    9.0  \n",
       "2  1000_2   1198.0   2018-06-25    6.0  \n",
       "3  1000_3    551.0   2018-08-22    8.0  \n",
       "4  1000_4    303.0   2018-09-24    9.0  "
      ]
     },
     "execution_count": 26,
     "metadata": {},
     "output_type": "execute_result"
    }
   ],
   "source": [
    "#создаем таблицу с данными о пользователях и их интернет-сессиях\n",
    "df_internet['month'] = df_internet['session_date'].dt.month\n",
    "users_internet = df_users.merge(df_internet, on='user_id', how='left')\n",
    "users_internet.head(5)"
   ]
  },
  {
   "cell_type": "markdown",
   "metadata": {},
   "source": [
    "Создаем сводную таблицу с объемом израсходованного интернет-трафика по месяцам."
   ]
  },
  {
   "cell_type": "code",
   "execution_count": 27,
   "metadata": {
    "scrolled": true
   },
   "outputs": [
    {
     "name": "stdout",
     "output_type": "stream",
     "text": [
      "Всего пользователей: 497\n"
     ]
    },
    {
     "data": {
      "text/html": [
       "<div>\n",
       "<style scoped>\n",
       "    .dataframe tbody tr th:only-of-type {\n",
       "        vertical-align: middle;\n",
       "    }\n",
       "\n",
       "    .dataframe tbody tr th {\n",
       "        vertical-align: top;\n",
       "    }\n",
       "\n",
       "    .dataframe thead th {\n",
       "        text-align: right;\n",
       "    }\n",
       "</style>\n",
       "<table border=\"1\" class=\"dataframe\">\n",
       "  <thead>\n",
       "    <tr style=\"text-align: right;\">\n",
       "      <th></th>\n",
       "      <th>month</th>\n",
       "      <th>user_id</th>\n",
       "      <th>tariff</th>\n",
       "      <th>city</th>\n",
       "      <th>sum_mb_used</th>\n",
       "    </tr>\n",
       "  </thead>\n",
       "  <tbody>\n",
       "    <tr>\n",
       "      <td>0</td>\n",
       "      <td>1.0</td>\n",
       "      <td>1005</td>\n",
       "      <td>smart</td>\n",
       "      <td>Набережные Челны</td>\n",
       "      <td>2730.0</td>\n",
       "    </tr>\n",
       "    <tr>\n",
       "      <td>1</td>\n",
       "      <td>1.0</td>\n",
       "      <td>1032</td>\n",
       "      <td>smart</td>\n",
       "      <td>Ульяновск</td>\n",
       "      <td>24147.0</td>\n",
       "    </tr>\n",
       "    <tr>\n",
       "      <td>2</td>\n",
       "      <td>1.0</td>\n",
       "      <td>1045</td>\n",
       "      <td>smart</td>\n",
       "      <td>Улан-Удэ</td>\n",
       "      <td>2348.0</td>\n",
       "    </tr>\n",
       "    <tr>\n",
       "      <td>3</td>\n",
       "      <td>1.0</td>\n",
       "      <td>1055</td>\n",
       "      <td>smart</td>\n",
       "      <td>Казань</td>\n",
       "      <td>17111.0</td>\n",
       "    </tr>\n",
       "    <tr>\n",
       "      <td>4</td>\n",
       "      <td>1.0</td>\n",
       "      <td>1071</td>\n",
       "      <td>smart</td>\n",
       "      <td>Омск</td>\n",
       "      <td>15622.0</td>\n",
       "    </tr>\n",
       "    <tr>\n",
       "      <td>...</td>\n",
       "      <td>...</td>\n",
       "      <td>...</td>\n",
       "      <td>...</td>\n",
       "      <td>...</td>\n",
       "      <td>...</td>\n",
       "    </tr>\n",
       "    <tr>\n",
       "      <td>3198</td>\n",
       "      <td>12.0</td>\n",
       "      <td>1494</td>\n",
       "      <td>smart</td>\n",
       "      <td>Омск</td>\n",
       "      <td>17645.0</td>\n",
       "    </tr>\n",
       "    <tr>\n",
       "      <td>3199</td>\n",
       "      <td>12.0</td>\n",
       "      <td>1495</td>\n",
       "      <td>ultra</td>\n",
       "      <td>Иркутск</td>\n",
       "      <td>23450.0</td>\n",
       "    </tr>\n",
       "    <tr>\n",
       "      <td>3200</td>\n",
       "      <td>12.0</td>\n",
       "      <td>1496</td>\n",
       "      <td>smart</td>\n",
       "      <td>Вологда</td>\n",
       "      <td>20757.0</td>\n",
       "    </tr>\n",
       "    <tr>\n",
       "      <td>3201</td>\n",
       "      <td>12.0</td>\n",
       "      <td>1497</td>\n",
       "      <td>smart</td>\n",
       "      <td>Челябинск</td>\n",
       "      <td>19940.0</td>\n",
       "    </tr>\n",
       "    <tr>\n",
       "      <td>3202</td>\n",
       "      <td>12.0</td>\n",
       "      <td>1499</td>\n",
       "      <td>smart</td>\n",
       "      <td>Пермь</td>\n",
       "      <td>13077.0</td>\n",
       "    </tr>\n",
       "  </tbody>\n",
       "</table>\n",
       "<p>3203 rows × 5 columns</p>\n",
       "</div>"
      ],
      "text/plain": [
       "      month  user_id tariff              city  sum_mb_used\n",
       "0       1.0     1005  smart  Набережные Челны       2730.0\n",
       "1       1.0     1032  smart         Ульяновск      24147.0\n",
       "2       1.0     1045  smart          Улан-Удэ       2348.0\n",
       "3       1.0     1055  smart            Казань      17111.0\n",
       "4       1.0     1071  smart              Омск      15622.0\n",
       "...     ...      ...    ...               ...          ...\n",
       "3198   12.0     1494  smart              Омск      17645.0\n",
       "3199   12.0     1495  ultra           Иркутск      23450.0\n",
       "3200   12.0     1496  smart           Вологда      20757.0\n",
       "3201   12.0     1497  smart         Челябинск      19940.0\n",
       "3202   12.0     1499  smart             Пермь      13077.0\n",
       "\n",
       "[3203 rows x 5 columns]"
      ]
     },
     "execution_count": 27,
     "metadata": {},
     "output_type": "execute_result"
    }
   ],
   "source": [
    "users_internet_report = total_pivot_table(users_internet, 'month', 'mb_used', 'sum')\n",
    "users_internet_report.columns = ['month', 'user_id', 'tariff', 'city', 'sum_mb_used']\n",
    "print('Всего пользователей:',len(users_internet_report.groupby('user_id')))\n",
    "users_internet_report"
   ]
  },
  {
   "cell_type": "markdown",
   "metadata": {},
   "source": [
    "Создадим итоговую таблицу."
   ]
  },
  {
   "cell_type": "code",
   "execution_count": 28,
   "metadata": {
    "scrolled": true
   },
   "outputs": [
    {
     "name": "stdout",
     "output_type": "stream",
     "text": [
      "Всего пользователей: 498\n"
     ]
    },
    {
     "data": {
      "text/html": [
       "<div>\n",
       "<style scoped>\n",
       "    .dataframe tbody tr th:only-of-type {\n",
       "        vertical-align: middle;\n",
       "    }\n",
       "\n",
       "    .dataframe tbody tr th {\n",
       "        vertical-align: top;\n",
       "    }\n",
       "\n",
       "    .dataframe thead th {\n",
       "        text-align: right;\n",
       "    }\n",
       "</style>\n",
       "<table border=\"1\" class=\"dataframe\">\n",
       "  <thead>\n",
       "    <tr style=\"text-align: right;\">\n",
       "      <th></th>\n",
       "      <th>month</th>\n",
       "      <th>user_id</th>\n",
       "      <th>tariff</th>\n",
       "      <th>city</th>\n",
       "      <th>count_calls</th>\n",
       "      <th>sum_minutes</th>\n",
       "      <th>count_messages</th>\n",
       "      <th>sum_mb_used</th>\n",
       "    </tr>\n",
       "  </thead>\n",
       "  <tbody>\n",
       "    <tr>\n",
       "      <td>0</td>\n",
       "      <td>1.0</td>\n",
       "      <td>1005</td>\n",
       "      <td>smart</td>\n",
       "      <td>Набережные Челны</td>\n",
       "      <td>15.0</td>\n",
       "      <td>95.0</td>\n",
       "      <td>7.0</td>\n",
       "      <td>2730.0</td>\n",
       "    </tr>\n",
       "    <tr>\n",
       "      <td>1</td>\n",
       "      <td>1.0</td>\n",
       "      <td>1032</td>\n",
       "      <td>smart</td>\n",
       "      <td>Ульяновск</td>\n",
       "      <td>61.0</td>\n",
       "      <td>380.0</td>\n",
       "      <td>38.0</td>\n",
       "      <td>24147.0</td>\n",
       "    </tr>\n",
       "    <tr>\n",
       "      <td>2</td>\n",
       "      <td>1.0</td>\n",
       "      <td>1045</td>\n",
       "      <td>smart</td>\n",
       "      <td>Улан-Удэ</td>\n",
       "      <td>1.0</td>\n",
       "      <td>9.0</td>\n",
       "      <td>5.0</td>\n",
       "      <td>2348.0</td>\n",
       "    </tr>\n",
       "    <tr>\n",
       "      <td>3</td>\n",
       "      <td>1.0</td>\n",
       "      <td>1055</td>\n",
       "      <td>smart</td>\n",
       "      <td>Казань</td>\n",
       "      <td>64.0</td>\n",
       "      <td>551.0</td>\n",
       "      <td>30.0</td>\n",
       "      <td>17111.0</td>\n",
       "    </tr>\n",
       "    <tr>\n",
       "      <td>4</td>\n",
       "      <td>1.0</td>\n",
       "      <td>1071</td>\n",
       "      <td>smart</td>\n",
       "      <td>Омск</td>\n",
       "      <td>24.0</td>\n",
       "      <td>194.0</td>\n",
       "      <td>16.0</td>\n",
       "      <td>15622.0</td>\n",
       "    </tr>\n",
       "    <tr>\n",
       "      <td>...</td>\n",
       "      <td>...</td>\n",
       "      <td>...</td>\n",
       "      <td>...</td>\n",
       "      <td>...</td>\n",
       "      <td>...</td>\n",
       "      <td>...</td>\n",
       "      <td>...</td>\n",
       "      <td>...</td>\n",
       "    </tr>\n",
       "    <tr>\n",
       "      <td>3209</td>\n",
       "      <td>12.0</td>\n",
       "      <td>1231</td>\n",
       "      <td>ultra</td>\n",
       "      <td>Чебоксары</td>\n",
       "      <td>0.0</td>\n",
       "      <td>0.0</td>\n",
       "      <td>191.0</td>\n",
       "      <td>32481.0</td>\n",
       "    </tr>\n",
       "    <tr>\n",
       "      <td>3210</td>\n",
       "      <td>12.0</td>\n",
       "      <td>1328</td>\n",
       "      <td>ultra</td>\n",
       "      <td>Мурманск</td>\n",
       "      <td>0.0</td>\n",
       "      <td>0.0</td>\n",
       "      <td>7.0</td>\n",
       "      <td>39461.0</td>\n",
       "    </tr>\n",
       "    <tr>\n",
       "      <td>3211</td>\n",
       "      <td>12.0</td>\n",
       "      <td>1473</td>\n",
       "      <td>ultra</td>\n",
       "      <td>Красноярск</td>\n",
       "      <td>0.0</td>\n",
       "      <td>0.0</td>\n",
       "      <td>20.0</td>\n",
       "      <td>18432.0</td>\n",
       "    </tr>\n",
       "    <tr>\n",
       "      <td>3212</td>\n",
       "      <td>12.0</td>\n",
       "      <td>1489</td>\n",
       "      <td>smart</td>\n",
       "      <td>Санкт-Петербург</td>\n",
       "      <td>0.0</td>\n",
       "      <td>0.0</td>\n",
       "      <td>35.0</td>\n",
       "      <td>17341.0</td>\n",
       "    </tr>\n",
       "    <tr>\n",
       "      <td>3213</td>\n",
       "      <td>4.0</td>\n",
       "      <td>1476</td>\n",
       "      <td>ultra</td>\n",
       "      <td>Москва</td>\n",
       "      <td>0.0</td>\n",
       "      <td>0.0</td>\n",
       "      <td>0.0</td>\n",
       "      <td>531.0</td>\n",
       "    </tr>\n",
       "  </tbody>\n",
       "</table>\n",
       "<p>3214 rows × 8 columns</p>\n",
       "</div>"
      ],
      "text/plain": [
       "      month  user_id tariff              city  count_calls  sum_minutes  \\\n",
       "0       1.0     1005  smart  Набережные Челны         15.0         95.0   \n",
       "1       1.0     1032  smart         Ульяновск         61.0        380.0   \n",
       "2       1.0     1045  smart          Улан-Удэ          1.0          9.0   \n",
       "3       1.0     1055  smart            Казань         64.0        551.0   \n",
       "4       1.0     1071  smart              Омск         24.0        194.0   \n",
       "...     ...      ...    ...               ...          ...          ...   \n",
       "3209   12.0     1231  ultra         Чебоксары          0.0          0.0   \n",
       "3210   12.0     1328  ultra          Мурманск          0.0          0.0   \n",
       "3211   12.0     1473  ultra        Красноярск          0.0          0.0   \n",
       "3212   12.0     1489  smart   Санкт-Петербург          0.0          0.0   \n",
       "3213    4.0     1476  ultra            Москва          0.0          0.0   \n",
       "\n",
       "      count_messages  sum_mb_used  \n",
       "0                7.0       2730.0  \n",
       "1               38.0      24147.0  \n",
       "2                5.0       2348.0  \n",
       "3               30.0      17111.0  \n",
       "4               16.0      15622.0  \n",
       "...              ...          ...  \n",
       "3209           191.0      32481.0  \n",
       "3210             7.0      39461.0  \n",
       "3211            20.0      18432.0  \n",
       "3212            35.0      17341.0  \n",
       "3213             0.0        531.0  \n",
       "\n",
       "[3214 rows x 8 columns]"
      ]
     },
     "execution_count": 28,
     "metadata": {},
     "output_type": "execute_result"
    }
   ],
   "source": [
    "total_users = (users_calls_report\n",
    "               .merge(users_messages_report, how='outer', on=['user_id', 'month','tariff', 'city'])\n",
    "               .merge(users_internet_report, how='outer', on=['user_id', 'month', 'tariff', 'city']))\n",
    "print('Всего пользователей:',len(total_users.groupby('user_id')))\n",
    "total_users.fillna(0, inplace=True)\n",
    "total_users"
   ]
  },
  {
   "cell_type": "markdown",
   "metadata": {},
   "source": [
    "Проверим, те ли пользователи, не попали в итоговую таблицу. "
   ]
  },
  {
   "cell_type": "code",
   "execution_count": 29,
   "metadata": {
    "scrolled": true
   },
   "outputs": [
    {
     "data": {
      "text/plain": [
       "0"
      ]
     },
     "execution_count": 29,
     "metadata": {},
     "output_type": "execute_result"
    }
   ],
   "source": [
    "len(users_internet_report.query('user_id == 145827 & user_id == 51654')) "
   ]
  },
  {
   "cell_type": "markdown",
   "metadata": {},
   "source": [
    "Все верно, эти пользователи не пользовались тарифом и отключили его через неделю. Значит их считать не будем."
   ]
  },
  {
   "cell_type": "markdown",
   "metadata": {},
   "source": [
    "Посчитаем помесячную выручку с каждого пользователя и оформим все результаты в одной таблице."
   ]
  },
  {
   "cell_type": "code",
   "execution_count": 30,
   "metadata": {
    "scrolled": true
   },
   "outputs": [
    {
     "name": "stdout",
     "output_type": "stream",
     "text": [
      "Всего пользователей: 498\n"
     ]
    },
    {
     "data": {
      "text/html": [
       "<div>\n",
       "<style scoped>\n",
       "    .dataframe tbody tr th:only-of-type {\n",
       "        vertical-align: middle;\n",
       "    }\n",
       "\n",
       "    .dataframe tbody tr th {\n",
       "        vertical-align: top;\n",
       "    }\n",
       "\n",
       "    .dataframe thead th {\n",
       "        text-align: right;\n",
       "    }\n",
       "</style>\n",
       "<table border=\"1\" class=\"dataframe\">\n",
       "  <thead>\n",
       "    <tr style=\"text-align: right;\">\n",
       "      <th></th>\n",
       "      <th>month</th>\n",
       "      <th>user_id</th>\n",
       "      <th>tariff</th>\n",
       "      <th>city</th>\n",
       "      <th>count_calls</th>\n",
       "      <th>sum_minutes</th>\n",
       "      <th>count_messages</th>\n",
       "      <th>sum_mb_used</th>\n",
       "      <th>revenue</th>\n",
       "    </tr>\n",
       "  </thead>\n",
       "  <tbody>\n",
       "    <tr>\n",
       "      <td>0</td>\n",
       "      <td>1.0</td>\n",
       "      <td>1005</td>\n",
       "      <td>smart</td>\n",
       "      <td>Набережные Челны</td>\n",
       "      <td>15.0</td>\n",
       "      <td>95.0</td>\n",
       "      <td>7.0</td>\n",
       "      <td>2730.0</td>\n",
       "      <td>550.00</td>\n",
       "    </tr>\n",
       "    <tr>\n",
       "      <td>1</td>\n",
       "      <td>1.0</td>\n",
       "      <td>1032</td>\n",
       "      <td>smart</td>\n",
       "      <td>Ульяновск</td>\n",
       "      <td>61.0</td>\n",
       "      <td>380.0</td>\n",
       "      <td>38.0</td>\n",
       "      <td>24147.0</td>\n",
       "      <td>2266.21</td>\n",
       "    </tr>\n",
       "    <tr>\n",
       "      <td>2</td>\n",
       "      <td>1.0</td>\n",
       "      <td>1045</td>\n",
       "      <td>smart</td>\n",
       "      <td>Улан-Удэ</td>\n",
       "      <td>1.0</td>\n",
       "      <td>9.0</td>\n",
       "      <td>5.0</td>\n",
       "      <td>2348.0</td>\n",
       "      <td>550.00</td>\n",
       "    </tr>\n",
       "    <tr>\n",
       "      <td>3</td>\n",
       "      <td>1.0</td>\n",
       "      <td>1055</td>\n",
       "      <td>smart</td>\n",
       "      <td>Казань</td>\n",
       "      <td>64.0</td>\n",
       "      <td>551.0</td>\n",
       "      <td>30.0</td>\n",
       "      <td>17111.0</td>\n",
       "      <td>1044.99</td>\n",
       "    </tr>\n",
       "    <tr>\n",
       "      <td>4</td>\n",
       "      <td>1.0</td>\n",
       "      <td>1071</td>\n",
       "      <td>smart</td>\n",
       "      <td>Омск</td>\n",
       "      <td>24.0</td>\n",
       "      <td>194.0</td>\n",
       "      <td>16.0</td>\n",
       "      <td>15622.0</td>\n",
       "      <td>601.17</td>\n",
       "    </tr>\n",
       "    <tr>\n",
       "      <td>...</td>\n",
       "      <td>...</td>\n",
       "      <td>...</td>\n",
       "      <td>...</td>\n",
       "      <td>...</td>\n",
       "      <td>...</td>\n",
       "      <td>...</td>\n",
       "      <td>...</td>\n",
       "      <td>...</td>\n",
       "      <td>...</td>\n",
       "    </tr>\n",
       "    <tr>\n",
       "      <td>3209</td>\n",
       "      <td>12.0</td>\n",
       "      <td>1231</td>\n",
       "      <td>ultra</td>\n",
       "      <td>Чебоксары</td>\n",
       "      <td>0.0</td>\n",
       "      <td>0.0</td>\n",
       "      <td>191.0</td>\n",
       "      <td>32481.0</td>\n",
       "      <td>2207.96</td>\n",
       "    </tr>\n",
       "    <tr>\n",
       "      <td>3210</td>\n",
       "      <td>12.0</td>\n",
       "      <td>1328</td>\n",
       "      <td>ultra</td>\n",
       "      <td>Мурманск</td>\n",
       "      <td>0.0</td>\n",
       "      <td>0.0</td>\n",
       "      <td>7.0</td>\n",
       "      <td>39461.0</td>\n",
       "      <td>3230.42</td>\n",
       "    </tr>\n",
       "    <tr>\n",
       "      <td>3211</td>\n",
       "      <td>12.0</td>\n",
       "      <td>1473</td>\n",
       "      <td>ultra</td>\n",
       "      <td>Красноярск</td>\n",
       "      <td>0.0</td>\n",
       "      <td>0.0</td>\n",
       "      <td>20.0</td>\n",
       "      <td>18432.0</td>\n",
       "      <td>1950.00</td>\n",
       "    </tr>\n",
       "    <tr>\n",
       "      <td>3212</td>\n",
       "      <td>12.0</td>\n",
       "      <td>1489</td>\n",
       "      <td>smart</td>\n",
       "      <td>Санкт-Петербург</td>\n",
       "      <td>0.0</td>\n",
       "      <td>0.0</td>\n",
       "      <td>35.0</td>\n",
       "      <td>17341.0</td>\n",
       "      <td>936.91</td>\n",
       "    </tr>\n",
       "    <tr>\n",
       "      <td>3213</td>\n",
       "      <td>4.0</td>\n",
       "      <td>1476</td>\n",
       "      <td>ultra</td>\n",
       "      <td>Москва</td>\n",
       "      <td>0.0</td>\n",
       "      <td>0.0</td>\n",
       "      <td>0.0</td>\n",
       "      <td>531.0</td>\n",
       "      <td>1950.00</td>\n",
       "    </tr>\n",
       "  </tbody>\n",
       "</table>\n",
       "<p>3214 rows × 9 columns</p>\n",
       "</div>"
      ],
      "text/plain": [
       "      month  user_id tariff              city  count_calls  sum_minutes  \\\n",
       "0       1.0     1005  smart  Набережные Челны         15.0         95.0   \n",
       "1       1.0     1032  smart         Ульяновск         61.0        380.0   \n",
       "2       1.0     1045  smart          Улан-Удэ          1.0          9.0   \n",
       "3       1.0     1055  smart            Казань         64.0        551.0   \n",
       "4       1.0     1071  smart              Омск         24.0        194.0   \n",
       "...     ...      ...    ...               ...          ...          ...   \n",
       "3209   12.0     1231  ultra         Чебоксары          0.0          0.0   \n",
       "3210   12.0     1328  ultra          Мурманск          0.0          0.0   \n",
       "3211   12.0     1473  ultra        Красноярск          0.0          0.0   \n",
       "3212   12.0     1489  smart   Санкт-Петербург          0.0          0.0   \n",
       "3213    4.0     1476  ultra            Москва          0.0          0.0   \n",
       "\n",
       "      count_messages  sum_mb_used  revenue  \n",
       "0                7.0       2730.0   550.00  \n",
       "1               38.0      24147.0  2266.21  \n",
       "2                5.0       2348.0   550.00  \n",
       "3               30.0      17111.0  1044.99  \n",
       "4               16.0      15622.0   601.17  \n",
       "...              ...          ...      ...  \n",
       "3209           191.0      32481.0  2207.96  \n",
       "3210             7.0      39461.0  3230.42  \n",
       "3211            20.0      18432.0  1950.00  \n",
       "3212            35.0      17341.0   936.91  \n",
       "3213             0.0        531.0  1950.00  \n",
       "\n",
       "[3214 rows x 9 columns]"
      ]
     },
     "execution_count": 30,
     "metadata": {},
     "output_type": "execute_result"
    }
   ],
   "source": [
    "total_users['revenue'] = np.nan\n",
    "# для каждого тарифа посчитаем помесячную выручку с каждого пользователя\n",
    "for tariff in df_tariffs['tariff_name'].values:\n",
    "    total_users_tariff = total_users[total_users['tariff'] == tariff]\n",
    "    ind = df_tariffs[df_tariffs['tariff_name'] == tariff].index\n",
    "        \n",
    "    revenue_calls = (total_users_tariff['sum_minutes'] - df_tariffs.loc[ind,'minutes_included'].values) * df_tariffs.loc[ind,'rub_per_minute'].values\n",
    "    # если пользователь потратил меньше минут, чем было доступно, то оставшиеся минуты пропадают\n",
    "    revenue_calls[revenue_calls < 0] = 0\n",
    "    \n",
    "    revenue_messages = (total_users_tariff['count_messages'] - df_tariffs.loc[ind,'messages_included'].values) * df_tariffs.loc[ind,'rub_per_message'].values\n",
    "    revenue_messages[revenue_messages < 0] = 0\n",
    "    \n",
    "    revenue_internet = (total_users_tariff['sum_mb_used'] - df_tariffs.loc[ind,'mb_per_month_included'].values) / 1024 * df_tariffs.loc[ind,'rub_per_gb'].values\n",
    "    revenue_internet[revenue_internet < 0] = 0\n",
    "    \n",
    "    total_users['revenue'] = (total_users['revenue'].fillna(\n",
    "        revenue_calls + revenue_messages + revenue_internet + df_tariffs.loc[ind,'rub_monthly_fee'].values\n",
    "    )).round(2)\n",
    "\n",
    "print('Всего пользователей:',len(total_users.groupby('user_id')))    \n",
    "total_users"
   ]
  },
  {
   "cell_type": "markdown",
   "metadata": {},
   "source": [
    "### Вывод"
   ]
  },
  {
   "cell_type": "markdown",
   "metadata": {},
   "source": [
    "Округлили значения и изменили тип данных с типа float64 на int64 в колонке duration таблицы df_calls и в колонке mb_used таблицы df_internet. Нулевые значения оставили так как оплата за услугу начинается с 1 сек.  \n",
    "Все даты привели к формату `datetime64`.  \n",
    "Расчитали: количество сделанных звонков и израсходованных минут разговора по месяцам, количество отправленных сообщений по месяцам, объем израсходованного интернет-трафика по месяцам, помесячную выручку с каждого пользователя.\n",
    "В итоговой таблице оставили 498 пользователей, так как 2 пользователя не использовали тариф и отключили его через неделю. "
   ]
  },
  {
   "cell_type": "markdown",
   "metadata": {},
   "source": [
    "### 3. Анализ данных"
   ]
  },
  {
   "cell_type": "markdown",
   "metadata": {},
   "source": [
    "Посмотрим сколько минут разговора, сколько сообщений и какой объём интернет-трафика требуется пользователям каждого тарифа в месяц."
   ]
  },
  {
   "cell_type": "code",
   "execution_count": 31,
   "metadata": {
    "scrolled": true
   },
   "outputs": [
    {
     "data": {
      "text/html": [
       "<div>\n",
       "<style scoped>\n",
       "    .dataframe tbody tr th:only-of-type {\n",
       "        vertical-align: middle;\n",
       "    }\n",
       "\n",
       "    .dataframe tbody tr th {\n",
       "        vertical-align: top;\n",
       "    }\n",
       "\n",
       "    .dataframe thead th {\n",
       "        text-align: right;\n",
       "    }\n",
       "</style>\n",
       "<table border=\"1\" class=\"dataframe\">\n",
       "  <thead>\n",
       "    <tr style=\"text-align: right;\">\n",
       "      <th></th>\n",
       "      <th></th>\n",
       "      <th>count_calls</th>\n",
       "      <th>count_messages</th>\n",
       "      <th>revenue</th>\n",
       "      <th>sum_mb_used</th>\n",
       "      <th>sum_minutes</th>\n",
       "      <th>count_users</th>\n",
       "    </tr>\n",
       "    <tr>\n",
       "      <th>tariff</th>\n",
       "      <th>month</th>\n",
       "      <th></th>\n",
       "      <th></th>\n",
       "      <th></th>\n",
       "      <th></th>\n",
       "      <th></th>\n",
       "      <th></th>\n",
       "    </tr>\n",
       "  </thead>\n",
       "  <tbody>\n",
       "    <tr>\n",
       "      <td rowspan=\"12\" valign=\"top\">smart</td>\n",
       "      <td>1.0</td>\n",
       "      <td>20.5</td>\n",
       "      <td>15.0</td>\n",
       "      <td>550.00</td>\n",
       "      <td>7107.0</td>\n",
       "      <td>162.5</td>\n",
       "      <td>34</td>\n",
       "    </tr>\n",
       "    <tr>\n",
       "      <td>2.0</td>\n",
       "      <td>38.5</td>\n",
       "      <td>20.0</td>\n",
       "      <td>550.00</td>\n",
       "      <td>12572.5</td>\n",
       "      <td>258.0</td>\n",
       "      <td>58</td>\n",
       "    </tr>\n",
       "    <tr>\n",
       "      <td>3.0</td>\n",
       "      <td>59.0</td>\n",
       "      <td>23.0</td>\n",
       "      <td>876.84</td>\n",
       "      <td>15690.0</td>\n",
       "      <td>409.0</td>\n",
       "      <td>77</td>\n",
       "    </tr>\n",
       "    <tr>\n",
       "      <td>4.0</td>\n",
       "      <td>52.0</td>\n",
       "      <td>28.0</td>\n",
       "      <td>587.50</td>\n",
       "      <td>14104.5</td>\n",
       "      <td>368.5</td>\n",
       "      <td>112</td>\n",
       "    </tr>\n",
       "    <tr>\n",
       "      <td>5.0</td>\n",
       "      <td>59.0</td>\n",
       "      <td>30.0</td>\n",
       "      <td>935.94</td>\n",
       "      <td>16343.0</td>\n",
       "      <td>433.0</td>\n",
       "      <td>141</td>\n",
       "    </tr>\n",
       "    <tr>\n",
       "      <td>6.0</td>\n",
       "      <td>59.0</td>\n",
       "      <td>28.0</td>\n",
       "      <td>884.04</td>\n",
       "      <td>16095.5</td>\n",
       "      <td>400.0</td>\n",
       "      <td>164</td>\n",
       "    </tr>\n",
       "    <tr>\n",
       "      <td>7.0</td>\n",
       "      <td>58.0</td>\n",
       "      <td>29.0</td>\n",
       "      <td>913.67</td>\n",
       "      <td>15948.0</td>\n",
       "      <td>414.0</td>\n",
       "      <td>201</td>\n",
       "    </tr>\n",
       "    <tr>\n",
       "      <td>8.0</td>\n",
       "      <td>62.0</td>\n",
       "      <td>27.0</td>\n",
       "      <td>972.07</td>\n",
       "      <td>16855.0</td>\n",
       "      <td>432.0</td>\n",
       "      <td>235</td>\n",
       "    </tr>\n",
       "    <tr>\n",
       "      <td>9.0</td>\n",
       "      <td>61.0</td>\n",
       "      <td>30.0</td>\n",
       "      <td>932.32</td>\n",
       "      <td>16050.0</td>\n",
       "      <td>435.0</td>\n",
       "      <td>260</td>\n",
       "    </tr>\n",
       "    <tr>\n",
       "      <td>10.0</td>\n",
       "      <td>60.5</td>\n",
       "      <td>30.0</td>\n",
       "      <td>1058.94</td>\n",
       "      <td>17248.5</td>\n",
       "      <td>427.5</td>\n",
       "      <td>294</td>\n",
       "    </tr>\n",
       "    <tr>\n",
       "      <td>11.0</td>\n",
       "      <td>60.0</td>\n",
       "      <td>28.0</td>\n",
       "      <td>1099.22</td>\n",
       "      <td>17036.5</td>\n",
       "      <td>428.5</td>\n",
       "      <td>316</td>\n",
       "    </tr>\n",
       "    <tr>\n",
       "      <td>12.0</td>\n",
       "      <td>65.0</td>\n",
       "      <td>29.0</td>\n",
       "      <td>1191.02</td>\n",
       "      <td>17741.0</td>\n",
       "      <td>471.0</td>\n",
       "      <td>337</td>\n",
       "    </tr>\n",
       "    <tr>\n",
       "      <td rowspan=\"12\" valign=\"top\">ultra</td>\n",
       "      <td>1.0</td>\n",
       "      <td>51.0</td>\n",
       "      <td>32.0</td>\n",
       "      <td>1950.00</td>\n",
       "      <td>14808.0</td>\n",
       "      <td>382.0</td>\n",
       "      <td>9</td>\n",
       "    </tr>\n",
       "    <tr>\n",
       "      <td>2.0</td>\n",
       "      <td>25.0</td>\n",
       "      <td>5.5</td>\n",
       "      <td>1950.00</td>\n",
       "      <td>7335.5</td>\n",
       "      <td>168.0</td>\n",
       "      <td>24</td>\n",
       "    </tr>\n",
       "    <tr>\n",
       "      <td>3.0</td>\n",
       "      <td>57.0</td>\n",
       "      <td>20.0</td>\n",
       "      <td>1950.00</td>\n",
       "      <td>17513.0</td>\n",
       "      <td>403.0</td>\n",
       "      <td>37</td>\n",
       "    </tr>\n",
       "    <tr>\n",
       "      <td>4.0</td>\n",
       "      <td>61.0</td>\n",
       "      <td>17.0</td>\n",
       "      <td>1950.00</td>\n",
       "      <td>16662.0</td>\n",
       "      <td>453.0</td>\n",
       "      <td>55</td>\n",
       "    </tr>\n",
       "    <tr>\n",
       "      <td>5.0</td>\n",
       "      <td>75.0</td>\n",
       "      <td>25.0</td>\n",
       "      <td>1950.00</td>\n",
       "      <td>18717.0</td>\n",
       "      <td>519.0</td>\n",
       "      <td>67</td>\n",
       "    </tr>\n",
       "    <tr>\n",
       "      <td>6.0</td>\n",
       "      <td>68.0</td>\n",
       "      <td>27.5</td>\n",
       "      <td>1950.00</td>\n",
       "      <td>19495.5</td>\n",
       "      <td>479.0</td>\n",
       "      <td>84</td>\n",
       "    </tr>\n",
       "    <tr>\n",
       "      <td>7.0</td>\n",
       "      <td>77.0</td>\n",
       "      <td>38.0</td>\n",
       "      <td>1950.00</td>\n",
       "      <td>20034.0</td>\n",
       "      <td>542.0</td>\n",
       "      <td>91</td>\n",
       "    </tr>\n",
       "    <tr>\n",
       "      <td>8.0</td>\n",
       "      <td>73.0</td>\n",
       "      <td>40.0</td>\n",
       "      <td>1950.00</td>\n",
       "      <td>18945.0</td>\n",
       "      <td>500.0</td>\n",
       "      <td>107</td>\n",
       "    </tr>\n",
       "    <tr>\n",
       "      <td>9.0</td>\n",
       "      <td>74.0</td>\n",
       "      <td>43.0</td>\n",
       "      <td>1950.00</td>\n",
       "      <td>19675.0</td>\n",
       "      <td>520.0</td>\n",
       "      <td>115</td>\n",
       "    </tr>\n",
       "    <tr>\n",
       "      <td>10.0</td>\n",
       "      <td>75.0</td>\n",
       "      <td>49.0</td>\n",
       "      <td>1950.00</td>\n",
       "      <td>20359.0</td>\n",
       "      <td>533.0</td>\n",
       "      <td>123</td>\n",
       "    </tr>\n",
       "    <tr>\n",
       "      <td>11.0</td>\n",
       "      <td>77.0</td>\n",
       "      <td>43.0</td>\n",
       "      <td>1950.00</td>\n",
       "      <td>18398.0</td>\n",
       "      <td>546.0</td>\n",
       "      <td>134</td>\n",
       "    </tr>\n",
       "    <tr>\n",
       "      <td>12.0</td>\n",
       "      <td>82.0</td>\n",
       "      <td>51.0</td>\n",
       "      <td>1950.00</td>\n",
       "      <td>21994.0</td>\n",
       "      <td>584.0</td>\n",
       "      <td>139</td>\n",
       "    </tr>\n",
       "  </tbody>\n",
       "</table>\n",
       "</div>"
      ],
      "text/plain": [
       "              count_calls  count_messages  revenue  sum_mb_used  sum_minutes  \\\n",
       "tariff month                                                                   \n",
       "smart  1.0           20.5            15.0   550.00       7107.0        162.5   \n",
       "       2.0           38.5            20.0   550.00      12572.5        258.0   \n",
       "       3.0           59.0            23.0   876.84      15690.0        409.0   \n",
       "       4.0           52.0            28.0   587.50      14104.5        368.5   \n",
       "       5.0           59.0            30.0   935.94      16343.0        433.0   \n",
       "       6.0           59.0            28.0   884.04      16095.5        400.0   \n",
       "       7.0           58.0            29.0   913.67      15948.0        414.0   \n",
       "       8.0           62.0            27.0   972.07      16855.0        432.0   \n",
       "       9.0           61.0            30.0   932.32      16050.0        435.0   \n",
       "       10.0          60.5            30.0  1058.94      17248.5        427.5   \n",
       "       11.0          60.0            28.0  1099.22      17036.5        428.5   \n",
       "       12.0          65.0            29.0  1191.02      17741.0        471.0   \n",
       "ultra  1.0           51.0            32.0  1950.00      14808.0        382.0   \n",
       "       2.0           25.0             5.5  1950.00       7335.5        168.0   \n",
       "       3.0           57.0            20.0  1950.00      17513.0        403.0   \n",
       "       4.0           61.0            17.0  1950.00      16662.0        453.0   \n",
       "       5.0           75.0            25.0  1950.00      18717.0        519.0   \n",
       "       6.0           68.0            27.5  1950.00      19495.5        479.0   \n",
       "       7.0           77.0            38.0  1950.00      20034.0        542.0   \n",
       "       8.0           73.0            40.0  1950.00      18945.0        500.0   \n",
       "       9.0           74.0            43.0  1950.00      19675.0        520.0   \n",
       "       10.0          75.0            49.0  1950.00      20359.0        533.0   \n",
       "       11.0          77.0            43.0  1950.00      18398.0        546.0   \n",
       "       12.0          82.0            51.0  1950.00      21994.0        584.0   \n",
       "\n",
       "              count_users  \n",
       "tariff month               \n",
       "smart  1.0             34  \n",
       "       2.0             58  \n",
       "       3.0             77  \n",
       "       4.0            112  \n",
       "       5.0            141  \n",
       "       6.0            164  \n",
       "       7.0            201  \n",
       "       8.0            235  \n",
       "       9.0            260  \n",
       "       10.0           294  \n",
       "       11.0           316  \n",
       "       12.0           337  \n",
       "ultra  1.0              9  \n",
       "       2.0             24  \n",
       "       3.0             37  \n",
       "       4.0             55  \n",
       "       5.0             67  \n",
       "       6.0             84  \n",
       "       7.0             91  \n",
       "       8.0            107  \n",
       "       9.0            115  \n",
       "       10.0           123  \n",
       "       11.0           134  \n",
       "       12.0           139  "
      ]
     },
     "execution_count": 31,
     "metadata": {},
     "output_type": "execute_result"
    }
   ],
   "source": [
    "table_tariffs = total_users.pivot_table( index=['tariff', 'month'], \n",
    "                        values=['count_calls', 'sum_minutes', 'count_messages', 'sum_mb_used', 'revenue'],\n",
    "                        aggfunc='median'\n",
    "                       ).round(2)\n",
    "table_tariffs['count_users'] = total_users.groupby(['tariff','month'])['user_id'].count()\n",
    "table_tariffs"
   ]
  },
  {
   "cell_type": "code",
   "execution_count": 32,
   "metadata": {
    "scrolled": false
   },
   "outputs": [
    {
     "data": {
      "text/plain": [
       "<matplotlib.legend.Legend at 0x7fe30ad39e50>"
      ]
     },
     "execution_count": 32,
     "metadata": {},
     "output_type": "execute_result"
    },
    {
     "data": {
      "image/png": "[encoded data removed]",
      "text/plain": [
       "<Figure size 432x288 with 2 Axes>"
      ]
     },
     "metadata": {
      "needs_background": "light"
     },
     "output_type": "display_data"
    }
   ],
   "source": [
    "ax1 = table_tariffs.loc['smart'].loc[:,['count_messages','revenue','sum_minutes']].plot(title='Тариф \"smart\"')\n",
    "ax1.set_ylabel('count')\n",
    "ax2 = ax1.twinx()\n",
    "ax2.spines['right'].set_position(('axes', 1.0))\n",
    "ax1.legend(bbox_to_anchor=(-0.15, 0.7))\n",
    "table_tariffs.loc['smart']['sum_mb_used'].plot(ax=ax2, style='r').set_ylabel('sum_mb_used')\n",
    "ax2.legend(bbox_to_anchor=(1.52, 0.7))"
   ]
  },
  {
   "cell_type": "code",
   "execution_count": 33,
   "metadata": {},
   "outputs": [
    {
     "data": {
      "text/plain": [
       "<matplotlib.legend.Legend at 0x7fe30bc4abd0>"
      ]
     },
     "execution_count": 33,
     "metadata": {},
     "output_type": "execute_result"
    },
    {
     "data": {
      "image/png": "[encoded data removed]",
      "text/plain": [
       "<Figure size 432x288 with 2 Axes>"
      ]
     },
     "metadata": {
      "needs_background": "light"
     },
     "output_type": "display_data"
    }
   ],
   "source": [
    "ax1 = table_tariffs.loc['ultra'].loc[:,['count_messages','revenue','sum_minutes']].plot(title='Тариф \"ultra\"')\n",
    "ax1.set_ylabel('count')\n",
    "ax2 = ax1.twinx()\n",
    "ax2.spines['right'].set_position(('axes', 1.0))\n",
    "ax1.legend(bbox_to_anchor=(-0.15, 0.7))\n",
    "table_tariffs.loc['smart']['sum_mb_used'].plot(ax=ax2, style='r').set_ylabel('sum_mb_used')\n",
    "ax2.legend(bbox_to_anchor=(1.52, 0.7))"
   ]
  },
  {
   "cell_type": "markdown",
   "metadata": {},
   "source": [
    "Тариф `smart` привлекает больше людей, чем `ultra`, это и понятно, цена за месяц услуг меньше в 3,5 раза.  \n",
    "При этом пользователям чаще всего не хватает стандартного пакета. В среднем, лишь 2 месяца  принесли стандартную стоимость. В остальных месяцах пользователи доплачивали сверх пакета.  \n",
    "Тариф `ultra` для большинства пользователей включает достаточный пакет, поэтому доплаты не требуется.  \n",
    "На обоих тарифах в течение года подключаются новые абоненты, медианные значения количественных метрик тоже растут."
   ]
  },
  {
   "cell_type": "code",
   "execution_count": 34,
   "metadata": {
    "scrolled": false
   },
   "outputs": [
    {
     "data": {
      "text/html": [
       "<div>\n",
       "<style scoped>\n",
       "    .dataframe tbody tr th:only-of-type {\n",
       "        vertical-align: middle;\n",
       "    }\n",
       "\n",
       "    .dataframe tbody tr th {\n",
       "        vertical-align: top;\n",
       "    }\n",
       "\n",
       "    .dataframe thead th {\n",
       "        text-align: right;\n",
       "    }\n",
       "</style>\n",
       "<table border=\"1\" class=\"dataframe\">\n",
       "  <thead>\n",
       "    <tr style=\"text-align: right;\">\n",
       "      <th></th>\n",
       "      <th>month</th>\n",
       "      <th>user_id</th>\n",
       "      <th>count_calls</th>\n",
       "      <th>sum_minutes</th>\n",
       "      <th>count_messages</th>\n",
       "      <th>sum_mb_used</th>\n",
       "      <th>revenue</th>\n",
       "    </tr>\n",
       "  </thead>\n",
       "  <tbody>\n",
       "    <tr>\n",
       "      <td>count</td>\n",
       "      <td>2229.00</td>\n",
       "      <td>2229.00</td>\n",
       "      <td>2229.00</td>\n",
       "      <td>2229.00</td>\n",
       "      <td>2229.00</td>\n",
       "      <td>2229.00</td>\n",
       "      <td>2229.00</td>\n",
       "    </tr>\n",
       "    <tr>\n",
       "      <td>mean</td>\n",
       "      <td>8.35</td>\n",
       "      <td>1246.51</td>\n",
       "      <td>58.46</td>\n",
       "      <td>417.93</td>\n",
       "      <td>33.38</td>\n",
       "      <td>16229.19</td>\n",
       "      <td>1233.35</td>\n",
       "    </tr>\n",
       "    <tr>\n",
       "      <td>std</td>\n",
       "      <td>2.92</td>\n",
       "      <td>146.12</td>\n",
       "      <td>25.94</td>\n",
       "      <td>190.31</td>\n",
       "      <td>28.23</td>\n",
       "      <td>5877.58</td>\n",
       "      <td>787.69</td>\n",
       "    </tr>\n",
       "    <tr>\n",
       "      <td>min</td>\n",
       "      <td>1.00</td>\n",
       "      <td>1001.00</td>\n",
       "      <td>0.00</td>\n",
       "      <td>0.00</td>\n",
       "      <td>0.00</td>\n",
       "      <td>0.00</td>\n",
       "      <td>550.00</td>\n",
       "    </tr>\n",
       "    <tr>\n",
       "      <td>25%</td>\n",
       "      <td>6.00</td>\n",
       "      <td>1121.00</td>\n",
       "      <td>40.00</td>\n",
       "      <td>282.00</td>\n",
       "      <td>10.00</td>\n",
       "      <td>12658.00</td>\n",
       "      <td>550.00</td>\n",
       "    </tr>\n",
       "    <tr>\n",
       "      <td>50%</td>\n",
       "      <td>9.00</td>\n",
       "      <td>1239.00</td>\n",
       "      <td>60.00</td>\n",
       "      <td>422.00</td>\n",
       "      <td>28.00</td>\n",
       "      <td>16531.00</td>\n",
       "      <td>959.90</td>\n",
       "    </tr>\n",
       "    <tr>\n",
       "      <td>75%</td>\n",
       "      <td>11.00</td>\n",
       "      <td>1376.00</td>\n",
       "      <td>76.00</td>\n",
       "      <td>545.00</td>\n",
       "      <td>51.00</td>\n",
       "      <td>20068.00</td>\n",
       "      <td>1668.12</td>\n",
       "    </tr>\n",
       "    <tr>\n",
       "      <td>max</td>\n",
       "      <td>12.00</td>\n",
       "      <td>1499.00</td>\n",
       "      <td>198.00</td>\n",
       "      <td>1435.00</td>\n",
       "      <td>143.00</td>\n",
       "      <td>38610.00</td>\n",
       "      <td>6711.02</td>\n",
       "    </tr>\n",
       "  </tbody>\n",
       "</table>\n",
       "</div>"
      ],
      "text/plain": [
       "         month  user_id  count_calls  sum_minutes  count_messages  \\\n",
       "count  2229.00  2229.00      2229.00      2229.00         2229.00   \n",
       "mean      8.35  1246.51        58.46       417.93           33.38   \n",
       "std       2.92   146.12        25.94       190.31           28.23   \n",
       "min       1.00  1001.00         0.00         0.00            0.00   \n",
       "25%       6.00  1121.00        40.00       282.00           10.00   \n",
       "50%       9.00  1239.00        60.00       422.00           28.00   \n",
       "75%      11.00  1376.00        76.00       545.00           51.00   \n",
       "max      12.00  1499.00       198.00      1435.00          143.00   \n",
       "\n",
       "       sum_mb_used  revenue  \n",
       "count      2229.00  2229.00  \n",
       "mean      16229.19  1233.35  \n",
       "std        5877.58   787.69  \n",
       "min           0.00   550.00  \n",
       "25%       12658.00   550.00  \n",
       "50%       16531.00   959.90  \n",
       "75%       20068.00  1668.12  \n",
       "max       38610.00  6711.02  "
      ]
     },
     "execution_count": 34,
     "metadata": {},
     "output_type": "execute_result"
    }
   ],
   "source": [
    "total_users[total_users['tariff'] == 'smart'].describe().round(2)"
   ]
  },
  {
   "cell_type": "markdown",
   "metadata": {},
   "source": [
    "Если рассмотреть в целом по году, то при тарифе `smart` пользователям, в среднем, не хватает объема интернет-трафика. 50% пользователей вместо 15360 Мб используют до 16531 Мб и поэтому платят больше - 960р.  \n",
    "Разница медианного значения и среднего в 273р показывает, что многие пользователи не укладываются даже в 960р и платят цену примерно в 2 раза больше стандартной и больше."
   ]
  },
  {
   "cell_type": "code",
   "execution_count": 35,
   "metadata": {
    "scrolled": true
   },
   "outputs": [
    {
     "data": {
      "text/html": [
       "<div>\n",
       "<style scoped>\n",
       "    .dataframe tbody tr th:only-of-type {\n",
       "        vertical-align: middle;\n",
       "    }\n",
       "\n",
       "    .dataframe tbody tr th {\n",
       "        vertical-align: top;\n",
       "    }\n",
       "\n",
       "    .dataframe thead th {\n",
       "        text-align: right;\n",
       "    }\n",
       "</style>\n",
       "<table border=\"1\" class=\"dataframe\">\n",
       "  <thead>\n",
       "    <tr style=\"text-align: right;\">\n",
       "      <th></th>\n",
       "      <th>month</th>\n",
       "      <th>user_id</th>\n",
       "      <th>count_calls</th>\n",
       "      <th>sum_minutes</th>\n",
       "      <th>count_messages</th>\n",
       "      <th>sum_mb_used</th>\n",
       "      <th>revenue</th>\n",
       "    </tr>\n",
       "  </thead>\n",
       "  <tbody>\n",
       "    <tr>\n",
       "      <td>count</td>\n",
       "      <td>985.00</td>\n",
       "      <td>985.00</td>\n",
       "      <td>985.00</td>\n",
       "      <td>985.00</td>\n",
       "      <td>985.00</td>\n",
       "      <td>985.00</td>\n",
       "      <td>985.00</td>\n",
       "    </tr>\n",
       "    <tr>\n",
       "      <td>mean</td>\n",
       "      <td>8.25</td>\n",
       "      <td>1263.09</td>\n",
       "      <td>73.39</td>\n",
       "      <td>526.62</td>\n",
       "      <td>49.36</td>\n",
       "      <td>19486.90</td>\n",
       "      <td>2060.53</td>\n",
       "    </tr>\n",
       "    <tr>\n",
       "      <td>std</td>\n",
       "      <td>2.87</td>\n",
       "      <td>140.69</td>\n",
       "      <td>43.92</td>\n",
       "      <td>317.61</td>\n",
       "      <td>47.80</td>\n",
       "      <td>10096.32</td>\n",
       "      <td>356.31</td>\n",
       "    </tr>\n",
       "    <tr>\n",
       "      <td>min</td>\n",
       "      <td>1.00</td>\n",
       "      <td>1000.00</td>\n",
       "      <td>0.00</td>\n",
       "      <td>0.00</td>\n",
       "      <td>0.00</td>\n",
       "      <td>0.00</td>\n",
       "      <td>1950.00</td>\n",
       "    </tr>\n",
       "    <tr>\n",
       "      <td>25%</td>\n",
       "      <td>6.00</td>\n",
       "      <td>1143.00</td>\n",
       "      <td>41.00</td>\n",
       "      <td>284.00</td>\n",
       "      <td>6.00</td>\n",
       "      <td>11785.00</td>\n",
       "      <td>1950.00</td>\n",
       "    </tr>\n",
       "    <tr>\n",
       "      <td>50%</td>\n",
       "      <td>9.00</td>\n",
       "      <td>1277.00</td>\n",
       "      <td>74.00</td>\n",
       "      <td>518.00</td>\n",
       "      <td>38.00</td>\n",
       "      <td>19324.00</td>\n",
       "      <td>1950.00</td>\n",
       "    </tr>\n",
       "    <tr>\n",
       "      <td>75%</td>\n",
       "      <td>11.00</td>\n",
       "      <td>1381.00</td>\n",
       "      <td>104.00</td>\n",
       "      <td>752.00</td>\n",
       "      <td>79.00</td>\n",
       "      <td>26863.00</td>\n",
       "      <td>1950.00</td>\n",
       "    </tr>\n",
       "    <tr>\n",
       "      <td>max</td>\n",
       "      <td>12.00</td>\n",
       "      <td>1495.00</td>\n",
       "      <td>244.00</td>\n",
       "      <td>1673.00</td>\n",
       "      <td>224.00</td>\n",
       "      <td>49789.00</td>\n",
       "      <td>4743.31</td>\n",
       "    </tr>\n",
       "  </tbody>\n",
       "</table>\n",
       "</div>"
      ],
      "text/plain": [
       "        month  user_id  count_calls  sum_minutes  count_messages  sum_mb_used  \\\n",
       "count  985.00   985.00       985.00       985.00          985.00       985.00   \n",
       "mean     8.25  1263.09        73.39       526.62           49.36     19486.90   \n",
       "std      2.87   140.69        43.92       317.61           47.80     10096.32   \n",
       "min      1.00  1000.00         0.00         0.00            0.00         0.00   \n",
       "25%      6.00  1143.00        41.00       284.00            6.00     11785.00   \n",
       "50%      9.00  1277.00        74.00       518.00           38.00     19324.00   \n",
       "75%     11.00  1381.00       104.00       752.00           79.00     26863.00   \n",
       "max     12.00  1495.00       244.00      1673.00          224.00     49789.00   \n",
       "\n",
       "       revenue  \n",
       "count   985.00  \n",
       "mean   2060.53  \n",
       "std     356.31  \n",
       "min    1950.00  \n",
       "25%    1950.00  \n",
       "50%    1950.00  \n",
       "75%    1950.00  \n",
       "max    4743.31  "
      ]
     },
     "execution_count": 35,
     "metadata": {},
     "output_type": "execute_result"
    }
   ],
   "source": [
    "total_users[total_users['tariff'] == 'ultra'].describe().round(2)"
   ]
  },
  {
   "cell_type": "markdown",
   "metadata": {},
   "source": [
    "Не все пользователи тарифа `ultra` укладываются в стандартный пакет, но их мало. По среднему значению видно влияние выбросов, оно как раз отличается от медианного в большую сторону, но всего на 110р. "
   ]
  },
  {
   "cell_type": "markdown",
   "metadata": {},
   "source": [
    "Посчитаем медиану, чтобы исключить влияние выбросов, дисперсию и стандартное отклонение выручки для каждого тарифа. "
   ]
  },
  {
   "cell_type": "code",
   "execution_count": 36,
   "metadata": {
    "scrolled": false
   },
   "outputs": [
    {
     "data": {
      "text/html": [
       "<div>\n",
       "<style scoped>\n",
       "    .dataframe tbody tr th:only-of-type {\n",
       "        vertical-align: middle;\n",
       "    }\n",
       "\n",
       "    .dataframe tbody tr th {\n",
       "        vertical-align: top;\n",
       "    }\n",
       "\n",
       "    .dataframe thead th {\n",
       "        text-align: right;\n",
       "    }\n",
       "</style>\n",
       "<table border=\"1\" class=\"dataframe\">\n",
       "  <thead>\n",
       "    <tr style=\"text-align: right;\">\n",
       "      <th></th>\n",
       "      <th>tariff</th>\n",
       "      <th>variance</th>\n",
       "      <th>standart_deviation</th>\n",
       "      <th>median</th>\n",
       "    </tr>\n",
       "  </thead>\n",
       "  <tbody>\n",
       "    <tr>\n",
       "      <td>0</td>\n",
       "      <td>smart</td>\n",
       "      <td>620452.58</td>\n",
       "      <td>787.69</td>\n",
       "      <td>959.9</td>\n",
       "    </tr>\n",
       "    <tr>\n",
       "      <td>1</td>\n",
       "      <td>ultra</td>\n",
       "      <td>126953.29</td>\n",
       "      <td>356.31</td>\n",
       "      <td>1950.0</td>\n",
       "    </tr>\n",
       "  </tbody>\n",
       "</table>\n",
       "</div>"
      ],
      "text/plain": [
       "  tariff   variance  standart_deviation  median\n",
       "0  smart  620452.58              787.69   959.9\n",
       "1  ultra  126953.29              356.31  1950.0"
      ]
     },
     "execution_count": 36,
     "metadata": {},
     "output_type": "execute_result"
    }
   ],
   "source": [
    "def metric(tariff):\n",
    "\n",
    "    m_revenue_tariff = total_users[total_users['tariff'] == tariff]['revenue']\n",
    "    variance_tariff = np.var(m_revenue_tariff.values,ddof=1).round(2)\n",
    "    st_dev_tariff = np.sqrt(variance_tariff).round(2)\n",
    "    median_tariff = m_revenue_tariff.median()\n",
    "    return variance_tariff, st_dev_tariff, median_tariff\n",
    "    \n",
    "metrics_smart = metric('smart')\n",
    "metrics_ultra = metric('ultra')\n",
    "metrics = pd.DataFrame({'tariff': ['smart', 'ultra'],\n",
    "                        'variance': [metrics_smart[0], metrics_ultra[0]],\n",
    "                        'standart_deviation': [metrics_smart[1], metrics_ultra[1]],\n",
    "                        'median': [metrics_smart[2], metrics_ultra[2]]\n",
    "                       })\n",
    "metrics"
   ]
  },
  {
   "cell_type": "markdown",
   "metadata": {},
   "source": [
    "Видно, что средняя выручка тарифа `ultra` в 2 раза больше, чем средняя выручка тарифа `smart`.  \n",
    "При этом вариативность дисперсии и стандартного отклонения существенно ниже в тарифе `ultra`. В тарифе `smart` менее стабильные пользователи."
   ]
  },
  {
   "cell_type": "markdown",
   "metadata": {},
   "source": [
    "Посмотрим на гистограммы количественных переменных."
   ]
  },
  {
   "cell_type": "code",
   "execution_count": 37,
   "metadata": {
    "scrolled": false
   },
   "outputs": [
    {
     "data": {
      "image/png": "[encoded data removed]",
      "text/plain": [
       "<Figure size 1080x864 with 6 Axes>"
      ]
     },
     "metadata": {
      "needs_background": "light"
     },
     "output_type": "display_data"
    }
   ],
   "source": [
    "fig, axes = plt.subplots(3,2, figsize=(15,12))  \n",
    "columns = ['count_calls', 'sum_minutes', 'count_messages','sum_mb_used', 'revenue']\n",
    "for ind, col in enumerate(columns):\n",
    "    total_users[total_users['tariff'] == 'smart'][col].plot(\n",
    "        kind='hist',grid=True, alpha=0.6, bins=50, ax=axes[ind // 2][ind % 2], label='smart', legend=True\n",
    "    ).set_xlabel(col)\n",
    "    \n",
    "    total_users[total_users['tariff'] == 'ultra'][col].plot(\n",
    "       kind='hist',grid=True, alpha=0.6, bins=50, ax=axes[ind // 2][ind % 2], label='ultra', legend=True\n",
    "   ).set_xlabel(col)\n",
    "    \n",
    "plt.tight_layout()\n",
    "plt.show()"
   ]
  },
  {
   "cell_type": "markdown",
   "metadata": {},
   "source": [
    "Все распределения ограничены 0, отрицательных значений быть не может. Так, распределения Пуассона на гистограммах `count_calls`, `sum_minutes`, `sum_mb_used` выглядят более равномерно и смещаются в обе стороны, напоминают нормальное, но имеют ограничения слева.  \n",
    "А распределения Пуассона `count_messages` и `revenue` больше смещены вправо."
   ]
  },
  {
   "cell_type": "markdown",
   "metadata": {},
   "source": [
    "Тариф `ultra`  \n",
    "\n",
    "На гистограммах видно, что разброс основных показателей из тарифного пакета `ultra` больше. Это происходит в силу доступности большего объема пакета. Гистограммы более плоские. Разброс с выручкой практически отсутствует. Выделяются нулевые значения на гистаграммах `count_calls`, `sum_minutes`, `count_messages`, при этом на гистограмме `sum_mb_used` наблюдается пик у 20000 Мб и нулевые значения особо не выделяются. Вероятно, некоторые пользователи оформляют тариф по больше части для использования интернет-трафика.  \n",
    "\n",
    "Тариф `smart`  \n",
    "\n",
    "Здесь популярностью пользуются больше звонки и интернет, на этих гистограммах видны явные пики: `sum_minutes` - 500 мин (как раз максимальное количество из стандартного пакета), `sum_mb_used` - 16000 Мб (превышают стандартный пакет). Многие люди не используют сообщения совсем. Чаще всего пользователи платят 550 р, но многие не укладываются в стандартный пакет и платят больше."
   ]
  },
  {
   "cell_type": "markdown",
   "metadata": {
    "scrolled": true
   },
   "source": [
    "Рассчитаем сколько выручки приносят пользователи"
   ]
  },
  {
   "cell_type": "code",
   "execution_count": 38,
   "metadata": {
    "scrolled": true
   },
   "outputs": [
    {
     "data": {
      "text/html": [
       "<div>\n",
       "<style scoped>\n",
       "    .dataframe tbody tr th:only-of-type {\n",
       "        vertical-align: middle;\n",
       "    }\n",
       "\n",
       "    .dataframe tbody tr th {\n",
       "        vertical-align: top;\n",
       "    }\n",
       "\n",
       "    .dataframe thead th {\n",
       "        text-align: right;\n",
       "    }\n",
       "</style>\n",
       "<table border=\"1\" class=\"dataframe\">\n",
       "  <thead>\n",
       "    <tr style=\"text-align: right;\">\n",
       "      <th></th>\n",
       "      <th>revenue</th>\n",
       "      <th>count_users</th>\n",
       "    </tr>\n",
       "    <tr>\n",
       "      <th>tariff</th>\n",
       "      <th></th>\n",
       "      <th></th>\n",
       "    </tr>\n",
       "  </thead>\n",
       "  <tbody>\n",
       "    <tr>\n",
       "      <td>smart</td>\n",
       "      <td>2749135.84</td>\n",
       "      <td>351</td>\n",
       "    </tr>\n",
       "    <tr>\n",
       "      <td>ultra</td>\n",
       "      <td>2029622.05</td>\n",
       "      <td>149</td>\n",
       "    </tr>\n",
       "  </tbody>\n",
       "</table>\n",
       "</div>"
      ],
      "text/plain": [
       "           revenue  count_users\n",
       "tariff                         \n",
       "smart   2749135.84          351\n",
       "ultra   2029622.05          149"
      ]
     },
     "execution_count": 38,
     "metadata": {},
     "output_type": "execute_result"
    }
   ],
   "source": [
    "report_tariffs = total_users.pivot_table( index=['tariff'], \n",
    "                        values=['revenue'],\n",
    "                        aggfunc='sum'\n",
    "                       ).round(2)\n",
    "report_tariffs['count_users'] = df_users['tariff'].value_counts().values\n",
    "report_tariffs"
   ]
  },
  {
   "cell_type": "markdown",
   "metadata": {},
   "source": [
    "На тариф `smart` 351 пользователь, на 135% больше, чем на тарифе `ultra`. Но при этом суммарные доходы от `smart` привышают доходы от `ultra` только на 35%. "
   ]
  },
  {
   "cell_type": "code",
   "execution_count": 39,
   "metadata": {
    "scrolled": true
   },
   "outputs": [
    {
     "data": {
      "text/plain": [
       "<matplotlib.axes._subplots.AxesSubplot at 0x7fe30bc55f10>"
      ]
     },
     "execution_count": 39,
     "metadata": {},
     "output_type": "execute_result"
    },
    {
     "data": {
      "image/png": "[encoded data removed]",
      "text/plain": [
       "<Figure size 432x288 with 1 Axes>"
      ]
     },
     "metadata": {
      "needs_background": "light"
     },
     "output_type": "display_data"
    }
   ],
   "source": [
    "total_users.boxplot(by='tariff', column='revenue', showfliers=False)"
   ]
  },
  {
   "cell_type": "markdown",
   "metadata": {},
   "source": [
    "Средний доход от тарифа `smart` меньше дохода от тарифа `ultra`, но датасет скошен вправо. На тарифе `smart` пользователи платят существенно больше средней стоимости.\n",
    "75% пользователей тарифа `smart` платят до 1668 р, что меньше среднего дохода от тарифа `ultra`."
   ]
  },
  {
   "cell_type": "markdown",
   "metadata": {},
   "source": [
    "### Вывод"
   ]
  },
  {
   "cell_type": "markdown",
   "metadata": {},
   "source": [
    "При тарифе `smart` пользователям, в среднем, не хватает объема интернет-трафика. Средняя выручка больше стандартной - 960р.\n",
    "Средняя выручка тарифа `ultra` в 2 раза больше, чем средняя выручка тарифа `smart`. Большинству пользователей тарифа `ultra` хватает стандартного пакета."
   ]
  },
  {
   "cell_type": "markdown",
   "metadata": {},
   "source": [
    "### 4. Проверка гипотез"
   ]
  },
  {
   "cell_type": "markdown",
   "metadata": {},
   "source": [
    "#### 4.1 Cредняя выручка пользователей тарифов `smart` и `ultra` различается"
   ]
  },
  {
   "cell_type": "markdown",
   "metadata": {},
   "source": [
    "Для проверки этой гипотезы будем использовать гипотезу о равенстве средних"
   ]
  },
  {
   "cell_type": "markdown",
   "metadata": {},
   "source": [
    "Нулевая гипотеза - средняя выручка пользователей тарифов `smart` и `ultra` не различается.  \n",
    "Альтернативная гипотеза - средняя выручка пользователей тарифов `smart` и `ultra` различается."
   ]
  },
  {
   "cell_type": "code",
   "execution_count": 40,
   "metadata": {},
   "outputs": [
    {
     "name": "stdout",
     "output_type": "stream",
     "text": [
      "p-значение:  1.1725472632486433e-190\n"
     ]
    }
   ],
   "source": [
    "from scipy import stats as st \n",
    " \n",
    "rev_smart = total_users[total_users['tariff'] == 'smart']['revenue'].values \n",
    "rev_ultra = total_users[total_users['tariff'] == 'ultra']['revenue'].values\n",
    " \n",
    "results = st.ttest_ind(rev_smart, rev_ultra) \n",
    " \n",
    "print('p-значение: ', results.pvalue) "
   ]
  },
  {
   "cell_type": "markdown",
   "metadata": {},
   "source": [
    "Вероятность показывает, что такое или большее отличие можно получить случайно. В данном случае p-значение существенно ниже порогового значения (5%).  \n",
    "Гипотезу о равенстве средних отвергаем. Cредняя выручка пользователей тарифов различается."
   ]
  },
  {
   "cell_type": "markdown",
   "metadata": {},
   "source": [
    "#### 4.2 Средняя выручка пользователей из Москвы отличается от выручки пользователей из других регионов"
   ]
  },
  {
   "cell_type": "markdown",
   "metadata": {},
   "source": [
    "Рассмотрим по тарифу `smart`."
   ]
  },
  {
   "cell_type": "markdown",
   "metadata": {},
   "source": [
    "Нулевая гипотеза - равенство средней выручки в Москве и других городах.  \n",
    "Альтернативная гипотеза - средняя выручка в Москве и других городах различна."
   ]
  },
  {
   "cell_type": "code",
   "execution_count": 41,
   "metadata": {},
   "outputs": [
    {
     "name": "stdout",
     "output_type": "stream",
     "text": [
      "p-значение:  0.1671212202755376\n"
     ]
    }
   ],
   "source": [
    "rev_smart_moscow = total_users[(total_users['tariff'] == 'smart') & (total_users['city'] == 'Москва')]['revenue'].values\n",
    "rev_smart_cities = total_users[(total_users['tariff'] == 'smart') & ~(total_users['city'] == 'Москва')]['revenue'].values\n",
    "\n",
    "results_smart = st.ttest_ind(rev_smart_moscow, rev_smart_cities) \n",
    " \n",
    "print('p-значение: ', results_smart.pvalue)"
   ]
  },
  {
   "cell_type": "markdown",
   "metadata": {},
   "source": [
    "С вероятностью 17% такие или большие различия можно получить случайно. Нулевую гипотезу отвергнуть не можем.  \n",
    "Различия средней выручки пользователей не статистически значимые."
   ]
  },
  {
   "cell_type": "markdown",
   "metadata": {},
   "source": [
    "Рассмотрим по тарифу `ultra`."
   ]
  },
  {
   "cell_type": "markdown",
   "metadata": {},
   "source": [
    "Нулевая гипотеза - равенство средней выручки в Москве и других городах.  \n",
    "Альтернативная гипотеза - средняя выручка в Москве и других городах различна."
   ]
  },
  {
   "cell_type": "code",
   "execution_count": 42,
   "metadata": {},
   "outputs": [
    {
     "name": "stdout",
     "output_type": "stream",
     "text": [
      "p-значение:  0.8820693695640969\n"
     ]
    }
   ],
   "source": [
    "rev_ultra_moscow = total_users[(total_users['tariff'] == 'ultra') & (total_users['city'] == 'Москва')]['revenue'].values\n",
    "rev_ultra_cities = total_users[(total_users['tariff'] == 'ultra') & ~(total_users['city'] == 'Москва')]['revenue'].values\n",
    "\n",
    "results_ultra = st.ttest_ind(rev_ultra_moscow, rev_ultra_cities) \n",
    " \n",
    "print('p-значение: ', results_ultra.pvalue)"
   ]
  },
  {
   "cell_type": "markdown",
   "metadata": {},
   "source": [
    "С вероятностью 88% такие или большие различия можно получить случайно. Нулевую гипотезу отвергнуть не можем.\n",
    "Различия средней выручки пользователей не статистически значимые."
   ]
  },
  {
   "cell_type": "markdown",
   "metadata": {},
   "source": [
    "### Вывод"
   ]
  },
  {
   "cell_type": "markdown",
   "metadata": {},
   "source": [
    "Средняя выручка по тарифам различна.  \n",
    "Средняя выручка пользователей из Москвы статистически значимо не отличается от выручки пользователей из других регионов."
   ]
  },
  {
   "cell_type": "markdown",
   "metadata": {},
   "source": [
    "### 5. Общий вывод"
   ]
  },
  {
   "cell_type": "markdown",
   "metadata": {},
   "source": [
    "Больше пользователей выбирают тариф `smart` и итоговая выручка с этого тарифа привышает выручку с тарифа `ultra`. Но выгоднее будет иметь больше пользователей на тарифе `ultra` из-за разницы в средней выручке с 1 пользователя.  \n",
    "\n",
    "Средняя выручка по тарифам различна. \n",
    "Средняя выручка тарифа `smart` больше стандартной - 960 р. Средняя выручка тарифа `ultra` в 2 раза больше - 1950 р. (стандартная плата за этот тариф).  \n",
    "При этом средняя выручка пользователей из Москвы статистически значимо не отличается от выручки пользователей из других регионов.    \n",
    "Не смотря на то, что в итоге многие пользователи тарифа `smart` платят намного больше стандартной стоимости тарифа, 75% пользователей все равно платят не больше 1668 р."
   ]
  }
 ],
 "metadata": {
  "kernelspec": {
   "display_name": "Python 3",
   "language": "python",
   "name": "python3"
  },
  "language_info": {
   "codemirror_mode": {
    "name": "ipython",
    "version": 3
   },
   "file_extension": ".py",
   "mimetype": "text/x-python",
   "name": "python",
   "nbconvert_exporter": "python",
   "pygments_lexer": "ipython3",
   "version": "3.7.6"
  }
 },
 "nbformat": 4,
 "nbformat_minor": 2
}
