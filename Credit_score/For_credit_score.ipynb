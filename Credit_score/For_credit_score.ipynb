{
 "cells": [
  {
   "cell_type": "markdown",
   "metadata": {},
   "source": [
    "### Задача\n",
    "\n",
    "По заказу кредитного отдела банка необходимо разобраться, влияет ли семейное положение и количество детей клиента на факт погашения кредита в срок. Входные данные от банка — статистика о платёжеспособности клиентов.\n",
    "\n",
    "Результаты исследования будут учтены при построении модели **кредитного скоринга**."
   ]
  },
  {
   "cell_type": "markdown",
   "metadata": {},
   "source": [
    "### Оглавление"
   ]
  },
  {
   "cell_type": "markdown",
   "metadata": {},
   "source": [
    "[1. Открытие и изучение данных](#1)  \n",
    "[2. Предобработка данных](#2)  \n",
    "&nbsp;&nbsp;&nbsp;&nbsp;[2.1 Обработка пропусков](#2.1)   \n",
    "&nbsp;&nbsp;&nbsp;&nbsp;[2.2 Замена типа данных](#2.2)   \n",
    "&nbsp;&nbsp;&nbsp;&nbsp;[2.3 Обработка дубликатов](#2.3)  \n",
    "&nbsp;&nbsp;&nbsp;&nbsp;[2.4 Лемматизация](#2.4)  \n",
    "&nbsp;&nbsp;&nbsp;&nbsp;[2.5 Категоризация данных](#2.5)  \n",
    "[3. Ответы на вопросы](#3)  \n",
    "[4. Общий вывод](#4)"
   ]
  },
  {
   "cell_type": "markdown",
   "metadata": {},
   "source": [
    "### 1. Открытие и изучение данных<a id='1'></a> "
   ]
  },
  {
   "cell_type": "code",
   "execution_count": 1,
   "metadata": {},
   "outputs": [
    {
     "name": "stdout",
     "output_type": "stream",
     "text": [
      "<class 'pandas.core.frame.DataFrame'>\n",
      "RangeIndex: 21525 entries, 0 to 21524\n",
      "Data columns (total 12 columns):\n",
      "children            21525 non-null int64\n",
      "days_employed       19351 non-null float64\n",
      "dob_years           21525 non-null int64\n",
      "education           21525 non-null object\n",
      "education_id        21525 non-null int64\n",
      "family_status       21525 non-null object\n",
      "family_status_id    21525 non-null int64\n",
      "gender              21525 non-null object\n",
      "income_type         21525 non-null object\n",
      "debt                21525 non-null int64\n",
      "total_income        19351 non-null float64\n",
      "purpose             21525 non-null object\n",
      "dtypes: float64(2), int64(5), object(5)\n",
      "memory usage: 2.0+ MB\n"
     ]
    },
    {
     "data": {
      "text/html": [
       "<div>\n",
       "<style scoped>\n",
       "    .dataframe tbody tr th:only-of-type {\n",
       "        vertical-align: middle;\n",
       "    }\n",
       "\n",
       "    .dataframe tbody tr th {\n",
       "        vertical-align: top;\n",
       "    }\n",
       "\n",
       "    .dataframe thead th {\n",
       "        text-align: right;\n",
       "    }\n",
       "</style>\n",
       "<table border=\"1\" class=\"dataframe\">\n",
       "  <thead>\n",
       "    <tr style=\"text-align: right;\">\n",
       "      <th></th>\n",
       "      <th>children</th>\n",
       "      <th>days_employed</th>\n",
       "      <th>dob_years</th>\n",
       "      <th>education</th>\n",
       "      <th>education_id</th>\n",
       "      <th>family_status</th>\n",
       "      <th>family_status_id</th>\n",
       "      <th>gender</th>\n",
       "      <th>income_type</th>\n",
       "      <th>debt</th>\n",
       "      <th>total_income</th>\n",
       "      <th>purpose</th>\n",
       "    </tr>\n",
       "  </thead>\n",
       "  <tbody>\n",
       "    <tr>\n",
       "      <td>0</td>\n",
       "      <td>1</td>\n",
       "      <td>-8437.673028</td>\n",
       "      <td>42</td>\n",
       "      <td>высшее</td>\n",
       "      <td>0</td>\n",
       "      <td>женат / замужем</td>\n",
       "      <td>0</td>\n",
       "      <td>F</td>\n",
       "      <td>сотрудник</td>\n",
       "      <td>0</td>\n",
       "      <td>253875.639453</td>\n",
       "      <td>покупка жилья</td>\n",
       "    </tr>\n",
       "    <tr>\n",
       "      <td>1</td>\n",
       "      <td>1</td>\n",
       "      <td>-4024.803754</td>\n",
       "      <td>36</td>\n",
       "      <td>среднее</td>\n",
       "      <td>1</td>\n",
       "      <td>женат / замужем</td>\n",
       "      <td>0</td>\n",
       "      <td>F</td>\n",
       "      <td>сотрудник</td>\n",
       "      <td>0</td>\n",
       "      <td>112080.014102</td>\n",
       "      <td>приобретение автомобиля</td>\n",
       "    </tr>\n",
       "    <tr>\n",
       "      <td>2</td>\n",
       "      <td>0</td>\n",
       "      <td>-5623.422610</td>\n",
       "      <td>33</td>\n",
       "      <td>Среднее</td>\n",
       "      <td>1</td>\n",
       "      <td>женат / замужем</td>\n",
       "      <td>0</td>\n",
       "      <td>M</td>\n",
       "      <td>сотрудник</td>\n",
       "      <td>0</td>\n",
       "      <td>145885.952297</td>\n",
       "      <td>покупка жилья</td>\n",
       "    </tr>\n",
       "    <tr>\n",
       "      <td>3</td>\n",
       "      <td>3</td>\n",
       "      <td>-4124.747207</td>\n",
       "      <td>32</td>\n",
       "      <td>среднее</td>\n",
       "      <td>1</td>\n",
       "      <td>женат / замужем</td>\n",
       "      <td>0</td>\n",
       "      <td>M</td>\n",
       "      <td>сотрудник</td>\n",
       "      <td>0</td>\n",
       "      <td>267628.550329</td>\n",
       "      <td>дополнительное образование</td>\n",
       "    </tr>\n",
       "    <tr>\n",
       "      <td>4</td>\n",
       "      <td>0</td>\n",
       "      <td>340266.072047</td>\n",
       "      <td>53</td>\n",
       "      <td>среднее</td>\n",
       "      <td>1</td>\n",
       "      <td>гражданский брак</td>\n",
       "      <td>1</td>\n",
       "      <td>F</td>\n",
       "      <td>пенсионер</td>\n",
       "      <td>0</td>\n",
       "      <td>158616.077870</td>\n",
       "      <td>сыграть свадьбу</td>\n",
       "    </tr>\n",
       "    <tr>\n",
       "      <td>5</td>\n",
       "      <td>0</td>\n",
       "      <td>-926.185831</td>\n",
       "      <td>27</td>\n",
       "      <td>высшее</td>\n",
       "      <td>0</td>\n",
       "      <td>гражданский брак</td>\n",
       "      <td>1</td>\n",
       "      <td>M</td>\n",
       "      <td>компаньон</td>\n",
       "      <td>0</td>\n",
       "      <td>255763.565419</td>\n",
       "      <td>покупка жилья</td>\n",
       "    </tr>\n",
       "    <tr>\n",
       "      <td>6</td>\n",
       "      <td>0</td>\n",
       "      <td>-2879.202052</td>\n",
       "      <td>43</td>\n",
       "      <td>высшее</td>\n",
       "      <td>0</td>\n",
       "      <td>женат / замужем</td>\n",
       "      <td>0</td>\n",
       "      <td>F</td>\n",
       "      <td>компаньон</td>\n",
       "      <td>0</td>\n",
       "      <td>240525.971920</td>\n",
       "      <td>операции с жильем</td>\n",
       "    </tr>\n",
       "    <tr>\n",
       "      <td>7</td>\n",
       "      <td>0</td>\n",
       "      <td>-152.779569</td>\n",
       "      <td>50</td>\n",
       "      <td>СРЕДНЕЕ</td>\n",
       "      <td>1</td>\n",
       "      <td>женат / замужем</td>\n",
       "      <td>0</td>\n",
       "      <td>M</td>\n",
       "      <td>сотрудник</td>\n",
       "      <td>0</td>\n",
       "      <td>135823.934197</td>\n",
       "      <td>образование</td>\n",
       "    </tr>\n",
       "    <tr>\n",
       "      <td>8</td>\n",
       "      <td>2</td>\n",
       "      <td>-6929.865299</td>\n",
       "      <td>35</td>\n",
       "      <td>ВЫСШЕЕ</td>\n",
       "      <td>0</td>\n",
       "      <td>гражданский брак</td>\n",
       "      <td>1</td>\n",
       "      <td>F</td>\n",
       "      <td>сотрудник</td>\n",
       "      <td>0</td>\n",
       "      <td>95856.832424</td>\n",
       "      <td>на проведение свадьбы</td>\n",
       "    </tr>\n",
       "    <tr>\n",
       "      <td>9</td>\n",
       "      <td>0</td>\n",
       "      <td>-2188.756445</td>\n",
       "      <td>41</td>\n",
       "      <td>среднее</td>\n",
       "      <td>1</td>\n",
       "      <td>женат / замужем</td>\n",
       "      <td>0</td>\n",
       "      <td>M</td>\n",
       "      <td>сотрудник</td>\n",
       "      <td>0</td>\n",
       "      <td>144425.938277</td>\n",
       "      <td>покупка жилья для семьи</td>\n",
       "    </tr>\n",
       "  </tbody>\n",
       "</table>\n",
       "</div>"
      ],
      "text/plain": [
       "   children  days_employed  dob_years education  education_id  \\\n",
       "0         1   -8437.673028         42    высшее             0   \n",
       "1         1   -4024.803754         36   среднее             1   \n",
       "2         0   -5623.422610         33   Среднее             1   \n",
       "3         3   -4124.747207         32   среднее             1   \n",
       "4         0  340266.072047         53   среднее             1   \n",
       "5         0    -926.185831         27    высшее             0   \n",
       "6         0   -2879.202052         43    высшее             0   \n",
       "7         0    -152.779569         50   СРЕДНЕЕ             1   \n",
       "8         2   -6929.865299         35    ВЫСШЕЕ             0   \n",
       "9         0   -2188.756445         41   среднее             1   \n",
       "\n",
       "      family_status  family_status_id gender income_type  debt   total_income  \\\n",
       "0   женат / замужем                 0      F   сотрудник     0  253875.639453   \n",
       "1   женат / замужем                 0      F   сотрудник     0  112080.014102   \n",
       "2   женат / замужем                 0      M   сотрудник     0  145885.952297   \n",
       "3   женат / замужем                 0      M   сотрудник     0  267628.550329   \n",
       "4  гражданский брак                 1      F   пенсионер     0  158616.077870   \n",
       "5  гражданский брак                 1      M   компаньон     0  255763.565419   \n",
       "6   женат / замужем                 0      F   компаньон     0  240525.971920   \n",
       "7   женат / замужем                 0      M   сотрудник     0  135823.934197   \n",
       "8  гражданский брак                 1      F   сотрудник     0   95856.832424   \n",
       "9   женат / замужем                 0      M   сотрудник     0  144425.938277   \n",
       "\n",
       "                      purpose  \n",
       "0               покупка жилья  \n",
       "1     приобретение автомобиля  \n",
       "2               покупка жилья  \n",
       "3  дополнительное образование  \n",
       "4             сыграть свадьбу  \n",
       "5               покупка жилья  \n",
       "6           операции с жильем  \n",
       "7                 образование  \n",
       "8       на проведение свадьбы  \n",
       "9     покупка жилья для семьи  "
      ]
     },
     "execution_count": 1,
     "metadata": {},
     "output_type": "execute_result"
    }
   ],
   "source": [
    "import pandas as pd\n",
    "impo\n",
    "data = pd.read_csv('/datasets/data.csv')\n",
    "data.info()\n",
    "data.head(10)"
   ]
  },
  {
   "cell_type": "markdown",
   "metadata": {},
   "source": [
    "### Вывод"
   ]
  },
  {
   "cell_type": "markdown",
   "metadata": {},
   "source": [
    "В DataFrame содержится 12 колонок и 21525 строк.  \n",
    "Столбцы с трудовым стажем и доходом в месяц имеют NaN значения.  \n",
    "Также столбец с трудовым стажем имеет нецелочисленные и отрицательные значения.  \n",
    "В столбце образование информация дана с разными регистрами."
   ]
  },
  {
   "cell_type": "markdown",
   "metadata": {},
   "source": [
    "### 2. Предобработка данных <a id='2'></a>"
   ]
  },
  {
   "cell_type": "markdown",
   "metadata": {},
   "source": [
    "#### 2.1 Обработка пропусков<a id='2.1'></a> "
   ]
  },
  {
   "cell_type": "markdown",
   "metadata": {},
   "source": [
    "Приведем данные из колонки с образованием к единообразию."
   ]
  },
  {
   "cell_type": "code",
   "execution_count": 2,
   "metadata": {},
   "outputs": [
    {
     "data": {
      "text/plain": [
       "среднее                15233\n",
       "высшее                  5260\n",
       "неоконченное высшее      744\n",
       "начальное                282\n",
       "ученая степень             6\n",
       "Name: education, dtype: int64"
      ]
     },
     "execution_count": 2,
     "metadata": {},
     "output_type": "execute_result"
    }
   ],
   "source": [
    "data['education'] = data['education'].str.lower()\n",
    "data['education'].value_counts()"
   ]
  },
  {
   "cell_type": "code",
   "execution_count": 3,
   "metadata": {},
   "outputs": [
    {
     "name": "stdout",
     "output_type": "stream",
     "text": [
      "<class 'pandas.core.frame.DataFrame'>\n",
      "Int64Index: 2174 entries, 12 to 21510\n",
      "Data columns (total 12 columns):\n",
      "children            2174 non-null int64\n",
      "days_employed       0 non-null float64\n",
      "dob_years           2174 non-null int64\n",
      "education           2174 non-null object\n",
      "education_id        2174 non-null int64\n",
      "family_status       2174 non-null object\n",
      "family_status_id    2174 non-null int64\n",
      "gender              2174 non-null object\n",
      "income_type         2174 non-null object\n",
      "debt                2174 non-null int64\n",
      "total_income        0 non-null float64\n",
      "purpose             2174 non-null object\n",
      "dtypes: float64(2), int64(5), object(5)\n",
      "memory usage: 220.8+ KB\n"
     ]
    }
   ],
   "source": [
    "data_nan = data[\n",
    "    (data['days_employed'].isnull()) & \n",
    "    (data['total_income'].isnull())]\n",
    "\n",
    "data_nan.info()"
   ]
  },
  {
   "cell_type": "markdown",
   "metadata": {},
   "source": [
    "#### Вывод"
   ]
  },
  {
   "cell_type": "markdown",
   "metadata": {},
   "source": [
    "2174 строки имеют сразу два стобца без данных: трудовой стаж и доход в месяц.  \n",
    "Данные могут быть пропущены в результате технической неполадки.  \n",
    "Оба столбца содержат количественные переменные. "
   ]
  },
  {
   "cell_type": "markdown",
   "metadata": {},
   "source": [
    "Изучим столбец с типом занятости (income_type)"
   ]
  },
  {
   "cell_type": "code",
   "execution_count": 4,
   "metadata": {},
   "outputs": [
    {
     "name": "stdout",
     "output_type": "stream",
     "text": [
      "Данные для таблицы только с пропущенными значениями\n",
      "                 income_type  income_type\n",
      "сотрудник               1105     0.508280\n",
      "компаньон                508     0.233671\n",
      "пенсионер                413     0.189972\n",
      "госслужащий              147     0.067617\n",
      "предприниматель            1     0.000460\n",
      "\n",
      "Данные для всей таблицы\n",
      "                 income_type  income_type\n",
      "сотрудник              11119     0.516562\n",
      "компаньон               5085     0.236237\n",
      "пенсионер               3856     0.179141\n",
      "госслужащий             1459     0.067782\n",
      "безработный                2     0.000093\n",
      "предприниматель            2     0.000093\n",
      "студент                    1     0.000046\n",
      "в декрете                  1     0.000046\n"
     ]
    }
   ],
   "source": [
    "print('Данные для таблицы только с пропущенными значениями')\n",
    "print(pd.concat([data_nan['income_type'].value_counts(), data_nan['income_type'].value_counts(normalize=True)], axis=1))\n",
    "print()\n",
    "print('Данные для всей таблицы')\n",
    "print(pd.concat([data['income_type'].value_counts(), data['income_type'].value_counts(normalize=True)], axis=1))"
   ]
  },
  {
   "cell_type": "markdown",
   "metadata": {},
   "source": [
    "Так как распределения частот похожи, можем установить, что пропуски случайны.\n",
    "Для сотрудников, компаньонов и пенсионеров достаточно данных, чтобы рассчитать характерные значения для пропусков. Выберем медиану, чтобы оценить выборку без влияния выбросов.  \n",
    "Предпринимателей всего 2 из 21525. Так как данных для заполнения не хватает, и удаление 1 строки не окажет существенного влияния на результаты, то уберем эту строку."
   ]
  },
  {
   "cell_type": "markdown",
   "metadata": {},
   "source": [
    "Удаление строки с значением в income_type - предприниматель, в total_income - NaN"
   ]
  },
  {
   "cell_type": "code",
   "execution_count": 5,
   "metadata": {},
   "outputs": [
    {
     "name": "stdout",
     "output_type": "stream",
     "text": [
      "<class 'pandas.core.frame.DataFrame'>\n",
      "RangeIndex: 21524 entries, 0 to 21523\n",
      "Data columns (total 12 columns):\n",
      "children            21524 non-null int64\n",
      "days_employed       19351 non-null float64\n",
      "dob_years           21524 non-null int64\n",
      "education           21524 non-null object\n",
      "education_id        21524 non-null int64\n",
      "family_status       21524 non-null object\n",
      "family_status_id    21524 non-null int64\n",
      "gender              21524 non-null object\n",
      "income_type         21524 non-null object\n",
      "debt                21524 non-null int64\n",
      "total_income        19351 non-null float64\n",
      "purpose             21524 non-null object\n",
      "dtypes: float64(2), int64(5), object(5)\n",
      "memory usage: 2.0+ MB\n"
     ]
    }
   ],
   "source": [
    "index_entrepreneur = data_nan[\n",
    "    data_nan['income_type'] == 'предприниматель'].index\n",
    "data_nan = data_nan.drop(index=index_entrepreneur).reset_index(drop=True)\n",
    "\n",
    "data = data.drop(index=index_entrepreneur).reset_index(drop=True)\n",
    "data.info()"
   ]
  },
  {
   "cell_type": "code",
   "execution_count": 6,
   "metadata": {},
   "outputs": [
    {
     "name": "stdout",
     "output_type": "stream",
     "text": [
      "NaN значений: 2173\n"
     ]
    }
   ],
   "source": [
    "print('NaN значений:', data['total_income'].isna().sum())"
   ]
  },
  {
   "cell_type": "markdown",
   "metadata": {},
   "source": [
    "Запишем цикл для расчета значения медианы"
   ]
  },
  {
   "cell_type": "code",
   "execution_count": 7,
   "metadata": {},
   "outputs": [],
   "source": [
    "unique_values_education = data_nan['education'].unique()\n",
    "unique_values_income_type = data_nan['income_type'].unique()\n",
    "\n",
    "list_median_income = []\n",
    "\n",
    "for income_type in unique_values_income_type:\n",
    "    median_income = []\n",
    "    for education in unique_values_education:\n",
    "        mediana = data[\n",
    "            (data['income_type'] == income_type) & \n",
    "            (data['education'] == education)\n",
    "        ]['total_income'].median()\n",
    "        \n",
    "        median_income.append(mediana)\n",
    "    list_median_income.append(median_income)"
   ]
  },
  {
   "cell_type": "markdown",
   "metadata": {},
   "source": [
    "Сформируем сводную таблицу с медианами месячного дохода"
   ]
  },
  {
   "cell_type": "code",
   "execution_count": 8,
   "metadata": {},
   "outputs": [
    {
     "data": {
      "text/html": [
       "<div>\n",
       "<style scoped>\n",
       "    .dataframe tbody tr th:only-of-type {\n",
       "        vertical-align: middle;\n",
       "    }\n",
       "\n",
       "    .dataframe tbody tr th {\n",
       "        vertical-align: top;\n",
       "    }\n",
       "\n",
       "    .dataframe thead th {\n",
       "        text-align: right;\n",
       "    }\n",
       "</style>\n",
       "<table border=\"1\" class=\"dataframe\">\n",
       "  <thead>\n",
       "    <tr style=\"text-align: right;\">\n",
       "      <th></th>\n",
       "      <th>высшее</th>\n",
       "      <th>начальное</th>\n",
       "      <th>неоконченное высшее</th>\n",
       "      <th>среднее</th>\n",
       "    </tr>\n",
       "  </thead>\n",
       "  <tbody>\n",
       "    <tr>\n",
       "      <td>госслужащий</td>\n",
       "      <td>172511.107016</td>\n",
       "      <td>148339.290825</td>\n",
       "      <td>160592.345303</td>\n",
       "      <td>136652.970357</td>\n",
       "    </tr>\n",
       "    <tr>\n",
       "      <td>компаньон</td>\n",
       "      <td>201785.400018</td>\n",
       "      <td>136798.905143</td>\n",
       "      <td>179867.152890</td>\n",
       "      <td>159070.690289</td>\n",
       "    </tr>\n",
       "    <tr>\n",
       "      <td>пенсионер</td>\n",
       "      <td>144240.768611</td>\n",
       "      <td>102598.653164</td>\n",
       "      <td>120136.896353</td>\n",
       "      <td>114842.854099</td>\n",
       "    </tr>\n",
       "    <tr>\n",
       "      <td>сотрудник</td>\n",
       "      <td>165640.744634</td>\n",
       "      <td>125994.910603</td>\n",
       "      <td>151308.937846</td>\n",
       "      <td>136555.108821</td>\n",
       "    </tr>\n",
       "  </tbody>\n",
       "</table>\n",
       "</div>"
      ],
      "text/plain": [
       "                    высшее      начальное  неоконченное высшее        среднее\n",
       "госслужащий  172511.107016  148339.290825        160592.345303  136652.970357\n",
       "компаньон    201785.400018  136798.905143        179867.152890  159070.690289\n",
       "пенсионер    144240.768611  102598.653164        120136.896353  114842.854099\n",
       "сотрудник    165640.744634  125994.910603        151308.937846  136555.108821"
      ]
     },
     "execution_count": 8,
     "metadata": {},
     "output_type": "execute_result"
    }
   ],
   "source": [
    "data_values = pd.DataFrame(data=list_median_income, columns=unique_values_education)\n",
    "\n",
    "data_pivot_median_income = data_values.pivot_table(\n",
    "    index=unique_values_income_type, \n",
    "    values=unique_values_education)\n",
    "\n",
    "data_pivot_median_income"
   ]
  },
  {
   "cell_type": "markdown",
   "metadata": {},
   "source": [
    "Заменим в таблице с данными data значения NaN в столбце месячного дохода на рассчитанные медианы"
   ]
  },
  {
   "cell_type": "code",
   "execution_count": 9,
   "metadata": {},
   "outputs": [
    {
     "name": "stdout",
     "output_type": "stream",
     "text": [
      "<class 'pandas.core.frame.DataFrame'>\n",
      "RangeIndex: 21524 entries, 0 to 21523\n",
      "Data columns (total 12 columns):\n",
      "children            21524 non-null int64\n",
      "days_employed       19351 non-null float64\n",
      "dob_years           21524 non-null int64\n",
      "education           21524 non-null object\n",
      "education_id        21524 non-null int64\n",
      "family_status       21524 non-null object\n",
      "family_status_id    21524 non-null int64\n",
      "gender              21524 non-null object\n",
      "income_type         21524 non-null object\n",
      "debt                21524 non-null int64\n",
      "total_income        21524 non-null float64\n",
      "purpose             21524 non-null object\n",
      "dtypes: float64(2), int64(5), object(5)\n",
      "memory usage: 2.0+ MB\n"
     ]
    }
   ],
   "source": [
    "data_final = data.copy()\n",
    "for income_type in unique_values_income_type:\n",
    "    for education in unique_values_education:\n",
    "        data_final['total_income'].update(data_final[\n",
    "            (data_final['income_type'] == income_type) & \n",
    "            (data_final['education'] == education)\n",
    "        ]['total_income'].fillna(data_pivot_median_income.loc[income_type,education]))\n",
    "        \n",
    "data_final.info()          "
   ]
  },
  {
   "cell_type": "markdown",
   "metadata": {},
   "source": [
    "Изучим данные в столбце с трудовым стажем  \n",
    "Найдем отрицательные и аномальные (больше 70 лет рабочего стажа) значения"
   ]
  },
  {
   "cell_type": "code",
   "execution_count": 10,
   "metadata": {},
   "outputs": [
    {
     "name": "stdout",
     "output_type": "stream",
     "text": [
      "Отрицательных значений:  15906\n",
      "Аномальных значений среди отрицательных:  0\n"
     ]
    }
   ],
   "source": [
    "MAX_DAYS_EMPLOYED = 70 * 365\n",
    "\n",
    "print('Отрицательных значений: ', \n",
    "      data[data['days_employed'] < 0]['days_employed'].count())\n",
    "print('Аномальных значений среди отрицательных: ', \n",
    "      data_final[data_final['days_employed'] < -MAX_DAYS_EMPLOYED]['days_employed'].count())"
   ]
  },
  {
   "cell_type": "markdown",
   "metadata": {},
   "source": [
    "Исправим отрицательные значения, которые могли появиться в результате неправильной выгрузки "
   ]
  },
  {
   "cell_type": "code",
   "execution_count": 11,
   "metadata": {},
   "outputs": [
    {
     "name": "stdout",
     "output_type": "stream",
     "text": [
      "Отрицательных значений: 0\n"
     ]
    }
   ],
   "source": [
    "data_final['days_employed'].update(data_final['days_employed'].abs())\n",
    "print('Отрицательных значений:', data_final[data_final['days_employed'] < 0]['days_employed'].count())"
   ]
  },
  {
   "cell_type": "code",
   "execution_count": 12,
   "metadata": {},
   "outputs": [
    {
     "name": "stdout",
     "output_type": "stream",
     "text": [
      "Аномальных значений: 3445\n",
      "16.01%\n"
     ]
    }
   ],
   "source": [
    "data_abnormal = data_final[data_final['days_employed'] > MAX_DAYS_EMPLOYED]\n",
    "\n",
    "print('Аномальных значений:', data_abnormal['days_employed'].count())\n",
    "print('{:.2%}'.format(data_abnormal['days_employed'].count() / len(data_final))) "
   ]
  },
  {
   "cell_type": "markdown",
   "metadata": {},
   "source": [
    "Для исправления аномальных значений проверим столбец с возрастом"
   ]
  },
  {
   "cell_type": "code",
   "execution_count": 13,
   "metadata": {
    "scrolled": true
   },
   "outputs": [
    {
     "name": "stdout",
     "output_type": "stream",
     "text": [
      "[53 57 67 62 68 63 64 61 54  0 65 59 60 71 38 58 55 73 52 66 56 44 69 51\n",
      " 49 46 50 41 48 42 72 22 37 70 39 45 47 74 43 31 34 33 36 32 40 35 27 26\n",
      " 28]\n",
      "Строки с аномальными значениями трудового стажа и возрастом равным нулю: 17\n"
     ]
    }
   ],
   "source": [
    "print(data_abnormal['dob_years'].unique())\n",
    "print('Строки с аномальными значениями трудового стажа и возрастом равным нулю:',\n",
    "      data_abnormal[data_abnormal['dob_years'] == 0]['dob_years'].count())"
   ]
  },
  {
   "cell_type": "markdown",
   "metadata": {},
   "source": [
    "17 строк с аномальными значениями трудового стажа и возрастом равным 0 не можем использовать в расчетах.\n",
    "Таких строк меньше 1% от всей выборки поэтому их удаление не существенно повлияет на результаты."
   ]
  },
  {
   "cell_type": "code",
   "execution_count": 14,
   "metadata": {},
   "outputs": [
    {
     "name": "stdout",
     "output_type": "stream",
     "text": [
      "dob_years\n",
      "0     101\n",
      "19     14\n",
      "Name: dob_years, dtype: int64\n",
      "\n",
      "dob_years\n",
      "0     84\n",
      "19    14\n",
      "Name: dob_years, dtype: int64\n"
     ]
    }
   ],
   "source": [
    "print(data_final.groupby('dob_years')['dob_years'].count().head(2))\n",
    "\n",
    "index_abnormal_dob_years = data_abnormal[data_abnormal['dob_years'] == 0].index\n",
    "\n",
    "data_final.drop(index_abnormal_dob_years, inplace=True)\n",
    "data_final.reset_index(drop=True,inplace=True)\n",
    "print()\n",
    "print(data_final.groupby('dob_years')['dob_years'].count().head(2))"
   ]
  },
  {
   "cell_type": "markdown",
   "metadata": {},
   "source": [
    "Далее в работе с аномальными значениями рассчитаем медианы значений трудового стажа по десятилетиям. Для этого создаем словарь, где ключом будет являться возрастной диапазон, а значением - медиана."
   ]
  },
  {
   "cell_type": "code",
   "execution_count": 15,
   "metadata": {},
   "outputs": [
    {
     "data": {
      "text/plain": [
       "{(18, 29): 996.7615438477428,\n",
       " (30, 39): 1589.7814009573162,\n",
       " (40, 49): 2020.0958928232772,\n",
       " (50, 59): 2261.8630175020085,\n",
       " (60, 69): 2669.073964536989,\n",
       " (70, 79): 2680.232790836156}"
      ]
     },
     "execution_count": 15,
     "metadata": {},
     "output_type": "execute_result"
    }
   ],
   "source": [
    "ages = [18,30,40,50,60,70,80]\n",
    "dict_mediana_days_employed = {}\n",
    "\n",
    "for index, el in enumerate(ages):\n",
    "    try:\n",
    "        next_el = ages[index + 1] - 1\n",
    "    except IndexError: \n",
    "        break\n",
    "        \n",
    "    mediana = data_final[\n",
    "        (data_final['dob_years'] >= el ) & \n",
    "        (data_final['dob_years'] <= next_el) & \n",
    "        (data_final['days_employed'] < MAX_DAYS_EMPLOYED)\n",
    "    ]['days_employed'].median()\n",
    "    \n",
    "    dict_mediana_days_employed[(el,next_el)] = mediana\n",
    "    \n",
    "dict_mediana_days_employed"
   ]
  },
  {
   "cell_type": "markdown",
   "metadata": {},
   "source": [
    "Заменим аномальные значения на рассчитанные медианы"
   ]
  },
  {
   "cell_type": "code",
   "execution_count": 16,
   "metadata": {},
   "outputs": [
    {
     "name": "stdout",
     "output_type": "stream",
     "text": [
      "Аномальных значений: 0\n"
     ]
    },
    {
     "name": "stderr",
     "output_type": "stream",
     "text": [
      "/opt/conda/lib/python3.7/site-packages/ipykernel_launcher.py:10: SettingWithCopyWarning: \n",
      "A value is trying to be set on a copy of a slice from a DataFrame.\n",
      "Try using .loc[row_indexer,col_indexer] = value instead\n",
      "\n",
      "See the caveats in the documentation: http://pandas.pydata.org/pandas-docs/stable/user_guide/indexing.html#returning-a-view-versus-a-copy\n",
      "  # Remove the CWD from sys.path while we load stuff.\n"
     ]
    }
   ],
   "source": [
    "data_conditional = data_final[data_final['days_employed'] > MAX_DAYS_EMPLOYED]\n",
    "\n",
    "for min_age, max_age  in dict_mediana_days_employed.keys():\n",
    "    dict_value = dict_mediana_days_employed.get((min_age, max_age))\n",
    "    \n",
    "    data_conditional_with_age = data_conditional[\n",
    "        (data_conditional['dob_years'] >= min_age) & \n",
    "        (data_conditional['dob_years'] <= max_age)]\n",
    "    \n",
    "    data_conditional_with_age['days_employed'] = dict_value\n",
    "    \n",
    "    data_final['days_employed'].update(data_conditional_with_age['days_employed'])\n",
    "    \n",
    "print('Аномальных значений:',data_final[data_final['days_employed'] > MAX_DAYS_EMPLOYED]['days_employed'].count())"
   ]
  },
  {
   "cell_type": "markdown",
   "metadata": {},
   "source": [
    "Изучим столбец со стажем работы на предмет NaN значений"
   ]
  },
  {
   "cell_type": "code",
   "execution_count": 17,
   "metadata": {},
   "outputs": [
    {
     "name": "stdout",
     "output_type": "stream",
     "text": [
      "NaN значений: 2173\n",
      "10.10%\n"
     ]
    }
   ],
   "source": [
    "print('NaN значений:', data_final['days_employed'].isna().sum())\n",
    "print('{:.2%}'.format(data_final['days_employed'].isna().sum() / len(data_final))) "
   ]
  },
  {
   "cell_type": "markdown",
   "metadata": {},
   "source": [
    "Заменим NaN значения на рассчитанные медианы"
   ]
  },
  {
   "cell_type": "code",
   "execution_count": 18,
   "metadata": {
    "scrolled": true
   },
   "outputs": [
    {
     "name": "stdout",
     "output_type": "stream",
     "text": [
      "NaN значений: 10\n"
     ]
    },
    {
     "name": "stderr",
     "output_type": "stream",
     "text": [
      "/opt/conda/lib/python3.7/site-packages/ipykernel_launcher.py:9: SettingWithCopyWarning: \n",
      "A value is trying to be set on a copy of a slice from a DataFrame.\n",
      "Try using .loc[row_indexer,col_indexer] = value instead\n",
      "\n",
      "See the caveats in the documentation: http://pandas.pydata.org/pandas-docs/stable/user_guide/indexing.html#returning-a-view-versus-a-copy\n",
      "  if __name__ == '__main__':\n"
     ]
    }
   ],
   "source": [
    "data_final.head()\n",
    "for min_age, max_age  in dict_mediana_days_employed.keys():\n",
    "    dict_value = dict_mediana_days_employed.get((min_age,max_age))\n",
    "    \n",
    "    data_conditional_with_age = data_final[\n",
    "        (data_final['dob_years'] >= min_age) & \n",
    "        (data_final['dob_years'] <= max_age)]\n",
    "    \n",
    "    data_conditional_with_age['days_employed'] = dict_value\n",
    "    \n",
    "    data_final['days_employed'].update(data_conditional_with_age['days_employed'])\n",
    "    \n",
    "print('NaN значений:', data_final['days_employed'].isna().sum())\n"
   ]
  },
  {
   "cell_type": "code",
   "execution_count": 19,
   "metadata": {
    "scrolled": true
   },
   "outputs": [
    {
     "data": {
      "text/html": [
       "<div>\n",
       "<style scoped>\n",
       "    .dataframe tbody tr th:only-of-type {\n",
       "        vertical-align: middle;\n",
       "    }\n",
       "\n",
       "    .dataframe tbody tr th {\n",
       "        vertical-align: top;\n",
       "    }\n",
       "\n",
       "    .dataframe thead th {\n",
       "        text-align: right;\n",
       "    }\n",
       "</style>\n",
       "<table border=\"1\" class=\"dataframe\">\n",
       "  <thead>\n",
       "    <tr style=\"text-align: right;\">\n",
       "      <th></th>\n",
       "      <th>children</th>\n",
       "      <th>days_employed</th>\n",
       "      <th>dob_years</th>\n",
       "      <th>education</th>\n",
       "      <th>education_id</th>\n",
       "      <th>family_status</th>\n",
       "      <th>family_status_id</th>\n",
       "      <th>gender</th>\n",
       "      <th>income_type</th>\n",
       "      <th>debt</th>\n",
       "      <th>total_income</th>\n",
       "      <th>purpose</th>\n",
       "    </tr>\n",
       "  </thead>\n",
       "  <tbody>\n",
       "    <tr>\n",
       "      <td>1887</td>\n",
       "      <td>0</td>\n",
       "      <td>NaN</td>\n",
       "      <td>0</td>\n",
       "      <td>высшее</td>\n",
       "      <td>0</td>\n",
       "      <td>Не женат / не замужем</td>\n",
       "      <td>4</td>\n",
       "      <td>F</td>\n",
       "      <td>сотрудник</td>\n",
       "      <td>0</td>\n",
       "      <td>165640.744634</td>\n",
       "      <td>жилье</td>\n",
       "    </tr>\n",
       "    <tr>\n",
       "      <td>2280</td>\n",
       "      <td>0</td>\n",
       "      <td>NaN</td>\n",
       "      <td>0</td>\n",
       "      <td>среднее</td>\n",
       "      <td>1</td>\n",
       "      <td>вдовец / вдова</td>\n",
       "      <td>2</td>\n",
       "      <td>F</td>\n",
       "      <td>пенсионер</td>\n",
       "      <td>0</td>\n",
       "      <td>114842.854099</td>\n",
       "      <td>недвижимость</td>\n",
       "    </tr>\n",
       "    <tr>\n",
       "      <td>4060</td>\n",
       "      <td>1</td>\n",
       "      <td>NaN</td>\n",
       "      <td>0</td>\n",
       "      <td>среднее</td>\n",
       "      <td>1</td>\n",
       "      <td>гражданский брак</td>\n",
       "      <td>1</td>\n",
       "      <td>M</td>\n",
       "      <td>компаньон</td>\n",
       "      <td>0</td>\n",
       "      <td>159070.690289</td>\n",
       "      <td>ремонт жилью</td>\n",
       "    </tr>\n",
       "    <tr>\n",
       "      <td>5009</td>\n",
       "      <td>0</td>\n",
       "      <td>NaN</td>\n",
       "      <td>0</td>\n",
       "      <td>среднее</td>\n",
       "      <td>1</td>\n",
       "      <td>женат / замужем</td>\n",
       "      <td>0</td>\n",
       "      <td>F</td>\n",
       "      <td>компаньон</td>\n",
       "      <td>0</td>\n",
       "      <td>159070.690289</td>\n",
       "      <td>покупка недвижимости</td>\n",
       "    </tr>\n",
       "    <tr>\n",
       "      <td>6405</td>\n",
       "      <td>0</td>\n",
       "      <td>NaN</td>\n",
       "      <td>0</td>\n",
       "      <td>высшее</td>\n",
       "      <td>0</td>\n",
       "      <td>гражданский брак</td>\n",
       "      <td>1</td>\n",
       "      <td>F</td>\n",
       "      <td>пенсионер</td>\n",
       "      <td>0</td>\n",
       "      <td>144240.768611</td>\n",
       "      <td>свадьба</td>\n",
       "    </tr>\n",
       "    <tr>\n",
       "      <td>6664</td>\n",
       "      <td>0</td>\n",
       "      <td>NaN</td>\n",
       "      <td>0</td>\n",
       "      <td>высшее</td>\n",
       "      <td>0</td>\n",
       "      <td>в разводе</td>\n",
       "      <td>3</td>\n",
       "      <td>F</td>\n",
       "      <td>пенсионер</td>\n",
       "      <td>0</td>\n",
       "      <td>144240.768611</td>\n",
       "      <td>покупка жилой недвижимости</td>\n",
       "    </tr>\n",
       "    <tr>\n",
       "      <td>8566</td>\n",
       "      <td>0</td>\n",
       "      <td>NaN</td>\n",
       "      <td>0</td>\n",
       "      <td>среднее</td>\n",
       "      <td>1</td>\n",
       "      <td>женат / замужем</td>\n",
       "      <td>0</td>\n",
       "      <td>F</td>\n",
       "      <td>сотрудник</td>\n",
       "      <td>0</td>\n",
       "      <td>136555.108821</td>\n",
       "      <td>недвижимость</td>\n",
       "    </tr>\n",
       "    <tr>\n",
       "      <td>12393</td>\n",
       "      <td>3</td>\n",
       "      <td>NaN</td>\n",
       "      <td>0</td>\n",
       "      <td>среднее</td>\n",
       "      <td>1</td>\n",
       "      <td>женат / замужем</td>\n",
       "      <td>0</td>\n",
       "      <td>M</td>\n",
       "      <td>сотрудник</td>\n",
       "      <td>0</td>\n",
       "      <td>136555.108821</td>\n",
       "      <td>операции с коммерческой недвижимостью</td>\n",
       "    </tr>\n",
       "    <tr>\n",
       "      <td>13730</td>\n",
       "      <td>0</td>\n",
       "      <td>NaN</td>\n",
       "      <td>0</td>\n",
       "      <td>среднее</td>\n",
       "      <td>1</td>\n",
       "      <td>гражданский брак</td>\n",
       "      <td>1</td>\n",
       "      <td>F</td>\n",
       "      <td>сотрудник</td>\n",
       "      <td>0</td>\n",
       "      <td>136555.108821</td>\n",
       "      <td>на проведение свадьбы</td>\n",
       "    </tr>\n",
       "    <tr>\n",
       "      <td>19813</td>\n",
       "      <td>0</td>\n",
       "      <td>NaN</td>\n",
       "      <td>0</td>\n",
       "      <td>среднее</td>\n",
       "      <td>1</td>\n",
       "      <td>женат / замужем</td>\n",
       "      <td>0</td>\n",
       "      <td>F</td>\n",
       "      <td>сотрудник</td>\n",
       "      <td>0</td>\n",
       "      <td>136555.108821</td>\n",
       "      <td>жилье</td>\n",
       "    </tr>\n",
       "  </tbody>\n",
       "</table>\n",
       "</div>"
      ],
      "text/plain": [
       "       children  days_employed  dob_years education  education_id  \\\n",
       "1887          0            NaN          0    высшее             0   \n",
       "2280          0            NaN          0   среднее             1   \n",
       "4060          1            NaN          0   среднее             1   \n",
       "5009          0            NaN          0   среднее             1   \n",
       "6405          0            NaN          0    высшее             0   \n",
       "6664          0            NaN          0    высшее             0   \n",
       "8566          0            NaN          0   среднее             1   \n",
       "12393         3            NaN          0   среднее             1   \n",
       "13730         0            NaN          0   среднее             1   \n",
       "19813         0            NaN          0   среднее             1   \n",
       "\n",
       "               family_status  family_status_id gender income_type  debt  \\\n",
       "1887   Не женат / не замужем                 4      F   сотрудник     0   \n",
       "2280          вдовец / вдова                 2      F   пенсионер     0   \n",
       "4060        гражданский брак                 1      M   компаньон     0   \n",
       "5009         женат / замужем                 0      F   компаньон     0   \n",
       "6405        гражданский брак                 1      F   пенсионер     0   \n",
       "6664               в разводе                 3      F   пенсионер     0   \n",
       "8566         женат / замужем                 0      F   сотрудник     0   \n",
       "12393        женат / замужем                 0      M   сотрудник     0   \n",
       "13730       гражданский брак                 1      F   сотрудник     0   \n",
       "19813        женат / замужем                 0      F   сотрудник     0   \n",
       "\n",
       "        total_income                                purpose  \n",
       "1887   165640.744634                                  жилье  \n",
       "2280   114842.854099                           недвижимость  \n",
       "4060   159070.690289                           ремонт жилью  \n",
       "5009   159070.690289                   покупка недвижимости  \n",
       "6405   144240.768611                                свадьба  \n",
       "6664   144240.768611             покупка жилой недвижимости  \n",
       "8566   136555.108821                           недвижимость  \n",
       "12393  136555.108821  операции с коммерческой недвижимостью  \n",
       "13730  136555.108821                  на проведение свадьбы  \n",
       "19813  136555.108821                                  жилье  "
      ]
     },
     "execution_count": 19,
     "metadata": {},
     "output_type": "execute_result"
    }
   ],
   "source": [
    "data_final[data_final['days_employed'].isnull()]"
   ]
  },
  {
   "cell_type": "markdown",
   "metadata": {},
   "source": [
    "Так как возраст в 10 строках равен 0, не можем восстановить значения трудового стажа. Удалим эти строки."
   ]
  },
  {
   "cell_type": "code",
   "execution_count": 20,
   "metadata": {
    "scrolled": true
   },
   "outputs": [
    {
     "name": "stdout",
     "output_type": "stream",
     "text": [
      "<class 'pandas.core.frame.DataFrame'>\n",
      "RangeIndex: 21497 entries, 0 to 21496\n",
      "Data columns (total 12 columns):\n",
      "children            21497 non-null int64\n",
      "days_employed       21497 non-null float64\n",
      "dob_years           21497 non-null int64\n",
      "education           21497 non-null object\n",
      "education_id        21497 non-null int64\n",
      "family_status       21497 non-null object\n",
      "family_status_id    21497 non-null int64\n",
      "gender              21497 non-null object\n",
      "income_type         21497 non-null object\n",
      "debt                21497 non-null int64\n",
      "total_income        21497 non-null float64\n",
      "purpose             21497 non-null object\n",
      "dtypes: float64(2), int64(5), object(5)\n",
      "memory usage: 2.0+ MB\n"
     ]
    }
   ],
   "source": [
    "index_nan = data_final[data_final['days_employed'].isnull()].index\n",
    "\n",
    "data_final.drop(index_nan, inplace=True)\n",
    "data_final.reset_index(drop=True, inplace=True)\n",
    "\n",
    "data_final.info()"
   ]
  },
  {
   "cell_type": "markdown",
   "metadata": {},
   "source": [
    "Проверим столбец с количеством детей (children)"
   ]
  },
  {
   "cell_type": "code",
   "execution_count": 21,
   "metadata": {
    "scrolled": true
   },
   "outputs": [
    {
     "data": {
      "text/plain": [
       " 0     14123\n",
       " 1      4817\n",
       " 2      2055\n",
       " 3       329\n",
       " 20       76\n",
       "-1        47\n",
       " 4        41\n",
       " 5         9\n",
       "Name: children, dtype: int64"
      ]
     },
     "execution_count": 21,
     "metadata": {},
     "output_type": "execute_result"
    }
   ],
   "source": [
    "data_final['children'].value_counts()"
   ]
  },
  {
   "cell_type": "markdown",
   "metadata": {},
   "source": [
    "Выбросы 20 детей и -1 могли возникнуть в результате копирования, переноса данных.  \n",
    "Значение 20 Не будем его учитывать при анализе данных.  \n",
    "Значение -1 исправим на корректное значение."
   ]
  },
  {
   "cell_type": "code",
   "execution_count": 22,
   "metadata": {},
   "outputs": [
    {
     "data": {
      "text/plain": [
       "0     14123\n",
       "1      4864\n",
       "2      2055\n",
       "3       329\n",
       "20       76\n",
       "4        41\n",
       "5         9\n",
       "Name: children, dtype: int64"
      ]
     },
     "execution_count": 22,
     "metadata": {},
     "output_type": "execute_result"
    }
   ],
   "source": [
    "data_final['children'] = data_final['children'].abs()\n",
    "data_final['children'].value_counts()"
   ]
  },
  {
   "cell_type": "markdown",
   "metadata": {},
   "source": [
    "Проверим столбец в семейным положением (family_status)"
   ]
  },
  {
   "cell_type": "code",
   "execution_count": 23,
   "metadata": {},
   "outputs": [
    {
     "data": {
      "text/plain": [
       "женат / замужем          12367\n",
       "гражданский брак          4174\n",
       "Не женат / не замужем     2808\n",
       "в разводе                 1193\n",
       "вдовец / вдова             955\n",
       "Name: family_status, dtype: int64"
      ]
     },
     "execution_count": 23,
     "metadata": {},
     "output_type": "execute_result"
    }
   ],
   "source": [
    "data_final['family_status'].value_counts()"
   ]
  },
  {
   "cell_type": "markdown",
   "metadata": {},
   "source": [
    "Исправим регистр"
   ]
  },
  {
   "cell_type": "code",
   "execution_count": 24,
   "metadata": {},
   "outputs": [
    {
     "data": {
      "text/plain": [
       "женат / замужем          12367\n",
       "гражданский брак          4174\n",
       "не женат / не замужем     2808\n",
       "в разводе                 1193\n",
       "вдовец / вдова             955\n",
       "Name: family_status, dtype: int64"
      ]
     },
     "execution_count": 24,
     "metadata": {},
     "output_type": "execute_result"
    }
   ],
   "source": [
    "data_final['family_status'] = data_final['family_status'].str.lower()\n",
    "data_final['family_status'].value_counts()"
   ]
  },
  {
   "cell_type": "markdown",
   "metadata": {},
   "source": [
    "Проверим столбец с задолженностями по кредиту (debt)"
   ]
  },
  {
   "cell_type": "code",
   "execution_count": 25,
   "metadata": {},
   "outputs": [
    {
     "data": {
      "text/plain": [
       "0    19757\n",
       "1     1740\n",
       "Name: debt, dtype: int64"
      ]
     },
     "execution_count": 25,
     "metadata": {},
     "output_type": "execute_result"
    }
   ],
   "source": [
    "data_final['debt'].value_counts()"
   ]
  },
  {
   "cell_type": "markdown",
   "metadata": {},
   "source": [
    "#### Вывод"
   ]
  },
  {
   "cell_type": "code",
   "execution_count": 26,
   "metadata": {},
   "outputs": [
    {
     "name": "stdout",
     "output_type": "stream",
     "text": [
      "Удаленных строк: 0.13%\n",
      "Замененных строк с месячным доходом: 26.01%\n",
      "Замененных строк с трудовым стажем: 10.11%\n"
     ]
    }
   ],
   "source": [
    "print('Удаленных строк: {:.2%}'.format((21525 - 21497) / 21525))  \n",
    "print('Замененных строк с месячным доходом: {:.2%}'.format(5591 / 21497))     \n",
    "print('Замененных строк с трудовым стажем: {:.2%}'.format(2173 / 21497))"
   ]
  },
  {
   "cell_type": "markdown",
   "metadata": {},
   "source": [
    "#### 2.2 Замена типа данных<a id='2.2'></a> "
   ]
  },
  {
   "cell_type": "code",
   "execution_count": 27,
   "metadata": {},
   "outputs": [
    {
     "name": "stdout",
     "output_type": "stream",
     "text": [
      "<class 'pandas.core.frame.DataFrame'>\n",
      "RangeIndex: 21497 entries, 0 to 21496\n",
      "Data columns (total 12 columns):\n",
      "children            21497 non-null int64\n",
      "days_employed       21497 non-null float64\n",
      "dob_years           21497 non-null int64\n",
      "education           21497 non-null object\n",
      "education_id        21497 non-null int64\n",
      "family_status       21497 non-null object\n",
      "family_status_id    21497 non-null int64\n",
      "gender              21497 non-null object\n",
      "income_type         21497 non-null object\n",
      "debt                21497 non-null int64\n",
      "total_income        21497 non-null float64\n",
      "purpose             21497 non-null object\n",
      "dtypes: float64(2), int64(5), object(5)\n",
      "memory usage: 2.0+ MB\n"
     ]
    }
   ],
   "source": [
    "data_final.info()"
   ]
  },
  {
   "cell_type": "markdown",
   "metadata": {},
   "source": [
    "Изменим тип данных трудового стажа(days_employed) и месячного дохода(total_income) с float64 на int64"
   ]
  },
  {
   "cell_type": "code",
   "execution_count": 28,
   "metadata": {},
   "outputs": [
    {
     "name": "stdout",
     "output_type": "stream",
     "text": [
      "<class 'pandas.core.frame.DataFrame'>\n",
      "RangeIndex: 21497 entries, 0 to 21496\n",
      "Data columns (total 12 columns):\n",
      "children            21497 non-null int64\n",
      "days_employed       21497 non-null int64\n",
      "dob_years           21497 non-null int64\n",
      "education           21497 non-null object\n",
      "education_id        21497 non-null int64\n",
      "family_status       21497 non-null object\n",
      "family_status_id    21497 non-null int64\n",
      "gender              21497 non-null object\n",
      "income_type         21497 non-null object\n",
      "debt                21497 non-null int64\n",
      "total_income        21497 non-null int64\n",
      "purpose             21497 non-null object\n",
      "dtypes: int64(7), object(5)\n",
      "memory usage: 2.0+ MB\n"
     ]
    }
   ],
   "source": [
    "data_final['days_employed'] = data_final['days_employed'].astype('int64')\n",
    "data_final['total_income'] = data_final['total_income'].astype('int64')\n",
    "data_final.info()"
   ]
  },
  {
   "cell_type": "markdown",
   "metadata": {},
   "source": [
    "#### Вывод"
   ]
  },
  {
   "cell_type": "markdown",
   "metadata": {},
   "source": [
    "При переводе значений из годов в дни в первом случае и к меньшим денежным единицам во втором могли образоваться значения с типом данных float64, но для анализа данных в данном случае дробные части не нужны поэтому преобразовали в int64"
   ]
  },
  {
   "cell_type": "markdown",
   "metadata": {},
   "source": [
    "#### 2.3 Обработка дубликатов<a id='2.3'></a> "
   ]
  },
  {
   "cell_type": "markdown",
   "metadata": {},
   "source": [
    "Изучим таблицу (data_final) на предмет наличия дубликатов"
   ]
  },
  {
   "cell_type": "code",
   "execution_count": 29,
   "metadata": {},
   "outputs": [
    {
     "data": {
      "text/plain": [
       "71"
      ]
     },
     "execution_count": 29,
     "metadata": {},
     "output_type": "execute_result"
    }
   ],
   "source": [
    "data_final.duplicated().sum()"
   ]
  },
  {
   "cell_type": "markdown",
   "metadata": {},
   "source": [
    "Удалим дубликаты"
   ]
  },
  {
   "cell_type": "code",
   "execution_count": 30,
   "metadata": {},
   "outputs": [
    {
     "data": {
      "text/plain": [
       "0"
      ]
     },
     "execution_count": 30,
     "metadata": {},
     "output_type": "execute_result"
    }
   ],
   "source": [
    "data_final.drop_duplicates(inplace=True)\n",
    "data_final.reset_index(drop=True, inplace=True)\n",
    "data_final.duplicated().sum()"
   ]
  },
  {
   "cell_type": "markdown",
   "metadata": {},
   "source": [
    "#### Вывод"
   ]
  },
  {
   "cell_type": "markdown",
   "metadata": {},
   "source": [
    "Было найдено дубликатов 71. Они могли появиться при объединении столбцов, либо это разные записи, но без id клиента нельзя сказать точно. По имеющейся информации это дубликаты поэтому удалили их."
   ]
  },
  {
   "cell_type": "markdown",
   "metadata": {},
   "source": [
    "#### 2.4 Лемматизация<a id='2.4'></a> "
   ]
  },
  {
   "cell_type": "markdown",
   "metadata": {},
   "source": [
    "Создадим список с целями (list_purpose)"
   ]
  },
  {
   "cell_type": "code",
   "execution_count": 31,
   "metadata": {},
   "outputs": [],
   "source": [
    "from pymystem3 import Mystem\n",
    "m = Mystem()\n",
    "list_purpose = []\n",
    "\n",
    "for text in data_final['purpose']:\n",
    "    lemmas = m.lemmatize(text)\n",
    "    list_purpose.extend(lemmas)"
   ]
  },
  {
   "cell_type": "markdown",
   "metadata": {},
   "source": [
    "Посчитаем как часто встречаются определенные слова в формулировках целей"
   ]
  },
  {
   "cell_type": "code",
   "execution_count": 32,
   "metadata": {
    "scrolled": true
   },
   "outputs": [
    {
     "name": "stdout",
     "output_type": "stream",
     "text": [
      "  33540\n",
      "\n",
      " 21426\n",
      "недвижимость 6341\n",
      "покупка 5889\n",
      "жилье 4453\n",
      "автомобиль 4303\n",
      "образование 4007\n",
      "с 2916\n",
      "операция 2602\n",
      "свадьба 2322\n",
      "свой 2228\n",
      "на 2220\n",
      "строительство 1877\n",
      "высокий 1371\n",
      "получение 1313\n",
      "коммерческий 1309\n",
      "для 1289\n",
      "жилой 1228\n",
      "сделка 941\n",
      "дополнительный 905\n",
      "заниматься 903\n",
      "проведение 767\n",
      "сыграть 765\n",
      "сдача 651\n",
      "семья 638\n",
      "собственный 634\n",
      "со 627\n",
      "ремонт 606\n",
      "подержанный 486\n",
      "подержать 478\n",
      "приобретение 461\n",
      "профильный 436\n"
     ]
    }
   ],
   "source": [
    "from collections import Counter\n",
    "\n",
    "for key, value  in Counter(list_purpose).most_common():\n",
    "    print(key, value)\n"
   ]
  },
  {
   "cell_type": "markdown",
   "metadata": {},
   "source": [
    "Создадим список с самыми частыми целями"
   ]
  },
  {
   "cell_type": "code",
   "execution_count": 33,
   "metadata": {},
   "outputs": [],
   "source": [
    "basic_purpose = ['ремонт', 'строительство', 'свадьба', 'образование', 'автомобиль', 'недвижимость', 'жилье']"
   ]
  },
  {
   "cell_type": "markdown",
   "metadata": {},
   "source": [
    "#### Вывод"
   ]
  },
  {
   "cell_type": "markdown",
   "metadata": {},
   "source": [
    "В основном кредиты оформляют на ремонт, строительство, свадьбу, образование, автомобиль и недвижимость."
   ]
  },
  {
   "cell_type": "markdown",
   "metadata": {},
   "source": [
    "#### 2.5 Категоризация данных<a id='2.5'></a> "
   ]
  },
  {
   "cell_type": "markdown",
   "metadata": {},
   "source": [
    "Создадим список, в котором запишем основные цели для каждой записи data_final"
   ]
  },
  {
   "cell_type": "code",
   "execution_count": 34,
   "metadata": {},
   "outputs": [],
   "source": [
    "purpose_list = []\n",
    "\n",
    "for row in data_final['purpose']:\n",
    "    lemmas = m.lemmatize(row)\n",
    "    for el in basic_purpose:\n",
    "        if el in lemmas:\n",
    "            purpose_list.append(el)\n",
    "            break"
   ]
  },
  {
   "cell_type": "markdown",
   "metadata": {},
   "source": [
    "Сформируем Series из этого списка и добавим в data_final как отдельную колонку"
   ]
  },
  {
   "cell_type": "code",
   "execution_count": 35,
   "metadata": {
    "scrolled": true
   },
   "outputs": [
    {
     "data": {
      "text/plain": [
       "0               жилье\n",
       "1          автомобиль\n",
       "2               жилье\n",
       "3         образование\n",
       "4             свадьба\n",
       "             ...     \n",
       "21421           жилье\n",
       "21422      автомобиль\n",
       "21423    недвижимость\n",
       "21424      автомобиль\n",
       "21425      автомобиль\n",
       "Length: 21426, dtype: object"
      ]
     },
     "execution_count": 35,
     "metadata": {},
     "output_type": "execute_result"
    }
   ],
   "source": [
    "purpose_lem = pd.Series(purpose_list)\n",
    "purpose_lem"
   ]
  },
  {
   "cell_type": "code",
   "execution_count": 36,
   "metadata": {
    "scrolled": true
   },
   "outputs": [
    {
     "data": {
      "text/html": [
       "<div>\n",
       "<style scoped>\n",
       "    .dataframe tbody tr th:only-of-type {\n",
       "        vertical-align: middle;\n",
       "    }\n",
       "\n",
       "    .dataframe tbody tr th {\n",
       "        vertical-align: top;\n",
       "    }\n",
       "\n",
       "    .dataframe thead th {\n",
       "        text-align: right;\n",
       "    }\n",
       "</style>\n",
       "<table border=\"1\" class=\"dataframe\">\n",
       "  <thead>\n",
       "    <tr style=\"text-align: right;\">\n",
       "      <th></th>\n",
       "      <th>children</th>\n",
       "      <th>days_employed</th>\n",
       "      <th>dob_years</th>\n",
       "      <th>education</th>\n",
       "      <th>education_id</th>\n",
       "      <th>family_status</th>\n",
       "      <th>family_status_id</th>\n",
       "      <th>gender</th>\n",
       "      <th>income_type</th>\n",
       "      <th>debt</th>\n",
       "      <th>total_income</th>\n",
       "      <th>base_purpose</th>\n",
       "      <th>purpose</th>\n",
       "    </tr>\n",
       "  </thead>\n",
       "  <tbody>\n",
       "    <tr>\n",
       "      <td>21421</td>\n",
       "      <td>1</td>\n",
       "      <td>2020</td>\n",
       "      <td>43</td>\n",
       "      <td>среднее</td>\n",
       "      <td>1</td>\n",
       "      <td>гражданский брак</td>\n",
       "      <td>1</td>\n",
       "      <td>F</td>\n",
       "      <td>компаньон</td>\n",
       "      <td>0</td>\n",
       "      <td>224791</td>\n",
       "      <td>жилье</td>\n",
       "      <td>операции с жильем</td>\n",
       "    </tr>\n",
       "    <tr>\n",
       "      <td>21422</td>\n",
       "      <td>0</td>\n",
       "      <td>2669</td>\n",
       "      <td>67</td>\n",
       "      <td>среднее</td>\n",
       "      <td>1</td>\n",
       "      <td>женат / замужем</td>\n",
       "      <td>0</td>\n",
       "      <td>F</td>\n",
       "      <td>пенсионер</td>\n",
       "      <td>0</td>\n",
       "      <td>155999</td>\n",
       "      <td>автомобиль</td>\n",
       "      <td>сделка с автомобилем</td>\n",
       "    </tr>\n",
       "    <tr>\n",
       "      <td>21423</td>\n",
       "      <td>1</td>\n",
       "      <td>1589</td>\n",
       "      <td>38</td>\n",
       "      <td>среднее</td>\n",
       "      <td>1</td>\n",
       "      <td>гражданский брак</td>\n",
       "      <td>1</td>\n",
       "      <td>M</td>\n",
       "      <td>сотрудник</td>\n",
       "      <td>1</td>\n",
       "      <td>89672</td>\n",
       "      <td>недвижимость</td>\n",
       "      <td>недвижимость</td>\n",
       "    </tr>\n",
       "    <tr>\n",
       "      <td>21424</td>\n",
       "      <td>3</td>\n",
       "      <td>1589</td>\n",
       "      <td>38</td>\n",
       "      <td>среднее</td>\n",
       "      <td>1</td>\n",
       "      <td>женат / замужем</td>\n",
       "      <td>0</td>\n",
       "      <td>M</td>\n",
       "      <td>сотрудник</td>\n",
       "      <td>1</td>\n",
       "      <td>244093</td>\n",
       "      <td>автомобиль</td>\n",
       "      <td>на покупку своего автомобиля</td>\n",
       "    </tr>\n",
       "    <tr>\n",
       "      <td>21425</td>\n",
       "      <td>2</td>\n",
       "      <td>2020</td>\n",
       "      <td>40</td>\n",
       "      <td>среднее</td>\n",
       "      <td>1</td>\n",
       "      <td>женат / замужем</td>\n",
       "      <td>0</td>\n",
       "      <td>F</td>\n",
       "      <td>сотрудник</td>\n",
       "      <td>0</td>\n",
       "      <td>82047</td>\n",
       "      <td>автомобиль</td>\n",
       "      <td>на покупку автомобиля</td>\n",
       "    </tr>\n",
       "  </tbody>\n",
       "</table>\n",
       "</div>"
      ],
      "text/plain": [
       "       children  days_employed  dob_years education  education_id  \\\n",
       "21421         1           2020         43   среднее             1   \n",
       "21422         0           2669         67   среднее             1   \n",
       "21423         1           1589         38   среднее             1   \n",
       "21424         3           1589         38   среднее             1   \n",
       "21425         2           2020         40   среднее             1   \n",
       "\n",
       "          family_status  family_status_id gender income_type  debt  \\\n",
       "21421  гражданский брак                 1      F   компаньон     0   \n",
       "21422   женат / замужем                 0      F   пенсионер     0   \n",
       "21423  гражданский брак                 1      M   сотрудник     1   \n",
       "21424   женат / замужем                 0      M   сотрудник     1   \n",
       "21425   женат / замужем                 0      F   сотрудник     0   \n",
       "\n",
       "       total_income  base_purpose                       purpose  \n",
       "21421        224791         жилье             операции с жильем  \n",
       "21422        155999    автомобиль          сделка с автомобилем  \n",
       "21423         89672  недвижимость                  недвижимость  \n",
       "21424        244093    автомобиль  на покупку своего автомобиля  \n",
       "21425         82047    автомобиль         на покупку автомобиля  "
      ]
     },
     "execution_count": 36,
     "metadata": {},
     "output_type": "execute_result"
    }
   ],
   "source": [
    "data_final.insert(11, 'base_purpose', purpose_lem)\n",
    "data_final.tail(5)"
   ]
  },
  {
   "cell_type": "markdown",
   "metadata": {},
   "source": [
    "Создадим DataFrame, который будем дальше анализировать"
   ]
  },
  {
   "cell_type": "code",
   "execution_count": 37,
   "metadata": {
    "scrolled": true
   },
   "outputs": [
    {
     "name": "stdout",
     "output_type": "stream",
     "text": [
      "   children     family_status  total_income  debt base_purpose\n",
      "0         1   женат / замужем        253875     0        жилье\n",
      "1         1   женат / замужем        112080     0   автомобиль\n",
      "2         0   женат / замужем        145885     0        жилье\n",
      "3         3   женат / замужем        267628     0  образование\n",
      "4         0  гражданский брак        158616     0      свадьба\n",
      "5         0  гражданский брак        255763     0        жилье\n",
      "6         0   женат / замужем        240525     0        жилье\n",
      "7         0   женат / замужем        135823     0  образование\n",
      "8         2  гражданский брак         95856     0      свадьба\n",
      "9         0   женат / замужем        144425     0        жилье\n"
     ]
    }
   ],
   "source": [
    "purpose_dict = data_final[['children', 'family_status','total_income', 'debt', 'base_purpose']]\n",
    "print(purpose_dict.head(10))"
   ]
  },
  {
   "cell_type": "markdown",
   "metadata": {},
   "source": [
    "#### Вывод"
   ]
  },
  {
   "cell_type": "markdown",
   "metadata": {},
   "source": [
    "Категоризация целей кредита позволит в дальнейшем ответить на вопрос о зависимости цели и возврата кредита в срок.  \n",
    "base_purpose содержит основные категории, выделенные после лемматизации."
   ]
  },
  {
   "cell_type": "markdown",
   "metadata": {},
   "source": [
    "### 3. Ответы на вопросы<a id='3'></a>"
   ]
  },
  {
   "cell_type": "markdown",
   "metadata": {},
   "source": [
    "- Есть ли зависимость между наличием детей и возвратом кредита в срок?"
   ]
  },
  {
   "cell_type": "code",
   "execution_count": 38,
   "metadata": {
    "scrolled": true
   },
   "outputs": [
    {
     "name": "stdout",
     "output_type": "stream",
     "text": [
      "  Наличие детей  Всего людей  Всего должников  Процент должников\n",
      "0           нет        14065             1062           7.550658\n",
      "1          есть         7361              678           9.210705\n"
     ]
    }
   ],
   "source": [
    "number_of_debtors_without_children = purpose_dict[\n",
    "    (purpose_dict['children'] == 0) & \n",
    "    (purpose_dict['debt'] == 1)]['debt'].count()\n",
    "\n",
    "number_of_people_without_children = purpose_dict[\n",
    "    purpose_dict['children'] == 0]['debt'].count()\n",
    "\n",
    "percent_number_of_debtors_without_children = (\n",
    "    number_of_debtors_without_children / number_of_people_without_children * 100)\n",
    "\n",
    "number_of_debtors_with_children = purpose_dict[\n",
    "    (purpose_dict['children'] > 0) & \n",
    "    (purpose_dict['debt'] == 1)]['debt'].count()\n",
    "\n",
    "number_of_people_with_children = purpose_dict[\n",
    "    purpose_dict['children'] > 0]['debt'].count()\n",
    "\n",
    "percent_number_of_debtors_with_children = (\n",
    "    number_of_debtors_with_children / number_of_people_with_children * 100)\n",
    "\n",
    "table_children = pd.DataFrame(data=[\n",
    "    ['нет',\n",
    "    number_of_people_without_children,\n",
    "    number_of_debtors_without_children, \n",
    "    percent_number_of_debtors_without_children],\n",
    "    ['есть',\n",
    "    number_of_people_with_children,\n",
    "    number_of_debtors_with_children, \n",
    "    percent_number_of_debtors_with_children]], columns =[\n",
    "    'Наличие детей', 'Всего людей', 'Всего должников', 'Процент должников'])\n",
    "\n",
    "print(table_children)"
   ]
  },
  {
   "cell_type": "code",
   "execution_count": 39,
   "metadata": {},
   "outputs": [
    {
     "data": {
      "text/html": [
       "<div>\n",
       "<style scoped>\n",
       "    .dataframe tbody tr th:only-of-type {\n",
       "        vertical-align: middle;\n",
       "    }\n",
       "\n",
       "    .dataframe tbody tr th {\n",
       "        vertical-align: top;\n",
       "    }\n",
       "\n",
       "    .dataframe thead th {\n",
       "        text-align: right;\n",
       "    }\n",
       "</style>\n",
       "<table border=\"1\" class=\"dataframe\">\n",
       "  <thead>\n",
       "    <tr style=\"text-align: right;\">\n",
       "      <th></th>\n",
       "      <th>Всего</th>\n",
       "      <th>Всего должников</th>\n",
       "      <th>Процент должников</th>\n",
       "    </tr>\n",
       "    <tr>\n",
       "      <th>children</th>\n",
       "      <th></th>\n",
       "      <th></th>\n",
       "      <th></th>\n",
       "    </tr>\n",
       "  </thead>\n",
       "  <tbody>\n",
       "    <tr>\n",
       "      <td>False</td>\n",
       "      <td>14065</td>\n",
       "      <td>1062</td>\n",
       "      <td>7.550658</td>\n",
       "    </tr>\n",
       "    <tr>\n",
       "      <td>True</td>\n",
       "      <td>7361</td>\n",
       "      <td>678</td>\n",
       "      <td>9.210705</td>\n",
       "    </tr>\n",
       "  </tbody>\n",
       "</table>\n",
       "</div>"
      ],
      "text/plain": [
       "          Всего  Всего должников  Процент должников\n",
       "children                                           \n",
       "False     14065             1062           7.550658\n",
       "True       7361              678           9.210705"
      ]
     },
     "execution_count": 39,
     "metadata": {},
     "output_type": "execute_result"
    }
   ],
   "source": [
    "total_people = purpose_dict.groupby(purpose_dict['children'] > 0)['debt'].count()\n",
    "debtors = purpose_dict[purpose_dict['debt'] == 1].groupby(purpose_dict['children'] > 0)['debt'].count()\n",
    "pd.concat([total_people, debtors, debtors / total_people * 100], axis=1, keys=['Всего', 'Всего должников', 'Процент должников'])"
   ]
  },
  {
   "cell_type": "markdown",
   "metadata": {},
   "source": [
    "### Вывод"
   ]
  },
  {
   "cell_type": "markdown",
   "metadata": {},
   "source": [
    "По имеющемся данным можно выделить зависимость наличия детей и возврата кредита в срок. Люди без детей имеют задолженность в 7,55% случаях, в то время как люди с детьми в 9,21%. Возможная причина - у людей с детьми может быть больше незапланированных трат."
   ]
  },
  {
   "cell_type": "markdown",
   "metadata": {},
   "source": [
    "- Есть ли зависимость между семейным положением и возвратом кредита в срок?"
   ]
  },
  {
   "cell_type": "markdown",
   "metadata": {},
   "source": [
    "Создадим функцию, которая будет считать основные показатели при нужном условии:  \n",
    "-количество людей всего,  \n",
    "-количество людей, имеющих задолженность  \n",
    "-процент людей, имеющих задолженность, от всего количества людей"
   ]
  },
  {
   "cell_type": "code",
   "execution_count": 40,
   "metadata": {},
   "outputs": [],
   "source": [
    "def create_list(column):\n",
    "    list_base_indicator = []\n",
    "    for el in purpose_dict[column].unique():\n",
    "        number_all = purpose_dict[\n",
    "        purpose_dict[column] == el]['debt'].count()\n",
    "    \n",
    "        number_of_debtors = purpose_dict[\n",
    "        (purpose_dict[column] == el) & \n",
    "        (purpose_dict['debt'] == 1)]['debt'].count()\n",
    "    \n",
    "        percent_number = (\n",
    "        number_of_debtors / number_all * 100)\n",
    "        list_base_indicator.append([el, number_all, number_of_debtors, percent_number])\n",
    "        \n",
    "    return list_base_indicator"
   ]
  },
  {
   "cell_type": "code",
   "execution_count": 41,
   "metadata": {},
   "outputs": [
    {
     "name": "stdout",
     "output_type": "stream",
     "text": [
      "      Семейное положение  Всего людей  Всего должников  Процент должников\n",
      "0        женат / замужем        12326              931           7.553140\n",
      "1       гражданский брак         4148              388           9.353905\n",
      "2         вдовец / вдова          954               62           6.498952\n",
      "3              в разводе         1193               85           7.124895\n",
      "4  не женат / не замужем         2805              274           9.768271\n"
     ]
    }
   ],
   "source": [
    "list_base_indicator = create_list('family_status')       \n",
    "table_family_status = pd.DataFrame(data=list_base_indicator, columns =[\n",
    "    'Семейное положение', 'Всего людей', 'Всего должников', 'Процент должников']) \n",
    "print(table_family_status)"
   ]
  },
  {
   "cell_type": "markdown",
   "metadata": {},
   "source": [
    "### Вывод"
   ]
  },
  {
   "cell_type": "markdown",
   "metadata": {},
   "source": [
    "В данном случае наблюдается,что показатели 6-7% у людей, кто находится или был в браке, а показатели 9% у людей свободных или в гражданских отношениях. Возможно, в первом случе люди старше или уже научились брать ответственность и могут распланировать возврат долга в нужные сроки."
   ]
  },
  {
   "cell_type": "markdown",
   "metadata": {},
   "source": [
    "- Есть ли зависимость между уровнем дохода и возвратом кредита в срок?"
   ]
  },
  {
   "cell_type": "markdown",
   "metadata": {},
   "source": [
    "Добавим колонку с диапазонами доходов"
   ]
  },
  {
   "cell_type": "code",
   "execution_count": 42,
   "metadata": {},
   "outputs": [
    {
     "name": "stderr",
     "output_type": "stream",
     "text": [
      "/opt/conda/lib/python3.7/site-packages/ipykernel_launcher.py:3: SettingWithCopyWarning: \n",
      "A value is trying to be set on a copy of a slice from a DataFrame.\n",
      "Try using .loc[row_indexer,col_indexer] = value instead\n",
      "\n",
      "See the caveats in the documentation: http://pandas.pydata.org/pandas-docs/stable/user_guide/indexing.html#returning-a-view-versus-a-copy\n",
      "  This is separate from the ipykernel package so we can avoid doing imports until\n"
     ]
    },
    {
     "data": {
      "text/html": [
       "<div>\n",
       "<style scoped>\n",
       "    .dataframe tbody tr th:only-of-type {\n",
       "        vertical-align: middle;\n",
       "    }\n",
       "\n",
       "    .dataframe tbody tr th {\n",
       "        vertical-align: top;\n",
       "    }\n",
       "\n",
       "    .dataframe thead th {\n",
       "        text-align: right;\n",
       "    }\n",
       "</style>\n",
       "<table border=\"1\" class=\"dataframe\">\n",
       "  <thead>\n",
       "    <tr style=\"text-align: right;\">\n",
       "      <th></th>\n",
       "      <th>children</th>\n",
       "      <th>family_status</th>\n",
       "      <th>total_income</th>\n",
       "      <th>debt</th>\n",
       "      <th>base_purpose</th>\n",
       "      <th>ranges_total_income</th>\n",
       "    </tr>\n",
       "  </thead>\n",
       "  <tbody>\n",
       "    <tr>\n",
       "      <td>0</td>\n",
       "      <td>1</td>\n",
       "      <td>женат / замужем</td>\n",
       "      <td>253875</td>\n",
       "      <td>0</td>\n",
       "      <td>жилье</td>\n",
       "      <td>(220000.0, inf]</td>\n",
       "    </tr>\n",
       "    <tr>\n",
       "      <td>1</td>\n",
       "      <td>1</td>\n",
       "      <td>женат / замужем</td>\n",
       "      <td>112080</td>\n",
       "      <td>0</td>\n",
       "      <td>автомобиль</td>\n",
       "      <td>(100000.0, 135000.0]</td>\n",
       "    </tr>\n",
       "    <tr>\n",
       "      <td>2</td>\n",
       "      <td>0</td>\n",
       "      <td>женат / замужем</td>\n",
       "      <td>145885</td>\n",
       "      <td>0</td>\n",
       "      <td>жилье</td>\n",
       "      <td>(135000.0, 165000.0]</td>\n",
       "    </tr>\n",
       "    <tr>\n",
       "      <td>3</td>\n",
       "      <td>3</td>\n",
       "      <td>женат / замужем</td>\n",
       "      <td>267628</td>\n",
       "      <td>0</td>\n",
       "      <td>образование</td>\n",
       "      <td>(220000.0, inf]</td>\n",
       "    </tr>\n",
       "    <tr>\n",
       "      <td>4</td>\n",
       "      <td>0</td>\n",
       "      <td>гражданский брак</td>\n",
       "      <td>158616</td>\n",
       "      <td>0</td>\n",
       "      <td>свадьба</td>\n",
       "      <td>(135000.0, 165000.0]</td>\n",
       "    </tr>\n",
       "  </tbody>\n",
       "</table>\n",
       "</div>"
      ],
      "text/plain": [
       "   children     family_status  total_income  debt base_purpose  \\\n",
       "0         1   женат / замужем        253875     0        жилье   \n",
       "1         1   женат / замужем        112080     0   автомобиль   \n",
       "2         0   женат / замужем        145885     0        жилье   \n",
       "3         3   женат / замужем        267628     0  образование   \n",
       "4         0  гражданский брак        158616     0      свадьба   \n",
       "\n",
       "    ranges_total_income  \n",
       "0       (220000.0, inf]  \n",
       "1  (100000.0, 135000.0]  \n",
       "2  (135000.0, 165000.0]  \n",
       "3       (220000.0, inf]  \n",
       "4  (135000.0, 165000.0]  "
      ]
     },
     "execution_count": 42,
     "metadata": {},
     "output_type": "execute_result"
    }
   ],
   "source": [
    "import numpy as np\n",
    "purpose_dict['ranges_total_income'] = pd.cut(purpose_dict['total_income'],[\n",
    "    0,100000,135000,165000,220000, np.inf])\n",
    "purpose_dict.head()"
   ]
  },
  {
   "cell_type": "code",
   "execution_count": 43,
   "metadata": {},
   "outputs": [
    {
     "name": "stdout",
     "output_type": "stream",
     "text": [
      "        Диапазон дохода  Всего людей  Всего должников  Процент должников\n",
      "3       (0.0, 100000.0]         4455              354           7.946128\n",
      "1  (100000.0, 135000.0]         4414              373           8.450385\n",
      "2  (135000.0, 165000.0]         4359              393           9.015829\n",
      "4  (165000.0, 220000.0]         4194              336           8.011445\n",
      "0       (220000.0, inf]         4004              284           7.092907\n"
     ]
    }
   ],
   "source": [
    "list_base_indicator = create_list('ranges_total_income') \n",
    "\n",
    "table_total_income = pd.DataFrame(data=list_base_indicator, columns =[\n",
    "    'Диапазон дохода', 'Всего людей', 'Всего должников', 'Процент должников']) \n",
    "print(table_total_income.sort_values(by='Всего людей', ascending=False))"
   ]
  },
  {
   "cell_type": "markdown",
   "metadata": {},
   "source": [
    "### Вывод"
   ]
  },
  {
   "cell_type": "markdown",
   "metadata": {},
   "source": [
    "Данная зависимость похожа на нормальную. В диапазонах с низким и высоким доходами задолженностей меньше (7%), чем в среднем диапазоне от 135000 до 165000 (9%). Чем ближе к среднему диапазону месячный доход, тем больше процент задолженности."
   ]
  },
  {
   "cell_type": "markdown",
   "metadata": {},
   "source": [
    "- Как разные цели кредита влияют на его возврат в срок?"
   ]
  },
  {
   "cell_type": "code",
   "execution_count": 44,
   "metadata": {},
   "outputs": [
    {
     "name": "stdout",
     "output_type": "stream",
     "text": [
      "  Причина кредитования  Всего людей  Всего должников  Процент должников\n",
      "0                жилье         3847              273           7.096439\n",
      "1           автомобиль         4303              402           9.342319\n",
      "2          образование         4007              370           9.233841\n",
      "3              свадьба         2322              186           8.010336\n",
      "4         недвижимость         4464              330           7.392473\n",
      "5        строительство         1877              144           7.671817\n",
      "6               ремонт          606               35           5.775578\n"
     ]
    }
   ],
   "source": [
    "list_base_indicator = create_list('base_purpose') \n",
    "\n",
    "table_total_income = pd.DataFrame(data=list_base_indicator, columns =[\n",
    "    'Причина кредитования', 'Всего людей', 'Всего должников', 'Процент должников'])\n",
    "print(table_total_income)"
   ]
  },
  {
   "cell_type": "code",
   "execution_count": 45,
   "metadata": {},
   "outputs": [
    {
     "data": {
      "text/html": [
       "<style  type=\"text/css\" >\n",
       "</style><table id=\"T_d6bba6b2_8575_11ea_8ca8_02420a000bfc\" ><thead>    <tr>        <th class=\"blank level0\" ></th>        <th class=\"col_heading level0 col0\" >count</th>        <th class=\"col_heading level0 col1\" >sum</th>        <th class=\"col_heading level0 col2\" >mean</th>    </tr>    <tr>        <th class=\"blank level1\" ></th>        <th class=\"col_heading level1 col0\" >debt</th>        <th class=\"col_heading level1 col1\" >debt</th>        <th class=\"col_heading level1 col2\" >debt</th>    </tr>    <tr>        <th class=\"index_name level0\" >base_purpose</th>        <th class=\"blank\" ></th>        <th class=\"blank\" ></th>        <th class=\"blank\" ></th>    </tr></thead><tbody>\n",
       "                <tr>\n",
       "                        <th id=\"T_d6bba6b2_8575_11ea_8ca8_02420a000bfclevel0_row0\" class=\"row_heading level0 row0\" >автомобиль</th>\n",
       "                        <td id=\"T_d6bba6b2_8575_11ea_8ca8_02420a000bfcrow0_col0\" class=\"data row0 col0\" >4303</td>\n",
       "                        <td id=\"T_d6bba6b2_8575_11ea_8ca8_02420a000bfcrow0_col1\" class=\"data row0 col1\" >402</td>\n",
       "                        <td id=\"T_d6bba6b2_8575_11ea_8ca8_02420a000bfcrow0_col2\" class=\"data row0 col2\" >9.34%</td>\n",
       "            </tr>\n",
       "            <tr>\n",
       "                        <th id=\"T_d6bba6b2_8575_11ea_8ca8_02420a000bfclevel0_row1\" class=\"row_heading level0 row1\" >жилье</th>\n",
       "                        <td id=\"T_d6bba6b2_8575_11ea_8ca8_02420a000bfcrow1_col0\" class=\"data row1 col0\" >3847</td>\n",
       "                        <td id=\"T_d6bba6b2_8575_11ea_8ca8_02420a000bfcrow1_col1\" class=\"data row1 col1\" >273</td>\n",
       "                        <td id=\"T_d6bba6b2_8575_11ea_8ca8_02420a000bfcrow1_col2\" class=\"data row1 col2\" >7.10%</td>\n",
       "            </tr>\n",
       "            <tr>\n",
       "                        <th id=\"T_d6bba6b2_8575_11ea_8ca8_02420a000bfclevel0_row2\" class=\"row_heading level0 row2\" >недвижимость</th>\n",
       "                        <td id=\"T_d6bba6b2_8575_11ea_8ca8_02420a000bfcrow2_col0\" class=\"data row2 col0\" >4464</td>\n",
       "                        <td id=\"T_d6bba6b2_8575_11ea_8ca8_02420a000bfcrow2_col1\" class=\"data row2 col1\" >330</td>\n",
       "                        <td id=\"T_d6bba6b2_8575_11ea_8ca8_02420a000bfcrow2_col2\" class=\"data row2 col2\" >7.39%</td>\n",
       "            </tr>\n",
       "            <tr>\n",
       "                        <th id=\"T_d6bba6b2_8575_11ea_8ca8_02420a000bfclevel0_row3\" class=\"row_heading level0 row3\" >образование</th>\n",
       "                        <td id=\"T_d6bba6b2_8575_11ea_8ca8_02420a000bfcrow3_col0\" class=\"data row3 col0\" >4007</td>\n",
       "                        <td id=\"T_d6bba6b2_8575_11ea_8ca8_02420a000bfcrow3_col1\" class=\"data row3 col1\" >370</td>\n",
       "                        <td id=\"T_d6bba6b2_8575_11ea_8ca8_02420a000bfcrow3_col2\" class=\"data row3 col2\" >9.23%</td>\n",
       "            </tr>\n",
       "            <tr>\n",
       "                        <th id=\"T_d6bba6b2_8575_11ea_8ca8_02420a000bfclevel0_row4\" class=\"row_heading level0 row4\" >ремонт</th>\n",
       "                        <td id=\"T_d6bba6b2_8575_11ea_8ca8_02420a000bfcrow4_col0\" class=\"data row4 col0\" >606</td>\n",
       "                        <td id=\"T_d6bba6b2_8575_11ea_8ca8_02420a000bfcrow4_col1\" class=\"data row4 col1\" >35</td>\n",
       "                        <td id=\"T_d6bba6b2_8575_11ea_8ca8_02420a000bfcrow4_col2\" class=\"data row4 col2\" >5.78%</td>\n",
       "            </tr>\n",
       "            <tr>\n",
       "                        <th id=\"T_d6bba6b2_8575_11ea_8ca8_02420a000bfclevel0_row5\" class=\"row_heading level0 row5\" >свадьба</th>\n",
       "                        <td id=\"T_d6bba6b2_8575_11ea_8ca8_02420a000bfcrow5_col0\" class=\"data row5 col0\" >2322</td>\n",
       "                        <td id=\"T_d6bba6b2_8575_11ea_8ca8_02420a000bfcrow5_col1\" class=\"data row5 col1\" >186</td>\n",
       "                        <td id=\"T_d6bba6b2_8575_11ea_8ca8_02420a000bfcrow5_col2\" class=\"data row5 col2\" >8.01%</td>\n",
       "            </tr>\n",
       "            <tr>\n",
       "                        <th id=\"T_d6bba6b2_8575_11ea_8ca8_02420a000bfclevel0_row6\" class=\"row_heading level0 row6\" >строительство</th>\n",
       "                        <td id=\"T_d6bba6b2_8575_11ea_8ca8_02420a000bfcrow6_col0\" class=\"data row6 col0\" >1877</td>\n",
       "                        <td id=\"T_d6bba6b2_8575_11ea_8ca8_02420a000bfcrow6_col1\" class=\"data row6 col1\" >144</td>\n",
       "                        <td id=\"T_d6bba6b2_8575_11ea_8ca8_02420a000bfcrow6_col2\" class=\"data row6 col2\" >7.67%</td>\n",
       "            </tr>\n",
       "    </tbody></table>"
      ],
      "text/plain": [
       "<pandas.io.formats.style.Styler at 0x7fe08fcf2190>"
      ]
     },
     "execution_count": 45,
     "metadata": {},
     "output_type": "execute_result"
    }
   ],
   "source": [
    "purpose_dict.pivot_table(\n",
    "    index='base_purpose', \n",
    "    values='debt', aggfunc=['count', 'sum', 'mean']).style.format({('mean', 'debt'): '{:,.2%}'.format})"
   ]
  },
  {
   "cell_type": "markdown",
   "metadata": {},
   "source": [
    "### Вывод"
   ]
  },
  {
   "cell_type": "markdown",
   "metadata": {},
   "source": [
    "Самый низкий процент задолженности у кредитов на ремонт, но размер выборки сильно отличается от остальных. Тем не менее, у людей с такой целью кредитования скорее всего уже есть своя недвижимость, они более основательны. А вот люди с целью кредитования автомобиль или образование могут быть менее стабильными в финансовом плане из-за влияния других факторов(возраст, наличие работы и др.). То есть зависимость есть, но косвенная.  "
   ]
  },
  {
   "cell_type": "markdown",
   "metadata": {},
   "source": [
    "### 4. Общий вывод <a id='4'></a>"
   ]
  },
  {
   "cell_type": "markdown",
   "metadata": {},
   "source": [
    "Люди без детей имеют задолженность почти на 2% меньше, чем с детьми.  \n",
    "Люди, которые находятся или были в браке, имеют задолженность на 2% меньше, чем у людей свободных или в гражданских отношениях.  \n",
    "С уровнем дохода видно нормальное распределение, где купол - это средний доход от 135 тыс. до 165 тыс.  \n",
    "Разные цели кредитования имеют разный процент задолженности. Есть зависимость в пределах 3%."
   ]
  }
 ],
 "metadata": {
  "kernelspec": {
   "display_name": "Python 3",
   "language": "python",
   "name": "python3"
  },
  "language_info": {
   "codemirror_mode": {
    "name": "ipython",
    "version": 3
   },
   "file_extension": ".py",
   "mimetype": "text/x-python",
   "name": "python",
   "nbconvert_exporter": "python",
   "pygments_lexer": "ipython3",
   "version": "3.7.6"
  }
 },
 "nbformat": 4,
 "nbformat_minor": 2
}
