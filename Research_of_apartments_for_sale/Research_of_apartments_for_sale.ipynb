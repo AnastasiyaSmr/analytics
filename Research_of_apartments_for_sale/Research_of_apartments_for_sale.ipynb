{
 "cells": [
  {
   "cell_type": "markdown",
   "metadata": {},
   "source": [
    "# Исследование объявлений о продаже квартир\n",
    "\n",
    "Датасет — архив объявлений о продаже квартир в Санкт-Петербурге и соседних населённых пунктов за несколько лет.  \n",
    "По каждой квартире на продажу доступны два вида данных. Первые вписаны пользователем, вторые — получены автоматически на основе картографических данных (расстояние до центра, аэропорта, ближайшего парка и водоёма).  \n",
    "\n",
    "Нужно научиться определять рыночную стоимость объектов недвижимости. Задача — установить параметры. Это позволит построить автоматизированную систему: она отследит аномалии и мошенническую деятельность. "
   ]
  },
  {
   "cell_type": "markdown",
   "metadata": {},
   "source": [
    "### Оглавление"
   ]
  },
  {
   "cell_type": "markdown",
   "metadata": {},
   "source": [
    "[1. Открытие и изучение данных](#1)  \n",
    "[2. Предобработка данных](#2)  \n",
    "[3. Расчеты](#3)  \n",
    "[4. Исследвательский анализ данных](#4)  \n",
    "[5. Общий вывод](#5)"
   ]
  },
  {
   "cell_type": "markdown",
   "metadata": {},
   "source": [
    "### 1. Открытие и изучение данных<a id='1'></a>"
   ]
  },
  {
   "cell_type": "code",
   "execution_count": 37,
   "metadata": {},
   "outputs": [
    {
     "name": "stdout",
     "output_type": "stream",
     "text": [
      "<class 'pandas.core.frame.DataFrame'>\n",
      "RangeIndex: 23699 entries, 0 to 23698\n",
      "Data columns (total 22 columns):\n",
      "total_images            23699 non-null int64\n",
      "last_price              23699 non-null float64\n",
      "total_area              23699 non-null float64\n",
      "first_day_exposition    23699 non-null object\n",
      "rooms                   23699 non-null int64\n",
      "ceiling_height          14504 non-null float64\n",
      "floors_total            23613 non-null float64\n",
      "living_area             21796 non-null float64\n",
      "floor                   23699 non-null int64\n",
      "is_apartment            2775 non-null object\n",
      "studio                  23699 non-null bool\n",
      "open_plan               23699 non-null bool\n",
      "kitchen_area            21421 non-null float64\n",
      "balcony                 12180 non-null float64\n",
      "locality_name           23650 non-null object\n",
      "airports_nearest        18157 non-null float64\n",
      "cityCenters_nearest     18180 non-null float64\n",
      "parks_around3000        18181 non-null float64\n",
      "parks_nearest           8079 non-null float64\n",
      "ponds_around3000        18181 non-null float64\n",
      "ponds_nearest           9110 non-null float64\n",
      "days_exposition         20518 non-null float64\n",
      "dtypes: bool(2), float64(14), int64(3), object(3)\n",
      "memory usage: 3.7+ MB\n"
     ]
    }
   ],
   "source": [
    "import pandas as pd\n",
    "import matplotlib.pyplot as plt\n",
    "df = pd.read_csv('/datasets/real_estate_data.csv', sep='\\t', decimal='.')\n",
    "df.info()"
   ]
  },
  {
   "cell_type": "markdown",
   "metadata": {},
   "source": [
    "### Вывод"
   ]
  },
  {
   "cell_type": "markdown",
   "metadata": {},
   "source": [
    "В таблице 22 колонки с различными типами данных. Имеются пропущенные значения."
   ]
  },
  {
   "cell_type": "markdown",
   "metadata": {},
   "source": [
    "### 2. Предобработка данных<a id='2'></a>"
   ]
  },
  {
   "cell_type": "markdown",
   "metadata": {},
   "source": [
    "Число пропущенных значений"
   ]
  },
  {
   "cell_type": "code",
   "execution_count": 38,
   "metadata": {
    "scrolled": true
   },
   "outputs": [
    {
     "data": {
      "text/plain": [
       "total_images                0\n",
       "last_price                  0\n",
       "total_area                  0\n",
       "first_day_exposition        0\n",
       "rooms                       0\n",
       "ceiling_height           9195\n",
       "floors_total               86\n",
       "living_area              1903\n",
       "floor                       0\n",
       "is_apartment            20924\n",
       "studio                      0\n",
       "open_plan                   0\n",
       "kitchen_area             2278\n",
       "balcony                 11519\n",
       "locality_name              49\n",
       "airports_nearest         5542\n",
       "cityCenters_nearest      5519\n",
       "parks_around3000         5518\n",
       "parks_nearest           15620\n",
       "ponds_around3000         5518\n",
       "ponds_nearest           14589\n",
       "days_exposition          3181\n",
       "dtype: int64"
      ]
     },
     "execution_count": 38,
     "metadata": {},
     "output_type": "execute_result"
    }
   ],
   "source": [
    "df.isnull().sum()"
   ]
  },
  {
   "cell_type": "markdown",
   "metadata": {},
   "source": [
    "ceiling_height, living_area, is_apartment, kitchen_area, balcony, locality_name данные от владельцев недвижимости.  \n",
    "Возможно, владельцы расчитывают прежде всего на личный разговор с потенциальным покупателем, чтобы сообщить недостающую информацию, если она нужна. Также в описании квартиры вместо точного указания, например, высоты потолков, могли написать \"потолки высокие\", но это не информативно. locality_name скорее всего владельцы оставили, но это мог быть не конкретный населенный пункт, а область. При выгрузке данных эта информация не отбразилась, либо возникла другая ошибка."
   ]
  },
  {
   "cell_type": "markdown",
   "metadata": {},
   "source": [
    "airports_nearest, cityCenters_nearest, parks_around3000, parks_nearest, ponds_around3000, ponds_nearest, days_exposition заполнены автоматически.  \n",
    "Пропуски в days_exposition связаны с отсутствием информации о дате снятия объявления. Вариантов может быть несколько, например:  \n",
    "- продавец не сам отметил продажу, а это сделал потенциальный клиент или менеджер, который узнал о неактуальности объявления, в этом случае точная дата неизвестна;  \n",
    "- срок объявления истек, дату продажи указать забыли.  \n",
    "\n",
    "Пропуски, основанные на картах, могут быть связаны с отсутствием информации по конкретному населенному пункту. Проверим на примере городского посёлока Янино-1."
   ]
  },
  {
   "cell_type": "code",
   "execution_count": 39,
   "metadata": {},
   "outputs": [
    {
     "name": "stdout",
     "output_type": "stream",
     "text": [
      "<class 'pandas.core.frame.DataFrame'>\n",
      "Int64Index: 61 entries, 5 to 23390\n",
      "Data columns (total 22 columns):\n",
      "total_images            61 non-null int64\n",
      "last_price              61 non-null float64\n",
      "total_area              61 non-null float64\n",
      "first_day_exposition    61 non-null object\n",
      "rooms                   61 non-null int64\n",
      "ceiling_height          25 non-null float64\n",
      "floors_total            61 non-null float64\n",
      "living_area             57 non-null float64\n",
      "floor                   61 non-null int64\n",
      "is_apartment            0 non-null object\n",
      "studio                  61 non-null bool\n",
      "open_plan               61 non-null bool\n",
      "kitchen_area            53 non-null float64\n",
      "balcony                 24 non-null float64\n",
      "locality_name           61 non-null object\n",
      "airports_nearest        0 non-null float64\n",
      "cityCenters_nearest     0 non-null float64\n",
      "parks_around3000        0 non-null float64\n",
      "parks_nearest           0 non-null float64\n",
      "ponds_around3000        0 non-null float64\n",
      "ponds_nearest           0 non-null float64\n",
      "days_exposition         51 non-null float64\n",
      "dtypes: bool(2), float64(14), int64(3), object(3)\n",
      "memory usage: 10.1+ KB\n"
     ]
    }
   ],
   "source": [
    "df[df['locality_name'] == 'городской посёлок Янино-1'].info()"
   ]
  },
  {
   "cell_type": "markdown",
   "metadata": {},
   "source": [
    "Видно, что из 61 объявления нет ни одного автоматического заполнения на основе карты. Значит действительно нет информации по некоторым населенным пунктам. Дополнительные пропуски в \"картографических\" колонках могут быть связаны с отсутствием объекта (водоёма или парка)."
   ]
  },
  {
   "cell_type": "markdown",
   "metadata": {},
   "source": [
    "### Работа с пропусками"
   ]
  },
  {
   "cell_type": "markdown",
   "metadata": {},
   "source": [
    "В массовых застройках стандарты по высоте потолков примерно одинаковые. Исключим ошибки смещения целой доли. Найдем потолки выше 20 метров и заменим значения близкие к стандартам."
   ]
  },
  {
   "cell_type": "code",
   "execution_count": 40,
   "metadata": {
    "scrolled": true
   },
   "outputs": [
    {
     "name": "stdout",
     "output_type": "stream",
     "text": [
      "27.0     8\n",
      "25.0     7\n",
      "32.0     2\n",
      "22.6     1\n",
      "100.0    1\n",
      "27.5     1\n",
      "20.0     1\n",
      "26.0     1\n",
      "24.0     1\n",
      "Name: ceiling_height, dtype: int64\n",
      "0\n"
     ]
    }
   ],
   "source": [
    "print(df[df['ceiling_height'] >= 20]['ceiling_height'].value_counts())\n",
    "df['ceiling_height'].update(df[df['ceiling_height'] >= 20]['ceiling_height'] / 10)\n",
    "print(df[df['ceiling_height'] >= 20]['ceiling_height'].count())"
   ]
  },
  {
   "cell_type": "markdown",
   "metadata": {},
   "source": [
    "Найдем медианы высоты по этажности дома."
   ]
  },
  {
   "cell_type": "code",
   "execution_count": 41,
   "metadata": {},
   "outputs": [
    {
     "data": {
      "text/html": [
       "<div>\n",
       "<style scoped>\n",
       "    .dataframe tbody tr th:only-of-type {\n",
       "        vertical-align: middle;\n",
       "    }\n",
       "\n",
       "    .dataframe tbody tr th {\n",
       "        vertical-align: top;\n",
       "    }\n",
       "\n",
       "    .dataframe thead th {\n",
       "        text-align: right;\n",
       "    }\n",
       "</style>\n",
       "<table border=\"1\" class=\"dataframe\">\n",
       "  <thead>\n",
       "    <tr style=\"text-align: right;\">\n",
       "      <th></th>\n",
       "      <th>ceiling_height</th>\n",
       "    </tr>\n",
       "    <tr>\n",
       "      <th>floors_total</th>\n",
       "      <th></th>\n",
       "    </tr>\n",
       "  </thead>\n",
       "  <tbody>\n",
       "    <tr>\n",
       "      <td>1.0</td>\n",
       "      <td>2.80</td>\n",
       "    </tr>\n",
       "    <tr>\n",
       "      <td>2.0</td>\n",
       "      <td>2.70</td>\n",
       "    </tr>\n",
       "    <tr>\n",
       "      <td>3.0</td>\n",
       "      <td>2.80</td>\n",
       "    </tr>\n",
       "    <tr>\n",
       "      <td>4.0</td>\n",
       "      <td>3.00</td>\n",
       "    </tr>\n",
       "    <tr>\n",
       "      <td>5.0</td>\n",
       "      <td>2.55</td>\n",
       "    </tr>\n",
       "    <tr>\n",
       "      <td>6.0</td>\n",
       "      <td>3.00</td>\n",
       "    </tr>\n",
       "    <tr>\n",
       "      <td>7.0</td>\n",
       "      <td>3.00</td>\n",
       "    </tr>\n",
       "    <tr>\n",
       "      <td>8.0</td>\n",
       "      <td>2.80</td>\n",
       "    </tr>\n",
       "    <tr>\n",
       "      <td>9.0</td>\n",
       "      <td>2.55</td>\n",
       "    </tr>\n",
       "    <tr>\n",
       "      <td>10.0</td>\n",
       "      <td>2.60</td>\n",
       "    </tr>\n",
       "    <tr>\n",
       "      <td>11.0</td>\n",
       "      <td>2.75</td>\n",
       "    </tr>\n",
       "    <tr>\n",
       "      <td>12.0</td>\n",
       "      <td>2.65</td>\n",
       "    </tr>\n",
       "    <tr>\n",
       "      <td>13.0</td>\n",
       "      <td>2.70</td>\n",
       "    </tr>\n",
       "    <tr>\n",
       "      <td>14.0</td>\n",
       "      <td>2.60</td>\n",
       "    </tr>\n",
       "    <tr>\n",
       "      <td>15.0</td>\n",
       "      <td>2.70</td>\n",
       "    </tr>\n",
       "    <tr>\n",
       "      <td>16.0</td>\n",
       "      <td>2.70</td>\n",
       "    </tr>\n",
       "    <tr>\n",
       "      <td>17.0</td>\n",
       "      <td>2.70</td>\n",
       "    </tr>\n",
       "    <tr>\n",
       "      <td>18.0</td>\n",
       "      <td>2.70</td>\n",
       "    </tr>\n",
       "    <tr>\n",
       "      <td>19.0</td>\n",
       "      <td>2.75</td>\n",
       "    </tr>\n",
       "    <tr>\n",
       "      <td>20.0</td>\n",
       "      <td>2.75</td>\n",
       "    </tr>\n",
       "    <tr>\n",
       "      <td>21.0</td>\n",
       "      <td>2.70</td>\n",
       "    </tr>\n",
       "    <tr>\n",
       "      <td>22.0</td>\n",
       "      <td>2.75</td>\n",
       "    </tr>\n",
       "    <tr>\n",
       "      <td>23.0</td>\n",
       "      <td>2.75</td>\n",
       "    </tr>\n",
       "    <tr>\n",
       "      <td>24.0</td>\n",
       "      <td>2.75</td>\n",
       "    </tr>\n",
       "    <tr>\n",
       "      <td>25.0</td>\n",
       "      <td>2.75</td>\n",
       "    </tr>\n",
       "    <tr>\n",
       "      <td>26.0</td>\n",
       "      <td>2.66</td>\n",
       "    </tr>\n",
       "    <tr>\n",
       "      <td>27.0</td>\n",
       "      <td>2.70</td>\n",
       "    </tr>\n",
       "    <tr>\n",
       "      <td>28.0</td>\n",
       "      <td>2.60</td>\n",
       "    </tr>\n",
       "    <tr>\n",
       "      <td>29.0</td>\n",
       "      <td>2.60</td>\n",
       "    </tr>\n",
       "    <tr>\n",
       "      <td>33.0</td>\n",
       "      <td>2.65</td>\n",
       "    </tr>\n",
       "    <tr>\n",
       "      <td>34.0</td>\n",
       "      <td>2.65</td>\n",
       "    </tr>\n",
       "    <tr>\n",
       "      <td>35.0</td>\n",
       "      <td>2.70</td>\n",
       "    </tr>\n",
       "    <tr>\n",
       "      <td>36.0</td>\n",
       "      <td>2.70</td>\n",
       "    </tr>\n",
       "    <tr>\n",
       "      <td>37.0</td>\n",
       "      <td>1.75</td>\n",
       "    </tr>\n",
       "    <tr>\n",
       "      <td>52.0</td>\n",
       "      <td>2.65</td>\n",
       "    </tr>\n",
       "    <tr>\n",
       "      <td>60.0</td>\n",
       "      <td>2.88</td>\n",
       "    </tr>\n",
       "  </tbody>\n",
       "</table>\n",
       "</div>"
      ],
      "text/plain": [
       "              ceiling_height\n",
       "floors_total                \n",
       "1.0                     2.80\n",
       "2.0                     2.70\n",
       "3.0                     2.80\n",
       "4.0                     3.00\n",
       "5.0                     2.55\n",
       "6.0                     3.00\n",
       "7.0                     3.00\n",
       "8.0                     2.80\n",
       "9.0                     2.55\n",
       "10.0                    2.60\n",
       "11.0                    2.75\n",
       "12.0                    2.65\n",
       "13.0                    2.70\n",
       "14.0                    2.60\n",
       "15.0                    2.70\n",
       "16.0                    2.70\n",
       "17.0                    2.70\n",
       "18.0                    2.70\n",
       "19.0                    2.75\n",
       "20.0                    2.75\n",
       "21.0                    2.70\n",
       "22.0                    2.75\n",
       "23.0                    2.75\n",
       "24.0                    2.75\n",
       "25.0                    2.75\n",
       "26.0                    2.66\n",
       "27.0                    2.70\n",
       "28.0                    2.60\n",
       "29.0                    2.60\n",
       "33.0                    2.65\n",
       "34.0                    2.65\n",
       "35.0                    2.70\n",
       "36.0                    2.70\n",
       "37.0                    1.75\n",
       "52.0                    2.65\n",
       "60.0                    2.88"
      ]
     },
     "execution_count": 41,
     "metadata": {},
     "output_type": "execute_result"
    }
   ],
   "source": [
    "median_ceiling_height = df.groupby('floors_total')['ceiling_height'].median().to_frame()\n",
    "median_ceiling_height.loc[33] = median_ceiling_height.loc[34]\n",
    "median_ceiling_height"
   ]
  },
  {
   "cell_type": "markdown",
   "metadata": {},
   "source": [
    "Пропуски в колонке ceiling_height заменим на медианы."
   ]
  },
  {
   "cell_type": "code",
   "execution_count": 42,
   "metadata": {
    "scrolled": false
   },
   "outputs": [
    {
     "name": "stdout",
     "output_type": "stream",
     "text": [
      "9195\n",
      "77\n"
     ]
    }
   ],
   "source": [
    "print(df['ceiling_height'].isnull().sum())\n",
    "\n",
    "for floor in median_ceiling_height.index:\n",
    "    \n",
    "    df['ceiling_height'].update(df[\n",
    "        (df['ceiling_height'].isnull()) & \n",
    "        (df['floors_total'] == floor)\n",
    "    ]['ceiling_height'].fillna(median_ceiling_height.loc[floor]['ceiling_height']))\n",
    "        \n",
    "print(df['ceiling_height'].isnull().sum())"
   ]
  },
  {
   "cell_type": "markdown",
   "metadata": {},
   "source": [
    "Оставшиеся пропуски связаны с отсутствием информации в floors_total"
   ]
  },
  {
   "cell_type": "code",
   "execution_count": 43,
   "metadata": {
    "scrolled": true
   },
   "outputs": [
    {
     "data": {
      "text/plain": [
       "77"
      ]
     },
     "execution_count": 43,
     "metadata": {},
     "output_type": "execute_result"
    }
   ],
   "source": [
    "df[df['ceiling_height'].isnull()]['floors_total'].isnull().sum()"
   ]
  },
  {
   "cell_type": "markdown",
   "metadata": {},
   "source": [
    "Пропуски в колонке balcony заменим на 0. Потому что, если человек не указал количество балконов, то скорее всего они отсутсвуют."
   ]
  },
  {
   "cell_type": "code",
   "execution_count": 44,
   "metadata": {},
   "outputs": [
    {
     "data": {
      "text/plain": [
       "0"
      ]
     },
     "execution_count": 44,
     "metadata": {},
     "output_type": "execute_result"
    }
   ],
   "source": [
    "df['balcony'] = df['balcony'].fillna(0)\n",
    "df['balcony'].isnull().sum()"
   ]
  },
  {
   "cell_type": "markdown",
   "metadata": {},
   "source": [
    "Пропуски в колонке is_apartment заменим на False. Потому что, апартаменты другая форма собственности, и эту информацию скорее всего могут не заполнить только по квартирам."
   ]
  },
  {
   "cell_type": "code",
   "execution_count": 45,
   "metadata": {
    "scrolled": false
   },
   "outputs": [
    {
     "data": {
      "text/plain": [
       "0"
      ]
     },
     "execution_count": 45,
     "metadata": {},
     "output_type": "execute_result"
    }
   ],
   "source": [
    "df['is_apartment'] = df['is_apartment'].fillna(False)\n",
    "df['is_apartment'].isnull().sum()"
   ]
  },
  {
   "cell_type": "markdown",
   "metadata": {},
   "source": [
    "Изменим тип данных в колонке last_price на int, потому что, когда продают за миллионы, до копеек не торгуются."
   ]
  },
  {
   "cell_type": "code",
   "execution_count": 46,
   "metadata": {},
   "outputs": [],
   "source": [
    "df['last_price'] = df['last_price'].astype(int)"
   ]
  },
  {
   "cell_type": "markdown",
   "metadata": {},
   "source": [
    "Изменим тип данных в колонке first_day_exposition datetime, чтобы дальше работать с информацией как с датой."
   ]
  },
  {
   "cell_type": "code",
   "execution_count": 47,
   "metadata": {},
   "outputs": [],
   "source": [
    "df['first_day_exposition'] = pd.to_datetime(df['first_day_exposition'], format='%Y-%m-%dT%H:%M:%S')"
   ]
  },
  {
   "cell_type": "markdown",
   "metadata": {},
   "source": [
    "Количество балконов - целое число, поэтому приведем к int."
   ]
  },
  {
   "cell_type": "code",
   "execution_count": 48,
   "metadata": {},
   "outputs": [],
   "source": [
    "df['balcony'] = df['balcony'].astype(int)"
   ]
  },
  {
   "cell_type": "markdown",
   "metadata": {},
   "source": [
    "Аппартаменты имеет значения True и False, поэтому дальше будем работать с типом bool."
   ]
  },
  {
   "cell_type": "code",
   "execution_count": 49,
   "metadata": {},
   "outputs": [],
   "source": [
    "df['is_apartment'] = df['is_apartment'].astype(bool)"
   ]
  },
  {
   "cell_type": "code",
   "execution_count": 50,
   "metadata": {
    "scrolled": true
   },
   "outputs": [
    {
     "name": "stdout",
     "output_type": "stream",
     "text": [
      "<class 'pandas.core.frame.DataFrame'>\n",
      "RangeIndex: 23699 entries, 0 to 23698\n",
      "Data columns (total 22 columns):\n",
      "total_images            23699 non-null int64\n",
      "last_price              23699 non-null int64\n",
      "total_area              23699 non-null float64\n",
      "first_day_exposition    23699 non-null datetime64[ns]\n",
      "rooms                   23699 non-null int64\n",
      "ceiling_height          23622 non-null float64\n",
      "floors_total            23613 non-null float64\n",
      "living_area             21796 non-null float64\n",
      "floor                   23699 non-null int64\n",
      "is_apartment            23699 non-null bool\n",
      "studio                  23699 non-null bool\n",
      "open_plan               23699 non-null bool\n",
      "kitchen_area            21421 non-null float64\n",
      "balcony                 23699 non-null int64\n",
      "locality_name           23650 non-null object\n",
      "airports_nearest        18157 non-null float64\n",
      "cityCenters_nearest     18180 non-null float64\n",
      "parks_around3000        18181 non-null float64\n",
      "parks_nearest           8079 non-null float64\n",
      "ponds_around3000        18181 non-null float64\n",
      "ponds_nearest           9110 non-null float64\n",
      "days_exposition         20518 non-null float64\n",
      "dtypes: bool(3), datetime64[ns](1), float64(12), int64(5), object(1)\n",
      "memory usage: 3.5+ MB\n"
     ]
    }
   ],
   "source": [
    "df.info()"
   ]
  },
  {
   "cell_type": "markdown",
   "metadata": {},
   "source": [
    "Проверим наличие дубликатов."
   ]
  },
  {
   "cell_type": "code",
   "execution_count": 51,
   "metadata": {
    "scrolled": true
   },
   "outputs": [
    {
     "data": {
      "text/plain": [
       "0"
      ]
     },
     "execution_count": 51,
     "metadata": {},
     "output_type": "execute_result"
    }
   ],
   "source": [
    "df.duplicated().sum()"
   ]
  },
  {
   "cell_type": "markdown",
   "metadata": {},
   "source": [
    "Проверим колонку rooms"
   ]
  },
  {
   "cell_type": "code",
   "execution_count": 52,
   "metadata": {},
   "outputs": [
    {
     "data": {
      "text/plain": [
       "1     8047\n",
       "2     7940\n",
       "3     5814\n",
       "4     1180\n",
       "5      326\n",
       "0      197\n",
       "6      105\n",
       "7       59\n",
       "8       12\n",
       "9        8\n",
       "10       3\n",
       "14       2\n",
       "11       2\n",
       "19       1\n",
       "12       1\n",
       "16       1\n",
       "15       1\n",
       "Name: rooms, dtype: int64"
      ]
     },
     "execution_count": 52,
     "metadata": {},
     "output_type": "execute_result"
    }
   ],
   "source": [
    "df['rooms'].value_counts()"
   ]
  },
  {
   "cell_type": "markdown",
   "metadata": {},
   "source": [
    "Будем считать, что в студии комнат нет, поэтому заменим в студиях значение на 0."
   ]
  },
  {
   "cell_type": "code",
   "execution_count": 53,
   "metadata": {
    "scrolled": false
   },
   "outputs": [
    {
     "name": "stdout",
     "output_type": "stream",
     "text": [
      "138\n",
      "149\n"
     ]
    }
   ],
   "source": [
    "print(len(df[(df['studio'] == True) & (df['rooms'] == 0)]))\n",
    "df['rooms'].update(df[df['studio'] == True]['rooms'].replace(1,0))\n",
    "print(len(df[(df['studio'] == True) & (df['rooms'] == 0)]))"
   ]
  },
  {
   "cell_type": "markdown",
   "metadata": {},
   "source": [
    "Для квартир расчитаем медиану площади квартиры в зависимости от количества комнат."
   ]
  },
  {
   "cell_type": "code",
   "execution_count": 54,
   "metadata": {
    "scrolled": true
   },
   "outputs": [
    {
     "data": {
      "text/html": [
       "<div>\n",
       "<style scoped>\n",
       "    .dataframe tbody tr th:only-of-type {\n",
       "        vertical-align: middle;\n",
       "    }\n",
       "\n",
       "    .dataframe tbody tr th {\n",
       "        vertical-align: top;\n",
       "    }\n",
       "\n",
       "    .dataframe thead th {\n",
       "        text-align: right;\n",
       "    }\n",
       "</style>\n",
       "<table border=\"1\" class=\"dataframe\">\n",
       "  <thead>\n",
       "    <tr style=\"text-align: right;\">\n",
       "      <th></th>\n",
       "      <th>rooms</th>\n",
       "      <th>total_area</th>\n",
       "    </tr>\n",
       "  </thead>\n",
       "  <tbody>\n",
       "    <tr>\n",
       "      <td>0</td>\n",
       "      <td>1</td>\n",
       "      <td>36.60</td>\n",
       "    </tr>\n",
       "    <tr>\n",
       "      <td>1</td>\n",
       "      <td>2</td>\n",
       "      <td>53.00</td>\n",
       "    </tr>\n",
       "    <tr>\n",
       "      <td>2</td>\n",
       "      <td>3</td>\n",
       "      <td>73.00</td>\n",
       "    </tr>\n",
       "    <tr>\n",
       "      <td>3</td>\n",
       "      <td>4</td>\n",
       "      <td>99.30</td>\n",
       "    </tr>\n",
       "    <tr>\n",
       "      <td>4</td>\n",
       "      <td>5</td>\n",
       "      <td>146.45</td>\n",
       "    </tr>\n",
       "    <tr>\n",
       "      <td>5</td>\n",
       "      <td>6</td>\n",
       "      <td>184.30</td>\n",
       "    </tr>\n",
       "    <tr>\n",
       "      <td>6</td>\n",
       "      <td>7</td>\n",
       "      <td>214.00</td>\n",
       "    </tr>\n",
       "    <tr>\n",
       "      <td>7</td>\n",
       "      <td>8</td>\n",
       "      <td>235.70</td>\n",
       "    </tr>\n",
       "    <tr>\n",
       "      <td>8</td>\n",
       "      <td>9</td>\n",
       "      <td>300.95</td>\n",
       "    </tr>\n",
       "    <tr>\n",
       "      <td>9</td>\n",
       "      <td>10</td>\n",
       "      <td>272.60</td>\n",
       "    </tr>\n",
       "    <tr>\n",
       "      <td>10</td>\n",
       "      <td>11</td>\n",
       "      <td>188.90</td>\n",
       "    </tr>\n",
       "    <tr>\n",
       "      <td>11</td>\n",
       "      <td>12</td>\n",
       "      <td>900.00</td>\n",
       "    </tr>\n",
       "    <tr>\n",
       "      <td>12</td>\n",
       "      <td>14</td>\n",
       "      <td>304.20</td>\n",
       "    </tr>\n",
       "    <tr>\n",
       "      <td>13</td>\n",
       "      <td>15</td>\n",
       "      <td>590.00</td>\n",
       "    </tr>\n",
       "    <tr>\n",
       "      <td>14</td>\n",
       "      <td>16</td>\n",
       "      <td>270.00</td>\n",
       "    </tr>\n",
       "    <tr>\n",
       "      <td>15</td>\n",
       "      <td>19</td>\n",
       "      <td>374.60</td>\n",
       "    </tr>\n",
       "  </tbody>\n",
       "</table>\n",
       "</div>"
      ],
      "text/plain": [
       "    rooms  total_area\n",
       "0       1       36.60\n",
       "1       2       53.00\n",
       "2       3       73.00\n",
       "3       4       99.30\n",
       "4       5      146.45\n",
       "5       6      184.30\n",
       "6       7      214.00\n",
       "7       8      235.70\n",
       "8       9      300.95\n",
       "9      10      272.60\n",
       "10     11      188.90\n",
       "11     12      900.00\n",
       "12     14      304.20\n",
       "13     15      590.00\n",
       "14     16      270.00\n",
       "15     19      374.60"
      ]
     },
     "execution_count": 54,
     "metadata": {},
     "output_type": "execute_result"
    }
   ],
   "source": [
    "median_total = df[df['studio'] == False].pivot_table(index='rooms', values='total_area', aggfunc='median').drop(0).reset_index()\n",
    "median_total"
   ]
  },
  {
   "cell_type": "markdown",
   "metadata": {},
   "source": [
    "Посмотрим какие максимальные значения нужно заменить."
   ]
  },
  {
   "cell_type": "code",
   "execution_count": 55,
   "metadata": {
    "scrolled": true
   },
   "outputs": [
    {
     "data": {
      "text/plain": [
       "19392    371.00\n",
       "7237      42.63\n",
       "839       35.00\n",
       "4683      35.00\n",
       "508       34.40\n",
       "21628     34.00\n",
       "7008      32.30\n",
       "17805     31.10\n",
       "6805      31.00\n",
       "19735     30.50\n",
       "7286      30.00\n",
       "18549     29.00\n",
       "23592     29.00\n",
       "21299     28.50\n",
       "9586      28.30\n",
       "13953     28.20\n",
       "17729     28.05\n",
       "16429     28.01\n",
       "6472      28.00\n",
       "20002     28.00\n",
       "23442     27.70\n",
       "20793     27.50\n",
       "11331     27.32\n",
       "7818      27.30\n",
       "11157     27.30\n",
       "2532      27.10\n",
       "12412     27.00\n",
       "15434     27.00\n",
       "6612      26.80\n",
       "15105     26.10\n",
       "780       26.10\n",
       "11035     26.00\n",
       "11051     26.00\n",
       "11705     26.00\n",
       "18042     25.90\n",
       "19917     25.41\n",
       "10606     25.27\n",
       "15273     25.20\n",
       "4437      25.00\n",
       "20045     25.00\n",
       "4876      25.00\n",
       "5749      25.00\n",
       "18782     25.00\n",
       "9861      25.00\n",
       "349       25.00\n",
       "12691     24.20\n",
       "17695     24.00\n",
       "10284     24.00\n",
       "4115      24.00\n",
       "3019      24.00\n",
       "22573     24.00\n",
       "1625      23.98\n",
       "11692     23.06\n",
       "946       23.00\n",
       "17824     22.50\n",
       "1574      22.00\n",
       "20054     21.00\n",
       "19477     20.00\n",
       "9412      16.00\n",
       "Name: total_area, dtype: float64"
      ]
     },
     "execution_count": 55,
     "metadata": {},
     "output_type": "execute_result"
    }
   ],
   "source": [
    "data_need_change = df.loc[(df['studio'] == False) & (df['rooms'] == 0)]\n",
    "data_need_change['total_area'].sort_values(ascending=False)"
   ]
  },
  {
   "cell_type": "code",
   "execution_count": 56,
   "metadata": {},
   "outputs": [
    {
     "data": {
      "text/plain": [
       "1     8036\n",
       "2     7940\n",
       "3     5814\n",
       "4     1180\n",
       "5      326\n",
       "0      208\n",
       "6      105\n",
       "7       59\n",
       "8       12\n",
       "9        8\n",
       "10       3\n",
       "14       2\n",
       "11       2\n",
       "19       1\n",
       "12       1\n",
       "16       1\n",
       "15       1\n",
       "Name: rooms, dtype: int64"
      ]
     },
     "execution_count": 56,
     "metadata": {},
     "output_type": "execute_result"
    }
   ],
   "source": [
    "df['rooms'].value_counts()"
   ]
  },
  {
   "cell_type": "markdown",
   "metadata": {},
   "source": [
    "Медианные значения площади увеличиваются пропорционально числу комнат до 146.45 м (5 комнат), затем зависимость теряется. У нас есть одно значение, которое явно выбивается от остальных - 371. Так как основное количество объявлений размещается по недвижимости с не более 5 комнатами, то нам важен сам факт наличия более 5 комнат, а не точное число."
   ]
  },
  {
   "cell_type": "markdown",
   "metadata": {},
   "source": [
    "Заменим значение комнат с 0 в квартирах согласно медиане площади квартиры"
   ]
  },
  {
   "cell_type": "code",
   "execution_count": 57,
   "metadata": {
    "scrolled": true
   },
   "outputs": [
    {
     "name": "stdout",
     "output_type": "stream",
     "text": [
      "59\n",
      "0\n",
      "19392    12\n",
      "Name: rooms, dtype: int64\n"
     ]
    },
    {
     "name": "stderr",
     "output_type": "stream",
     "text": [
      "/opt/conda/lib/python3.7/site-packages/IPython/core/interactiveshell.py:3319: SettingWithCopyWarning: \n",
      "A value is trying to be set on a copy of a slice from a DataFrame\n",
      "\n",
      "See the caveats in the documentation: http://pandas.pydata.org/pandas-docs/stable/user_guide/indexing.html#returning-a-view-versus-a-copy\n",
      "  exec(code_obj, self.user_global_ns, self.user_ns)\n",
      "/opt/conda/lib/python3.7/site-packages/IPython/core/interactiveshell.py:3319: SettingWithCopyWarning: \n",
      "A value is trying to be set on a copy of a slice from a DataFrame\n",
      "\n",
      "See the caveats in the documentation: http://pandas.pydata.org/pandas-docs/stable/user_guide/indexing.html#returning-a-view-versus-a-copy\n",
      "  exec(code_obj, self.user_global_ns, self.user_ns)\n",
      "/opt/conda/lib/python3.7/site-packages/IPython/core/interactiveshell.py:3319: SettingWithCopyWarning: \n",
      "A value is trying to be set on a copy of a slice from a DataFrame\n",
      "\n",
      "See the caveats in the documentation: http://pandas.pydata.org/pandas-docs/stable/user_guide/indexing.html#returning-a-view-versus-a-copy\n",
      "  exec(code_obj, self.user_global_ns, self.user_ns)\n",
      "/opt/conda/lib/python3.7/site-packages/IPython/core/interactiveshell.py:3319: SettingWithCopyWarning: \n",
      "A value is trying to be set on a copy of a slice from a DataFrame\n",
      "\n",
      "See the caveats in the documentation: http://pandas.pydata.org/pandas-docs/stable/user_guide/indexing.html#returning-a-view-versus-a-copy\n",
      "  exec(code_obj, self.user_global_ns, self.user_ns)\n",
      "/opt/conda/lib/python3.7/site-packages/IPython/core/interactiveshell.py:3319: SettingWithCopyWarning: \n",
      "A value is trying to be set on a copy of a slice from a DataFrame\n",
      "\n",
      "See the caveats in the documentation: http://pandas.pydata.org/pandas-docs/stable/user_guide/indexing.html#returning-a-view-versus-a-copy\n",
      "  exec(code_obj, self.user_global_ns, self.user_ns)\n",
      "/opt/conda/lib/python3.7/site-packages/IPython/core/interactiveshell.py:3319: SettingWithCopyWarning: \n",
      "A value is trying to be set on a copy of a slice from a DataFrame\n",
      "\n",
      "See the caveats in the documentation: http://pandas.pydata.org/pandas-docs/stable/user_guide/indexing.html#returning-a-view-versus-a-copy\n",
      "  exec(code_obj, self.user_global_ns, self.user_ns)\n",
      "/opt/conda/lib/python3.7/site-packages/IPython/core/interactiveshell.py:3319: SettingWithCopyWarning: \n",
      "A value is trying to be set on a copy of a slice from a DataFrame\n",
      "\n",
      "See the caveats in the documentation: http://pandas.pydata.org/pandas-docs/stable/user_guide/indexing.html#returning-a-view-versus-a-copy\n",
      "  exec(code_obj, self.user_global_ns, self.user_ns)\n",
      "/opt/conda/lib/python3.7/site-packages/IPython/core/interactiveshell.py:3319: SettingWithCopyWarning: \n",
      "A value is trying to be set on a copy of a slice from a DataFrame\n",
      "\n",
      "See the caveats in the documentation: http://pandas.pydata.org/pandas-docs/stable/user_guide/indexing.html#returning-a-view-versus-a-copy\n",
      "  exec(code_obj, self.user_global_ns, self.user_ns)\n",
      "/opt/conda/lib/python3.7/site-packages/IPython/core/interactiveshell.py:3319: SettingWithCopyWarning: \n",
      "A value is trying to be set on a copy of a slice from a DataFrame\n",
      "\n",
      "See the caveats in the documentation: http://pandas.pydata.org/pandas-docs/stable/user_guide/indexing.html#returning-a-view-versus-a-copy\n",
      "  exec(code_obj, self.user_global_ns, self.user_ns)\n",
      "/opt/conda/lib/python3.7/site-packages/IPython/core/interactiveshell.py:3319: SettingWithCopyWarning: \n",
      "A value is trying to be set on a copy of a slice from a DataFrame\n",
      "\n",
      "See the caveats in the documentation: http://pandas.pydata.org/pandas-docs/stable/user_guide/indexing.html#returning-a-view-versus-a-copy\n",
      "  exec(code_obj, self.user_global_ns, self.user_ns)\n",
      "/opt/conda/lib/python3.7/site-packages/IPython/core/interactiveshell.py:3319: SettingWithCopyWarning: \n",
      "A value is trying to be set on a copy of a slice from a DataFrame\n",
      "\n",
      "See the caveats in the documentation: http://pandas.pydata.org/pandas-docs/stable/user_guide/indexing.html#returning-a-view-versus-a-copy\n",
      "  exec(code_obj, self.user_global_ns, self.user_ns)\n",
      "/opt/conda/lib/python3.7/site-packages/IPython/core/interactiveshell.py:3319: SettingWithCopyWarning: \n",
      "A value is trying to be set on a copy of a slice from a DataFrame\n",
      "\n",
      "See the caveats in the documentation: http://pandas.pydata.org/pandas-docs/stable/user_guide/indexing.html#returning-a-view-versus-a-copy\n",
      "  exec(code_obj, self.user_global_ns, self.user_ns)\n",
      "/opt/conda/lib/python3.7/site-packages/IPython/core/interactiveshell.py:3319: SettingWithCopyWarning: \n",
      "A value is trying to be set on a copy of a slice from a DataFrame\n",
      "\n",
      "See the caveats in the documentation: http://pandas.pydata.org/pandas-docs/stable/user_guide/indexing.html#returning-a-view-versus-a-copy\n",
      "  exec(code_obj, self.user_global_ns, self.user_ns)\n"
     ]
    }
   ],
   "source": [
    "print(len(df[(df['studio'] == False) & (df['rooms'] == 0)]))\n",
    "\n",
    "for index in median_total.index:\n",
    "    data_need_change['rooms'].update(\n",
    "        data_need_change[\n",
    "            data_need_change['total_area'] <= median_total.loc[index,'total_area']\n",
    "        ]['rooms'].replace(0, median_total.loc[index,'rooms'])\n",
    "    )\n",
    "df['rooms'].update(data_need_change['rooms'])    \n",
    "    \n",
    "print(len(df[(df['studio'] == False) & (df['rooms'] == 0)]))\n",
    "print(df[df['total_area'] == 371]['rooms']) "
   ]
  },
  {
   "cell_type": "markdown",
   "metadata": {},
   "source": [
    "Проверка"
   ]
  },
  {
   "cell_type": "code",
   "execution_count": 58,
   "metadata": {},
   "outputs": [
    {
     "name": "stdout",
     "output_type": "stream",
     "text": [
      "149\n",
      "149\n"
     ]
    }
   ],
   "source": [
    "print(len(df[df['studio'] == True]))\n",
    "print(len(df[df['rooms'] == 0]))"
   ]
  },
  {
   "cell_type": "markdown",
   "metadata": {},
   "source": [
    "### Вывод"
   ]
  },
  {
   "cell_type": "markdown",
   "metadata": {},
   "source": [
    "Пропуски были заполнены в двух колонках (balcony, is_apartment). В других колонках пропуски остались так как для заполнения не хватает данных, а с удалением потеряем нужные данные. Дубликаты не выявлены. Все студии имеют 0 комнат."
   ]
  },
  {
   "cell_type": "markdown",
   "metadata": {},
   "source": [
    "### 3. Расчеты <a id='3'></a>"
   ]
  },
  {
   "cell_type": "markdown",
   "metadata": {},
   "source": [
    "Посчитаем цену квадратного метра."
   ]
  },
  {
   "cell_type": "code",
   "execution_count": 59,
   "metadata": {},
   "outputs": [],
   "source": [
    "df['price_square_meter'] = (df['last_price'] / df['total_area']).round(3)"
   ]
  },
  {
   "cell_type": "markdown",
   "metadata": {},
   "source": [
    "Найдем день недели, месяц и год публикации объявления."
   ]
  },
  {
   "cell_type": "code",
   "execution_count": 60,
   "metadata": {},
   "outputs": [],
   "source": [
    "df['weekday_exposition'] = df['first_day_exposition'].dt.weekday\n",
    "df['month_exposition'] = pd.DatetimeIndex(df['first_day_exposition']).month\n",
    "df['year_exposition'] = pd.DatetimeIndex(df['first_day_exposition']).year"
   ]
  },
  {
   "cell_type": "markdown",
   "metadata": {},
   "source": [
    "Определим этаж квартиры в доме."
   ]
  },
  {
   "cell_type": "code",
   "execution_count": 61,
   "metadata": {
    "scrolled": true
   },
   "outputs": [
    {
     "data": {
      "text/html": [
       "<div>\n",
       "<style scoped>\n",
       "    .dataframe tbody tr th:only-of-type {\n",
       "        vertical-align: middle;\n",
       "    }\n",
       "\n",
       "    .dataframe tbody tr th {\n",
       "        vertical-align: top;\n",
       "    }\n",
       "\n",
       "    .dataframe thead th {\n",
       "        text-align: right;\n",
       "    }\n",
       "</style>\n",
       "<table border=\"1\" class=\"dataframe\">\n",
       "  <thead>\n",
       "    <tr style=\"text-align: right;\">\n",
       "      <th></th>\n",
       "      <th>total_images</th>\n",
       "      <th>last_price</th>\n",
       "      <th>total_area</th>\n",
       "      <th>first_day_exposition</th>\n",
       "      <th>rooms</th>\n",
       "      <th>ceiling_height</th>\n",
       "      <th>floors_total</th>\n",
       "      <th>living_area</th>\n",
       "      <th>floor</th>\n",
       "      <th>is_apartment</th>\n",
       "      <th>...</th>\n",
       "      <th>parks_around3000</th>\n",
       "      <th>parks_nearest</th>\n",
       "      <th>ponds_around3000</th>\n",
       "      <th>ponds_nearest</th>\n",
       "      <th>days_exposition</th>\n",
       "      <th>price_square_meter</th>\n",
       "      <th>weekday_exposition</th>\n",
       "      <th>month_exposition</th>\n",
       "      <th>year_exposition</th>\n",
       "      <th>floor_in_house</th>\n",
       "    </tr>\n",
       "  </thead>\n",
       "  <tbody>\n",
       "    <tr>\n",
       "      <td>186</td>\n",
       "      <td>12</td>\n",
       "      <td>11640000</td>\n",
       "      <td>65.2</td>\n",
       "      <td>2018-10-02</td>\n",
       "      <td>2</td>\n",
       "      <td>NaN</td>\n",
       "      <td>NaN</td>\n",
       "      <td>30.80</td>\n",
       "      <td>4</td>\n",
       "      <td>False</td>\n",
       "      <td>...</td>\n",
       "      <td>1.0</td>\n",
       "      <td>123.0</td>\n",
       "      <td>0.0</td>\n",
       "      <td>NaN</td>\n",
       "      <td>49.0</td>\n",
       "      <td>178527.607</td>\n",
       "      <td>1</td>\n",
       "      <td>10</td>\n",
       "      <td>2018</td>\n",
       "      <td>другой</td>\n",
       "    </tr>\n",
       "    <tr>\n",
       "      <td>237</td>\n",
       "      <td>4</td>\n",
       "      <td>2438033</td>\n",
       "      <td>28.1</td>\n",
       "      <td>2016-11-23</td>\n",
       "      <td>1</td>\n",
       "      <td>NaN</td>\n",
       "      <td>NaN</td>\n",
       "      <td>20.75</td>\n",
       "      <td>1</td>\n",
       "      <td>False</td>\n",
       "      <td>...</td>\n",
       "      <td>0.0</td>\n",
       "      <td>NaN</td>\n",
       "      <td>1.0</td>\n",
       "      <td>374.0</td>\n",
       "      <td>251.0</td>\n",
       "      <td>86762.740</td>\n",
       "      <td>2</td>\n",
       "      <td>11</td>\n",
       "      <td>2016</td>\n",
       "      <td>первый</td>\n",
       "    </tr>\n",
       "    <tr>\n",
       "      <td>457</td>\n",
       "      <td>4</td>\n",
       "      <td>9788348</td>\n",
       "      <td>70.8</td>\n",
       "      <td>2015-08-01</td>\n",
       "      <td>2</td>\n",
       "      <td>NaN</td>\n",
       "      <td>NaN</td>\n",
       "      <td>38.40</td>\n",
       "      <td>12</td>\n",
       "      <td>False</td>\n",
       "      <td>...</td>\n",
       "      <td>2.0</td>\n",
       "      <td>309.0</td>\n",
       "      <td>2.0</td>\n",
       "      <td>706.0</td>\n",
       "      <td>727.0</td>\n",
       "      <td>138253.503</td>\n",
       "      <td>5</td>\n",
       "      <td>8</td>\n",
       "      <td>2015</td>\n",
       "      <td>другой</td>\n",
       "    </tr>\n",
       "    <tr>\n",
       "      <td>671</td>\n",
       "      <td>4</td>\n",
       "      <td>6051191</td>\n",
       "      <td>93.6</td>\n",
       "      <td>2017-04-06</td>\n",
       "      <td>3</td>\n",
       "      <td>NaN</td>\n",
       "      <td>NaN</td>\n",
       "      <td>47.10</td>\n",
       "      <td>8</td>\n",
       "      <td>False</td>\n",
       "      <td>...</td>\n",
       "      <td>0.0</td>\n",
       "      <td>NaN</td>\n",
       "      <td>1.0</td>\n",
       "      <td>374.0</td>\n",
       "      <td>123.0</td>\n",
       "      <td>64649.476</td>\n",
       "      <td>3</td>\n",
       "      <td>4</td>\n",
       "      <td>2017</td>\n",
       "      <td>другой</td>\n",
       "    </tr>\n",
       "    <tr>\n",
       "      <td>1757</td>\n",
       "      <td>5</td>\n",
       "      <td>3600000</td>\n",
       "      <td>39.0</td>\n",
       "      <td>2017-04-22</td>\n",
       "      <td>1</td>\n",
       "      <td>NaN</td>\n",
       "      <td>NaN</td>\n",
       "      <td>NaN</td>\n",
       "      <td>9</td>\n",
       "      <td>False</td>\n",
       "      <td>...</td>\n",
       "      <td>1.0</td>\n",
       "      <td>835.0</td>\n",
       "      <td>1.0</td>\n",
       "      <td>652.0</td>\n",
       "      <td>77.0</td>\n",
       "      <td>92307.692</td>\n",
       "      <td>5</td>\n",
       "      <td>4</td>\n",
       "      <td>2017</td>\n",
       "      <td>другой</td>\n",
       "    </tr>\n",
       "  </tbody>\n",
       "</table>\n",
       "<p>5 rows × 27 columns</p>\n",
       "</div>"
      ],
      "text/plain": [
       "      total_images  last_price  total_area first_day_exposition  rooms  \\\n",
       "186             12    11640000        65.2           2018-10-02      2   \n",
       "237              4     2438033        28.1           2016-11-23      1   \n",
       "457              4     9788348        70.8           2015-08-01      2   \n",
       "671              4     6051191        93.6           2017-04-06      3   \n",
       "1757             5     3600000        39.0           2017-04-22      1   \n",
       "\n",
       "      ceiling_height  floors_total  living_area  floor  is_apartment  ...  \\\n",
       "186              NaN           NaN        30.80      4         False  ...   \n",
       "237              NaN           NaN        20.75      1         False  ...   \n",
       "457              NaN           NaN        38.40     12         False  ...   \n",
       "671              NaN           NaN        47.10      8         False  ...   \n",
       "1757             NaN           NaN          NaN      9         False  ...   \n",
       "\n",
       "      parks_around3000  parks_nearest  ponds_around3000  ponds_nearest  \\\n",
       "186                1.0          123.0               0.0            NaN   \n",
       "237                0.0            NaN               1.0          374.0   \n",
       "457                2.0          309.0               2.0          706.0   \n",
       "671                0.0            NaN               1.0          374.0   \n",
       "1757               1.0          835.0               1.0          652.0   \n",
       "\n",
       "     days_exposition  price_square_meter  weekday_exposition  \\\n",
       "186             49.0          178527.607                   1   \n",
       "237            251.0           86762.740                   2   \n",
       "457            727.0          138253.503                   5   \n",
       "671            123.0           64649.476                   3   \n",
       "1757            77.0           92307.692                   5   \n",
       "\n",
       "      month_exposition  year_exposition  floor_in_house  \n",
       "186                 10             2018          другой  \n",
       "237                 11             2016          первый  \n",
       "457                  8             2015          другой  \n",
       "671                  4             2017          другой  \n",
       "1757                 4             2017          другой  \n",
       "\n",
       "[5 rows x 27 columns]"
      ]
     },
     "execution_count": 61,
     "metadata": {},
     "output_type": "execute_result"
    }
   ],
   "source": [
    "floor_list = []\n",
    "null_in_floors_total = df['floors_total'].isnull()\n",
    "\n",
    "for el in df.index:\n",
    "    if df.loc[el,'floor'] == 1:\n",
    "        floor_list.append('первый')\n",
    "    elif df.loc[el,'floor'] == df.loc[el,'floors_total']:\n",
    "        floor_list.append('последний')\n",
    "    elif null_in_floors_total[el] is True:\n",
    "        floor_list.append('NaN')\n",
    "    else:\n",
    "        floor_list.append('другой')\n",
    "\n",
    "df['floor_in_house'] = floor_list\n",
    "df[df['floors_total'].isnull()].head(5)"
   ]
  },
  {
   "cell_type": "markdown",
   "metadata": {},
   "source": [
    "Определим соотношение жилой и общей площади, а также отношение площади кухни к общей."
   ]
  },
  {
   "cell_type": "code",
   "execution_count": 62,
   "metadata": {
    "scrolled": true
   },
   "outputs": [
    {
     "data": {
      "text/html": [
       "<div>\n",
       "<style scoped>\n",
       "    .dataframe tbody tr th:only-of-type {\n",
       "        vertical-align: middle;\n",
       "    }\n",
       "\n",
       "    .dataframe tbody tr th {\n",
       "        vertical-align: top;\n",
       "    }\n",
       "\n",
       "    .dataframe thead th {\n",
       "        text-align: right;\n",
       "    }\n",
       "</style>\n",
       "<table border=\"1\" class=\"dataframe\">\n",
       "  <thead>\n",
       "    <tr style=\"text-align: right;\">\n",
       "      <th></th>\n",
       "      <th>living/total</th>\n",
       "      <th>kitchen/total</th>\n",
       "    </tr>\n",
       "  </thead>\n",
       "  <tbody>\n",
       "    <tr>\n",
       "      <td>0</td>\n",
       "      <td>0.472</td>\n",
       "      <td>0.231</td>\n",
       "    </tr>\n",
       "    <tr>\n",
       "      <td>1</td>\n",
       "      <td>0.460</td>\n",
       "      <td>0.272</td>\n",
       "    </tr>\n",
       "    <tr>\n",
       "      <td>2</td>\n",
       "      <td>0.612</td>\n",
       "      <td>0.148</td>\n",
       "    </tr>\n",
       "    <tr>\n",
       "      <td>3</td>\n",
       "      <td>NaN</td>\n",
       "      <td>NaN</td>\n",
       "    </tr>\n",
       "    <tr>\n",
       "      <td>4</td>\n",
       "      <td>0.320</td>\n",
       "      <td>0.410</td>\n",
       "    </tr>\n",
       "  </tbody>\n",
       "</table>\n",
       "</div>"
      ],
      "text/plain": [
       "   living/total  kitchen/total\n",
       "0         0.472          0.231\n",
       "1         0.460          0.272\n",
       "2         0.612          0.148\n",
       "3           NaN            NaN\n",
       "4         0.320          0.410"
      ]
     },
     "execution_count": 62,
     "metadata": {},
     "output_type": "execute_result"
    }
   ],
   "source": [
    "df['living/total'] = (df['living_area'] / df['total_area']).round(3)\n",
    "df['kitchen/total'] = (df['kitchen_area'] / df['total_area']).round(3)\n",
    "df.loc[:,['living/total','kitchen/total']].head(5)"
   ]
  },
  {
   "cell_type": "markdown",
   "metadata": {},
   "source": [
    "### Вывод"
   ]
  },
  {
   "cell_type": "markdown",
   "metadata": {},
   "source": [
    "Было добавлено 8 колонок. Некоторые из них содержат пропущенные значения так как расчеты производились с колонками с пропусками."
   ]
  },
  {
   "cell_type": "markdown",
   "metadata": {},
   "source": [
    "### 4. Исследовательский анализ данных <a id='4'></a>"
   ]
  },
  {
   "cell_type": "markdown",
   "metadata": {},
   "source": [
    "Изучим следующие параметры: площадь, цена, число комнат, высота потолков. Построим гистограммы для каждого параметра."
   ]
  },
  {
   "cell_type": "code",
   "execution_count": 63,
   "metadata": {},
   "outputs": [
    {
     "name": "stdout",
     "output_type": "stream",
     "text": [
      "count    23699.000000\n",
      "mean        60.348651\n",
      "std         35.654083\n",
      "min         12.000000\n",
      "25%         40.000000\n",
      "50%         52.000000\n",
      "75%         69.900000\n",
      "max        900.000000\n",
      "Name: total_area, dtype: float64\n"
     ]
    },
    {
     "data": {
      "text/plain": [
       "Text(0.5, 0, 'total_area')"
      ]
     },
     "execution_count": 63,
     "metadata": {},
     "output_type": "execute_result"
    },
    {
     "data": {
      "image/png": "[encoded data removed]",
      "text/plain": [
       "<Figure size 432x288 with 1 Axes>"
      ]
     },
     "metadata": {
      "needs_background": "light"
     },
     "output_type": "display_data"
    }
   ],
   "source": [
    "print(df['total_area'].describe())\n",
    "df['total_area'].plot(kind='hist', bins=30, title='histogram of total_area', grid=True).set_xlabel('total_area')"
   ]
  },
  {
   "cell_type": "markdown",
   "metadata": {},
   "source": [
    "Наблюдаем распределение Пуассона с пиком на 40-70 метрах, недвижимость с площадью больше 170 м почти не продается. Медиана меньше среднего, что говорит о влиянии на него аномальных значений. "
   ]
  },
  {
   "cell_type": "code",
   "execution_count": 64,
   "metadata": {
    "scrolled": true
   },
   "outputs": [
    {
     "name": "stdout",
     "output_type": "stream",
     "text": [
      "count    2.369900e+04\n",
      "mean     6.541549e+06\n",
      "std      1.088701e+07\n",
      "min      1.219000e+04\n",
      "25%      3.400000e+06\n",
      "50%      4.650000e+06\n",
      "75%      6.800000e+06\n",
      "max      7.630000e+08\n",
      "Name: last_price, dtype: float64\n"
     ]
    },
    {
     "data": {
      "text/plain": [
       "Text(0.5, 0, 'last_price')"
      ]
     },
     "execution_count": 64,
     "metadata": {},
     "output_type": "execute_result"
    },
    {
     "data": {
      "image/png": "[encoded data removed]",
      "text/plain": [
       "<Figure size 432x288 with 1 Axes>"
      ]
     },
     "metadata": {
      "needs_background": "light"
     },
     "output_type": "display_data"
    }
   ],
   "source": [
    "print(df['last_price'].describe())\n",
    "df['last_price'].plot(\n",
    "    kind='hist', bins=600, title='histogram of last_price', xlim=(0,30000000), grid=True\n",
    ").set_xlabel('last_price')"
   ]
  },
  {
   "cell_type": "markdown",
   "metadata": {},
   "source": [
    "Наблюдаем распределение Пуассона с пиком на 3-5 млн, недвижимость дороже 12 млн продавалась редко. Медиана значительно меньше среднего, что говорит о влиянии на него аномальных значений. Минимальное значение в 12190 тоже является скорее аномальным значением. Таким образом, аномальные значения есть с двух сторон, но количество правых больше."
   ]
  },
  {
   "cell_type": "code",
   "execution_count": 65,
   "metadata": {
    "scrolled": true
   },
   "outputs": [
    {
     "name": "stdout",
     "output_type": "stream",
     "text": [
      "count    23699.000000\n",
      "mean         2.073168\n",
      "std          1.077336\n",
      "min          0.000000\n",
      "25%          1.000000\n",
      "50%          2.000000\n",
      "75%          3.000000\n",
      "max         19.000000\n",
      "Name: rooms, dtype: float64\n"
     ]
    },
    {
     "data": {
      "text/plain": [
       "Text(0.5, 0, 'rooms')"
      ]
     },
     "execution_count": 65,
     "metadata": {},
     "output_type": "execute_result"
    },
    {
     "data": {
      "image/png": "[encoded data removed]",
      "text/plain": [
       "<Figure size 432x288 with 1 Axes>"
      ]
     },
     "metadata": {
      "needs_background": "light"
     },
     "output_type": "display_data"
    }
   ],
   "source": [
    "print(df['rooms'].describe())\n",
    "df['rooms'].plot(\n",
    "    kind='hist', bins=40, title='histogram of rooms', grid=True, xticks=df['rooms'].unique()\n",
    ").set_xlabel('rooms')"
   ]
  },
  {
   "cell_type": "markdown",
   "metadata": {},
   "source": [
    "Наблюдаем распределение Пуассона с пиком на 1-2 комнатах, объявления с 6 комнатами и более выставляются редко. Медиана почти совпадает со средним, значит аномальные значения единичны. "
   ]
  },
  {
   "cell_type": "code",
   "execution_count": 66,
   "metadata": {},
   "outputs": [
    {
     "name": "stdout",
     "output_type": "stream",
     "text": [
      "count    23622.000000\n",
      "mean         2.709694\n",
      "std          0.265594\n",
      "min          1.000000\n",
      "25%          2.550000\n",
      "50%          2.650000\n",
      "75%          2.750000\n",
      "max         14.000000\n",
      "Name: ceiling_height, dtype: float64\n"
     ]
    },
    {
     "data": {
      "text/plain": [
       "Text(0.5, 0, 'ceiling_height')"
      ]
     },
     "execution_count": 66,
     "metadata": {},
     "output_type": "execute_result"
    },
    {
     "data": {
      "image/png": "[encoded data removed]",
      "text/plain": [
       "<Figure size 432x288 with 1 Axes>"
      ]
     },
     "metadata": {
      "needs_background": "light"
     },
     "output_type": "display_data"
    }
   ],
   "source": [
    "print(df['ceiling_height'].describe())\n",
    "df['ceiling_height'].plot(\n",
    "    kind='hist', bins=60, title='histogram of ceiling_height', grid=True, xlim=(0,6)\n",
    ").set_xlabel('ceiling_height')"
   ]
  },
  {
   "cell_type": "markdown",
   "metadata": {},
   "source": [
    "Наблюдаем распределение Пуассона с пиком около 2.6 м, потолки выше 3.2 м почти не встречаются. Медиана примерно равна среднему. Аномальные значения есть с двух сторон, но малом количестве."
   ]
  },
  {
   "cell_type": "markdown",
   "metadata": {},
   "source": [
    "Изучим время продажи квартиры. "
   ]
  },
  {
   "cell_type": "code",
   "execution_count": 67,
   "metadata": {
    "scrolled": true
   },
   "outputs": [
    {
     "name": "stdout",
     "output_type": "stream",
     "text": [
      "count    20518.000000\n",
      "mean       180.888634\n",
      "std        219.727988\n",
      "min          1.000000\n",
      "25%         45.000000\n",
      "50%         95.000000\n",
      "75%        232.000000\n",
      "max       1580.000000\n",
      "Name: days_exposition, dtype: float64\n",
      "45.0    880\n",
      "60.0    538\n",
      "7.0     234\n",
      "30.0    208\n",
      "90.0    204\n",
      "       ... \n",
      "78.0     51\n",
      "94.0     49\n",
      "87.0     43\n",
      "2.0       3\n",
      "1.0       1\n",
      "Name: days_exposition, Length: 99, dtype: int64\n"
     ]
    },
    {
     "data": {
      "image/png": "[encoded data removed]",
      "text/plain": [
       "<Figure size 432x288 with 1 Axes>"
      ]
     },
     "metadata": {
      "needs_background": "light"
     },
     "output_type": "display_data"
    },
    {
     "data": {
      "text/plain": [
       "<matplotlib.axes._subplots.AxesSubplot at 0x7f8fb7830e10>"
      ]
     },
     "execution_count": 67,
     "metadata": {},
     "output_type": "execute_result"
    },
    {
     "data": {
      "image/png": "[encoded data removed]",
      "text/plain": [
       "<Figure size 432x288 with 1 Axes>"
      ]
     },
     "metadata": {
      "needs_background": "light"
     },
     "output_type": "display_data"
    }
   ],
   "source": [
    "print(df['days_exposition'].describe())\n",
    "df['days_exposition'].plot(kind='hist', bins=100, title='days_exposition', grid=True, xlim=(0,800))\n",
    "print(df[df['days_exposition'] < 100]['days_exposition'].value_counts())\n",
    "plt.show()\n",
    "df.boxplot('days_exposition', showfliers=False)"
   ]
  },
  {
   "cell_type": "markdown",
   "metadata": {},
   "source": [
    "Чаще всего недвижимость продавали за 45 дней, 50% продаж совершили за 45-232 дня. Медиана почти в два раза меньше среднего значения из-за высоких аномальных значений. Аномальные значения начинаются с 513 дней и доходят до 1580.  \n",
    "Получается, что до 45 дней - очень быстрая продажа, 45-232 дня - нормальная продажа, и больше 232 дней - необычно долгая продажа."
   ]
  },
  {
   "cell_type": "markdown",
   "metadata": {},
   "source": [
    "Уберем редкие и выбивающиеся значения. Дольше 600 дней квартиры продаются редко. Надо полагать, что, если квартира долго не продается, то цена завышена, а для анализа цен нам нужны цены соответствующие рынку."
   ]
  },
  {
   "cell_type": "code",
   "execution_count": 68,
   "metadata": {},
   "outputs": [
    {
     "data": {
      "text/plain": [
       "1198"
      ]
     },
     "execution_count": 68,
     "metadata": {},
     "output_type": "execute_result"
    }
   ],
   "source": [
    "df[df['days_exposition'] > 600]['days_exposition'].count()"
   ]
  },
  {
   "cell_type": "code",
   "execution_count": 69,
   "metadata": {},
   "outputs": [
    {
     "data": {
      "text/plain": [
       "0"
      ]
     },
     "execution_count": 69,
     "metadata": {},
     "output_type": "execute_result"
    }
   ],
   "source": [
    "index_drop = df[df['days_exposition'] > 600].index\n",
    "df = df.drop(index_drop).reset_index(drop=True)\n",
    "df[df['days_exposition'] > 600]['days_exposition'].count()"
   ]
  },
  {
   "cell_type": "code",
   "execution_count": 70,
   "metadata": {
    "scrolled": true
   },
   "outputs": [
    {
     "data": {
      "text/plain": [
       "count    19320.000000\n",
       "mean       139.175311\n",
       "std        137.007986\n",
       "min          1.000000\n",
       "25%         42.000000\n",
       "50%         89.000000\n",
       "75%        195.000000\n",
       "max        600.000000\n",
       "Name: days_exposition, dtype: float64"
      ]
     },
     "execution_count": 70,
     "metadata": {},
     "output_type": "execute_result"
    }
   ],
   "source": [
    "df['days_exposition'].describe()"
   ]
  },
  {
   "cell_type": "markdown",
   "metadata": {},
   "source": [
    "Среднее значение, как и стандартное отклонение, значительно упало, но все равно сильно отличается от медианы. "
   ]
  },
  {
   "cell_type": "markdown",
   "metadata": {},
   "source": [
    "Изучим, зависит ли цена от площади, числа комнат, удалённости от центра, от того, на каком этаже расположена квартира и от даты размещения объявления."
   ]
  },
  {
   "cell_type": "code",
   "execution_count": 71,
   "metadata": {
    "scrolled": false
   },
   "outputs": [
    {
     "name": "stdout",
     "output_type": "stream",
     "text": [
      "Корреляция last_price от total_area: 0.647\n",
      "Корреляция last_price от rooms: 0.360\n",
      "Корреляция last_price от cityCenters_nearest: -0.202\n",
      "Корреляция last_price от weekday_exposition: 0.002\n",
      "Корреляция last_price от month_exposition: 0.001\n",
      "Корреляция last_price от year_exposition: -0.028\n"
     ]
    }
   ],
   "source": [
    "list_series = ['total_area','rooms','cityCenters_nearest', 'weekday_exposition', 'month_exposition', 'year_exposition']\n",
    "for el in list_series:\n",
    "    print('Корреляция last_price от {}: {:.3f}'.format(el,df['last_price'].corr(df[el])))"
   ]
  },
  {
   "cell_type": "markdown",
   "metadata": {},
   "source": [
    "Получено следующее: \n",
    "- с total_area есть слабая прямая линейная зависимость, что логично, с увеличением площади квартиры естественно увеличивается и цена,\n",
    "- с rooms наблюдается та же зависимость,\n",
    "- с cityCenters_nearest есть слабая обратная линейная зависимость, если расстояние до центра уменьшается, то действительно увеличивается цена.\n",
    "- с weekday_exposition, month_exposition, year_exposition линейная зависимость отсутствует"
   ]
  },
  {
   "cell_type": "code",
   "execution_count": 72,
   "metadata": {
    "scrolled": false
   },
   "outputs": [
    {
     "data": {
      "text/html": [
       "<style  type=\"text/css\" >\n",
       "</style><table id=\"T_3369e986_926a_11ea_a50a_02420a004914\" ><thead>    <tr>        <th class=\"blank level0\" ></th>        <th class=\"col_heading level0 col0\" >median_price</th>    </tr>    <tr>        <th class=\"index_name level0\" >floor_in_house</th>        <th class=\"blank\" ></th>    </tr></thead><tbody>\n",
       "                <tr>\n",
       "                        <th id=\"T_3369e986_926a_11ea_a50a_02420a004914level0_row0\" class=\"row_heading level0 row0\" >другой</th>\n",
       "                        <td id=\"T_3369e986_926a_11ea_a50a_02420a004914row0_col0\" class=\"data row0 col0\" >4800000</td>\n",
       "            </tr>\n",
       "            <tr>\n",
       "                        <th id=\"T_3369e986_926a_11ea_a50a_02420a004914level0_row1\" class=\"row_heading level0 row1\" >первый</th>\n",
       "                        <td id=\"T_3369e986_926a_11ea_a50a_02420a004914row1_col0\" class=\"data row1 col0\" >3900000</td>\n",
       "            </tr>\n",
       "            <tr>\n",
       "                        <th id=\"T_3369e986_926a_11ea_a50a_02420a004914level0_row2\" class=\"row_heading level0 row2\" >последний</th>\n",
       "                        <td id=\"T_3369e986_926a_11ea_a50a_02420a004914row2_col0\" class=\"data row2 col0\" >4300000</td>\n",
       "            </tr>\n",
       "    </tbody></table>"
      ],
      "text/plain": [
       "<pandas.io.formats.style.Styler at 0x7f8fb77bf1d0>"
      ]
     },
     "execution_count": 72,
     "metadata": {},
     "output_type": "execute_result"
    }
   ],
   "source": [
    "relation_floor_price = df.pivot_table(\n",
    "    index='floor_in_house', \n",
    "    values='last_price', \n",
    "    aggfunc=['median']\n",
    ")\n",
    "\n",
    "relation_floor_price.columns = ['median_price']\n",
    "relation_floor_price.style.format('{:.0f}')"
   ]
  },
  {
   "cell_type": "markdown",
   "metadata": {},
   "source": [
    "Можно проследить зависимость цены от этажа квартиры. Так квартиры на первом этаже - самые дешевые, дороже идут квартиры на последнем этаже, и самые дорогие расположены на средних этажах."
   ]
  },
  {
   "cell_type": "code",
   "execution_count": 73,
   "metadata": {
    "scrolled": true
   },
   "outputs": [
    {
     "data": {
      "text/plain": [
       "<matplotlib.axes._subplots.AxesSubplot at 0x7f8fbd7fc050>"
      ]
     },
     "execution_count": 73,
     "metadata": {},
     "output_type": "execute_result"
    },
    {
     "data": {
      "image/png": "[encoded data removed]",
      "text/plain": [
       "<Figure size 432x288 with 1 Axes>"
      ]
     },
     "metadata": {
      "needs_background": "light"
     },
     "output_type": "display_data"
    }
   ],
   "source": [
    "relation_weekday_price = (\n",
    "    df.pivot_table(index='weekday_exposition', values='last_price', aggfunc=['median'])\n",
    ")\n",
    "relation_weekday_price.plot(grid=True, legend=False, title='Зависимость цены от дня недели')"
   ]
  },
  {
   "cell_type": "markdown",
   "metadata": {},
   "source": [
    "Во вторник выставлились более дорогие квартиры, а в воскресенье - более дешевые. Но колебание цены ниже 5%."
   ]
  },
  {
   "cell_type": "code",
   "execution_count": 74,
   "metadata": {},
   "outputs": [
    {
     "data": {
      "text/plain": [
       "<matplotlib.axes._subplots.AxesSubplot at 0x7f8fb7970290>"
      ]
     },
     "execution_count": 74,
     "metadata": {},
     "output_type": "execute_result"
    },
    {
     "data": {
      "image/png": "[encoded data removed]",
      "text/plain": [
       "<Figure size 432x288 with 1 Axes>"
      ]
     },
     "metadata": {
      "needs_background": "light"
     },
     "output_type": "display_data"
    }
   ],
   "source": [
    "relation_month_price = (\n",
    "    df.pivot_table(index='month_exposition', values='last_price', aggfunc=['median'])\n",
    ")\n",
    "relation_month_price.plot(grid=True,\n",
    "                          legend=False, \n",
    "                          title='Зависимость цены от месяца', \n",
    "                          xticks=df['month_exposition'].unique()\n",
    "                         )"
   ]
  },
  {
   "cell_type": "markdown",
   "metadata": {},
   "source": [
    "С июля по март цены практически не меняются.  \n",
    "В апреле цены выше средних на 4%.  \n",
    "Затем до июня наблюдается спад. В июне, по сравнению с апрелем, цена меньше на 8%."
   ]
  },
  {
   "cell_type": "code",
   "execution_count": 75,
   "metadata": {},
   "outputs": [
    {
     "name": "stdout",
     "output_type": "stream",
     "text": [
      "2018    8519\n",
      "2017    8053\n",
      "2019    2879\n",
      "2016    2337\n",
      "2015     667\n",
      "2014      46\n",
      "Name: year_exposition, dtype: int64\n",
      "2019-05-03 00:00:00\n"
     ]
    },
    {
     "data": {
      "text/html": [
       "<div>\n",
       "<style scoped>\n",
       "    .dataframe tbody tr th:only-of-type {\n",
       "        vertical-align: middle;\n",
       "    }\n",
       "\n",
       "    .dataframe tbody tr th {\n",
       "        vertical-align: top;\n",
       "    }\n",
       "\n",
       "    .dataframe thead tr th {\n",
       "        text-align: left;\n",
       "    }\n",
       "\n",
       "    .dataframe thead tr:last-of-type th {\n",
       "        text-align: right;\n",
       "    }\n",
       "</style>\n",
       "<table border=\"1\" class=\"dataframe\">\n",
       "  <thead>\n",
       "    <tr>\n",
       "      <th></th>\n",
       "      <th>median</th>\n",
       "    </tr>\n",
       "    <tr>\n",
       "      <th></th>\n",
       "      <th>last_price</th>\n",
       "    </tr>\n",
       "    <tr>\n",
       "      <th>year_exposition</th>\n",
       "      <th></th>\n",
       "    </tr>\n",
       "  </thead>\n",
       "  <tbody>\n",
       "    <tr>\n",
       "      <td>2014</td>\n",
       "      <td>9050000</td>\n",
       "    </tr>\n",
       "    <tr>\n",
       "      <td>2015</td>\n",
       "      <td>5100000</td>\n",
       "    </tr>\n",
       "    <tr>\n",
       "      <td>2016</td>\n",
       "      <td>4490000</td>\n",
       "    </tr>\n",
       "    <tr>\n",
       "      <td>2017</td>\n",
       "      <td>4500000</td>\n",
       "    </tr>\n",
       "    <tr>\n",
       "      <td>2018</td>\n",
       "      <td>4550000</td>\n",
       "    </tr>\n",
       "    <tr>\n",
       "      <td>2019</td>\n",
       "      <td>5050000</td>\n",
       "    </tr>\n",
       "  </tbody>\n",
       "</table>\n",
       "</div>"
      ],
      "text/plain": [
       "                    median\n",
       "                last_price\n",
       "year_exposition           \n",
       "2014               9050000\n",
       "2015               5100000\n",
       "2016               4490000\n",
       "2017               4500000\n",
       "2018               4550000\n",
       "2019               5050000"
      ]
     },
     "execution_count": 75,
     "metadata": {},
     "output_type": "execute_result"
    },
    {
     "data": {
      "image/png": "[encoded data removed]",
      "text/plain": [
       "<Figure size 432x288 with 1 Axes>"
      ]
     },
     "metadata": {
      "needs_background": "light"
     },
     "output_type": "display_data"
    }
   ],
   "source": [
    "relation_year_price = (\n",
    "    df.pivot_table(index='year_exposition', values='last_price', aggfunc=['median'])\n",
    ")\n",
    "relation_year_price.plot(grid=True, legend=False, title='Зависимость цены от года')\n",
    "print(df['year_exposition'].value_counts())\n",
    "print(df['first_day_exposition'].max())\n",
    "relation_year_price"
   ]
  },
  {
   "cell_type": "markdown",
   "metadata": {},
   "source": [
    "На графике виден значительный спад с 2014 года до 2016 года, который, возможно, связан с малым объемом выборки. C 2016 года до 2018 года цена оставалась примерно на одном уровне, а с 2018 по 2019 выросла на 10%, что, может быть, связано с меньшим временным интервалом (данные за 2019 год по май). "
   ]
  },
  {
   "cell_type": "markdown",
   "metadata": {},
   "source": [
    "Проверим наметившуюся тенденцию на графике на примерно равных по объему выборках."
   ]
  },
  {
   "cell_type": "code",
   "execution_count": 76,
   "metadata": {},
   "outputs": [
    {
     "name": "stdout",
     "output_type": "stream",
     "text": [
      "Медиана 3 квартала 2015 4985000.0\n",
      "Размер выборки 360\n",
      "Медиана 3 квартала 2016 4500000.0\n",
      "Размер выборки 394\n"
     ]
    }
   ],
   "source": [
    "print('Медиана 3 квартала 2015', df[(df['month_exposition'] > 8) & (df['year_exposition'] == 2015)]['last_price'].median())\n",
    "print('Размер выборки', len(df[(df['month_exposition'] > 8) & (df['year_exposition'] == 2015)]))\n",
    "\n",
    "print('Медиана 3 квартала 2016', df[(df['month_exposition'] > 8) & (df['year_exposition'] == 2016)]['last_price'].median())\n",
    "print('Размер выборки', len(df[(df['month_exposition'] > 8) & (df['year_exposition'] == 2016)]))"
   ]
  },
  {
   "cell_type": "markdown",
   "metadata": {},
   "source": [
    "В 2016 году цены были ниже чем в 2015."
   ]
  },
  {
   "cell_type": "code",
   "execution_count": 77,
   "metadata": {
    "scrolled": true
   },
   "outputs": [
    {
     "name": "stdout",
     "output_type": "stream",
     "text": [
      "Медиана 3 квартала 2018 4733000.0\n",
      "Размер выборки 2888\n",
      "Медиана 1 квартала 2019 5050000.0\n",
      "Размер выборки 2879\n"
     ]
    }
   ],
   "source": [
    "print('Медиана 3 квартала 2018', df[(df['month_exposition'] > 8) & (df['year_exposition'] == 2018)]['last_price'].median())\n",
    "print('Размер выборки', len(df[(df['month_exposition'] > 8) & (df['year_exposition'] == 2018)]))\n",
    "\n",
    "print('Медиана 1 квартала 2019', df[df['year_exposition'] == 2019]['last_price'].median())\n",
    "print('Размер выборки', len(df[df['year_exposition'] == 2019]))"
   ]
  },
  {
   "cell_type": "markdown",
   "metadata": {},
   "source": [
    "Действительно в 2019 году цена на недвижимость выросла. Изменение цены с конца 2018 составило 6%."
   ]
  },
  {
   "cell_type": "markdown",
   "metadata": {},
   "source": [
    "Выберем 10 населённых пунктов с наибольшим числом объявлений и посчитаем среднюю цену квадратного метра."
   ]
  },
  {
   "cell_type": "code",
   "execution_count": 78,
   "metadata": {},
   "outputs": [
    {
     "data": {
      "text/html": [
       "<div>\n",
       "<style scoped>\n",
       "    .dataframe tbody tr th:only-of-type {\n",
       "        vertical-align: middle;\n",
       "    }\n",
       "\n",
       "    .dataframe tbody tr th {\n",
       "        vertical-align: top;\n",
       "    }\n",
       "\n",
       "    .dataframe thead th {\n",
       "        text-align: right;\n",
       "    }\n",
       "</style>\n",
       "<table border=\"1\" class=\"dataframe\">\n",
       "  <thead>\n",
       "    <tr style=\"text-align: right;\">\n",
       "      <th></th>\n",
       "      <th>count</th>\n",
       "      <th>median</th>\n",
       "    </tr>\n",
       "    <tr>\n",
       "      <th>locality_name</th>\n",
       "      <th></th>\n",
       "      <th></th>\n",
       "    </tr>\n",
       "  </thead>\n",
       "  <tbody>\n",
       "    <tr>\n",
       "      <td>Санкт-Петербург</td>\n",
       "      <td>14881</td>\n",
       "      <td>104724.4090</td>\n",
       "    </tr>\n",
       "    <tr>\n",
       "      <td>Пушкин</td>\n",
       "      <td>349</td>\n",
       "      <td>99987.1790</td>\n",
       "    </tr>\n",
       "    <tr>\n",
       "      <td>деревня Кудрово</td>\n",
       "      <td>276</td>\n",
       "      <td>92044.8640</td>\n",
       "    </tr>\n",
       "    <tr>\n",
       "      <td>посёлок Парголово</td>\n",
       "      <td>318</td>\n",
       "      <td>91387.3625</td>\n",
       "    </tr>\n",
       "    <tr>\n",
       "      <td>посёлок Мурино</td>\n",
       "      <td>502</td>\n",
       "      <td>86076.8750</td>\n",
       "    </tr>\n",
       "    <tr>\n",
       "      <td>посёлок Шушары</td>\n",
       "      <td>426</td>\n",
       "      <td>76876.1725</td>\n",
       "    </tr>\n",
       "    <tr>\n",
       "      <td>Колпино</td>\n",
       "      <td>329</td>\n",
       "      <td>74468.0850</td>\n",
       "    </tr>\n",
       "    <tr>\n",
       "      <td>Гатчина</td>\n",
       "      <td>289</td>\n",
       "      <td>67796.6100</td>\n",
       "    </tr>\n",
       "    <tr>\n",
       "      <td>Всеволожск</td>\n",
       "      <td>377</td>\n",
       "      <td>65789.4740</td>\n",
       "    </tr>\n",
       "    <tr>\n",
       "      <td>Выборг</td>\n",
       "      <td>225</td>\n",
       "      <td>58108.1080</td>\n",
       "    </tr>\n",
       "  </tbody>\n",
       "</table>\n",
       "</div>"
      ],
      "text/plain": [
       "                   count       median\n",
       "locality_name                        \n",
       "Санкт-Петербург    14881  104724.4090\n",
       "Пушкин               349   99987.1790\n",
       "деревня Кудрово      276   92044.8640\n",
       "посёлок Парголово    318   91387.3625\n",
       "посёлок Мурино       502   86076.8750\n",
       "посёлок Шушары       426   76876.1725\n",
       "Колпино              329   74468.0850\n",
       "Гатчина              289   67796.6100\n",
       "Всеволожск           377   65789.4740\n",
       "Выборг               225   58108.1080"
      ]
     },
     "execution_count": 78,
     "metadata": {},
     "output_type": "execute_result"
    }
   ],
   "source": [
    "popular_city = (df.groupby('locality_name')\n",
    "    .agg({'price_square_meter': ['count','median']})\n",
    "    .sort_values(by=('price_square_meter','count'), ascending=False)\n",
    "    .head(10)\n",
    ")\n",
    "popular_city.columns = ['count','median']\n",
    "popular_city.sort_values(by='median', ascending=False)"
   ]
  },
  {
   "cell_type": "markdown",
   "metadata": {},
   "source": [
    "Самая высокая стоимость жилья среди популярных населенных пунктов в Санкт-Петербурге, самая низкая - в Выборге."
   ]
  },
  {
   "cell_type": "markdown",
   "metadata": {},
   "source": [
    "Создадим столбец с расстоянием до центра в километрах."
   ]
  },
  {
   "cell_type": "code",
   "execution_count": 79,
   "metadata": {
    "scrolled": true
   },
   "outputs": [
    {
     "data": {
      "text/plain": [
       "0        16.0\n",
       "1        19.0\n",
       "2        14.0\n",
       "3         7.0\n",
       "4         8.0\n",
       "         ... \n",
       "22496    34.0\n",
       "22497     4.0\n",
       "22498     NaN\n",
       "22499     NaN\n",
       "22500     NaN\n",
       "Name: distance to center, Length: 22501, dtype: float64"
      ]
     },
     "execution_count": 79,
     "metadata": {},
     "output_type": "execute_result"
    }
   ],
   "source": [
    "df['distance to center'] = (df['cityCenters_nearest'] / 1000).round()\n",
    "df['distance to center']"
   ]
  },
  {
   "cell_type": "markdown",
   "metadata": {},
   "source": [
    "По зависимости средней цены от расстояния выделим центр."
   ]
  },
  {
   "cell_type": "code",
   "execution_count": 80,
   "metadata": {},
   "outputs": [
    {
     "data": {
      "text/html": [
       "<div>\n",
       "<style scoped>\n",
       "    .dataframe tbody tr th:only-of-type {\n",
       "        vertical-align: middle;\n",
       "    }\n",
       "\n",
       "    .dataframe tbody tr th {\n",
       "        vertical-align: top;\n",
       "    }\n",
       "\n",
       "    .dataframe thead th {\n",
       "        text-align: right;\n",
       "    }\n",
       "</style>\n",
       "<table border=\"1\" class=\"dataframe\">\n",
       "  <thead>\n",
       "    <tr style=\"text-align: right;\">\n",
       "      <th></th>\n",
       "      <th>price_square_meter</th>\n",
       "    </tr>\n",
       "    <tr>\n",
       "      <th>distance to center</th>\n",
       "      <th></th>\n",
       "    </tr>\n",
       "  </thead>\n",
       "  <tbody>\n",
       "    <tr>\n",
       "      <td>0.0</td>\n",
       "      <td>150243.9685</td>\n",
       "    </tr>\n",
       "    <tr>\n",
       "      <td>1.0</td>\n",
       "      <td>127586.1340</td>\n",
       "    </tr>\n",
       "    <tr>\n",
       "      <td>2.0</td>\n",
       "      <td>123966.9420</td>\n",
       "    </tr>\n",
       "    <tr>\n",
       "      <td>3.0</td>\n",
       "      <td>110013.9275</td>\n",
       "    </tr>\n",
       "    <tr>\n",
       "      <td>4.0</td>\n",
       "      <td>119420.9040</td>\n",
       "    </tr>\n",
       "    <tr>\n",
       "      <td>5.0</td>\n",
       "      <td>126834.8130</td>\n",
       "    </tr>\n",
       "    <tr>\n",
       "      <td>6.0</td>\n",
       "      <td>131795.4550</td>\n",
       "    </tr>\n",
       "    <tr>\n",
       "      <td>7.0</td>\n",
       "      <td>126063.8300</td>\n",
       "    </tr>\n",
       "    <tr>\n",
       "      <td>8.0</td>\n",
       "      <td>122944.9290</td>\n",
       "    </tr>\n",
       "    <tr>\n",
       "      <td>9.0</td>\n",
       "      <td>106455.4740</td>\n",
       "    </tr>\n",
       "    <tr>\n",
       "      <td>10.0</td>\n",
       "      <td>106250.0000</td>\n",
       "    </tr>\n",
       "    <tr>\n",
       "      <td>11.0</td>\n",
       "      <td>103346.4420</td>\n",
       "    </tr>\n",
       "    <tr>\n",
       "      <td>12.0</td>\n",
       "      <td>104260.1210</td>\n",
       "    </tr>\n",
       "    <tr>\n",
       "      <td>13.0</td>\n",
       "      <td>104444.4440</td>\n",
       "    </tr>\n",
       "    <tr>\n",
       "      <td>14.0</td>\n",
       "      <td>102217.6760</td>\n",
       "    </tr>\n",
       "    <tr>\n",
       "      <td>15.0</td>\n",
       "      <td>101315.7890</td>\n",
       "    </tr>\n",
       "    <tr>\n",
       "      <td>16.0</td>\n",
       "      <td>97500.0000</td>\n",
       "    </tr>\n",
       "    <tr>\n",
       "      <td>17.0</td>\n",
       "      <td>94805.1950</td>\n",
       "    </tr>\n",
       "    <tr>\n",
       "      <td>18.0</td>\n",
       "      <td>95000.0000</td>\n",
       "    </tr>\n",
       "    <tr>\n",
       "      <td>19.0</td>\n",
       "      <td>97241.3790</td>\n",
       "    </tr>\n",
       "    <tr>\n",
       "      <td>20.0</td>\n",
       "      <td>103703.6930</td>\n",
       "    </tr>\n",
       "    <tr>\n",
       "      <td>21.0</td>\n",
       "      <td>89500.0000</td>\n",
       "    </tr>\n",
       "    <tr>\n",
       "      <td>22.0</td>\n",
       "      <td>88849.4180</td>\n",
       "    </tr>\n",
       "    <tr>\n",
       "      <td>23.0</td>\n",
       "      <td>90666.6670</td>\n",
       "    </tr>\n",
       "    <tr>\n",
       "      <td>24.0</td>\n",
       "      <td>86184.8420</td>\n",
       "    </tr>\n",
       "    <tr>\n",
       "      <td>25.0</td>\n",
       "      <td>93612.1620</td>\n",
       "    </tr>\n",
       "    <tr>\n",
       "      <td>26.0</td>\n",
       "      <td>89393.9390</td>\n",
       "    </tr>\n",
       "    <tr>\n",
       "      <td>27.0</td>\n",
       "      <td>132115.7095</td>\n",
       "    </tr>\n",
       "    <tr>\n",
       "      <td>28.0</td>\n",
       "      <td>79372.0930</td>\n",
       "    </tr>\n",
       "    <tr>\n",
       "      <td>29.0</td>\n",
       "      <td>73943.6620</td>\n",
       "    </tr>\n",
       "  </tbody>\n",
       "</table>\n",
       "</div>"
      ],
      "text/plain": [
       "                    price_square_meter\n",
       "distance to center                    \n",
       "0.0                        150243.9685\n",
       "1.0                        127586.1340\n",
       "2.0                        123966.9420\n",
       "3.0                        110013.9275\n",
       "4.0                        119420.9040\n",
       "5.0                        126834.8130\n",
       "6.0                        131795.4550\n",
       "7.0                        126063.8300\n",
       "8.0                        122944.9290\n",
       "9.0                        106455.4740\n",
       "10.0                       106250.0000\n",
       "11.0                       103346.4420\n",
       "12.0                       104260.1210\n",
       "13.0                       104444.4440\n",
       "14.0                       102217.6760\n",
       "15.0                       101315.7890\n",
       "16.0                        97500.0000\n",
       "17.0                        94805.1950\n",
       "18.0                        95000.0000\n",
       "19.0                        97241.3790\n",
       "20.0                       103703.6930\n",
       "21.0                        89500.0000\n",
       "22.0                        88849.4180\n",
       "23.0                        90666.6670\n",
       "24.0                        86184.8420\n",
       "25.0                        93612.1620\n",
       "26.0                        89393.9390\n",
       "27.0                       132115.7095\n",
       "28.0                        79372.0930\n",
       "29.0                        73943.6620"
      ]
     },
     "execution_count": 80,
     "metadata": {},
     "output_type": "execute_result"
    },
    {
     "data": {
      "image/png": "[encoded data removed]",
      "text/plain": [
       "<Figure size 432x288 with 1 Axes>"
      ]
     },
     "metadata": {
      "needs_background": "light"
     },
     "output_type": "display_data"
    }
   ],
   "source": [
    "price_from_km = (df[df['locality_name'] == 'Санкт-Петербург']\n",
    "     .pivot_table(index='distance to center', \n",
    "                  values='price_square_meter', \n",
    "                  aggfunc='median')\n",
    ")\n",
    "price_from_km.plot()\n",
    "price_from_km"
   ]
  },
  {
   "cell_type": "markdown",
   "metadata": {},
   "source": [
    "В левой части графика выделяются два пика с самыми высокими ценами. Далее цена постепенно идет на убывание до правых пиков, которые могут быть связаны с дорогой застройкой в отдельных районах вне центра. Будем считать резкий спад до 9 км границей центра."
   ]
  },
  {
   "cell_type": "markdown",
   "metadata": {},
   "source": [
    "Изучим следующие параметры: площадь, цена, число комнат, высота потолков. И сравним графики с предыдущими."
   ]
  },
  {
   "cell_type": "code",
   "execution_count": 81,
   "metadata": {
    "scrolled": true
   },
   "outputs": [
    {
     "name": "stdout",
     "output_type": "stream",
     "text": [
      "count    3764.000000\n",
      "mean       89.189902\n",
      "std        58.483136\n",
      "min        12.000000\n",
      "25%        54.000000\n",
      "50%        75.200000\n",
      "75%       105.000000\n",
      "max       900.000000\n",
      "Name: total_area, dtype: float64\n"
     ]
    },
    {
     "data": {
      "image/png": "[encoded data removed]",
      "text/plain": [
       "<Figure size 432x288 with 1 Axes>"
      ]
     },
     "metadata": {
      "needs_background": "light"
     },
     "output_type": "display_data"
    },
    {
     "data": {
      "text/plain": [
       "Text(0.5, 0, 'total_area')"
      ]
     },
     "execution_count": 81,
     "metadata": {},
     "output_type": "execute_result"
    },
    {
     "data": {
      "image/png": "[encoded data removed]",
      "text/plain": [
       "<Figure size 432x288 with 1 Axes>"
      ]
     },
     "metadata": {
      "needs_background": "light"
     },
     "output_type": "display_data"
    }
   ],
   "source": [
    "df_centre = df[df['distance to center'] < 9]\n",
    "print(df_centre['total_area'].describe())\n",
    "\n",
    "df_centre['total_area'].plot(\n",
    "    kind='hist', bins=30, title='histogram of total_area_for_centre', grid=True, xticks=range(0,901,100)\n",
    ").set_xlabel('total_area')\n",
    "plt.show()\n",
    "df['total_area'].plot(\n",
    "    kind='hist', bins=30, title='histogram of total_area', grid=True, xticks=range(0,901,100)\n",
    ").set_xlabel('total_area')"
   ]
  },
  {
   "cell_type": "markdown",
   "metadata": {},
   "source": [
    "График похож на аналогичный для всей выборки. Чаще всего продают квартиры с площадью от 40 до 70 метров. Основная разница - меньшее количество квартир с площадью до 40 метров в центре и большее от 70 до 100. "
   ]
  },
  {
   "cell_type": "code",
   "execution_count": 82,
   "metadata": {
    "scrolled": true
   },
   "outputs": [
    {
     "name": "stdout",
     "output_type": "stream",
     "text": [
      "count    3.764000e+03\n",
      "mean     1.401513e+07\n",
      "std      2.387263e+07\n",
      "min      1.600000e+06\n",
      "25%      6.376250e+06\n",
      "50%      8.845000e+06\n",
      "75%      1.380000e+07\n",
      "max      7.630000e+08\n",
      "Name: last_price, dtype: float64\n"
     ]
    },
    {
     "data": {
      "image/png": "[encoded data removed]",
      "text/plain": [
       "<Figure size 432x288 with 1 Axes>"
      ]
     },
     "metadata": {
      "needs_background": "light"
     },
     "output_type": "display_data"
    },
    {
     "data": {
      "text/plain": [
       "Text(0.5, 0, 'last_price')"
      ]
     },
     "execution_count": 82,
     "metadata": {},
     "output_type": "execute_result"
    },
    {
     "data": {
      "image/png": "[encoded data removed]",
      "text/plain": [
       "<Figure size 432x288 with 1 Axes>"
      ]
     },
     "metadata": {
      "needs_background": "light"
     },
     "output_type": "display_data"
    }
   ],
   "source": [
    "print(df_centre['last_price'].describe())\n",
    "\n",
    "df_centre['last_price'].plot(kind='hist', \n",
    "                             bins=600, \n",
    "                             title='histogram of last_price_for_centre', \n",
    "                             xlim=(0,50000000), \n",
    "                             grid=True, \n",
    "                             xticks=range(0,60000000,5000000)\n",
    "                            ).set_xlabel('last_price')\n",
    "plt.show()\n",
    "df['last_price'].plot(kind='hist', \n",
    "                      bins=600, \n",
    "                      title='histogram of last_price', \n",
    "                      xlim=(0,50000000), \n",
    "                      grid=True, \n",
    "                      xticks=range(0,60000000,5000000)\n",
    "                     ).set_xlabel('last_price')"
   ]
  },
  {
   "cell_type": "markdown",
   "metadata": {},
   "source": [
    "Если данные по всей выборке с пиком на 3-5 млн, то по данным с центром города весь график смещен вправо, и пик начинается выше 5 млн. Квартиры, определенно, в центре дороже."
   ]
  },
  {
   "cell_type": "code",
   "execution_count": 83,
   "metadata": {},
   "outputs": [
    {
     "name": "stdout",
     "output_type": "stream",
     "text": [
      "count    3764.000000\n",
      "mean        2.732997\n",
      "std         1.406740\n",
      "min         0.000000\n",
      "25%         2.000000\n",
      "50%         3.000000\n",
      "75%         3.000000\n",
      "max        19.000000\n",
      "Name: rooms, dtype: float64\n"
     ]
    },
    {
     "data": {
      "image/png": "[encoded data removed]",
      "text/plain": [
       "<Figure size 432x288 with 1 Axes>"
      ]
     },
     "metadata": {
      "needs_background": "light"
     },
     "output_type": "display_data"
    },
    {
     "data": {
      "text/plain": [
       "Text(0.5, 0, 'rooms')"
      ]
     },
     "execution_count": 83,
     "metadata": {},
     "output_type": "execute_result"
    },
    {
     "data": {
      "image/png": "[encoded data removed]",
      "text/plain": [
       "<Figure size 432x288 with 1 Axes>"
      ]
     },
     "metadata": {
      "needs_background": "light"
     },
     "output_type": "display_data"
    }
   ],
   "source": [
    "print(df_centre['rooms'].describe())\n",
    "\n",
    "df_centre['rooms'].plot(\n",
    "    kind='hist', bins=40, title='histogram of rooms_for_centre', grid=True, xticks=df_centre['rooms'].unique()\n",
    ").set_xlabel('rooms')\n",
    "plt.show()\n",
    "df['rooms'].plot(\n",
    "    kind='hist', bins=40, title='histogram of rooms', grid=True, xticks=df['rooms'].unique()\n",
    ").set_xlabel('rooms')"
   ]
  },
  {
   "cell_type": "markdown",
   "metadata": {},
   "source": [
    "В центре прослеживается интерес к большему количеству комнат. Квартиры с 3 комнатами продают также часто, как и с 2, а вот квартиры с 1 комнатой намного реже.  "
   ]
  },
  {
   "cell_type": "code",
   "execution_count": 84,
   "metadata": {},
   "outputs": [
    {
     "name": "stdout",
     "output_type": "stream",
     "text": [
      "count    3757.000000\n",
      "mean        2.945930\n",
      "std         0.371517\n",
      "min         2.000000\n",
      "25%         2.700000\n",
      "50%         3.000000\n",
      "75%         3.100000\n",
      "max        10.000000\n",
      "Name: ceiling_height, dtype: float64\n"
     ]
    },
    {
     "data": {
      "image/png": "[encoded data removed]",
      "text/plain": [
       "<Figure size 432x288 with 1 Axes>"
      ]
     },
     "metadata": {
      "needs_background": "light"
     },
     "output_type": "display_data"
    },
    {
     "data": {
      "text/plain": [
       "Text(0.5, 0, 'ceiling_height')"
      ]
     },
     "execution_count": 84,
     "metadata": {},
     "output_type": "execute_result"
    },
    {
     "data": {
      "image/png": "[encoded data removed]",
      "text/plain": [
       "<Figure size 432x288 with 1 Axes>"
      ]
     },
     "metadata": {
      "needs_background": "light"
     },
     "output_type": "display_data"
    }
   ],
   "source": [
    "print(df_centre['ceiling_height'].describe())\n",
    "\n",
    "df_centre['ceiling_height'].plot(\n",
    "    kind='hist', bins=60, title='histogram of ceiling_height_for_centre', grid=True, xlim=(0,6)\n",
    ").set_xlabel('ceiling_height')\n",
    "plt.show()\n",
    "df['ceiling_height'].plot(\n",
    "    kind='hist', bins=60, title='histogram of ceiling_height', grid=True, xlim=(0,6)\n",
    ").set_xlabel('ceiling_height')"
   ]
  },
  {
   "cell_type": "markdown",
   "metadata": {},
   "source": [
    "Если по всем данным пик наблюдается около 2.6 м, а потолки выше 3.2 м почти не встречаются. То в центре наблюдается несколько пиков и самый явный около 3 м, видно, что потолки здесь выше."
   ]
  },
  {
   "cell_type": "markdown",
   "metadata": {},
   "source": [
    "Выделим факторы, которые влияют на стоимость квартиры."
   ]
  },
  {
   "cell_type": "code",
   "execution_count": 85,
   "metadata": {},
   "outputs": [
    {
     "name": "stdout",
     "output_type": "stream",
     "text": [
      "Корреляция last_price от total_area: 0.634\n",
      "Корреляция last_price от rooms: 0.345\n",
      "Корреляция last_price от cityCenters_nearest: -0.080\n"
     ]
    }
   ],
   "source": [
    "list_series = ['total_area','rooms', 'cityCenters_nearest']\n",
    "for el in list_series:\n",
    "    print('Корреляция last_price от {}: {:.3f}'.format(el,df_centre['last_price'].corr(df_centre[el])))"
   ]
  },
  {
   "cell_type": "markdown",
   "metadata": {},
   "source": [
    "Коэффициенты Пирсона от общих данных и от данных по центру примерно равны. Зависимость есть.  \n",
    "Зависимость от расстояния отсутствует, значит выбранная территория относится к центру."
   ]
  },
  {
   "cell_type": "code",
   "execution_count": 86,
   "metadata": {},
   "outputs": [
    {
     "data": {
      "text/html": [
       "<style  type=\"text/css\" >\n",
       "</style><table id=\"T_37ebae2c_926a_11ea_a50a_02420a004914\" ><thead>    <tr>        <th class=\"blank level0\" ></th>        <th class=\"col_heading level0 col0\" >median_price</th>    </tr>    <tr>        <th class=\"index_name level0\" >floor_in_house</th>        <th class=\"blank\" ></th>    </tr></thead><tbody>\n",
       "                <tr>\n",
       "                        <th id=\"T_37ebae2c_926a_11ea_a50a_02420a004914level0_row0\" class=\"row_heading level0 row0\" >другой</th>\n",
       "                        <td id=\"T_37ebae2c_926a_11ea_a50a_02420a004914row0_col0\" class=\"data row0 col0\" >9200000</td>\n",
       "            </tr>\n",
       "            <tr>\n",
       "                        <th id=\"T_37ebae2c_926a_11ea_a50a_02420a004914level0_row1\" class=\"row_heading level0 row1\" >первый</th>\n",
       "                        <td id=\"T_37ebae2c_926a_11ea_a50a_02420a004914row1_col0\" class=\"data row1 col0\" >6350000</td>\n",
       "            </tr>\n",
       "            <tr>\n",
       "                        <th id=\"T_37ebae2c_926a_11ea_a50a_02420a004914level0_row2\" class=\"row_heading level0 row2\" >последний</th>\n",
       "                        <td id=\"T_37ebae2c_926a_11ea_a50a_02420a004914row2_col0\" class=\"data row2 col0\" >8945000</td>\n",
       "            </tr>\n",
       "    </tbody></table>"
      ],
      "text/plain": [
       "<pandas.io.formats.style.Styler at 0x7f8fb6496a10>"
      ]
     },
     "execution_count": 86,
     "metadata": {},
     "output_type": "execute_result"
    }
   ],
   "source": [
    "relation_floor_price_for_centre = (\n",
    "    df_centre.pivot_table(index='floor_in_house', values='last_price', aggfunc=['median'])\n",
    ")\n",
    "\n",
    "relation_floor_price_for_centre.columns = ['median_price']\n",
    "relation_floor_price_for_centre.style.format('{:.0f}')"
   ]
  },
  {
   "cell_type": "markdown",
   "metadata": {},
   "source": [
    "Результат совпадает с предыдущим. Квартиры на первом этаже - самые дешевые, дороже идут квартиры на последнем этаже, и самые дорогие расположены на средних этажах."
   ]
  },
  {
   "cell_type": "code",
   "execution_count": 87,
   "metadata": {
    "scrolled": true
   },
   "outputs": [
    {
     "data": {
      "text/plain": [
       "<matplotlib.axes._subplots.AxesSubplot at 0x7f8fb7700050>"
      ]
     },
     "execution_count": 87,
     "metadata": {},
     "output_type": "execute_result"
    },
    {
     "data": {
      "image/png": "[encoded data removed]",
      "text/plain": [
       "<Figure size 432x288 with 1 Axes>"
      ]
     },
     "metadata": {
      "needs_background": "light"
     },
     "output_type": "display_data"
    },
    {
     "data": {
      "image/png": "[encoded data removed]",
      "text/plain": [
       "<Figure size 432x288 with 1 Axes>"
      ]
     },
     "metadata": {
      "needs_background": "light"
     },
     "output_type": "display_data"
    }
   ],
   "source": [
    "relation_weekday_price_for_centre = (\n",
    "    df_centre.pivot_table(index='weekday_exposition', values='last_price', aggfunc=['median'])\n",
    ")\n",
    "relation_weekday_price_for_centre.plot(grid=True, legend=False, title='Зависимость цены от дня недели в центре')\n",
    "relation_weekday_price.plot(grid=True, legend=False, title='Зависимость цены от дня недели')\n"
   ]
  },
  {
   "cell_type": "markdown",
   "metadata": {},
   "source": [
    "Графики противоречат друг другу. Зависимость не наблюдается."
   ]
  },
  {
   "cell_type": "code",
   "execution_count": 88,
   "metadata": {},
   "outputs": [
    {
     "data": {
      "text/plain": [
       "<matplotlib.axes._subplots.AxesSubplot at 0x7f8fbcbb30d0>"
      ]
     },
     "execution_count": 88,
     "metadata": {},
     "output_type": "execute_result"
    },
    {
     "data": {
      "image/png": "[encoded data removed]",
      "text/plain": [
       "<Figure size 432x288 with 1 Axes>"
      ]
     },
     "metadata": {
      "needs_background": "light"
     },
     "output_type": "display_data"
    },
    {
     "data": {
      "image/png": "[encoded data removed]",
      "text/plain": [
       "<Figure size 432x288 with 1 Axes>"
      ]
     },
     "metadata": {
      "needs_background": "light"
     },
     "output_type": "display_data"
    }
   ],
   "source": [
    "relation_month_price_for_centre = (\n",
    "    df_centre.pivot_table(index='month_exposition', values='last_price', aggfunc=['median'])\n",
    ")\n",
    "relation_month_price_for_centre.plot(grid=True,\n",
    "                          legend=False, \n",
    "                          title='Зависимость цены от месяца в центре', \n",
    "                          xticks=df['month_exposition'].unique()\n",
    "                         )\n",
    "relation_month_price.plot(grid=True,\n",
    "                          legend=False, \n",
    "                          title='Зависимость цены от месяца', \n",
    "                          xticks=df['month_exposition'].unique()\n",
    "                         )"
   ]
  },
  {
   "cell_type": "markdown",
   "metadata": {},
   "source": [
    "Графики противоречат друг другу. Зависимость не наблюдается."
   ]
  },
  {
   "cell_type": "code",
   "execution_count": 89,
   "metadata": {
    "scrolled": true
   },
   "outputs": [
    {
     "name": "stdout",
     "output_type": "stream",
     "text": [
      "2017    1420\n",
      "2018    1254\n",
      "2016     457\n",
      "2019     447\n",
      "2015     175\n",
      "2014      11\n",
      "Name: year_exposition, dtype: int64\n",
      "2019-05-03 00:00:00\n"
     ]
    },
    {
     "data": {
      "text/html": [
       "<div>\n",
       "<style scoped>\n",
       "    .dataframe tbody tr th:only-of-type {\n",
       "        vertical-align: middle;\n",
       "    }\n",
       "\n",
       "    .dataframe tbody tr th {\n",
       "        vertical-align: top;\n",
       "    }\n",
       "\n",
       "    .dataframe thead tr th {\n",
       "        text-align: left;\n",
       "    }\n",
       "\n",
       "    .dataframe thead tr:last-of-type th {\n",
       "        text-align: right;\n",
       "    }\n",
       "</style>\n",
       "<table border=\"1\" class=\"dataframe\">\n",
       "  <thead>\n",
       "    <tr>\n",
       "      <th></th>\n",
       "      <th>median</th>\n",
       "    </tr>\n",
       "    <tr>\n",
       "      <th></th>\n",
       "      <th>last_price</th>\n",
       "    </tr>\n",
       "    <tr>\n",
       "      <th>year_exposition</th>\n",
       "      <th></th>\n",
       "    </tr>\n",
       "  </thead>\n",
       "  <tbody>\n",
       "    <tr>\n",
       "      <td>2014</td>\n",
       "      <td>12561120</td>\n",
       "    </tr>\n",
       "    <tr>\n",
       "      <td>2015</td>\n",
       "      <td>9990000</td>\n",
       "    </tr>\n",
       "    <tr>\n",
       "      <td>2016</td>\n",
       "      <td>9200000</td>\n",
       "    </tr>\n",
       "    <tr>\n",
       "      <td>2017</td>\n",
       "      <td>8790000</td>\n",
       "    </tr>\n",
       "    <tr>\n",
       "      <td>2018</td>\n",
       "      <td>8500000</td>\n",
       "    </tr>\n",
       "    <tr>\n",
       "      <td>2019</td>\n",
       "      <td>9000000</td>\n",
       "    </tr>\n",
       "  </tbody>\n",
       "</table>\n",
       "</div>"
      ],
      "text/plain": [
       "                    median\n",
       "                last_price\n",
       "year_exposition           \n",
       "2014              12561120\n",
       "2015               9990000\n",
       "2016               9200000\n",
       "2017               8790000\n",
       "2018               8500000\n",
       "2019               9000000"
      ]
     },
     "execution_count": 89,
     "metadata": {},
     "output_type": "execute_result"
    },
    {
     "data": {
      "image/png": "[encoded data removed]",
      "text/plain": [
       "<Figure size 432x288 with 1 Axes>"
      ]
     },
     "metadata": {
      "needs_background": "light"
     },
     "output_type": "display_data"
    },
    {
     "data": {
      "image/png": "[encoded data removed]",
      "text/plain": [
       "<Figure size 432x288 with 1 Axes>"
      ]
     },
     "metadata": {
      "needs_background": "light"
     },
     "output_type": "display_data"
    }
   ],
   "source": [
    "relation_year_price_for_centre = (\n",
    "    df_centre.pivot_table(index='year_exposition', values='last_price', aggfunc=['median'])\n",
    ")\n",
    "relation_year_price_for_centre.plot(grid=True, legend=False, title='Зависимость цены от года в центре')\n",
    "relation_year_price.plot(grid=True, legend=False, title='Зависимость цены от года')\n",
    "print(df_centre['year_exposition'].value_counts())\n",
    "print(df_centre['first_day_exposition'].max())\n",
    "relation_year_price_for_centre"
   ]
  },
  {
   "cell_type": "markdown",
   "metadata": {},
   "source": [
    "Графики похожи. Зависимость есть. Отличие в том, что в центре цена продолжала снижаться и после 2016 года, но уже не так сильно. И уже в 2018 году начался подъем."
   ]
  },
  {
   "cell_type": "markdown",
   "metadata": {},
   "source": [
    "### 5. Общий вывод<a id='5'></a>"
   ]
  },
  {
   "cell_type": "markdown",
   "metadata": {},
   "source": [
    "Были изучены следующие параметры: площадь, цена, число комнат, высота потолков, этаж, удалённость от центра, дата размещения объявления.  \n",
    "\n",
    "Самая высокая стоимость жилья среди популярных населенных пунктов в Санкт-Петербурге, самая низкая - в Выборге.  \n",
    "Согласно данным по всей выборке чаще всего продавались квартиры с ценой 3-5 млн. В центре города данные другие, самые частые цены 5-9 млн.  \n",
    "Чаще всего высота потолков около 2.6 м, а потолки выше 3.2 м почти не встречаются. Но в центре города потолки выше, и чаще встречается высота около 3 м.  \n",
    "Квартиры на первом этаже - самые дешевые, дороже идут квартиры на последнем этаже, и самые дорогие расположены на средних этажах.  \n",
    "Чаще всего продают квартиры с площадью от 40 до 70 метров. Также вне центра больше покупают квартиры с площадью до 40 метров, а в центре - от 70 до 100.  \n",
    "Выделены категории продаж:\n",
    "- до 45 дней - очень быстрая продажа,\n",
    "- 45-232 дня - нормальная продажа,\n",
    "- больше 232 дней - необычно долгая продажа  \n",
    "\n",
    "Аномальные значения начинаются с 513 дней.  \n",
    "\n",
    "Найдена прямая линейная зависимость цены от площади. Коэффициент 0,6.  \n",
    "Найдена прямая линейная зависимость цены от числа комнат. Коэффициент 0,3.  \n",
    "Найдена обратная линейная зависимость цены от удалённости от центра. Коэффициент -0,2.  \n",
    "Зависимость цены от дня размещения объявления не найдена.  \n",
    "Зависимость цены от месяца размещения объявления не найдена.  \n",
    "Найдена зависимость цены от года размещения."
   ]
  }
 ],
 "metadata": {
  "kernelspec": {
   "display_name": "Python 3",
   "language": "python",
   "name": "python3"
  },
  "language_info": {
   "codemirror_mode": {
    "name": "ipython",
    "version": 3
   },
   "file_extension": ".py",
   "mimetype": "text/x-python",
   "name": "python",
   "nbconvert_exporter": "python",
   "pygments_lexer": "ipython3",
   "version": "3.7.6"
  }
 },
 "nbformat": 4,
 "nbformat_minor": 2
}
